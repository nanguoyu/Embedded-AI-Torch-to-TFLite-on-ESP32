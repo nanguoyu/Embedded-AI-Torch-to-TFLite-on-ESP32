{
 "cells": [
  {
   "cell_type": "markdown",
   "source": [
    "### Install packages"
   ],
   "metadata": {
    "id": "k6Y6ltKIpkLW",
    "pycharm": {
     "name": "#%% md\n"
    }
   },
   "id": "k6Y6ltKIpkLW"
  },
  {
   "cell_type": "code",
   "source": [
    "!pip install onnx onnxruntime"
   ],
   "metadata": {
    "colab": {
     "base_uri": "https://localhost:8080/"
    },
    "id": "B73-vEaJocU0",
    "outputId": "2c40a44b-8893-4331-c743-70579eaeabca",
    "pycharm": {
     "name": "#%%\n"
    }
   },
   "id": "B73-vEaJocU0",
   "execution_count": null,
   "outputs": [
    {
     "output_type": "stream",
     "name": "stdout",
     "text": [
      "Looking in indexes: https://pypi.org/simple, https://us-python.pkg.dev/colab-wheels/public/simple/\n",
      "Requirement already satisfied: onnx in /usr/local/lib/python3.7/dist-packages (1.12.0)\n",
      "Requirement already satisfied: onnxruntime in /usr/local/lib/python3.7/dist-packages (1.11.1)\n",
      "Requirement already satisfied: typing-extensions>=3.6.2.1 in /usr/local/lib/python3.7/dist-packages (from onnx) (4.1.1)\n",
      "Requirement already satisfied: protobuf<=3.20.1,>=3.12.2 in /usr/local/lib/python3.7/dist-packages (from onnx) (3.17.3)\n",
      "Requirement already satisfied: numpy>=1.16.6 in /usr/local/lib/python3.7/dist-packages (from onnx) (1.21.6)\n",
      "Requirement already satisfied: six>=1.9 in /usr/local/lib/python3.7/dist-packages (from protobuf<=3.20.1,>=3.12.2->onnx) (1.15.0)\n",
      "Requirement already satisfied: flatbuffers in /usr/local/lib/python3.7/dist-packages (from onnxruntime) (2.0)\n"
     ]
    }
   ]
  },
  {
   "cell_type": "code",
   "source": [
    "!git clone https://github.com/onnx/onnx-tensorflow.git && cd onnx-tensorflow && pip install -e ."
   ],
   "metadata": {
    "colab": {
     "base_uri": "https://localhost:8080/"
    },
    "id": "oCHUfwmTpG0Q",
    "outputId": "9dfa5e1c-ad49-44cc-ccc8-ce9a977f2124",
    "pycharm": {
     "name": "#%%\n"
    }
   },
   "id": "oCHUfwmTpG0Q",
   "execution_count": null,
   "outputs": [
    {
     "output_type": "stream",
     "name": "stdout",
     "text": [
      "fatal: destination path 'onnx-tensorflow' already exists and is not an empty directory.\n"
     ]
    }
   ]
  },
  {
   "cell_type": "markdown",
   "source": [
    "### Train model on MNIST with Pytorch\n"
   ],
   "metadata": {
    "id": "L8ww6ohfQhOA",
    "pycharm": {
     "name": "#%% md\n"
    }
   },
   "id": "L8ww6ohfQhOA"
  },
  {
   "cell_type": "code",
   "execution_count": null,
   "id": "58bc1a69",
   "metadata": {
    "id": "58bc1a69",
    "pycharm": {
     "name": "#%%\n"
    }
   },
   "outputs": [],
   "source": [
    "import torch\n",
    "import torch.nn as nn\n",
    "import torch.nn.functional as F\n",
    "from enum import Enum\n",
    "import shutil\n",
    "import time\n",
    "import numpy as np"
   ]
  },
  {
   "cell_type": "code",
   "execution_count": null,
   "id": "f19692aa",
   "metadata": {
    "id": "f19692aa",
    "pycharm": {
     "name": "#%%\n"
    }
   },
   "outputs": [],
   "source": [
    "from torchvision import datasets, transforms\n",
    "from torch.utils.data import DataLoader\n",
    "import torch.optim as optim"
   ]
  },
  {
   "cell_type": "code",
   "execution_count": null,
   "id": "7fc638bd",
   "metadata": {
    "id": "7fc638bd",
    "pycharm": {
     "name": "#%%\n"
    }
   },
   "outputs": [],
   "source": [
    "class Summary(Enum):\n",
    "    NONE = 0\n",
    "    AVERAGE = 1\n",
    "    SUM = 2\n",
    "    COUNT = 3\n",
    "\n",
    "\n",
    "class AverageMeter(object):\n",
    "    \"\"\"Computes and stores the average and current value\"\"\"\n",
    "\n",
    "    def __init__(self, name, fmt=':f', summary_type=Summary.AVERAGE):\n",
    "        self.name = name\n",
    "        self.fmt = fmt\n",
    "        self.summary_type = summary_type\n",
    "        self.reset()\n",
    "\n",
    "    def reset(self):\n",
    "        self.val = 0\n",
    "        self.avg = 0\n",
    "        self.sum = 0\n",
    "        self.count = 0\n",
    "\n",
    "    def update(self, val, n=1):\n",
    "        self.val = val\n",
    "        self.sum += val * n\n",
    "        self.count += n\n",
    "        self.avg = self.sum / self.count\n",
    "\n",
    "    def __str__(self):\n",
    "        fmtstr = '{name} {val' + self.fmt + '} ({avg' + self.fmt + '})'\n",
    "        return fmtstr.format(**self.__dict__)\n",
    "\n",
    "    def summary(self):\n",
    "        fmtstr = ''\n",
    "        if self.summary_type is Summary.NONE:\n",
    "            fmtstr = ''\n",
    "        elif self.summary_type is Summary.AVERAGE:\n",
    "            fmtstr = '{name} {avg:.3f}'\n",
    "        elif self.summary_type is Summary.SUM:\n",
    "            fmtstr = '{name} {sum:.3f}'\n",
    "        elif self.summary_type is Summary.COUNT:\n",
    "            fmtstr = '{name} {count:.3f}'\n",
    "        else:\n",
    "            raise ValueError('invalid summary type %r' % self.summary_type)\n",
    "\n",
    "        return fmtstr.format(**self.__dict__)\n",
    "\n",
    "\n",
    "class ProgressMeter(object):\n",
    "    def __init__(self, num_batches, meters, prefix=\"\"):\n",
    "        self.batch_fmtstr = self._get_batch_fmtstr(num_batches)\n",
    "        self.meters = meters\n",
    "        self.prefix = prefix\n",
    "\n",
    "    def display(self, batch):\n",
    "        entries = [self.prefix + self.batch_fmtstr.format(batch)]\n",
    "        entries += [str(meter) for meter in self.meters]\n",
    "        print('\\t'.join(entries))\n",
    "\n",
    "    def display_summary(self):\n",
    "        entries = [\" *\"]\n",
    "        entries += [meter.summary() for meter in self.meters]\n",
    "        print(' '.join(entries))\n",
    "\n",
    "    def _get_batch_fmtstr(self, num_batches):\n",
    "        num_digits = len(str(num_batches // 1))\n",
    "        fmt = '{:' + str(num_digits) + 'd}'\n",
    "        return '[' + fmt + '/' + fmt.format(num_batches) + ']'\n"
   ]
  },
  {
   "cell_type": "code",
   "execution_count": null,
   "id": "258d8368",
   "metadata": {
    "id": "258d8368",
    "pycharm": {
     "name": "#%%\n"
    }
   },
   "outputs": [],
   "source": [
    "def accuracy(output, target, topk=(1,)):\n",
    "    \"\"\"Computes the accuracy over the k top predictions for the specified values of k\"\"\"\n",
    "    with torch.no_grad():\n",
    "        maxk = max(topk)\n",
    "        batch_size = target.size(0)\n",
    "\n",
    "        _, pred = output.topk(maxk, 1, True, True)\n",
    "        pred = pred.t()\n",
    "        correct = pred.eq(target.view(1, -1).expand_as(pred))\n",
    "\n",
    "        res = []\n",
    "        for k in topk:\n",
    "            correct_k = correct[:k].reshape(-1).float().sum(0, keepdim=True)\n",
    "            res.append(correct_k.mul_(100.0 / batch_size))\n",
    "        return res\n"
   ]
  },
  {
   "cell_type": "code",
   "execution_count": null,
   "id": "607afbf1",
   "metadata": {
    "id": "607afbf1",
    "pycharm": {
     "name": "#%%\n"
    }
   },
   "outputs": [],
   "source": [
    "transform=transforms.Compose([\n",
    "        transforms.ToTensor(),\n",
    "        transforms.Normalize((0.1307,), (0.3081,))\n",
    "        ])"
   ]
  },
  {
   "cell_type": "code",
   "execution_count": null,
   "id": "381a3fb8",
   "metadata": {
    "id": "381a3fb8",
    "pycharm": {
     "name": "#%%\n"
    }
   },
   "outputs": [],
   "source": [
    "ds_train = datasets.MNIST('./data', train=True, download=True,\n",
    "                       transform=transform)"
   ]
  },
  {
   "cell_type": "code",
   "execution_count": null,
   "id": "c0fc593f",
   "metadata": {
    "id": "c0fc593f",
    "pycharm": {
     "name": "#%%\n"
    }
   },
   "outputs": [],
   "source": [
    "ds_valid = datasets.MNIST('./data', train=False,\n",
    "                       transform=transform)"
   ]
  },
  {
   "cell_type": "code",
   "execution_count": null,
   "id": "bc6f5b3e",
   "metadata": {
    "colab": {
     "base_uri": "https://localhost:8080/"
    },
    "id": "bc6f5b3e",
    "outputId": "b01f9e4f-1683-4203-9045-290d4120f93c",
    "pycharm": {
     "name": "#%%\n"
    }
   },
   "outputs": [
    {
     "output_type": "stream",
     "name": "stdout",
     "text": [
      "{'0 - zero': 0, '1 - one': 1, '2 - two': 2, '3 - three': 3, '4 - four': 4, '5 - five': 5, '6 - six': 6, '7 - seven': 7, '8 - eight': 8, '9 - nine': 9}\n"
     ]
    }
   ],
   "source": [
    "print(ds_train.class_to_idx)"
   ]
  },
  {
   "cell_type": "code",
   "execution_count": null,
   "id": "842319eb",
   "metadata": {
    "id": "842319eb",
    "pycharm": {
     "name": "#%%\n"
    }
   },
   "outputs": [],
   "source": [
    "train_loader = DataLoader(ds_train,batch_size = 50,shuffle = True,num_workers=2)\n",
    "val_loader = DataLoader(ds_valid,batch_size = 50,shuffle = True,num_workers=2)"
   ]
  },
  {
   "cell_type": "markdown",
   "source": [
    "#### Check loaded MNIST image examples"
   ],
   "metadata": {
    "id": "SF9mott6Qua0",
    "pycharm": {
     "name": "#%% md\n"
    }
   },
   "id": "SF9mott6Qua0"
  },
  {
   "cell_type": "code",
   "execution_count": null,
   "id": "67ae4b4b",
   "metadata": {
    "colab": {
     "base_uri": "https://localhost:8080/",
     "height": 645
    },
    "id": "67ae4b4b",
    "outputId": "daaabc3d-0839-43a4-8198-44a8a8768ead",
    "pycharm": {
     "name": "#%%\n"
    }
   },
   "outputs": [
    {
     "output_type": "display_data",
     "data": {
      "text/plain": [
       "<Figure size 576x576 with 9 Axes>"
      ],
      "image/svg+xml": "<?xml version=\"1.0\" encoding=\"utf-8\" standalone=\"no\"?>\n<!DOCTYPE svg PUBLIC \"-//W3C//DTD SVG 1.1//EN\"\n  \"http://www.w3.org/Graphics/SVG/1.1/DTD/svg11.dtd\">\n<!-- Created with matplotlib (https://matplotlib.org/) -->\n<svg height=\"467.898125pt\" version=\"1.1\" viewBox=\"0 0 460.911765 467.898125\" width=\"460.911765pt\" xmlns=\"http://www.w3.org/2000/svg\" xmlns:xlink=\"http://www.w3.org/1999/xlink\">\n <defs>\n  <style type=\"text/css\">\n*{stroke-linecap:butt;stroke-linejoin:round;}\n  </style>\n </defs>\n <g id=\"figure_1\">\n  <g id=\"patch_1\">\n   <path d=\"M 0 467.898125 \nL 460.911765 467.898125 \nL 460.911765 0 \nL 0 0 \nz\n\" style=\"fill:none;\"/>\n  </g>\n  <g id=\"axes_1\">\n   <g id=\"patch_2\">\n    <path d=\"M 10.7 150.224007 \nL 138.605882 150.224007 \nL 138.605882 22.318125 \nL 10.7 22.318125 \nz\n\" style=\"fill:#ffffff;\"/>\n   </g>\n   <g clip-path=\"url(#p4dc6af0fa3)\">\n    <image height=\"128\" id=\"image9a766eacf3\" transform=\"scale(1 -1)translate(0 -128)\" width=\"128\" x=\"10.7\" xlink:href=\"data:image/png;base64,\niVBORw0KGgoAAAANSUhEUgAAAIAAAACACAYAAADDPmHLAAAABHNCSVQICAgIfAhkiAAABPNJREFUeJztnVtoVFcUhuc4xzqOnRrTNDWlGMdEE29NwKCxhrTQVn0QQVRiHhQitqjY0JrSBymoRdHgBaS0KQhFCwFtFEHw8qZB8JagKMZLMDFivIwkIVFjMObM6fPKGpjJsJOZzP9/b2uxcvYmfFlZnLPnjPWttcr1EFjGJHoDJLFQAHAoADgUABwKAA4FAIcCgEMBwKEA4FAAcCgAOBQAHAoAjm3qQs0183VueU1c1/qzO0fEh+oXqxrLsUScv+uRqnFCL+NaHwl2AHAoADgUABzL1Img/iVFOvdzl4i35Z5VNYvH95pY3hNy+lSu9HSViPN/u69qnO4eI+uPVtgBwKEA4FAAcCgAOMaGwFiwsyarXNc/E1RuU7BexOWBkJH1tzwtUbkbNYUql3HijojDr18bWT8ZYQcAhwKAQwHAGdEZIFbsqVNE3DMvS9WU/X5exBvTWo2tX/W8WMRX/tI3udKPXJeJsGNs/ZGEHQAcCgAOBQCHAoCTlENgLNjBbBG3VHymanaUHRPxyg87jK2/LSQHw/pDxapm0tErxtYbLtgBwKEA4FAAcCgAOKN2CIwFq2iOiJsrP1A1hxcdVblSX/+Q13rnvle5NQ9XiPj918+HfN3hhh0AHAoADgUAJ6VngFgIl+gTQS2rfSKeU9imak7mnol67erO2SK+VKhPPyX6KSI7ADgUABwKAA4FAAd+CIyX/9rlkz6/pW8yvXXlDaVlP/6kavynrpnd2BBhBwCHAoBDAcAx9o6gVML7aaaIn5Xlqhqf1RD1Ot+3LRNxov/fR4IdABwKAA4FAIcCgAM/BLqL9NNA/952ETdM+yPCT8q/nfwLG1RF3s7BL6DqHOr2hh12AHAoADgUAByoGaBr/UKVq92+X+WCtk/lBjP73y0izj+sT/wOtLbFvrkEwQ4ADgUAhwKAQwHASekhcEzBTBEf275P1TT1Z6rcikb5kS735kRVE9wtTwQNuKPzYBU7ADgUABwKAA4FACdlhkBvmh7U0mvk3bkp9nhVs/bXdSr3+fGr5jaW5LADgEMBwKEA4KTMDHCveobKNWf/LeKKx9+omkBd9OPdqQw7ADgUABwKAA4FAGdUDIHejI9VzumU30s89qPoL3dsqp2lcpnhy/FvLAVgBwCHAoBDAcBJyhmgq0Ie3361tFfVeG/nibipNNLHtyTLf6hXuYbaDJVzuuVHutyFBaqmrVLGwfJbUddPRtgBwKEA4FAAcCgAOAl/UaSdNVnlyi40irg8EBq29Qd/T7DH4/G0vpGD4ZGcE6qmJyx/bZuzS8xubIRgBwCHAoBDAcBJ+I2gd3n6K1/n+Z4MyugXMZviQFYsJ4D1+wL8lvymj1Dll6rG7o0+XgWeDqjcuI4+EbuNd6JeJ17YAcChAOBQAHAoADgJvxEUCe/M6SJ2x41VNc++ShNxX7F+Ypg+UeYuFRw3sLvInHsbULnqlqUivji3TtW0D/Sp3N7QdyK+u+cLVWPqzePsAOBQAHAoADgUAJykHAJNYdnyRqf3E338KxYe/DJV5Rx/WMTZOS9VjX+zJeIXB/UdzRtFejDtcOTwuqCuStXkbjXzDgN2AHAoADgUAJyUngFIdNgBwKEA4FAAcCgAOBQAHAoADgUAhwKAQwHAoQDgUABwKAA4FAAcCgAOBQCHAoBDAcChAOBQAHAoADgUABwKAM7/dPTtzR9hWoAAAAAASUVORK5CYII=\" y=\"-22.224007\"/>\n   </g>\n   <g id=\"matplotlib.axis_1\"/>\n   <g id=\"matplotlib.axis_2\"/>\n   <g id=\"patch_3\">\n    <path d=\"M 10.7 150.224007 \nL 10.7 22.318125 \n\" style=\"fill:none;stroke:#000000;stroke-linecap:square;stroke-linejoin:miter;stroke-width:0.8;\"/>\n   </g>\n   <g id=\"patch_4\">\n    <path d=\"M 138.605882 150.224007 \nL 138.605882 22.318125 \n\" style=\"fill:none;stroke:#000000;stroke-linecap:square;stroke-linejoin:miter;stroke-width:0.8;\"/>\n   </g>\n   <g id=\"patch_5\">\n    <path d=\"M 10.7 150.224007 \nL 138.605882 150.224007 \n\" style=\"fill:none;stroke:#000000;stroke-linecap:square;stroke-linejoin:miter;stroke-width:0.8;\"/>\n   </g>\n   <g id=\"patch_6\">\n    <path d=\"M 10.7 22.318125 \nL 138.605882 22.318125 \n\" style=\"fill:none;stroke:#000000;stroke-linecap:square;stroke-linejoin:miter;stroke-width:0.8;\"/>\n   </g>\n   <g id=\"text_1\">\n    <!-- label = 5 -->\n    <defs>\n     <path d=\"M 9.421875 75.984375 \nL 18.40625 75.984375 \nL 18.40625 0 \nL 9.421875 0 \nz\n\" id=\"DejaVuSans-108\"/>\n     <path d=\"M 34.28125 27.484375 \nQ 23.390625 27.484375 19.1875 25 \nQ 14.984375 22.515625 14.984375 16.5 \nQ 14.984375 11.71875 18.140625 8.90625 \nQ 21.296875 6.109375 26.703125 6.109375 \nQ 34.1875 6.109375 38.703125 11.40625 \nQ 43.21875 16.703125 43.21875 25.484375 \nL 43.21875 27.484375 \nz\nM 52.203125 31.203125 \nL 52.203125 0 \nL 43.21875 0 \nL 43.21875 8.296875 \nQ 40.140625 3.328125 35.546875 0.953125 \nQ 30.953125 -1.421875 24.3125 -1.421875 \nQ 15.921875 -1.421875 10.953125 3.296875 \nQ 6 8.015625 6 15.921875 \nQ 6 25.140625 12.171875 29.828125 \nQ 18.359375 34.515625 30.609375 34.515625 \nL 43.21875 34.515625 \nL 43.21875 35.40625 \nQ 43.21875 41.609375 39.140625 45 \nQ 35.0625 48.390625 27.6875 48.390625 \nQ 23 48.390625 18.546875 47.265625 \nQ 14.109375 46.140625 10.015625 43.890625 \nL 10.015625 52.203125 \nQ 14.9375 54.109375 19.578125 55.046875 \nQ 24.21875 56 28.609375 56 \nQ 40.484375 56 46.34375 49.84375 \nQ 52.203125 43.703125 52.203125 31.203125 \nz\n\" id=\"DejaVuSans-97\"/>\n     <path d=\"M 48.6875 27.296875 \nQ 48.6875 37.203125 44.609375 42.84375 \nQ 40.53125 48.484375 33.40625 48.484375 \nQ 26.265625 48.484375 22.1875 42.84375 \nQ 18.109375 37.203125 18.109375 27.296875 \nQ 18.109375 17.390625 22.1875 11.75 \nQ 26.265625 6.109375 33.40625 6.109375 \nQ 40.53125 6.109375 44.609375 11.75 \nQ 48.6875 17.390625 48.6875 27.296875 \nz\nM 18.109375 46.390625 \nQ 20.953125 51.265625 25.265625 53.625 \nQ 29.59375 56 35.59375 56 \nQ 45.5625 56 51.78125 48.09375 \nQ 58.015625 40.1875 58.015625 27.296875 \nQ 58.015625 14.40625 51.78125 6.484375 \nQ 45.5625 -1.421875 35.59375 -1.421875 \nQ 29.59375 -1.421875 25.265625 0.953125 \nQ 20.953125 3.328125 18.109375 8.203125 \nL 18.109375 0 \nL 9.078125 0 \nL 9.078125 75.984375 \nL 18.109375 75.984375 \nz\n\" id=\"DejaVuSans-98\"/>\n     <path d=\"M 56.203125 29.59375 \nL 56.203125 25.203125 \nL 14.890625 25.203125 \nQ 15.484375 15.921875 20.484375 11.0625 \nQ 25.484375 6.203125 34.421875 6.203125 \nQ 39.59375 6.203125 44.453125 7.46875 \nQ 49.3125 8.734375 54.109375 11.28125 \nL 54.109375 2.78125 \nQ 49.265625 0.734375 44.1875 -0.34375 \nQ 39.109375 -1.421875 33.890625 -1.421875 \nQ 20.796875 -1.421875 13.15625 6.1875 \nQ 5.515625 13.8125 5.515625 26.8125 \nQ 5.515625 40.234375 12.765625 48.109375 \nQ 20.015625 56 32.328125 56 \nQ 43.359375 56 49.78125 48.890625 \nQ 56.203125 41.796875 56.203125 29.59375 \nz\nM 47.21875 32.234375 \nQ 47.125 39.59375 43.09375 43.984375 \nQ 39.0625 48.390625 32.421875 48.390625 \nQ 24.90625 48.390625 20.390625 44.140625 \nQ 15.875 39.890625 15.1875 32.171875 \nz\n\" id=\"DejaVuSans-101\"/>\n     <path id=\"DejaVuSans-32\"/>\n     <path d=\"M 10.59375 45.40625 \nL 73.1875 45.40625 \nL 73.1875 37.203125 \nL 10.59375 37.203125 \nz\nM 10.59375 25.484375 \nL 73.1875 25.484375 \nL 73.1875 17.1875 \nL 10.59375 17.1875 \nz\n\" id=\"DejaVuSans-61\"/>\n     <path d=\"M 10.796875 72.90625 \nL 49.515625 72.90625 \nL 49.515625 64.59375 \nL 19.828125 64.59375 \nL 19.828125 46.734375 \nQ 21.96875 47.46875 24.109375 47.828125 \nQ 26.265625 48.1875 28.421875 48.1875 \nQ 40.625 48.1875 47.75 41.5 \nQ 54.890625 34.8125 54.890625 23.390625 \nQ 54.890625 11.625 47.5625 5.09375 \nQ 40.234375 -1.421875 26.90625 -1.421875 \nQ 22.3125 -1.421875 17.546875 -0.640625 \nQ 12.796875 0.140625 7.71875 1.703125 \nL 7.71875 11.625 \nQ 12.109375 9.234375 16.796875 8.0625 \nQ 21.484375 6.890625 26.703125 6.890625 \nQ 35.15625 6.890625 40.078125 11.328125 \nQ 45.015625 15.765625 45.015625 23.390625 \nQ 45.015625 31 40.078125 35.4375 \nQ 35.15625 39.890625 26.703125 39.890625 \nQ 22.75 39.890625 18.8125 39.015625 \nQ 14.890625 38.140625 10.796875 36.28125 \nz\n\" id=\"DejaVuSans-53\"/>\n    </defs>\n    <g transform=\"translate(47.482316 16.318125)scale(0.12 -0.12)\">\n     <use xlink:href=\"#DejaVuSans-108\"/>\n     <use x=\"27.783203\" xlink:href=\"#DejaVuSans-97\"/>\n     <use x=\"89.0625\" xlink:href=\"#DejaVuSans-98\"/>\n     <use x=\"152.539062\" xlink:href=\"#DejaVuSans-101\"/>\n     <use x=\"214.0625\" xlink:href=\"#DejaVuSans-108\"/>\n     <use x=\"241.845703\" xlink:href=\"#DejaVuSans-32\"/>\n     <use x=\"273.632812\" xlink:href=\"#DejaVuSans-61\"/>\n     <use x=\"357.421875\" xlink:href=\"#DejaVuSans-32\"/>\n     <use x=\"389.208984\" xlink:href=\"#DejaVuSans-53\"/>\n    </g>\n   </g>\n  </g>\n  <g id=\"axes_2\">\n   <g id=\"patch_7\">\n    <path d=\"M 168.252941 150.224007 \nL 296.158824 150.224007 \nL 296.158824 22.318125 \nL 168.252941 22.318125 \nz\n\" style=\"fill:#ffffff;\"/>\n   </g>\n   <g clip-path=\"url(#p7f6957a9c5)\">\n    <image height=\"128\" id=\"image549d38600b\" transform=\"scale(1 -1)translate(0 -128)\" width=\"128\" x=\"168.252941\" xlink:href=\"data:image/png;base64,\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\" y=\"-22.224007\"/>\n   </g>\n   <g id=\"matplotlib.axis_3\"/>\n   <g id=\"matplotlib.axis_4\"/>\n   <g id=\"patch_8\">\n    <path d=\"M 168.252941 150.224007 \nL 168.252941 22.318125 \n\" style=\"fill:none;stroke:#000000;stroke-linecap:square;stroke-linejoin:miter;stroke-width:0.8;\"/>\n   </g>\n   <g id=\"patch_9\">\n    <path d=\"M 296.158824 150.224007 \nL 296.158824 22.318125 \n\" style=\"fill:none;stroke:#000000;stroke-linecap:square;stroke-linejoin:miter;stroke-width:0.8;\"/>\n   </g>\n   <g id=\"patch_10\">\n    <path d=\"M 168.252941 150.224007 \nL 296.158824 150.224007 \n\" style=\"fill:none;stroke:#000000;stroke-linecap:square;stroke-linejoin:miter;stroke-width:0.8;\"/>\n   </g>\n   <g id=\"patch_11\">\n    <path d=\"M 168.252941 22.318125 \nL 296.158824 22.318125 \n\" style=\"fill:none;stroke:#000000;stroke-linecap:square;stroke-linejoin:miter;stroke-width:0.8;\"/>\n   </g>\n   <g id=\"text_2\">\n    <!-- label = 0 -->\n    <defs>\n     <path d=\"M 31.78125 66.40625 \nQ 24.171875 66.40625 20.328125 58.90625 \nQ 16.5 51.421875 16.5 36.375 \nQ 16.5 21.390625 20.328125 13.890625 \nQ 24.171875 6.390625 31.78125 6.390625 \nQ 39.453125 6.390625 43.28125 13.890625 \nQ 47.125 21.390625 47.125 36.375 \nQ 47.125 51.421875 43.28125 58.90625 \nQ 39.453125 66.40625 31.78125 66.40625 \nz\nM 31.78125 74.21875 \nQ 44.046875 74.21875 50.515625 64.515625 \nQ 56.984375 54.828125 56.984375 36.375 \nQ 56.984375 17.96875 50.515625 8.265625 \nQ 44.046875 -1.421875 31.78125 -1.421875 \nQ 19.53125 -1.421875 13.0625 8.265625 \nQ 6.59375 17.96875 6.59375 36.375 \nQ 6.59375 54.828125 13.0625 64.515625 \nQ 19.53125 74.21875 31.78125 74.21875 \nz\n\" id=\"DejaVuSans-48\"/>\n    </defs>\n    <g transform=\"translate(205.035257 16.318125)scale(0.12 -0.12)\">\n     <use xlink:href=\"#DejaVuSans-108\"/>\n     <use x=\"27.783203\" xlink:href=\"#DejaVuSans-97\"/>\n     <use x=\"89.0625\" xlink:href=\"#DejaVuSans-98\"/>\n     <use x=\"152.539062\" xlink:href=\"#DejaVuSans-101\"/>\n     <use x=\"214.0625\" xlink:href=\"#DejaVuSans-108\"/>\n     <use x=\"241.845703\" xlink:href=\"#DejaVuSans-32\"/>\n     <use x=\"273.632812\" xlink:href=\"#DejaVuSans-61\"/>\n     <use x=\"357.421875\" xlink:href=\"#DejaVuSans-32\"/>\n     <use x=\"389.208984\" xlink:href=\"#DejaVuSans-48\"/>\n    </g>\n   </g>\n  </g>\n  <g id=\"axes_3\">\n   <g id=\"patch_12\">\n    <path d=\"M 325.805882 150.224007 \nL 453.711765 150.224007 \nL 453.711765 22.318125 \nL 325.805882 22.318125 \nz\n\" style=\"fill:#ffffff;\"/>\n   </g>\n   <g clip-path=\"url(#p543fab7f3a)\">\n    <image height=\"128\" id=\"image6fc7b1a39d\" transform=\"scale(1 -1)translate(0 -128)\" width=\"128\" x=\"325.805882\" xlink:href=\"data:image/png;base64,\niVBORw0KGgoAAAANSUhEUgAAAIAAAACACAYAAADDPmHLAAAABHNCSVQICAgIfAhkiAAABDVJREFUeJztnUtIVGEUx++dMV9RaD5IU8oEMegJDZEVJUxricyFiyCVotokBa2kRVFbF25sGbXKwFJQIsNHEWWlEdIDK1+Fj5IS1FDHaX08U9r1uzOO//9vdw7H757Fb46HO9er7beLgxaBxRPpBkhkoQDgUABwKAA4FAAcCgAOBQCHAoBDAcChAOBQAHAoADgUAJyYSDcQrQxXFoj49aUaVZPfVibiraXdrvbkBE4AcCgAOBQAHO4ADonzj4nYa0fnZyk6uybGoADgUABwKAA4XAINEQjOR7oFR3ACgEMBwKEA4HAHcJHEzsRIt7AonADgUABwKAA4FAAcLoGGCPltYBTcG+IEAIcCgEMBwKEA4HAJNESobwOTP85GoJP/gxMAHAoADgUAhwKAQwHAoQDgUABwKAA4vBHkIv1FtojzmiLUyD/gBACHAoBDAcAxtgN8ubFf5bJ9X00drxhryhJxSo/+4iW2udO160+1p8nEbl1zrfCeiG9Z2a714xROAHAoADgUABwKAI7jJbD39h4Rvy/UL0p8NysXswcTITalJXA5pUflPNvkTZbp4Iyq+RYIiLhm7IiqaXizS+WSumJFnPFwRNVkVb8ScecZ/d/3itbKJZhLIFlxUABwKAA4jneAuHj5+91j2arm1PVKEafefOboWm2HKlQu6JXXG/THqZqZzAU9xgZUzSN/tcqtOSrj4Yv67KrPx0Sc5p3W59jy52zfDlUT7HyrcuGEEwAcCgAOBQCHAoDj6hNBCeNm/kDe09G1aM2WVmdnn7MOqpw3NUXEI8fzVM2GkiEZe/RnKcbyynP2rVM16e59YbkkOAHAoQDgUABwKAA4ri6Bo3ulXzl1bl7NHIHvP0ScWhviDmatDA/Xl6uSLt8dEZ89X69q6u9u19cfGV1Cl2bgBACHAoBDAcBxvAPM9S64qaGfCrfi8386PT7qyL4wqXJPH8vPV/n6IVVTn1SgchZ3ABIuKAA4FAAcCgCO4yVwc6N8BGq0dGrZzUQzc30DKlc37hPxgYznqmY6J1nlYj+Y62sxOAHAoQDgUABwHO8AnifdIu74vWnZzaw2+iZTFq0Z9HtVLrfZjW5CwwkADgUAhwKAQwHAMfZE0GyQ75xcyFzFgv8d3KprEnInwtLL3+AEAIcCgEMBwDH2i/tK4wmVS8z9Zer4qCTwqV/E+W1lqub0zg6Va/HJp4TcfIcAJwA4FAAcCgAOBQDH2BKY2a7fBTDdk2Tq+OhkXr6Uyh5IUCUtG/P1zwX1SyfdghMAHAoADgUAhwKAY2wJTLj/QudMHb5KSH+pF+WqkgaVu2qdDEc7lmVxAsBDAcChAODYfrs4fHcdyIqDEwAcCgAOBQCHAoBDAcChAOBQAHAoADgUABwKAA4FAIcCgEMBwKEA4FAAcCgAOBQAHAoADgUAhwKAQwHAoQDg/AEiDKnQ3udBlgAAAABJRU5ErkJggg==\" y=\"-22.224007\"/>\n   </g>\n   <g id=\"matplotlib.axis_5\"/>\n   <g id=\"matplotlib.axis_6\"/>\n   <g id=\"patch_13\">\n    <path d=\"M 325.805882 150.224007 \nL 325.805882 22.318125 \n\" style=\"fill:none;stroke:#000000;stroke-linecap:square;stroke-linejoin:miter;stroke-width:0.8;\"/>\n   </g>\n   <g id=\"patch_14\">\n    <path d=\"M 453.711765 150.224007 \nL 453.711765 22.318125 \n\" style=\"fill:none;stroke:#000000;stroke-linecap:square;stroke-linejoin:miter;stroke-width:0.8;\"/>\n   </g>\n   <g id=\"patch_15\">\n    <path d=\"M 325.805882 150.224007 \nL 453.711765 150.224007 \n\" style=\"fill:none;stroke:#000000;stroke-linecap:square;stroke-linejoin:miter;stroke-width:0.8;\"/>\n   </g>\n   <g id=\"patch_16\">\n    <path d=\"M 325.805882 22.318125 \nL 453.711765 22.318125 \n\" style=\"fill:none;stroke:#000000;stroke-linecap:square;stroke-linejoin:miter;stroke-width:0.8;\"/>\n   </g>\n   <g id=\"text_3\">\n    <!-- label = 4 -->\n    <defs>\n     <path d=\"M 37.796875 64.3125 \nL 12.890625 25.390625 \nL 37.796875 25.390625 \nz\nM 35.203125 72.90625 \nL 47.609375 72.90625 \nL 47.609375 25.390625 \nL 58.015625 25.390625 \nL 58.015625 17.1875 \nL 47.609375 17.1875 \nL 47.609375 0 \nL 37.796875 0 \nL 37.796875 17.1875 \nL 4.890625 17.1875 \nL 4.890625 26.703125 \nz\n\" id=\"DejaVuSans-52\"/>\n    </defs>\n    <g transform=\"translate(362.588199 16.318125)scale(0.12 -0.12)\">\n     <use xlink:href=\"#DejaVuSans-108\"/>\n     <use x=\"27.783203\" xlink:href=\"#DejaVuSans-97\"/>\n     <use x=\"89.0625\" xlink:href=\"#DejaVuSans-98\"/>\n     <use x=\"152.539062\" xlink:href=\"#DejaVuSans-101\"/>\n     <use x=\"214.0625\" xlink:href=\"#DejaVuSans-108\"/>\n     <use x=\"241.845703\" xlink:href=\"#DejaVuSans-32\"/>\n     <use x=\"273.632812\" xlink:href=\"#DejaVuSans-61\"/>\n     <use x=\"357.421875\" xlink:href=\"#DejaVuSans-32\"/>\n     <use x=\"389.208984\" xlink:href=\"#DejaVuSans-52\"/>\n    </g>\n   </g>\n  </g>\n  <g id=\"axes_4\">\n   <g id=\"patch_17\">\n    <path d=\"M 10.7 303.711066 \nL 138.605882 303.711066 \nL 138.605882 175.805184 \nL 10.7 175.805184 \nz\n\" style=\"fill:#ffffff;\"/>\n   </g>\n   <g clip-path=\"url(#p3c9ebbd520)\">\n    <image height=\"128\" id=\"image68e0cc1d87\" transform=\"scale(1 -1)translate(0 -128)\" width=\"128\" x=\"10.7\" xlink:href=\"data:image/png;base64,\niVBORw0KGgoAAAANSUhEUgAAAIAAAACACAYAAADDPmHLAAAABHNCSVQICAgIfAhkiAAAA+xJREFUeJzt3V1Ik1Ecx/FNncz0phBZtWkRqKBIglFKoVFSdFEhU6o766pXe4UCL7rqIqIXKTAJgtCkTLDugiCiiKwoMF8oLJYvVIgaoSHTbV3Gf/8ntGey7Xl+v8/dORzHufh6OOyZ07nV6Y84CFZKojdAicUAwDEAcAwAHAMAxwDAMQBwDAAcAwDHAMAxAHAMABwDAJeW6A0YSVudJ8ae9nG1ptn3TIzvT+WoNXcKfIu7MRviCQCOAYBjAOCS8g7wa61HjDu8HQarUuOzGZvjCQCOAYBjAOAYADgGAI4BgGMA4BgAuKR8I8g9ERTjFzOZas3mjBkx3rZkSK1pbKkR48IT/WpNeHrazBZtgycAOAYAjgGAYwDgnFb4foDhB8Vqrr+iVYxnI6F5X2dX9V41F+r/ZH5jNsATABwDAMcAwDEAcEn5TmA0n79Xzc2OykvfQi6B36qy1VwOL4GEjAGAYwDgLHEHMPI+GBbjYtf8P1Ne/07NBdqXqrnQ5KTpfVkNTwBwDAAcAwDHAMBZ4mmgkXBlqRgfaOlSa3Zm/pj3dap796i5rO1fzG/MYngCgGMA4BgAOMveAaJ9bitVcz2VN029Vs3u/WIceasfRtkFTwBwDAAcAwDHAMBZ9mlgtPwLv9Wcq8rcF0kNnZVjn9/Uy1gCTwBwDAAcAwBnmztAqO+jmqtoPCLGbecvqTXeVP1RonJvQIy/r8pVa+YC+vsIrIgnADgGAI4BgGMA4GzzNHAhRs5VqLk3h6+qOZdTvoFUO7hDrQn65cfSQ2NjMe4uMXgCgGMA4BgAOAYADuoSmFpUoObW3dUf92rM7hFjo+8eKLl3TIzXnHoV4+4SgycAOAYAjgGAg7oDGEnzrlRzXd2PxNjoDjAwK8cNp4+qNZmd3bFtLg54AoBjAOAYADgGAM42Hwkza25kVM0VPa8X475Nt9WaknQ5zj2pv3ByvDO2vcUDTwBwDAAcAwAHfwcwsrzVLcZPy9xqzUa3/Hdzt/IeqzXlDcfF2HPt5SLsbnHxBADHAMAxAHAMABz808CFmKpdr+ZuXGwS43yXU61p/lkoxk/qytSayFf9RlQ8/58xTwBwDAAcAwDHO4BJg5c3iPGHuqZ/rPwr+k/OHA6HY8uhg2ou4+Fr8xv7TzwBwDEAcAwAHAMAx6eBJmUNy9+diXBQrVmWkq7mkg1PAHAMABwDAMcAwPESaJLnivx4V9WKM2rNwL7rYmz0TqBDP0SMK54A4BgAOAYAjk8DwfEEAMcAwDEAcAwAHAMAxwDAMQBwDAAcAwDHAMAxAHAMABwDAMcAwDEAcAwAHAMAxwDAMQBwDAAcAwDHAMD9AUp0peEjxMdGAAAAAElFTkSuQmCC\" y=\"-175.711066\"/>\n   </g>\n   <g id=\"matplotlib.axis_7\"/>\n   <g id=\"matplotlib.axis_8\"/>\n   <g id=\"patch_18\">\n    <path d=\"M 10.7 303.711066 \nL 10.7 175.805184 \n\" style=\"fill:none;stroke:#000000;stroke-linecap:square;stroke-linejoin:miter;stroke-width:0.8;\"/>\n   </g>\n   <g id=\"patch_19\">\n    <path d=\"M 138.605882 303.711066 \nL 138.605882 175.805184 \n\" style=\"fill:none;stroke:#000000;stroke-linecap:square;stroke-linejoin:miter;stroke-width:0.8;\"/>\n   </g>\n   <g id=\"patch_20\">\n    <path d=\"M 10.7 303.711066 \nL 138.605882 303.711066 \n\" style=\"fill:none;stroke:#000000;stroke-linecap:square;stroke-linejoin:miter;stroke-width:0.8;\"/>\n   </g>\n   <g id=\"patch_21\">\n    <path d=\"M 10.7 175.805184 \nL 138.605882 175.805184 \n\" style=\"fill:none;stroke:#000000;stroke-linecap:square;stroke-linejoin:miter;stroke-width:0.8;\"/>\n   </g>\n   <g id=\"text_4\">\n    <!-- label = 1 -->\n    <defs>\n     <path d=\"M 12.40625 8.296875 \nL 28.515625 8.296875 \nL 28.515625 63.921875 \nL 10.984375 60.40625 \nL 10.984375 69.390625 \nL 28.421875 72.90625 \nL 38.28125 72.90625 \nL 38.28125 8.296875 \nL 54.390625 8.296875 \nL 54.390625 0 \nL 12.40625 0 \nz\n\" id=\"DejaVuSans-49\"/>\n    </defs>\n    <g transform=\"translate(47.482316 169.805184)scale(0.12 -0.12)\">\n     <use xlink:href=\"#DejaVuSans-108\"/>\n     <use x=\"27.783203\" xlink:href=\"#DejaVuSans-97\"/>\n     <use x=\"89.0625\" xlink:href=\"#DejaVuSans-98\"/>\n     <use x=\"152.539062\" xlink:href=\"#DejaVuSans-101\"/>\n     <use x=\"214.0625\" xlink:href=\"#DejaVuSans-108\"/>\n     <use x=\"241.845703\" xlink:href=\"#DejaVuSans-32\"/>\n     <use x=\"273.632812\" xlink:href=\"#DejaVuSans-61\"/>\n     <use x=\"357.421875\" xlink:href=\"#DejaVuSans-32\"/>\n     <use x=\"389.208984\" xlink:href=\"#DejaVuSans-49\"/>\n    </g>\n   </g>\n  </g>\n  <g id=\"axes_5\">\n   <g id=\"patch_22\">\n    <path d=\"M 168.252941 303.711066 \nL 296.158824 303.711066 \nL 296.158824 175.805184 \nL 168.252941 175.805184 \nz\n\" style=\"fill:#ffffff;\"/>\n   </g>\n   <g clip-path=\"url(#p98fab41cfb)\">\n    <image height=\"128\" id=\"image0bb59a5437\" transform=\"scale(1 -1)translate(0 -128)\" width=\"128\" x=\"168.252941\" xlink:href=\"data:image/png;base64,\niVBORw0KGgoAAAANSUhEUgAAAIAAAACACAYAAADDPmHLAAAABHNCSVQICAgIfAhkiAAABMRJREFUeJztnVtoFHcUxmd3k03cELexoqD1SqoW1FoJqBERZdWXVjEqxkrVINgULxgQUfTJ6JMGsaIkUKoIhYIVqeCDt4JPxlRbK7SJjdbEKKl4ITbFJOayPp/5FiZoMrOb7/u9ncPJzD/Lb88cZmZnQonQ6qQjaAkHvQARLBKAHAlAjgQgJyvoBaQjkZEfmrihagLU1CdqTLx81WbcUO3dAV3XYKAOQI4EIEcCkEM/A7iP947jONFz9mOpL6yBmoV/rDPxiIZmqOl9z7X5gToAORKAHAlAjgQgh34IfPLVVMjVFR4zcVnTUqiJH4iZuLft1cAuzCfUAciRAORIAHLoZ4CKr3/yrGmtLIRctPbXwViO76gDkCMByJEA5EgAcqiGwOT8WZDbNPwO5LqT9nsR+7MVanoGblmBog5AjgQgRwKQQzUDPFkYg1x3Eu/b6XP6/FhOWqAOQI4EIEcCkCMByKEaAuP/8Ax3/UUdgBwJQI4EIEcCkEM1BOb/WIvJKv/XkU6oA5AjAciRAORQzQDtpXNTZG/7vo50Qh2AHAlAjgQgRwKQQzUEZnXg1cDsUARy3a7npz/cNB5qxlU+HrB1BYk6ADkSgBwJQE7gM8CbZUWQO1J90sQzo3icPvPfWBMfvL4caqac7jRx/t2nUFP2aAHkqsf9YuKOiW+gZqigDkCOBCBHApAjAcgJ+fnauMjoUZDbc+My5ObkdJs4nMLTd/n93tWOfFyTg//+omH/m/hmVzbUHJqMzxrIRNQByJEA5EgAcnw9ERTKzYGc+3ifihWJUtzWa3uSp7H8I6hZmvjNxBWjrkHN+KxhkHNPF0VRPBHUtmGeiT84cwNqMgF1AHIkADkSgBwJQI6vQ2Cyswtyt7rwSl9Rjn1wU8e3OIRFl7SYeNLeFqhp3GvjbbO2QM307+shd3B0nYkjoRDUJNc+tzUX4lCTCW8RUQcgRwKQIwHIkQDk+Ho1MBUPqvD3evWlJ0z8qq8TatY0fGni3JKXUNPX3u65/3BeHuRerJ5p4p8rD0PNyIg9gzjt7FaoKdyZ4nkEaYY6ADkSgBwJQE7gM0AqGo/PMfG9kpNQ474j6JMr5VAzbVeTiXufv3in9az86xnkyuJNWOhiwb4dJi44nX5XDNUByJEA5EgAciQAOWk5BLr5t6IYcnW7jnn+3Zr7X5i4ZxXeftafwfDpdtz/zT3e+7/02l4hrFm8GGp6WoJ9zoA6ADkSgBwJQE5GzACh7CjkOhOfmvhU9VGoGZNlb0Pf3LwEapqPTIVc3kX7OtlwDF83Fz6fa+JzH1/AGtf3a/qpbVAzcX+wJ4fUAciRAORIAHIkADkZMQT2h2fl8yB3fLe9s8h9u7njpH72wMamhIk/iz+Cmh0FDZ5rcm+7+Pd1UDPi8789tzOYqAOQIwHIkQDkDJkZIBXuh1A2r8fnCn0z+zrkdhZ4H5dnfLfdxLFW/Bjbiu1P4Sb8gN+36KVbnvsaTNQByJEA5EgAciQAOUN6CBTeqAOQIwHIkQDkSAByJAA5EoAcCUCOBCBHApAjAciRAORIAHIkADkSgBwJQI4EIEcCkCMByJEA5EgAciQAORKAHAlAjgQgRwKQIwHIkQDkSAByJAA5EoAcCUDOW2qJ3lwFYHarAAAAAElFTkSuQmCC\" y=\"-175.711066\"/>\n   </g>\n   <g id=\"matplotlib.axis_9\"/>\n   <g id=\"matplotlib.axis_10\"/>\n   <g id=\"patch_23\">\n    <path d=\"M 168.252941 303.711066 \nL 168.252941 175.805184 \n\" style=\"fill:none;stroke:#000000;stroke-linecap:square;stroke-linejoin:miter;stroke-width:0.8;\"/>\n   </g>\n   <g id=\"patch_24\">\n    <path d=\"M 296.158824 303.711066 \nL 296.158824 175.805184 \n\" style=\"fill:none;stroke:#000000;stroke-linecap:square;stroke-linejoin:miter;stroke-width:0.8;\"/>\n   </g>\n   <g id=\"patch_25\">\n    <path d=\"M 168.252941 303.711066 \nL 296.158824 303.711066 \n\" style=\"fill:none;stroke:#000000;stroke-linecap:square;stroke-linejoin:miter;stroke-width:0.8;\"/>\n   </g>\n   <g id=\"patch_26\">\n    <path d=\"M 168.252941 175.805184 \nL 296.158824 175.805184 \n\" style=\"fill:none;stroke:#000000;stroke-linecap:square;stroke-linejoin:miter;stroke-width:0.8;\"/>\n   </g>\n   <g id=\"text_5\">\n    <!-- label = 9 -->\n    <defs>\n     <path d=\"M 10.984375 1.515625 \nL 10.984375 10.5 \nQ 14.703125 8.734375 18.5 7.8125 \nQ 22.3125 6.890625 25.984375 6.890625 \nQ 35.75 6.890625 40.890625 13.453125 \nQ 46.046875 20.015625 46.78125 33.40625 \nQ 43.953125 29.203125 39.59375 26.953125 \nQ 35.25 24.703125 29.984375 24.703125 \nQ 19.046875 24.703125 12.671875 31.3125 \nQ 6.296875 37.9375 6.296875 49.421875 \nQ 6.296875 60.640625 12.9375 67.421875 \nQ 19.578125 74.21875 30.609375 74.21875 \nQ 43.265625 74.21875 49.921875 64.515625 \nQ 56.59375 54.828125 56.59375 36.375 \nQ 56.59375 19.140625 48.40625 8.859375 \nQ 40.234375 -1.421875 26.421875 -1.421875 \nQ 22.703125 -1.421875 18.890625 -0.6875 \nQ 15.09375 0.046875 10.984375 1.515625 \nz\nM 30.609375 32.421875 \nQ 37.25 32.421875 41.125 36.953125 \nQ 45.015625 41.5 45.015625 49.421875 \nQ 45.015625 57.28125 41.125 61.84375 \nQ 37.25 66.40625 30.609375 66.40625 \nQ 23.96875 66.40625 20.09375 61.84375 \nQ 16.21875 57.28125 16.21875 49.421875 \nQ 16.21875 41.5 20.09375 36.953125 \nQ 23.96875 32.421875 30.609375 32.421875 \nz\n\" id=\"DejaVuSans-57\"/>\n    </defs>\n    <g transform=\"translate(205.035257 169.805184)scale(0.12 -0.12)\">\n     <use xlink:href=\"#DejaVuSans-108\"/>\n     <use x=\"27.783203\" xlink:href=\"#DejaVuSans-97\"/>\n     <use x=\"89.0625\" xlink:href=\"#DejaVuSans-98\"/>\n     <use x=\"152.539062\" xlink:href=\"#DejaVuSans-101\"/>\n     <use x=\"214.0625\" xlink:href=\"#DejaVuSans-108\"/>\n     <use x=\"241.845703\" xlink:href=\"#DejaVuSans-32\"/>\n     <use x=\"273.632812\" xlink:href=\"#DejaVuSans-61\"/>\n     <use x=\"357.421875\" xlink:href=\"#DejaVuSans-32\"/>\n     <use x=\"389.208984\" xlink:href=\"#DejaVuSans-57\"/>\n    </g>\n   </g>\n  </g>\n  <g id=\"axes_6\">\n   <g id=\"patch_27\">\n    <path d=\"M 325.805882 303.711066 \nL 453.711765 303.711066 \nL 453.711765 175.805184 \nL 325.805882 175.805184 \nz\n\" style=\"fill:#ffffff;\"/>\n   </g>\n   <g clip-path=\"url(#p55fc292e8a)\">\n    <image height=\"128\" id=\"image2084f6172b\" transform=\"scale(1 -1)translate(0 -128)\" width=\"128\" x=\"325.805882\" xlink:href=\"data:image/png;base64,\niVBORw0KGgoAAAANSUhEUgAAAIAAAACACAYAAADDPmHLAAAABHNCSVQICAgIfAhkiAAABWRJREFUeJztnW1olXUYxnd2zmkv2Upnm9ON1trGYo6hYdI2Ksnqizlxo1EZZCBWWiDLwQgEE6S+JGmJKYiltZK5pq1AJCYEiVnKqOWmq9icYy/qmPiyl3N2+lj3uU48h8M5Ox2v6/ftvrmfl40fNzf///M8x7XcVRtIErQkx/sGRHyRAORIAHIkADkSgBwJQI4EIEcCkCMByJEA5EgAciQAORKAHAlAjgQgRwKQIwHIkQDkSAByJAA5EoAcCUCOJ5Ynd2fOMfHASyVQM1Y+CTnPiNfExXsuQ8304LCNx8cjuUV61AHIkQDkSAByYjoDVLQPmHhz5vHITvQyplZ0rTZx36lcqCloHjNxoLMHagJTOIMwoQ5AjgQgRwKQIwHIiekQ+PisLseaa/4JyO0ZXWriBXeNQk1bSYtN4BpTUtJaG5Z+8RaUFDaegVzA5wtxsjsTdQByJAA5EoAcCUCOK5YfiepvrDDx2Y0fQs2AD4fAmvc2mzin9S+oubYs38SBNVegpnnhARPf706BmtIv34Rc8V57Ln83riBGi+E3KiCXXdvrfGD9fSYMnOuM6PrqAORIAHIkADkxnQFcHrvO1L1rMdR0rfwYcv1Bc8HKTxqgJn//Hyb2DQ5BzdTyR0y86P1zULN93mnIfXr9ARMffOc5qElvsce552ZCzejTRSa+WTcGNV8v2ge5XA/OKsG03bTX21tc4HhMKNQByJEA5EgAciQAOTEdAuFiKTjcdO8oh1xXNQ6GwVR3rzJx8gtTUOMfso+Oe/LwsbHyY32Q25plh8WxaXzkfOmRehPnlAxDzfdlX0EumLqeFZC7sjPfxKlX8W8Lxn3yrGNNKNQByJEA5EgAcmZ0BghFcmoq5K7WLTLxD9t3Op6ntAk3dXLb/SZO+Raf/vHkzINc5XG7+VSf+Zvj9cPhsW34RFL2Zx2Qm751KyrXCwd1AHIkADkSgBwJQE7ch8BQBC8YTT5RBjUNuw+aeFnaDagZCnrkvGtyNtRsuVANuabSAyaeH8bu3OkJL+TWNb1u4oJtuBsZ7+8aqAOQIwHIkQDk/C9ngHBwZ2SYePzRIqjxNtqnhNpKjoZ1bq/LbeKpgP8/Kv+h/TYuaO2oqTXxdMf5sK4/k6gDkCMByJEA5EgAchJ2CIyEvi34GpYvPcSf7wqKQ5SsfvaUid/Nwp3Gjf1PmvhSJb4GF+9vEagDkCMByJEA5EgAcqiGwGjSe9juUHZU7nc85pn1GyCX2vZT1O4pEtQByJEA5EgAcmL6ocho4S58EHLdG7JNnHcCd+zu7hw0sa/3UtTuyXvmHpuojNqpZxR1AHIkADkSgBwJQE5CDIFJ+3AX7ffiXTbxPB7WfMO+9/fBhaegJrsB18H85y863lL60J2xfqYOQI4EIEcCkJMQM8DlY/mYfNv5uNpZdiGodvHnUHOoJQ9yR1ZVmTjUx6Jn/3rd+QYSAHUAciQAORKAHAlATkIMgQsO4cJM6ZJ1Jv6mYjfUFHjxnf1g1mTgDqG/9UcTt9ZUQc2045kTA3UAciQAORKAnISYAfwjI5B76EWb27RkPdT0bLLv+Z+s+ghqQv2S2NqguSDr6HdQ8+dEVuib/Rc/T9jrpw3dhpp4bympA5AjAciRAORIAHKoXg1LXlgCuYuNaZB7tcwuBEX6tfCHT7xm4qJXfonoPLFEHYAcCUCOBCBHApBDNQSGiztzjold92ZATV/NfBOPz8V/Y+FW+3MwM/lTMOGiDkCOBCBHApCjGYAcdQByJAA5EoAcCUCOBCBHApAjAciRAORIAHIkADkSgBwJQI4EIEcCkCMByJEA5EgAciQAORKAHAlAjgQgRwKQ8zfiqiCBNXnkMQAAAABJRU5ErkJggg==\" y=\"-175.711066\"/>\n   </g>\n   <g id=\"matplotlib.axis_11\"/>\n   <g id=\"matplotlib.axis_12\"/>\n   <g id=\"patch_28\">\n    <path d=\"M 325.805882 303.711066 \nL 325.805882 175.805184 \n\" style=\"fill:none;stroke:#000000;stroke-linecap:square;stroke-linejoin:miter;stroke-width:0.8;\"/>\n   </g>\n   <g id=\"patch_29\">\n    <path d=\"M 453.711765 303.711066 \nL 453.711765 175.805184 \n\" style=\"fill:none;stroke:#000000;stroke-linecap:square;stroke-linejoin:miter;stroke-width:0.8;\"/>\n   </g>\n   <g id=\"patch_30\">\n    <path d=\"M 325.805882 303.711066 \nL 453.711765 303.711066 \n\" style=\"fill:none;stroke:#000000;stroke-linecap:square;stroke-linejoin:miter;stroke-width:0.8;\"/>\n   </g>\n   <g id=\"patch_31\">\n    <path d=\"M 325.805882 175.805184 \nL 453.711765 175.805184 \n\" style=\"fill:none;stroke:#000000;stroke-linecap:square;stroke-linejoin:miter;stroke-width:0.8;\"/>\n   </g>\n   <g id=\"text_6\">\n    <!-- label = 2 -->\n    <defs>\n     <path d=\"M 19.1875 8.296875 \nL 53.609375 8.296875 \nL 53.609375 0 \nL 7.328125 0 \nL 7.328125 8.296875 \nQ 12.9375 14.109375 22.625 23.890625 \nQ 32.328125 33.6875 34.8125 36.53125 \nQ 39.546875 41.84375 41.421875 45.53125 \nQ 43.3125 49.21875 43.3125 52.78125 \nQ 43.3125 58.59375 39.234375 62.25 \nQ 35.15625 65.921875 28.609375 65.921875 \nQ 23.96875 65.921875 18.8125 64.3125 \nQ 13.671875 62.703125 7.8125 59.421875 \nL 7.8125 69.390625 \nQ 13.765625 71.78125 18.9375 73 \nQ 24.125 74.21875 28.421875 74.21875 \nQ 39.75 74.21875 46.484375 68.546875 \nQ 53.21875 62.890625 53.21875 53.421875 \nQ 53.21875 48.921875 51.53125 44.890625 \nQ 49.859375 40.875 45.40625 35.40625 \nQ 44.1875 33.984375 37.640625 27.21875 \nQ 31.109375 20.453125 19.1875 8.296875 \nz\n\" id=\"DejaVuSans-50\"/>\n    </defs>\n    <g transform=\"translate(362.588199 169.805184)scale(0.12 -0.12)\">\n     <use xlink:href=\"#DejaVuSans-108\"/>\n     <use x=\"27.783203\" xlink:href=\"#DejaVuSans-97\"/>\n     <use x=\"89.0625\" xlink:href=\"#DejaVuSans-98\"/>\n     <use x=\"152.539062\" xlink:href=\"#DejaVuSans-101\"/>\n     <use x=\"214.0625\" xlink:href=\"#DejaVuSans-108\"/>\n     <use x=\"241.845703\" xlink:href=\"#DejaVuSans-32\"/>\n     <use x=\"273.632812\" xlink:href=\"#DejaVuSans-61\"/>\n     <use x=\"357.421875\" xlink:href=\"#DejaVuSans-32\"/>\n     <use x=\"389.208984\" xlink:href=\"#DejaVuSans-50\"/>\n    </g>\n   </g>\n  </g>\n  <g id=\"axes_7\">\n   <g id=\"patch_32\">\n    <path d=\"M 10.7 457.198125 \nL 138.605882 457.198125 \nL 138.605882 329.292243 \nL 10.7 329.292243 \nz\n\" style=\"fill:#ffffff;\"/>\n   </g>\n   <g clip-path=\"url(#p3929852c58)\">\n    <image height=\"128\" id=\"image74483ae9d4\" transform=\"scale(1 -1)translate(0 -128)\" width=\"128\" x=\"10.7\" xlink:href=\"data:image/png;base64,\niVBORw0KGgoAAAANSUhEUgAAAIAAAACACAYAAADDPmHLAAAABHNCSVQICAgIfAhkiAAAAudJREFUeJzt3bFrU1EUgPGksbgoqQ5FUCoFfYMiODiI4CIBQVAHCyI4dHMo+B+4OYqgo+jgIujgKG4dCsWhHVLQWlEcXFQkgiKiJanzy4nwSNq+1/t9vy2HR7jD18MlCVpv1Wc2asIaK/sAKpcBwBkAnAHAGQCcAcAZAJwBwBkAnAHAGQCcAcAZAJwBwBkAnAHAGQDcrrIPULbGsSzMWs+Wcq/n9q2FZ8b6/nYuXbgenum1V0c83dZzA8AZAJwBwBkAHP4S+P3k/jAbdOlLlRsAzgDgDAAOfwfYPfu57COUyg0AZwBwBgBnAHD4S+Ds1GKY9X/TN8h4vbEVx9l2bgA4A4AzADgDgENdAj/dOhNm1/beC7Negfeafnkj9zprL/3nyWpzA8AZAJwBwKHuAH+y32UfoXLcAHAGAGcAcAYAh7oEvj33MMyKfOgzSPbg72iHqQg3AJwBwBkAHOoOMOhXPOsF/r+Us+2rYdZ8tbIZRyqdGwDOAOAMAM4A4FCXwPWNbpj1CnwU9GNxMsyatfebcqayuQHgDADOAOAMAM4A4AwAzgDgDADOAOAMAM4A4AwAzgDgUN8GDvuTsJS5AeAMAM4A4FB3gGF/EZQyNwCcAcAZAJwBwCV9Cfxw53TfZLmUc1SZGwDOAOAMAC6ZO0DjyHSY3b74dKj3Ov7kZu519vxbeCZ+pLQzuQHgDADOAOAMAC6ZS2Dt568wetE5kXt9Zc98obeaXM7/TKj75t3w56o4NwCcAcAZAFwyd4Dul69htrB6Kj+YKnYHIHEDwBkAnAHAGQBcMpfAxkQzzA4fit/iKc8NAGcAcAYAZwBwyVwCawcPhNH97HHfZHx7zrKDuAHgDADOAOCSuQN0X6+F2eX5udzrj+cfhWfudo6G2cRKJ//eI56tytwAcAYAZwBwBgBXb9Vn4P9UIpsbAM4A4AwAzgDgDADOAOAMAM4A4AwAzgDgDADOAOAMAM4A4AwAzgDgDADuH86vVX5x6N4TAAAAAElFTkSuQmCC\" y=\"-329.198125\"/>\n   </g>\n   <g id=\"matplotlib.axis_13\"/>\n   <g id=\"matplotlib.axis_14\"/>\n   <g id=\"patch_33\">\n    <path d=\"M 10.7 457.198125 \nL 10.7 329.292243 \n\" style=\"fill:none;stroke:#000000;stroke-linecap:square;stroke-linejoin:miter;stroke-width:0.8;\"/>\n   </g>\n   <g id=\"patch_34\">\n    <path d=\"M 138.605882 457.198125 \nL 138.605882 329.292243 \n\" style=\"fill:none;stroke:#000000;stroke-linecap:square;stroke-linejoin:miter;stroke-width:0.8;\"/>\n   </g>\n   <g id=\"patch_35\">\n    <path d=\"M 10.7 457.198125 \nL 138.605882 457.198125 \n\" style=\"fill:none;stroke:#000000;stroke-linecap:square;stroke-linejoin:miter;stroke-width:0.8;\"/>\n   </g>\n   <g id=\"patch_36\">\n    <path d=\"M 10.7 329.292243 \nL 138.605882 329.292243 \n\" style=\"fill:none;stroke:#000000;stroke-linecap:square;stroke-linejoin:miter;stroke-width:0.8;\"/>\n   </g>\n   <g id=\"text_7\">\n    <!-- label = 1 -->\n    <g transform=\"translate(47.482316 323.292243)scale(0.12 -0.12)\">\n     <use xlink:href=\"#DejaVuSans-108\"/>\n     <use x=\"27.783203\" xlink:href=\"#DejaVuSans-97\"/>\n     <use x=\"89.0625\" xlink:href=\"#DejaVuSans-98\"/>\n     <use x=\"152.539062\" xlink:href=\"#DejaVuSans-101\"/>\n     <use x=\"214.0625\" xlink:href=\"#DejaVuSans-108\"/>\n     <use x=\"241.845703\" xlink:href=\"#DejaVuSans-32\"/>\n     <use x=\"273.632812\" xlink:href=\"#DejaVuSans-61\"/>\n     <use x=\"357.421875\" xlink:href=\"#DejaVuSans-32\"/>\n     <use x=\"389.208984\" xlink:href=\"#DejaVuSans-49\"/>\n    </g>\n   </g>\n  </g>\n  <g id=\"axes_8\">\n   <g id=\"patch_37\">\n    <path d=\"M 168.252941 457.198125 \nL 296.158824 457.198125 \nL 296.158824 329.292243 \nL 168.252941 329.292243 \nz\n\" style=\"fill:#ffffff;\"/>\n   </g>\n   <g clip-path=\"url(#p3482e2e846)\">\n    <image height=\"128\" id=\"image257517714b\" transform=\"scale(1 -1)translate(0 -128)\" width=\"128\" x=\"168.252941\" xlink:href=\"data:image/png;base64,\niVBORw0KGgoAAAANSUhEUgAAAIAAAACACAYAAADDPmHLAAAABHNCSVQICAgIfAhkiAAABPZJREFUeJztnV1oFFcUxzObbIwbampjjaYYawhWjW0llWJMS9JUsAhatJG0GPyIBKtUEaLFBxHEN1G0H9SCxSBYRISUIgoGEX0wmopfNZKaREXTNEZbpfVrk81sfD45Q3d2mJnM5v//vZ3D2bl34beHy8zdO8Y8o2owjcASGu4JkOGFAoBDAcChAOBQAHAoADgUABwKAA4FAIcCgEMBwKEA4FAAcDL8HCwUiahc14ZZKndwzV4Rz8w0VE3l9WoR/3tmgqqZfKRbxAN37tqaJxLsAOBQAHAoADiGlzuCzIoSEf+5LqZqrpUd8Gr4tEP/TRJxT+xVVXPgcpnKFe03RWycu+ruxAIEOwA4FAAcCgAOBQDH00Vg+e8vRFyf2+rVUI4JWfwGzkXDIq5rWa5qiuo6RBx/9szdifkEOwA4FAAcCgCOrw+D7DL91BqZeBq2LkySz+eeV7nt46+oXGlWn4hby/ermhVN80Xc2fCOqsn9SY8XNNgBwKEA4FAAcCgAOJ7eCIoufF/EOZvuqZqjRcdUbnHlFyI2b3a6Mp+MiXrXUHdVocodrt8l4sJw4kVor9mncss21os40tiS8Dp+ww4ADgUAhwKAQwHA8fROYNax30Tc3zRK1ZQvXa9yY/+64cl8Bnruq1zedzpXnblJxL9u2Klq8jPkd8lL198tNlpvZw8a7ADgUABwKAA4vj4NHOzTN0tyDl1Qubgfk/kfJu5uFnHV082qpnnbt35Nx1PYAcChAOBQAHAoADiB3BIWNPIaLZ5GbvN/Hl7ADgAOBQCHAoCTEmuA9BlTVa5jZa6IC07268+9GHBl/LbV7mxLDyLsAOBQAHAoADgUAJxALgIHy+ThkasbGlXNouzHMrHM2VhhI13lYoOmReVQRsZvZ2R8C+IYCgAOBQAnkGuAoZhpendt3KV9QzGLP8Y5ufaCts9ULudnvdspaLADgEMBwKEA4FAAcDw9H8At0ovfUrn2VWNFXP6Bs0Mof5x0VuWcLAI7Y/rJY/U+eT5AwS+9qsZsv5X0WG7CDgAOBQCHAoBDAcBJiUWglzz4aq7KrVh7QsQ1Y/R5Ba+EMpMea8fDEpW79KF+jU38yZOkr+0UdgBwKAA4FAAc+DWAHR6uLVW5aTV/iLjhzSZH11787icqZ/79j6NrOYEdABwKAA4FAIcCgJMSW8KGm9f36Ve/3DTlwrB3qz713OrwyKG07ZyiclNruQgkPkEBwKEA4KTEGsAI6wcvocKCxJ/rj4l44M5d1+aU19gu4utfj9M1oxM/1MnPf6RyoUhExPHnz5OcnX3YAcChAOBQAHAoADgpsQi8t2W2yl358puEnzsflTdiak/U6SKrl3rYeD46p0QuAufZWPBZcfrtIyo3/6N1Ih51/KKja9uBHQAcCgAOBQAnJdYAb1R0OfpcaZZ8Q0nbku9VTcjiN+DW2QOpADsAOBQAHAoADgUAJyUWgcbW11Ru2kp5s2RP5WFVEzbkf/ad3qzxklnNtSo3peW2iO0cW+kUdgBwKAA4FAAcCgDOiPlvoPFescrFM+Uat7siW9XcWP+Dytk7LTx5Pm6tUrnsT3tULh6NejK+FewA4FAAcCgAOCNmDUCcwQ4ADgUAhwKAQwHAoQDgUABwKAA4FAAcCgAOBQCHAoBDAcChAOBQAHAoADgUABwKAA4FAIcCgEMBwKEA4FAAcF4CSvPlbC4MUJAAAAAASUVORK5CYII=\" y=\"-329.198125\"/>\n   </g>\n   <g id=\"matplotlib.axis_15\"/>\n   <g id=\"matplotlib.axis_16\"/>\n   <g id=\"patch_38\">\n    <path d=\"M 168.252941 457.198125 \nL 168.252941 329.292243 \n\" style=\"fill:none;stroke:#000000;stroke-linecap:square;stroke-linejoin:miter;stroke-width:0.8;\"/>\n   </g>\n   <g id=\"patch_39\">\n    <path d=\"M 296.158824 457.198125 \nL 296.158824 329.292243 \n\" style=\"fill:none;stroke:#000000;stroke-linecap:square;stroke-linejoin:miter;stroke-width:0.8;\"/>\n   </g>\n   <g id=\"patch_40\">\n    <path d=\"M 168.252941 457.198125 \nL 296.158824 457.198125 \n\" style=\"fill:none;stroke:#000000;stroke-linecap:square;stroke-linejoin:miter;stroke-width:0.8;\"/>\n   </g>\n   <g id=\"patch_41\">\n    <path d=\"M 168.252941 329.292243 \nL 296.158824 329.292243 \n\" style=\"fill:none;stroke:#000000;stroke-linecap:square;stroke-linejoin:miter;stroke-width:0.8;\"/>\n   </g>\n   <g id=\"text_8\">\n    <!-- label = 3 -->\n    <defs>\n     <path d=\"M 40.578125 39.3125 \nQ 47.65625 37.796875 51.625 33 \nQ 55.609375 28.21875 55.609375 21.1875 \nQ 55.609375 10.40625 48.1875 4.484375 \nQ 40.765625 -1.421875 27.09375 -1.421875 \nQ 22.515625 -1.421875 17.65625 -0.515625 \nQ 12.796875 0.390625 7.625 2.203125 \nL 7.625 11.71875 \nQ 11.71875 9.328125 16.59375 8.109375 \nQ 21.484375 6.890625 26.8125 6.890625 \nQ 36.078125 6.890625 40.9375 10.546875 \nQ 45.796875 14.203125 45.796875 21.1875 \nQ 45.796875 27.640625 41.28125 31.265625 \nQ 36.765625 34.90625 28.71875 34.90625 \nL 20.21875 34.90625 \nL 20.21875 43.015625 \nL 29.109375 43.015625 \nQ 36.375 43.015625 40.234375 45.921875 \nQ 44.09375 48.828125 44.09375 54.296875 \nQ 44.09375 59.90625 40.109375 62.90625 \nQ 36.140625 65.921875 28.71875 65.921875 \nQ 24.65625 65.921875 20.015625 65.03125 \nQ 15.375 64.15625 9.8125 62.3125 \nL 9.8125 71.09375 \nQ 15.4375 72.65625 20.34375 73.4375 \nQ 25.25 74.21875 29.59375 74.21875 \nQ 40.828125 74.21875 47.359375 69.109375 \nQ 53.90625 64.015625 53.90625 55.328125 \nQ 53.90625 49.265625 50.4375 45.09375 \nQ 46.96875 40.921875 40.578125 39.3125 \nz\n\" id=\"DejaVuSans-51\"/>\n    </defs>\n    <g transform=\"translate(205.035257 323.292243)scale(0.12 -0.12)\">\n     <use xlink:href=\"#DejaVuSans-108\"/>\n     <use x=\"27.783203\" xlink:href=\"#DejaVuSans-97\"/>\n     <use x=\"89.0625\" xlink:href=\"#DejaVuSans-98\"/>\n     <use x=\"152.539062\" xlink:href=\"#DejaVuSans-101\"/>\n     <use x=\"214.0625\" xlink:href=\"#DejaVuSans-108\"/>\n     <use x=\"241.845703\" xlink:href=\"#DejaVuSans-32\"/>\n     <use x=\"273.632812\" xlink:href=\"#DejaVuSans-61\"/>\n     <use x=\"357.421875\" xlink:href=\"#DejaVuSans-32\"/>\n     <use x=\"389.208984\" xlink:href=\"#DejaVuSans-51\"/>\n    </g>\n   </g>\n  </g>\n  <g id=\"axes_9\">\n   <g id=\"patch_42\">\n    <path d=\"M 325.805882 457.198125 \nL 453.711765 457.198125 \nL 453.711765 329.292243 \nL 325.805882 329.292243 \nz\n\" style=\"fill:#ffffff;\"/>\n   </g>\n   <g clip-path=\"url(#p43a9f6d247)\">\n    <image height=\"128\" id=\"imagea19ff0f8a7\" transform=\"scale(1 -1)translate(0 -128)\" width=\"128\" x=\"325.805882\" xlink:href=\"data:image/png;base64,\niVBORw0KGgoAAAANSUhEUgAAAIAAAACACAYAAADDPmHLAAAABHNCSVQICAgIfAhkiAAAAtlJREFUeJzt3D9rFEEYgPHbXO5IomARiCAEBTUgSMAugo0Q8AN4YGOhghCwtfMjWGhjoY21YGljJcFOMcEmRVBCtDSeRRIjen+sx1nIIe7OOc/z62aZYhKevAx3YYvlojNsCGsi9QGUlgHAGQCcAcAZAJwBwBkAnAHAGQCcAcAZAJwBwBkA3GTqA6TWfbEQPeucXA/Wq9cuRHv6G5uVnalOTgA4A4AzADj8HeD+uefRs/Pt3WD96shSXcepnRMAzgDgDADOAODwl8Cbq7eiZx+uPAnWO4tHoz2zbys7Uq2cAHAGAGcAcPg7QJmPvYNgPfv0TaKTVM8JAGcAcAYAZwBwXgJLNBvhKxMmpqeiPYP9/bqOUyknAJwBwBkAnAHA4S+Bd5deRs9OTc4E683H8b+On7m+Hj37HzkB4AwAzgDgUHeAbzcuRs9Wjj2Knn0dhN8Gnn3wM9qTy9s1nQBwBgBnAHAGAIe6BA5G/Gn7wz++DTz4Fe/5FwcaA04AOAOAMwA41B1gb74Yad/uMNyXy/uAyjgB4AwAzgDgDAAOdQmcv/Q59RHGjhMAzgDgDAAOdQcY1dW128H6RGMj0Umq5wSAMwA4A4AzADgvgSX2ujOHb8qEEwDOAOAMAM4A4AwAzgDgDADOAOCy/iCoeXwuWD88/axkV/wSSBInAJwBwBkAnAHAZX0JLFqtYL3QGu3CN73VruI4Y8kJAGcAcAYAl/Ud4G/NvYvfCZQrJwCcAcAZAJwBwOEvgc0i/htofe8lOEkaTgA4A4AzADj8HaA/HKQ+QlJOADgDgDMAOAOAw18CX/+IfwXtT91gnfPHQk4AOAOAMwA4A4DL+hLY/7ITrC/fWYn2LN57Hz3rbW1XdqZx4wSAMwA4A4ArlovO8PBtypUTAM4A4AwAzgDgDADOAOAMAM4A4AwAzgDgDADOAOAMAM4A4AwAzgDgDADOAOAMAM4A4AwAzgDgfgPB5lGKH/uUKQAAAABJRU5ErkJggg==\" y=\"-329.198125\"/>\n   </g>\n   <g id=\"matplotlib.axis_17\"/>\n   <g id=\"matplotlib.axis_18\"/>\n   <g id=\"patch_43\">\n    <path d=\"M 325.805882 457.198125 \nL 325.805882 329.292243 \n\" style=\"fill:none;stroke:#000000;stroke-linecap:square;stroke-linejoin:miter;stroke-width:0.8;\"/>\n   </g>\n   <g id=\"patch_44\">\n    <path d=\"M 453.711765 457.198125 \nL 453.711765 329.292243 \n\" style=\"fill:none;stroke:#000000;stroke-linecap:square;stroke-linejoin:miter;stroke-width:0.8;\"/>\n   </g>\n   <g id=\"patch_45\">\n    <path d=\"M 325.805882 457.198125 \nL 453.711765 457.198125 \n\" style=\"fill:none;stroke:#000000;stroke-linecap:square;stroke-linejoin:miter;stroke-width:0.8;\"/>\n   </g>\n   <g id=\"patch_46\">\n    <path d=\"M 325.805882 329.292243 \nL 453.711765 329.292243 \n\" style=\"fill:none;stroke:#000000;stroke-linecap:square;stroke-linejoin:miter;stroke-width:0.8;\"/>\n   </g>\n   <g id=\"text_9\">\n    <!-- label = 1 -->\n    <g transform=\"translate(362.588199 323.292243)scale(0.12 -0.12)\">\n     <use xlink:href=\"#DejaVuSans-108\"/>\n     <use x=\"27.783203\" xlink:href=\"#DejaVuSans-97\"/>\n     <use x=\"89.0625\" xlink:href=\"#DejaVuSans-98\"/>\n     <use x=\"152.539062\" xlink:href=\"#DejaVuSans-101\"/>\n     <use x=\"214.0625\" xlink:href=\"#DejaVuSans-108\"/>\n     <use x=\"241.845703\" xlink:href=\"#DejaVuSans-32\"/>\n     <use x=\"273.632812\" xlink:href=\"#DejaVuSans-61\"/>\n     <use x=\"357.421875\" xlink:href=\"#DejaVuSans-32\"/>\n     <use x=\"389.208984\" xlink:href=\"#DejaVuSans-49\"/>\n    </g>\n   </g>\n  </g>\n </g>\n <defs>\n  <clipPath id=\"p4dc6af0fa3\">\n   <rect height=\"127.905882\" width=\"127.905882\" x=\"10.7\" y=\"22.318125\"/>\n  </clipPath>\n  <clipPath id=\"p7f6957a9c5\">\n   <rect height=\"127.905882\" width=\"127.905882\" x=\"168.252941\" y=\"22.318125\"/>\n  </clipPath>\n  <clipPath id=\"p543fab7f3a\">\n   <rect height=\"127.905882\" width=\"127.905882\" x=\"325.805882\" y=\"22.318125\"/>\n  </clipPath>\n  <clipPath id=\"p3c9ebbd520\">\n   <rect height=\"127.905882\" width=\"127.905882\" x=\"10.7\" y=\"175.805184\"/>\n  </clipPath>\n  <clipPath id=\"p98fab41cfb\">\n   <rect height=\"127.905882\" width=\"127.905882\" x=\"168.252941\" y=\"175.805184\"/>\n  </clipPath>\n  <clipPath id=\"p55fc292e8a\">\n   <rect height=\"127.905882\" width=\"127.905882\" x=\"325.805882\" y=\"175.805184\"/>\n  </clipPath>\n  <clipPath id=\"p3929852c58\">\n   <rect height=\"127.905882\" width=\"127.905882\" x=\"10.7\" y=\"329.292243\"/>\n  </clipPath>\n  <clipPath id=\"p3482e2e846\">\n   <rect height=\"127.905882\" width=\"127.905882\" x=\"168.252941\" y=\"329.292243\"/>\n  </clipPath>\n  <clipPath id=\"p43a9f6d247\">\n   <rect height=\"127.905882\" width=\"127.905882\" x=\"325.805882\" y=\"329.292243\"/>\n  </clipPath>\n </defs>\n</svg>\n"
     },
     "metadata": {}
    }
   ],
   "source": [
    "%matplotlib inline\n",
    "%config InlineBackend.figure_format = 'svg'\n",
    "\n",
    "#查看部分样本\n",
    "from matplotlib import pyplot as plt \n",
    "\n",
    "plt.figure(figsize=(8,8)) \n",
    "for i in range(9):\n",
    "    img,label = ds_train[i]\n",
    "    img = img.permute(1,2,0)\n",
    "    ax=plt.subplot(3,3,i+1)\n",
    "    ax.imshow(img.numpy().squeeze(axis=2))\n",
    "    ax.set_title(\"label = %d\"%label)\n",
    "    ax.set_xticks([])\n",
    "    ax.set_yticks([]) \n",
    "plt.show()"
   ]
  },
  {
   "cell_type": "code",
   "execution_count": null,
   "id": "4d3554c1",
   "metadata": {
    "id": "4d3554c1",
    "pycharm": {
     "name": "#%%\n"
    }
   },
   "outputs": [],
   "source": [
    "class Net(nn.Module):\n",
    "    def __init__(self):\n",
    "        super(Net, self).__init__()\n",
    "        self.conv1 = nn.Conv2d(1, 32, 3, 1)\n",
    "        # self.conv2 = nn.Conv2d(32, 64, 3, 1)\n",
    "        self.dropout1 = nn.Dropout(0.25)\n",
    "        # self.dropout2 = nn.Dropout(0.5)\n",
    "        self.fc1 = nn.Linear(5408, 128)\n",
    "        # self.fc2 = nn.Linear(128, 10)\n",
    "\n",
    "\n",
    "    def forward(self, x):\n",
    "        x = self.conv1(x)\n",
    "        x = F.relu(x)\n",
    "        # x = self.conv2(x)\n",
    "        # x = F.relu(x)\n",
    "        x = F.max_pool2d(x, 2)\n",
    "        x = self.dropout1(x)\n",
    "        x = torch.flatten(x, 1)\n",
    "        x = self.fc1(x)\n",
    "        # x = F.relu(x)\n",
    "        # x = self.dropout2(x)\n",
    "        # x = self.fc2(x)\n",
    "#         output = F.log_softmax(x, dim=1)\n",
    "        return x"
   ]
  },
  {
   "cell_type": "code",
   "execution_count": null,
   "id": "39706eee",
   "metadata": {
    "id": "39706eee",
    "pycharm": {
     "name": "#%%\n"
    }
   },
   "outputs": [],
   "source": [
    "device = torch.device(\"cuda\" if torch.cuda.is_available() else \"cpu\")"
   ]
  },
  {
   "cell_type": "code",
   "execution_count": null,
   "id": "374a9442",
   "metadata": {
    "id": "374a9442",
    "pycharm": {
     "name": "#%%\n"
    }
   },
   "outputs": [],
   "source": [
    "model = Net().to(device)"
   ]
  },
  {
   "cell_type": "code",
   "execution_count": null,
   "id": "f6eb8519",
   "metadata": {
    "colab": {
     "base_uri": "https://localhost:8080/"
    },
    "id": "f6eb8519",
    "outputId": "9584cf1f-c788-41d7-ca16-a066bbc8ae1a",
    "pycharm": {
     "name": "#%%\n"
    }
   },
   "outputs": [
    {
     "output_type": "stream",
     "name": "stdout",
     "text": [
      "Net(\n",
      "  (conv1): Conv2d(1, 32, kernel_size=(3, 3), stride=(1, 1))\n",
      "  (dropout1): Dropout(p=0.25, inplace=False)\n",
      "  (fc2): Linear(in_features=5408, out_features=10, bias=True)\n",
      ")\n"
     ]
    }
   ],
   "source": [
    "print(model)"
   ]
  },
  {
   "cell_type": "code",
   "execution_count": null,
   "id": "0ad06bf9",
   "metadata": {
    "id": "0ad06bf9",
    "pycharm": {
     "name": "#%%\n"
    }
   },
   "outputs": [],
   "source": [
    "epochs = 5\n",
    "print_freq = 500"
   ]
  },
  {
   "cell_type": "code",
   "execution_count": null,
   "id": "f646b8a2",
   "metadata": {
    "id": "f646b8a2",
    "pycharm": {
     "name": "#%%\n"
    }
   },
   "outputs": [],
   "source": [
    "optimizer = optim.Adadelta(model.parameters(), lr=0.1)\n",
    "#torch.optim.SGD(model.parameters(), lr=0.01,momentum=0.9,weight_decay=1e-4)\n",
    "criterion = nn.CrossEntropyLoss().to(device)"
   ]
  },
  {
   "cell_type": "code",
   "execution_count": null,
   "id": "33b42803",
   "metadata": {
    "id": "33b42803",
    "pycharm": {
     "name": "#%%\n"
    }
   },
   "outputs": [],
   "source": [
    "def train(train_loader, model, criterion, optimizer, epoch):\n",
    "    batch_time = AverageMeter('Time', ':6.3f')\n",
    "    data_time = AverageMeter('Data', ':6.3f')\n",
    "    losses = AverageMeter('Loss', ':.4e')\n",
    "    top1 = AverageMeter('Acc@1', ':6.2f')\n",
    "    progress = ProgressMeter(\n",
    "        len(train_loader),\n",
    "        [batch_time, data_time, losses, top1],\n",
    "        prefix=\"Epoch: [{}]\".format(epoch))\n",
    "\n",
    "    # switch to train mode\n",
    "    model.train()\n",
    "\n",
    "    end = time.time()\n",
    "    for i, (images, target) in enumerate(train_loader):\n",
    "        # measure data loading time\n",
    "        data_time.update(time.time() - end)\n",
    "        images = images.to(device)\n",
    "        target = target.to(device)\n",
    "        # compute output\n",
    "        output = model(images)\n",
    "\n",
    "        loss = criterion(output, target)\n",
    "\n",
    "        # measure accuracy and record loss\n",
    "        acc1 = accuracy(output, target, topk=(1,))\n",
    "        losses.update(loss.item(), images.size(0))\n",
    "        top1.update(acc1[0].item(), images.size(0))\n",
    "\n",
    "        # compute gradient and do SGD step\n",
    "        optimizer.zero_grad()\n",
    "        loss.backward()\n",
    "        optimizer.step()\n",
    "\n",
    "        # measure elapsed time\n",
    "        batch_time.update(time.time() - end)\n",
    "        end = time.time()\n",
    "\n",
    "        if i % print_freq == 0:\n",
    "            progress.display(i)"
   ]
  },
  {
   "cell_type": "code",
   "execution_count": null,
   "id": "38c3a758",
   "metadata": {
    "id": "38c3a758",
    "pycharm": {
     "name": "#%%\n"
    }
   },
   "outputs": [],
   "source": [
    "def validate(val_loader, model, criterion):\n",
    "    batch_time = AverageMeter('Time', ':6.3f', Summary.NONE)\n",
    "    losses = AverageMeter('Loss', ':.4e', Summary.AVERAGE)\n",
    "    top1 = AverageMeter('Acc@1', ':6.2f', Summary.AVERAGE)\n",
    "    progress = ProgressMeter(\n",
    "        len(val_loader),\n",
    "        [batch_time, losses, top1],\n",
    "        prefix='Test: ')\n",
    "\n",
    "    # switch to evaluate mode\n",
    "    model.eval()\n",
    "\n",
    "    with torch.no_grad():\n",
    "        end = time.time()\n",
    "        for i, (images, target) in enumerate(val_loader):\n",
    "            images = images.to(device)\n",
    "            target = target.to(device)\n",
    "            # compute output\n",
    "            output = model(images)\n",
    "            loss = criterion(output, target)\n",
    "\n",
    "            # measure accuracy and record loss\n",
    "            acc1 = accuracy(output, target, topk=(1,))\n",
    "            losses.update(loss.item(), images.size(0))\n",
    "            top1.update(acc1[0].item(), images.size(0))\n",
    "\n",
    "            # measure elapsed time\n",
    "            batch_time.update(time.time() - end)\n",
    "            end = time.time()\n",
    "\n",
    "            if i % print_freq == 0:\n",
    "                progress.display(i)\n",
    "\n",
    "        progress.display_summary()\n",
    "\n",
    "    return top1.avg, losses.avg"
   ]
  },
  {
   "cell_type": "code",
   "execution_count": null,
   "id": "7092588e",
   "metadata": {
    "id": "7092588e",
    "pycharm": {
     "name": "#%%\n"
    }
   },
   "outputs": [],
   "source": [
    "def save_checkpoint(state, is_best, filename='checkpoint.pth.tar'):\n",
    "    torch.save(state, filename)\n",
    "    if is_best:\n",
    "        shutil.copyfile(filename, 'model_best.pth.tar')"
   ]
  },
  {
   "cell_type": "code",
   "execution_count": null,
   "id": "4b130254",
   "metadata": {
    "id": "4b130254",
    "pycharm": {
     "name": "#%%\n"
    }
   },
   "outputs": [],
   "source": []
  },
  {
   "cell_type": "code",
   "execution_count": null,
   "id": "002be0be",
   "metadata": {
    "colab": {
     "base_uri": "https://localhost:8080/"
    },
    "id": "002be0be",
    "outputId": "3130e894-a360-4eef-b91a-96233cc811cf",
    "pycharm": {
     "name": "#%%\n"
    }
   },
   "outputs": [
    {
     "output_type": "stream",
     "name": "stdout",
     "text": [
      "Epoch: [0][   0/1200]\tTime  0.141 ( 0.141)\tData  0.129 ( 0.129)\tLoss 4.8976e+00 (4.8976e+00)\tAcc@1   0.00 (  0.00)\n",
      "Epoch: [0][ 500/1200]\tTime  0.011 ( 0.011)\tData  0.007 ( 0.007)\tLoss 2.5521e-01 (4.6795e-01)\tAcc@1  94.00 ( 87.08)\n",
      "Epoch: [0][1000/1200]\tTime  0.019 ( 0.010)\tData  0.017 ( 0.007)\tLoss 1.2977e-01 (3.6166e-01)\tAcc@1  96.00 ( 89.79)\n",
      "Test: [  0/200]\tTime  0.129 ( 0.129)\tLoss 1.2884e-01 (1.2884e-01)\tAcc@1  96.00 ( 96.00)\n",
      " *  Loss 0.183 Acc@1 94.850\n",
      "Epoch: [1][   0/1200]\tTime  0.147 ( 0.147)\tData  0.134 ( 0.134)\tLoss 1.4367e-01 (1.4367e-01)\tAcc@1  94.00 ( 94.00)\n",
      "Epoch: [1][ 500/1200]\tTime  0.003 ( 0.011)\tData  0.000 ( 0.007)\tLoss 8.1039e-02 (1.8913e-01)\tAcc@1  98.00 ( 94.56)\n",
      "Epoch: [1][1000/1200]\tTime  0.003 ( 0.011)\tData  0.000 ( 0.007)\tLoss 8.7530e-02 (1.6998e-01)\tAcc@1  96.00 ( 95.14)\n",
      "Test: [  0/200]\tTime  0.139 ( 0.139)\tLoss 7.0238e-02 (7.0238e-02)\tAcc@1  98.00 ( 98.00)\n",
      " *  Loss 0.121 Acc@1 96.530\n",
      "Epoch: [2][   0/1200]\tTime  0.153 ( 0.153)\tData  0.146 ( 0.146)\tLoss 5.5712e-02 (5.5712e-02)\tAcc@1 100.00 (100.00)\n",
      "Epoch: [2][ 500/1200]\tTime  0.004 ( 0.011)\tData  0.002 ( 0.007)\tLoss 6.1705e-02 (1.2770e-01)\tAcc@1  98.00 ( 96.42)\n",
      "Epoch: [2][1000/1200]\tTime  0.014 ( 0.011)\tData  0.008 ( 0.007)\tLoss 1.1693e-01 (1.2246e-01)\tAcc@1  94.00 ( 96.56)\n",
      "Test: [  0/200]\tTime  0.130 ( 0.130)\tLoss 3.1766e-01 (3.1766e-01)\tAcc@1  92.00 ( 92.00)\n",
      " *  Loss 0.091 Acc@1 97.420\n",
      "Epoch: [3][   0/1200]\tTime  0.165 ( 0.165)\tData  0.158 ( 0.158)\tLoss 1.5174e-01 (1.5174e-01)\tAcc@1  96.00 ( 96.00)\n",
      "Epoch: [3][ 500/1200]\tTime  0.003 ( 0.011)\tData  0.000 ( 0.007)\tLoss 1.4214e-01 (1.0187e-01)\tAcc@1  96.00 ( 97.06)\n",
      "Epoch: [3][1000/1200]\tTime  0.016 ( 0.011)\tData  0.013 ( 0.007)\tLoss 4.9638e-02 (1.0161e-01)\tAcc@1  98.00 ( 97.04)\n",
      "Test: [  0/200]\tTime  0.136 ( 0.136)\tLoss 4.1186e-02 (4.1186e-02)\tAcc@1  98.00 ( 98.00)\n",
      " *  Loss 0.081 Acc@1 97.650\n",
      "Epoch: [4][   0/1200]\tTime  0.146 ( 0.146)\tData  0.136 ( 0.136)\tLoss 1.4612e-02 (1.4612e-02)\tAcc@1 100.00 (100.00)\n",
      "Epoch: [4][ 500/1200]\tTime  0.015 ( 0.011)\tData  0.012 ( 0.007)\tLoss 2.7261e-02 (8.9601e-02)\tAcc@1 100.00 ( 97.38)\n",
      "Epoch: [4][1000/1200]\tTime  0.017 ( 0.011)\tData  0.014 ( 0.007)\tLoss 1.6547e-01 (8.9517e-02)\tAcc@1  96.00 ( 97.42)\n",
      "Test: [  0/200]\tTime  0.144 ( 0.144)\tLoss 5.9500e-02 (5.9500e-02)\tAcc@1  98.00 ( 98.00)\n",
      " *  Loss 0.073 Acc@1 97.780\n"
     ]
    }
   ],
   "source": [
    "best_acc1 = 0\n",
    "best_loss1 = float('inf')\n",
    "for epoch in range(epochs):\n",
    "\n",
    "#     adjust_learning_rate(optimizer, epoch)\n",
    "\n",
    "    # train for one epoch\n",
    "    train(train_loader, model, criterion, optimizer, epoch)\n",
    "\n",
    "    # evaluate on validation set\n",
    "    acc1, loss1 = validate(val_loader, model, criterion)\n",
    "\n",
    "    # remember best bestloss1 and save checkpoint\n",
    "    is_best = loss1 < best_loss1\n",
    "    best_loss1 = min(loss1, best_loss1)\n",
    "    save_checkpoint({\n",
    "                'epoch': epoch + 1,\n",
    "                'state_dict': model.state_dict(),\n",
    "                'best_loss1': best_loss1,\n",
    "                'optimizer': optimizer.state_dict(),\n",
    "            }, is_best)"
   ]
  },
  {
   "cell_type": "markdown",
   "source": [
    "#### Show evaluation examples"
   ],
   "metadata": {
    "id": "Xvgbp62jQ2ib",
    "pycharm": {
     "name": "#%% md\n"
    }
   },
   "id": "Xvgbp62jQ2ib"
  },
  {
   "cell_type": "code",
   "execution_count": null,
   "id": "8b5404b1",
   "metadata": {
    "colab": {
     "base_uri": "https://localhost:8080/",
     "height": 645
    },
    "id": "8b5404b1",
    "outputId": "81c4fd09-cf5c-4346-8c3d-27de55e2dbb3",
    "pycharm": {
     "name": "#%%\n"
    }
   },
   "outputs": [
    {
     "output_type": "display_data",
     "data": {
      "text/plain": [
       "<Figure size 576x576 with 9 Axes>"
      ],
      "image/svg+xml": "<?xml version=\"1.0\" encoding=\"utf-8\" standalone=\"no\"?>\n<!DOCTYPE svg PUBLIC \"-//W3C//DTD SVG 1.1//EN\"\n  \"http://www.w3.org/Graphics/SVG/1.1/DTD/svg11.dtd\">\n<!-- Created with matplotlib (https://matplotlib.org/) -->\n<svg height=\"467.898125pt\" version=\"1.1\" viewBox=\"0 0 460.911765 467.898125\" width=\"460.911765pt\" xmlns=\"http://www.w3.org/2000/svg\" xmlns:xlink=\"http://www.w3.org/1999/xlink\">\n <defs>\n  <style type=\"text/css\">\n*{stroke-linecap:butt;stroke-linejoin:round;}\n  </style>\n </defs>\n <g id=\"figure_1\">\n  <g id=\"patch_1\">\n   <path d=\"M 0 467.898125 \nL 460.911765 467.898125 \nL 460.911765 0 \nL 0 0 \nz\n\" style=\"fill:none;\"/>\n  </g>\n  <g id=\"axes_1\">\n   <g id=\"patch_2\">\n    <path d=\"M 10.7 150.224007 \nL 138.605882 150.224007 \nL 138.605882 22.318125 \nL 10.7 22.318125 \nz\n\" style=\"fill:#ffffff;\"/>\n   </g>\n   <g clip-path=\"url(#p5488f2f253)\">\n    <image height=\"128\" id=\"imagef2c016851a\" transform=\"scale(1 -1)translate(0 -128)\" width=\"128\" x=\"10.7\" xlink:href=\"data:image/png;base64,\niVBORw0KGgoAAAANSUhEUgAAAIAAAACACAYAAADDPmHLAAAABHNCSVQICAgIfAhkiAAAAxZJREFUeJzt3b9rE1EAwPH8aBUExRBB7CYdLEKtDlUE3fIHKHTTah10qKuDs+ifIAhOIurkWCi6CA6VdpCAWEStkyg6BESobZrE+XgnLfFyr7nv97O9R5J7w5eXB+ldy43yTK8krErsBSguA4AzADgDgDMAOAOAMwA4A4AzADgDgDMAOAOAMwA4A4AzADgDgDMAuJHYCxik1tzZxHjp3v0dve/Ys/nEePzWm8zWtNu4A8AZAJwBwBkAXGEOgesXTgdz87efR1jJv609PRnMjV99H8z12pt5LKdUKrkD4BkAnAHAFeYM8PtINZib3f+9r8+qN8v/u5xUN6deBXOLlcMDudZOuQPAGQCcAcAZAFxhDoFZqr/4nBh3Iq0jD+4AcAYAZwBwBgCHOgRWy2HvnV43wkp2D3cAOAOAMwA41Bkg7ft+o7cVvrDLeXamOwCcAcAZAJwBwKEOgWnOrMwFc2M/wz/VLip3ADgDgDMAOPwZ4OHU42DuTq2RGHdarUyu9eRLePtavbOWyWf3yx0AzgDgDADOAODwh8DpvSn3Ae4ZHci1Lh1dDuYWqyn3Bm6l/EI5IO4AcAYAZwBwBgBnAHAGAGcAcAYAZwBwBgBnAHAGAGcAcAYAZwBwBgBnAHD4vwha2Uh5FsBmO/+FROIOAGcAcAYAZwBwhTkEHrj4ra/3XW/OBnNjLZ8PIAgDgDMAuMKcAY7X+vsXcXn6ulELJyM/lNIdAM4A4AwAzgDghvYQWDkxkRjfOPQo5VXb3+c/8vJgRiva3rtrE8Fcr72a2/XTuAPAGQCcAcAN7RmgXd+XGE/2+Vyf2qfNLJazI91m3O/7NO4AcAYAZwBwBgCX6yGwe/5UMFd5/Ta36//q/gnmquud3K6/G7kDwBkAnAHAGQBcrofAPA98ae7+OBfMxV5TbO4AcAYAZwBwQ/tr4Ojyh8R4culK8JqF6QeJ8erl8ZRP+pjlsoaOOwCcAcAZAJwBwJUb5Zm4N6cpKncAOAOAMwA4A4AzADgDgDMAOAOAMwA4A4AzADgDgDMAOAOAMwA4A4AzALi/Hs9k7CZnTfEAAAAASUVORK5CYII=\" y=\"-22.224007\"/>\n   </g>\n   <g id=\"matplotlib.axis_1\"/>\n   <g id=\"matplotlib.axis_2\"/>\n   <g id=\"patch_3\">\n    <path d=\"M 10.7 150.224007 \nL 10.7 22.318125 \n\" style=\"fill:none;stroke:#000000;stroke-linecap:square;stroke-linejoin:miter;stroke-width:0.8;\"/>\n   </g>\n   <g id=\"patch_4\">\n    <path d=\"M 138.605882 150.224007 \nL 138.605882 22.318125 \n\" style=\"fill:none;stroke:#000000;stroke-linecap:square;stroke-linejoin:miter;stroke-width:0.8;\"/>\n   </g>\n   <g id=\"patch_5\">\n    <path d=\"M 10.7 150.224007 \nL 138.605882 150.224007 \n\" style=\"fill:none;stroke:#000000;stroke-linecap:square;stroke-linejoin:miter;stroke-width:0.8;\"/>\n   </g>\n   <g id=\"patch_6\">\n    <path d=\"M 10.7 22.318125 \nL 138.605882 22.318125 \n\" style=\"fill:none;stroke:#000000;stroke-linecap:square;stroke-linejoin:miter;stroke-width:0.8;\"/>\n   </g>\n   <g id=\"text_1\">\n    <!-- label = 1 pred = 1 -->\n    <defs>\n     <path d=\"M 9.421875 75.984375 \nL 18.40625 75.984375 \nL 18.40625 0 \nL 9.421875 0 \nz\n\" id=\"DejaVuSans-108\"/>\n     <path d=\"M 34.28125 27.484375 \nQ 23.390625 27.484375 19.1875 25 \nQ 14.984375 22.515625 14.984375 16.5 \nQ 14.984375 11.71875 18.140625 8.90625 \nQ 21.296875 6.109375 26.703125 6.109375 \nQ 34.1875 6.109375 38.703125 11.40625 \nQ 43.21875 16.703125 43.21875 25.484375 \nL 43.21875 27.484375 \nz\nM 52.203125 31.203125 \nL 52.203125 0 \nL 43.21875 0 \nL 43.21875 8.296875 \nQ 40.140625 3.328125 35.546875 0.953125 \nQ 30.953125 -1.421875 24.3125 -1.421875 \nQ 15.921875 -1.421875 10.953125 3.296875 \nQ 6 8.015625 6 15.921875 \nQ 6 25.140625 12.171875 29.828125 \nQ 18.359375 34.515625 30.609375 34.515625 \nL 43.21875 34.515625 \nL 43.21875 35.40625 \nQ 43.21875 41.609375 39.140625 45 \nQ 35.0625 48.390625 27.6875 48.390625 \nQ 23 48.390625 18.546875 47.265625 \nQ 14.109375 46.140625 10.015625 43.890625 \nL 10.015625 52.203125 \nQ 14.9375 54.109375 19.578125 55.046875 \nQ 24.21875 56 28.609375 56 \nQ 40.484375 56 46.34375 49.84375 \nQ 52.203125 43.703125 52.203125 31.203125 \nz\n\" id=\"DejaVuSans-97\"/>\n     <path d=\"M 48.6875 27.296875 \nQ 48.6875 37.203125 44.609375 42.84375 \nQ 40.53125 48.484375 33.40625 48.484375 \nQ 26.265625 48.484375 22.1875 42.84375 \nQ 18.109375 37.203125 18.109375 27.296875 \nQ 18.109375 17.390625 22.1875 11.75 \nQ 26.265625 6.109375 33.40625 6.109375 \nQ 40.53125 6.109375 44.609375 11.75 \nQ 48.6875 17.390625 48.6875 27.296875 \nz\nM 18.109375 46.390625 \nQ 20.953125 51.265625 25.265625 53.625 \nQ 29.59375 56 35.59375 56 \nQ 45.5625 56 51.78125 48.09375 \nQ 58.015625 40.1875 58.015625 27.296875 \nQ 58.015625 14.40625 51.78125 6.484375 \nQ 45.5625 -1.421875 35.59375 -1.421875 \nQ 29.59375 -1.421875 25.265625 0.953125 \nQ 20.953125 3.328125 18.109375 8.203125 \nL 18.109375 0 \nL 9.078125 0 \nL 9.078125 75.984375 \nL 18.109375 75.984375 \nz\n\" id=\"DejaVuSans-98\"/>\n     <path d=\"M 56.203125 29.59375 \nL 56.203125 25.203125 \nL 14.890625 25.203125 \nQ 15.484375 15.921875 20.484375 11.0625 \nQ 25.484375 6.203125 34.421875 6.203125 \nQ 39.59375 6.203125 44.453125 7.46875 \nQ 49.3125 8.734375 54.109375 11.28125 \nL 54.109375 2.78125 \nQ 49.265625 0.734375 44.1875 -0.34375 \nQ 39.109375 -1.421875 33.890625 -1.421875 \nQ 20.796875 -1.421875 13.15625 6.1875 \nQ 5.515625 13.8125 5.515625 26.8125 \nQ 5.515625 40.234375 12.765625 48.109375 \nQ 20.015625 56 32.328125 56 \nQ 43.359375 56 49.78125 48.890625 \nQ 56.203125 41.796875 56.203125 29.59375 \nz\nM 47.21875 32.234375 \nQ 47.125 39.59375 43.09375 43.984375 \nQ 39.0625 48.390625 32.421875 48.390625 \nQ 24.90625 48.390625 20.390625 44.140625 \nQ 15.875 39.890625 15.1875 32.171875 \nz\n\" id=\"DejaVuSans-101\"/>\n     <path id=\"DejaVuSans-32\"/>\n     <path d=\"M 10.59375 45.40625 \nL 73.1875 45.40625 \nL 73.1875 37.203125 \nL 10.59375 37.203125 \nz\nM 10.59375 25.484375 \nL 73.1875 25.484375 \nL 73.1875 17.1875 \nL 10.59375 17.1875 \nz\n\" id=\"DejaVuSans-61\"/>\n     <path d=\"M 12.40625 8.296875 \nL 28.515625 8.296875 \nL 28.515625 63.921875 \nL 10.984375 60.40625 \nL 10.984375 69.390625 \nL 28.421875 72.90625 \nL 38.28125 72.90625 \nL 38.28125 8.296875 \nL 54.390625 8.296875 \nL 54.390625 0 \nL 12.40625 0 \nz\n\" id=\"DejaVuSans-49\"/>\n     <path d=\"M 18.109375 8.203125 \nL 18.109375 -20.796875 \nL 9.078125 -20.796875 \nL 9.078125 54.6875 \nL 18.109375 54.6875 \nL 18.109375 46.390625 \nQ 20.953125 51.265625 25.265625 53.625 \nQ 29.59375 56 35.59375 56 \nQ 45.5625 56 51.78125 48.09375 \nQ 58.015625 40.1875 58.015625 27.296875 \nQ 58.015625 14.40625 51.78125 6.484375 \nQ 45.5625 -1.421875 35.59375 -1.421875 \nQ 29.59375 -1.421875 25.265625 0.953125 \nQ 20.953125 3.328125 18.109375 8.203125 \nz\nM 48.6875 27.296875 \nQ 48.6875 37.203125 44.609375 42.84375 \nQ 40.53125 48.484375 33.40625 48.484375 \nQ 26.265625 48.484375 22.1875 42.84375 \nQ 18.109375 37.203125 18.109375 27.296875 \nQ 18.109375 17.390625 22.1875 11.75 \nQ 26.265625 6.109375 33.40625 6.109375 \nQ 40.53125 6.109375 44.609375 11.75 \nQ 48.6875 17.390625 48.6875 27.296875 \nz\n\" id=\"DejaVuSans-112\"/>\n     <path d=\"M 41.109375 46.296875 \nQ 39.59375 47.171875 37.8125 47.578125 \nQ 36.03125 48 33.890625 48 \nQ 26.265625 48 22.1875 43.046875 \nQ 18.109375 38.09375 18.109375 28.8125 \nL 18.109375 0 \nL 9.078125 0 \nL 9.078125 54.6875 \nL 18.109375 54.6875 \nL 18.109375 46.1875 \nQ 20.953125 51.171875 25.484375 53.578125 \nQ 30.03125 56 36.53125 56 \nQ 37.453125 56 38.578125 55.875 \nQ 39.703125 55.765625 41.0625 55.515625 \nz\n\" id=\"DejaVuSans-114\"/>\n     <path d=\"M 45.40625 46.390625 \nL 45.40625 75.984375 \nL 54.390625 75.984375 \nL 54.390625 0 \nL 45.40625 0 \nL 45.40625 8.203125 \nQ 42.578125 3.328125 38.25 0.953125 \nQ 33.9375 -1.421875 27.875 -1.421875 \nQ 17.96875 -1.421875 11.734375 6.484375 \nQ 5.515625 14.40625 5.515625 27.296875 \nQ 5.515625 40.1875 11.734375 48.09375 \nQ 17.96875 56 27.875 56 \nQ 33.9375 56 38.25 53.625 \nQ 42.578125 51.265625 45.40625 46.390625 \nz\nM 14.796875 27.296875 \nQ 14.796875 17.390625 18.875 11.75 \nQ 22.953125 6.109375 30.078125 6.109375 \nQ 37.203125 6.109375 41.296875 11.75 \nQ 45.40625 17.390625 45.40625 27.296875 \nQ 45.40625 37.203125 41.296875 42.84375 \nQ 37.203125 48.484375 30.078125 48.484375 \nQ 22.953125 48.484375 18.875 42.84375 \nQ 14.796875 37.203125 14.796875 27.296875 \nz\n\" id=\"DejaVuSans-100\"/>\n    </defs>\n    <g transform=\"translate(19.274816 16.318125)scale(0.12 -0.12)\">\n     <use xlink:href=\"#DejaVuSans-108\"/>\n     <use x=\"27.783203\" xlink:href=\"#DejaVuSans-97\"/>\n     <use x=\"89.0625\" xlink:href=\"#DejaVuSans-98\"/>\n     <use x=\"152.539062\" xlink:href=\"#DejaVuSans-101\"/>\n     <use x=\"214.0625\" xlink:href=\"#DejaVuSans-108\"/>\n     <use x=\"241.845703\" xlink:href=\"#DejaVuSans-32\"/>\n     <use x=\"273.632812\" xlink:href=\"#DejaVuSans-61\"/>\n     <use x=\"357.421875\" xlink:href=\"#DejaVuSans-32\"/>\n     <use x=\"389.208984\" xlink:href=\"#DejaVuSans-49\"/>\n     <use x=\"452.832031\" xlink:href=\"#DejaVuSans-32\"/>\n     <use x=\"484.619141\" xlink:href=\"#DejaVuSans-112\"/>\n     <use x=\"548.095703\" xlink:href=\"#DejaVuSans-114\"/>\n     <use x=\"586.958984\" xlink:href=\"#DejaVuSans-101\"/>\n     <use x=\"648.482422\" xlink:href=\"#DejaVuSans-100\"/>\n     <use x=\"711.958984\" xlink:href=\"#DejaVuSans-32\"/>\n     <use x=\"743.746094\" xlink:href=\"#DejaVuSans-61\"/>\n     <use x=\"827.535156\" xlink:href=\"#DejaVuSans-32\"/>\n     <use x=\"859.322266\" xlink:href=\"#DejaVuSans-49\"/>\n    </g>\n   </g>\n  </g>\n  <g id=\"axes_2\">\n   <g id=\"patch_7\">\n    <path d=\"M 168.252941 150.224007 \nL 296.158824 150.224007 \nL 296.158824 22.318125 \nL 168.252941 22.318125 \nz\n\" style=\"fill:#ffffff;\"/>\n   </g>\n   <g clip-path=\"url(#p75fedeb7ca)\">\n    <image height=\"128\" id=\"image4f1b756c34\" transform=\"scale(1 -1)translate(0 -128)\" width=\"128\" x=\"168.252941\" xlink:href=\"data:image/png;base64,\niVBORw0KGgoAAAANSUhEUgAAAIAAAACACAYAAADDPmHLAAAABHNCSVQICAgIfAhkiAAABF9JREFUeJztnUtIVGEUx+fOOJnSmDWlKAVpD9z0kBahERoJURiZBC0iahX0gKKgokUQoRAULVQMF0EEFRXYIoaKnmCGQfTYaEmSOJpvLMOYmrm2PnOsuTPeuaP8/7/dOXz3zmH4cebjft/9xqgwdk+6CCzuVBdAUgsFAIcCgEMBwElLdQGpZmxficrtOf1IxEcWfIp5n+rSapULd/ckXphDsAOAQwHAoQDgwM8BBjdGVM7Kb/7RYLmIzdExu0pyFHYAcCgAOBQAHAoADvwkMCOY2FcwEsqUiT/jNlTjPOwA4FAAcCgAOPBzAF93Yhuibi0PiLg6Vy8GmVwMIjMdCgAOBQCHAoADPwn0B/TKX+OZlSI+kv0l9o0Mw66SHIUdABwKAA4FAAd+DhAZGVW5+vebRXyovDP2jSZn5xt27ADgUABwKAA4FAAc+EngVBRcjUqUx77mT/5ClTO4GkhmOhQAHAoADgUAh5NAm+jcn65yq16noJA4YQcAhwKAQwHAMXhQpMbt84l4+bPfaszl/BYRt4W8akxN4Tp7C0sC7ADgUABwKAA4FAAcPgiaAnNcvuvf1qgPk3RfaBVxSbo+bCp4tlTES2pb1ZhUww4ADgUAhwKAwzmABRa36a3jz3/NFXFZxoQaE/KbSavJLtgBwKEA4FAAcCgAOFwNTJDOhg0ibq+qV2M+RC0ini+pVGPC/QO21hUv7ADgUABwKAA4SX0Q5F5TJGJvnbV/1fh1Lk/e5+U722qyi6IrgyJu364f+hTPkV/v5xOFakzhKc4BSAqhAOBQAHAoADhJfRBkbioW8YPbTZauq+yQJ2+7t8z89+z9rxao3PVlT0RcO7xajWldOydpNVmBHQAcCgAOBQCHAoDj6JYwt0XfAkX3RVzpWp+Mcmyl59IqlfM2PBfxcf9bNeZp1TGVy7j/xr7CYsAOAA4FAIcCgOPoHMB0JbZN2pM9X+UiY9+nW46tZDa3qVzB1oMi7tjRoMYcvnhX5W58LBNxuOvr9Ir7D+wA4FAAcCgAOBQAnFnxbmDuQz157D0Z/wFM3m96S1o4J0vl0nrlu4DhnmDcn+VyuVwL33lkYoces2veoMpdy8sWsdGV0Mdbgh0AHAoADgUAZ1bMAZqWvlA5886zuO/T/DNH5Soy9e/7vXG5sBMY0jt5rHA672ZC1zkJOwA4FAAcCgAOBQBnVkwCrbC3a5vKdQzlxryuxtC74r2P5epjmj7/yTWx80fMe/ctit4qPhzzGqdhBwCHAoBDAcBJ6qthnhUFIj4Q0A9vgr/9KlfXUiHinFceNWZRS5+IzYEhNcacmOLH20E8fvl3skaW7x8jJZG+fhFPhkK21RQNOwA4FAAcCgAOBQCHB0WCww4ADgUAhwKAQwHAoQDgUABwKAA4FAAcCgAOBQCHAoBDAcChAOBQAHAoADgUABwKAA4FAIcCgEMBwKEA4FAAcCgAOBQAHAoADgUAhwKAQwHAoQDgUABwKAA4fwGlV8EbioJd+wAAAABJRU5ErkJggg==\" y=\"-22.224007\"/>\n   </g>\n   <g id=\"matplotlib.axis_3\"/>\n   <g id=\"matplotlib.axis_4\"/>\n   <g id=\"patch_8\">\n    <path d=\"M 168.252941 150.224007 \nL 168.252941 22.318125 \n\" style=\"fill:none;stroke:#000000;stroke-linecap:square;stroke-linejoin:miter;stroke-width:0.8;\"/>\n   </g>\n   <g id=\"patch_9\">\n    <path d=\"M 296.158824 150.224007 \nL 296.158824 22.318125 \n\" style=\"fill:none;stroke:#000000;stroke-linecap:square;stroke-linejoin:miter;stroke-width:0.8;\"/>\n   </g>\n   <g id=\"patch_10\">\n    <path d=\"M 168.252941 150.224007 \nL 296.158824 150.224007 \n\" style=\"fill:none;stroke:#000000;stroke-linecap:square;stroke-linejoin:miter;stroke-width:0.8;\"/>\n   </g>\n   <g id=\"patch_11\">\n    <path d=\"M 168.252941 22.318125 \nL 296.158824 22.318125 \n\" style=\"fill:none;stroke:#000000;stroke-linecap:square;stroke-linejoin:miter;stroke-width:0.8;\"/>\n   </g>\n   <g id=\"text_2\">\n    <!-- label = 7 pred = 7 -->\n    <defs>\n     <path d=\"M 8.203125 72.90625 \nL 55.078125 72.90625 \nL 55.078125 68.703125 \nL 28.609375 0 \nL 18.3125 0 \nL 43.21875 64.59375 \nL 8.203125 64.59375 \nz\n\" id=\"DejaVuSans-55\"/>\n    </defs>\n    <g transform=\"translate(176.827757 16.318125)scale(0.12 -0.12)\">\n     <use xlink:href=\"#DejaVuSans-108\"/>\n     <use x=\"27.783203\" xlink:href=\"#DejaVuSans-97\"/>\n     <use x=\"89.0625\" xlink:href=\"#DejaVuSans-98\"/>\n     <use x=\"152.539062\" xlink:href=\"#DejaVuSans-101\"/>\n     <use x=\"214.0625\" xlink:href=\"#DejaVuSans-108\"/>\n     <use x=\"241.845703\" xlink:href=\"#DejaVuSans-32\"/>\n     <use x=\"273.632812\" xlink:href=\"#DejaVuSans-61\"/>\n     <use x=\"357.421875\" xlink:href=\"#DejaVuSans-32\"/>\n     <use x=\"389.208984\" xlink:href=\"#DejaVuSans-55\"/>\n     <use x=\"452.832031\" xlink:href=\"#DejaVuSans-32\"/>\n     <use x=\"484.619141\" xlink:href=\"#DejaVuSans-112\"/>\n     <use x=\"548.095703\" xlink:href=\"#DejaVuSans-114\"/>\n     <use x=\"586.958984\" xlink:href=\"#DejaVuSans-101\"/>\n     <use x=\"648.482422\" xlink:href=\"#DejaVuSans-100\"/>\n     <use x=\"711.958984\" xlink:href=\"#DejaVuSans-32\"/>\n     <use x=\"743.746094\" xlink:href=\"#DejaVuSans-61\"/>\n     <use x=\"827.535156\" xlink:href=\"#DejaVuSans-32\"/>\n     <use x=\"859.322266\" xlink:href=\"#DejaVuSans-55\"/>\n    </g>\n   </g>\n  </g>\n  <g id=\"axes_3\">\n   <g id=\"patch_12\">\n    <path d=\"M 325.805882 150.224007 \nL 453.711765 150.224007 \nL 453.711765 22.318125 \nL 325.805882 22.318125 \nz\n\" style=\"fill:#ffffff;\"/>\n   </g>\n   <g clip-path=\"url(#pf902a213ab)\">\n    <image height=\"128\" id=\"imagee221527562\" transform=\"scale(1 -1)translate(0 -128)\" width=\"128\" x=\"325.805882\" xlink:href=\"data:image/png;base64,\niVBORw0KGgoAAAANSUhEUgAAAIAAAACACAYAAADDPmHLAAAABHNCSVQICAgIfAhkiAAABJVJREFUeJztnUtsTGEUx+fRqmhVqoh60460iUYQ1CMIEykJWkSwq1hISJBoQrqxsJB4tV61UGEjEZIuhJAIuqBauyaoNGi1YVh4tGgnnYf1mXOT217f7Zj5/3+7c3Ly3a/Jz3Fy73fveIPe7XEPgcWX7A2Q5EIBwKEA4FAAcCgAOBQAHAoADgUAhwKAQwHAoQDgUABwKAA4FAAcCgAOBQCHAoCT4ebifTvLRPx184CqebO6wc0tCIpv79e5us8qF/nQNRLb+S9gBwCHAoBDAcChAOB4TR0Lf3dqmcrd33FaxLMzRpu4lGN8Hq/KvQzrP//Yu60iDl8tUDV5LZ9EHOn8+I+7Sw7sAOBQAHAoADjGZoDIoxkq96Ck0cTSxsj0+lVuMB51tNbR0GIRt2+dqmoiXd2O1h5J2AHAoQDgUABwKAA4xp4GZlaPVbnGW+NFXJn9zdTlHBGNx4ytdXLySxGXXSxSNRO2JAydMWcDp5uwA4BDAcChAOBQAHCM3Qm0wje/RMShFXmqZjD4U+WCM9+KeG3ua1WzYUzf8Pdj8TQw5nHvG1nzrh8Q8ayaZteu5RR2AHAoADgUABxXZwBT+ANzVK6/MN+163Xtkjds2tZdVjVZ3kzbdXoi/SLeN3Plv23MBdgBwKEA4FAAcCgAOK6+G2iKaMd7lRtlkTNF4IGMuzv1U8Qi+xnQMyUjS8ShQ8tVzeTa58Pam2nYAcChAOBQAHBS4kZQsvm9banKPTmvbw7ZcfZbsco9Ls12tCdTsAOAQwHAoQDgUABwUuJGkCnCGxer3Jcq/eGq3Ls5Is5/HnJtT8mGHQAcCgAOBQAHagZoqD+ncrMyxujChGc29/7kqBKrE8Z2+LzmXk0zBTsAOBQAHAoADgUAJ62HwOiahTL2PFM1Q3k1zOo1tKGMc7GEqvqmoKoJeFqGsJJ7sAOAQwHAoQDgUABwoI6EddfoY9nX99ap3IJRZv5d8N1A8t9DAcChAOBAzQBWDGxaonJFNfKbRFemNzla+2dMnjYqP35E1eQ3JPe7QewA4FAAcCgAOBQAHPgh0Apvlnyvv+PkAlXTvP2MiPN89j+J1xrWx8hOVOxWuVhbu+1apmAHAIcCgEMBwEnrE0FOiYfDIi46/ELVlBfuEXHLopu26y7J0uNWX2CcymW32S5lDHYAcCgAOBQAHAoATtoMgVYfcvozSfo9sd7ckzd/o/xJPM8iY0uPKOwA4FAAcCgAOCk7A4QOyhO+T4+cVjU5PvlQp7VaP4ypaqlSuXiXxTcDEohN1d8WSkXYAcChAOBQAHAoADgpOwT2FkdEnDjwWVFmUfJq1TVTW7Lle0wPjpm/ohaVIwc7ADgUABwKAA4FACdlh8CSCz9EXB6oVDU35spjWgV++zt8JgnHB0UcrK1WNQUP+bNxJIlQAHAoADhp/WqYvyQg4p4NE1VN7nr9ayBNpXeGfa2G3mkqV3+xQsSTLiX3/3sr2AHAoQDgUABwKAA4aT0EEnvYAcChAOBQAHAoADgUABwKAA4FAIcCgEMBwKEA4FAAcCgAOBQAHAoADgUAhwKAQwHA+QtFLM7zVVszWgAAAABJRU5ErkJggg==\" y=\"-22.224007\"/>\n   </g>\n   <g id=\"matplotlib.axis_5\"/>\n   <g id=\"matplotlib.axis_6\"/>\n   <g id=\"patch_13\">\n    <path d=\"M 325.805882 150.224007 \nL 325.805882 22.318125 \n\" style=\"fill:none;stroke:#000000;stroke-linecap:square;stroke-linejoin:miter;stroke-width:0.8;\"/>\n   </g>\n   <g id=\"patch_14\">\n    <path d=\"M 453.711765 150.224007 \nL 453.711765 22.318125 \n\" style=\"fill:none;stroke:#000000;stroke-linecap:square;stroke-linejoin:miter;stroke-width:0.8;\"/>\n   </g>\n   <g id=\"patch_15\">\n    <path d=\"M 325.805882 150.224007 \nL 453.711765 150.224007 \n\" style=\"fill:none;stroke:#000000;stroke-linecap:square;stroke-linejoin:miter;stroke-width:0.8;\"/>\n   </g>\n   <g id=\"patch_16\">\n    <path d=\"M 325.805882 22.318125 \nL 453.711765 22.318125 \n\" style=\"fill:none;stroke:#000000;stroke-linecap:square;stroke-linejoin:miter;stroke-width:0.8;\"/>\n   </g>\n   <g id=\"text_3\">\n    <!-- label = 3 pred = 3 -->\n    <defs>\n     <path d=\"M 40.578125 39.3125 \nQ 47.65625 37.796875 51.625 33 \nQ 55.609375 28.21875 55.609375 21.1875 \nQ 55.609375 10.40625 48.1875 4.484375 \nQ 40.765625 -1.421875 27.09375 -1.421875 \nQ 22.515625 -1.421875 17.65625 -0.515625 \nQ 12.796875 0.390625 7.625 2.203125 \nL 7.625 11.71875 \nQ 11.71875 9.328125 16.59375 8.109375 \nQ 21.484375 6.890625 26.8125 6.890625 \nQ 36.078125 6.890625 40.9375 10.546875 \nQ 45.796875 14.203125 45.796875 21.1875 \nQ 45.796875 27.640625 41.28125 31.265625 \nQ 36.765625 34.90625 28.71875 34.90625 \nL 20.21875 34.90625 \nL 20.21875 43.015625 \nL 29.109375 43.015625 \nQ 36.375 43.015625 40.234375 45.921875 \nQ 44.09375 48.828125 44.09375 54.296875 \nQ 44.09375 59.90625 40.109375 62.90625 \nQ 36.140625 65.921875 28.71875 65.921875 \nQ 24.65625 65.921875 20.015625 65.03125 \nQ 15.375 64.15625 9.8125 62.3125 \nL 9.8125 71.09375 \nQ 15.4375 72.65625 20.34375 73.4375 \nQ 25.25 74.21875 29.59375 74.21875 \nQ 40.828125 74.21875 47.359375 69.109375 \nQ 53.90625 64.015625 53.90625 55.328125 \nQ 53.90625 49.265625 50.4375 45.09375 \nQ 46.96875 40.921875 40.578125 39.3125 \nz\n\" id=\"DejaVuSans-51\"/>\n    </defs>\n    <g transform=\"translate(334.380699 16.318125)scale(0.12 -0.12)\">\n     <use xlink:href=\"#DejaVuSans-108\"/>\n     <use x=\"27.783203\" xlink:href=\"#DejaVuSans-97\"/>\n     <use x=\"89.0625\" xlink:href=\"#DejaVuSans-98\"/>\n     <use x=\"152.539062\" xlink:href=\"#DejaVuSans-101\"/>\n     <use x=\"214.0625\" xlink:href=\"#DejaVuSans-108\"/>\n     <use x=\"241.845703\" xlink:href=\"#DejaVuSans-32\"/>\n     <use x=\"273.632812\" xlink:href=\"#DejaVuSans-61\"/>\n     <use x=\"357.421875\" xlink:href=\"#DejaVuSans-32\"/>\n     <use x=\"389.208984\" xlink:href=\"#DejaVuSans-51\"/>\n     <use x=\"452.832031\" xlink:href=\"#DejaVuSans-32\"/>\n     <use x=\"484.619141\" xlink:href=\"#DejaVuSans-112\"/>\n     <use x=\"548.095703\" xlink:href=\"#DejaVuSans-114\"/>\n     <use x=\"586.958984\" xlink:href=\"#DejaVuSans-101\"/>\n     <use x=\"648.482422\" xlink:href=\"#DejaVuSans-100\"/>\n     <use x=\"711.958984\" xlink:href=\"#DejaVuSans-32\"/>\n     <use x=\"743.746094\" xlink:href=\"#DejaVuSans-61\"/>\n     <use x=\"827.535156\" xlink:href=\"#DejaVuSans-32\"/>\n     <use x=\"859.322266\" xlink:href=\"#DejaVuSans-51\"/>\n    </g>\n   </g>\n  </g>\n  <g id=\"axes_4\">\n   <g id=\"patch_17\">\n    <path d=\"M 10.7 303.711066 \nL 138.605882 303.711066 \nL 138.605882 175.805184 \nL 10.7 175.805184 \nz\n\" style=\"fill:#ffffff;\"/>\n   </g>\n   <g clip-path=\"url(#p1939890caf)\">\n    <image height=\"128\" id=\"image784861c588\" transform=\"scale(1 -1)translate(0 -128)\" width=\"128\" x=\"10.7\" xlink:href=\"data:image/png;base64,\niVBORw0KGgoAAAANSUhEUgAAAIAAAACACAYAAADDPmHLAAAABHNCSVQICAgIfAhkiAAABXFJREFUeJztnX1oVWUcx8+5926uN1/W8GVXneBaM4gcUtQcDULFAgMhBPGFrg1SSYNo+yMkXBiFIZWrQVb0SlSGrjeRUS5bZiTOjTDbrLEYrZdrNldN59nu7e/f+T1wj5fTznP5fj///R5+95xnl8/97cdznvtcd5l7X9YhsMSingCJFgoADgUAhwKAQwHAoQDgUABwKAA4FAAcCgAOBQCHAoBDAcBJRD2BsBhqrFVj49fIeM3qoyrnsbJuNRbzfS4yTibn/c9c1jmPbtoi4nhHV87rTDasAOBQAHAoADhuoe4IOvv6EhGfWvaCyilx82tx8ukBTPj7gsaNm/W9Ok/lde2wYAUAhwKAQwHAoQDgWLkQlKiYJ+K5+8+pnE+S+0ScCfCnXMhcVmNP/HaXGou5snnLZPXnZPvMIyKuSBSrnEXF8nU/btBzrOo0z3WyYAUAhwKAQwHAsbIH8JKlIt6bPGDIku4evXi1ytj2boOIp/fqq0x/6/gVz89xHGfvCdk77Cn/Kq/rRA0rADgUABwKAA4FAMfKJnBkx78i9j+dcxzHKXLjIn7u7lUqZ8HZ/Bo8P5n6GjW2uvRNEZvm6GfeITeU+YQJKwA4FAAcCgAOBQDHyiYwk5XNkmlLljeJG9l+SunPSV3JJRGbNo2lBlaI+Kq2b8OcViiwAoBDAcChAOBY2QP8dbpMDizO/Zq+ndPU2MJ1+d0/yJZz/1vXcfFalTF8r30LP35YAcChAOBQAHAoADhWNoE3vJqWAwGaucXzB9XY6IwZIs6Ojamc3t0367HlrSI2bTnv9zwRN7U+oHLm/Pm1ebIWwQoADgUAhwKAY+X5APGpU0XsHdSLPIeq20RsemC00ndGT9Hfnsr5eP8raizI+QBLWh4WcfJp+//fm2AFAIcCgEMBwKEA4Fi5EDQxMiLisZZqlVPUKreFm3YIDW/9R8Rbqr5UOUG2nDen9WJRxftDIh7Xty8IWAHAoQDgUABwrFwICsLPzfJw6J6G50O7dvMfckdQ94pZKmcinVZjhQgrADgUABwKAA4FAMfKhaCo+fSNOhHPThfmk74gsAKAQwHAoQDgUABwCrYJHJurT/4Oi2S7PJ184n+7U/SwAoBDAcChAOBY2QO4CTmtwabbVE7fyhYR5/fDbmb6dsiTxys36rcpO16oe4AkrADgUABwKAA4FAAcK7eExW+sFPGHR95TOf6t215WL9dUHX5QxLER3cz9sObFnNeu/OJ+fe1doyKe+L5P5RQCrADgUABwKAA4Vi4E/bp8poiDHBa978IClbNoj/yKmen/9NKeh9TYsSflwZCn61/Wk6yXYXX7ZpVSlTqpX2cZrADgUABwKAA4FACcyBeCEslyNVbRdl7Ez5Z3qhz/9/pv71qrcspW5bc48/s2+b3Djxp3q5xZ8SkivpTVTwc/G5XfKXzqGX3i5XWD+nXFh08EmmcYsAKAQwHAoQDgRN4DZJfqnwPZ9bZceLmlWL/O3wOc1OdAO6+dq9ODAYi78i3ZOftzlTMtZphUDkznEZnm/fi6TSJ2j/dc8b2CwgoADgUAhwKAQwHAifxpoHusW42t/6ZBxN/dqU/09lMzRT8xrEnqgyH99Hp6J9H67pSIB8p0w/fO+TtE3PnSrTnv5d0zrMY2VOqfk82UyB1JcZURHqwA4FAAcCgAOBQAnMhXAk3Ery8Vcf92fVr4nNpfRNx+04Gc1z3j6Z+MeSS1Vd+/o0vEQ021Kmf+B77TwvsHct7fRlgBwKEA4FAAcKzsAcjkwQoADgUAhwKAQwHAoQDgUABwKAA4FAAcCgAOBQCHAoBDAcChAOBQAHAoADgUABwKAA4FAIcCgEMBwKEA4FAAcP4DTTgTLu79vUQAAAAASUVORK5CYII=\" y=\"-175.711066\"/>\n   </g>\n   <g id=\"matplotlib.axis_7\"/>\n   <g id=\"matplotlib.axis_8\"/>\n   <g id=\"patch_18\">\n    <path d=\"M 10.7 303.711066 \nL 10.7 175.805184 \n\" style=\"fill:none;stroke:#000000;stroke-linecap:square;stroke-linejoin:miter;stroke-width:0.8;\"/>\n   </g>\n   <g id=\"patch_19\">\n    <path d=\"M 138.605882 303.711066 \nL 138.605882 175.805184 \n\" style=\"fill:none;stroke:#000000;stroke-linecap:square;stroke-linejoin:miter;stroke-width:0.8;\"/>\n   </g>\n   <g id=\"patch_20\">\n    <path d=\"M 10.7 303.711066 \nL 138.605882 303.711066 \n\" style=\"fill:none;stroke:#000000;stroke-linecap:square;stroke-linejoin:miter;stroke-width:0.8;\"/>\n   </g>\n   <g id=\"patch_21\">\n    <path d=\"M 10.7 175.805184 \nL 138.605882 175.805184 \n\" style=\"fill:none;stroke:#000000;stroke-linecap:square;stroke-linejoin:miter;stroke-width:0.8;\"/>\n   </g>\n   <g id=\"text_4\">\n    <!-- label = 8 pred = 8 -->\n    <defs>\n     <path d=\"M 31.78125 34.625 \nQ 24.75 34.625 20.71875 30.859375 \nQ 16.703125 27.09375 16.703125 20.515625 \nQ 16.703125 13.921875 20.71875 10.15625 \nQ 24.75 6.390625 31.78125 6.390625 \nQ 38.8125 6.390625 42.859375 10.171875 \nQ 46.921875 13.96875 46.921875 20.515625 \nQ 46.921875 27.09375 42.890625 30.859375 \nQ 38.875 34.625 31.78125 34.625 \nz\nM 21.921875 38.8125 \nQ 15.578125 40.375 12.03125 44.71875 \nQ 8.5 49.078125 8.5 55.328125 \nQ 8.5 64.0625 14.71875 69.140625 \nQ 20.953125 74.21875 31.78125 74.21875 \nQ 42.671875 74.21875 48.875 69.140625 \nQ 55.078125 64.0625 55.078125 55.328125 \nQ 55.078125 49.078125 51.53125 44.71875 \nQ 48 40.375 41.703125 38.8125 \nQ 48.828125 37.15625 52.796875 32.3125 \nQ 56.78125 27.484375 56.78125 20.515625 \nQ 56.78125 9.90625 50.3125 4.234375 \nQ 43.84375 -1.421875 31.78125 -1.421875 \nQ 19.734375 -1.421875 13.25 4.234375 \nQ 6.78125 9.90625 6.78125 20.515625 \nQ 6.78125 27.484375 10.78125 32.3125 \nQ 14.796875 37.15625 21.921875 38.8125 \nz\nM 18.3125 54.390625 \nQ 18.3125 48.734375 21.84375 45.5625 \nQ 25.390625 42.390625 31.78125 42.390625 \nQ 38.140625 42.390625 41.71875 45.5625 \nQ 45.3125 48.734375 45.3125 54.390625 \nQ 45.3125 60.0625 41.71875 63.234375 \nQ 38.140625 66.40625 31.78125 66.40625 \nQ 25.390625 66.40625 21.84375 63.234375 \nQ 18.3125 60.0625 18.3125 54.390625 \nz\n\" id=\"DejaVuSans-56\"/>\n    </defs>\n    <g transform=\"translate(19.274816 169.805184)scale(0.12 -0.12)\">\n     <use xlink:href=\"#DejaVuSans-108\"/>\n     <use x=\"27.783203\" xlink:href=\"#DejaVuSans-97\"/>\n     <use x=\"89.0625\" xlink:href=\"#DejaVuSans-98\"/>\n     <use x=\"152.539062\" xlink:href=\"#DejaVuSans-101\"/>\n     <use x=\"214.0625\" xlink:href=\"#DejaVuSans-108\"/>\n     <use x=\"241.845703\" xlink:href=\"#DejaVuSans-32\"/>\n     <use x=\"273.632812\" xlink:href=\"#DejaVuSans-61\"/>\n     <use x=\"357.421875\" xlink:href=\"#DejaVuSans-32\"/>\n     <use x=\"389.208984\" xlink:href=\"#DejaVuSans-56\"/>\n     <use x=\"452.832031\" xlink:href=\"#DejaVuSans-32\"/>\n     <use x=\"484.619141\" xlink:href=\"#DejaVuSans-112\"/>\n     <use x=\"548.095703\" xlink:href=\"#DejaVuSans-114\"/>\n     <use x=\"586.958984\" xlink:href=\"#DejaVuSans-101\"/>\n     <use x=\"648.482422\" xlink:href=\"#DejaVuSans-100\"/>\n     <use x=\"711.958984\" xlink:href=\"#DejaVuSans-32\"/>\n     <use x=\"743.746094\" xlink:href=\"#DejaVuSans-61\"/>\n     <use x=\"827.535156\" xlink:href=\"#DejaVuSans-32\"/>\n     <use x=\"859.322266\" xlink:href=\"#DejaVuSans-56\"/>\n    </g>\n   </g>\n  </g>\n  <g id=\"axes_5\">\n   <g id=\"patch_22\">\n    <path d=\"M 168.252941 303.711066 \nL 296.158824 303.711066 \nL 296.158824 175.805184 \nL 168.252941 175.805184 \nz\n\" style=\"fill:#ffffff;\"/>\n   </g>\n   <g clip-path=\"url(#pc58aee210d)\">\n    <image height=\"128\" id=\"image77c2369135\" transform=\"scale(1 -1)translate(0 -128)\" width=\"128\" x=\"168.252941\" xlink:href=\"data:image/png;base64,\niVBORw0KGgoAAAANSUhEUgAAAIAAAACACAYAAADDPmHLAAAABHNCSVQICAgIfAhkiAAABKpJREFUeJztnUtIVGEUx2caR+1tWdk7sCwtelCI9thIQWWbgha9JM1elIukNq174iIoIowighYRpLQoKHrQS5RMKtMskKio7KWZlqV5Z1qfORPfKKN37v3/f7tzOPd+d/Gb42Hmu5/eZd61QQ+BZYDdD0DshQKAQwHAoQDgUABwKAA4FAAcCgAOBQCHAoBDAcChAOBQAHAoADgUABwKAA4FACfO7gfoT+ImTlC51rMJKlcxp9x4r6m3C0Q8Y89bVWM1t/Tg6eyBHQAcCgAOBQCHAoDjdfO28M6VmSJecqRK1Rwc8zwqa6Xe2qJy6UWNIrba2qKyVjRhBwCHAoBDAcBx9RdB7zd1izjc3/v6rt8qV/giT8RV8y4b12pYelrlVizaJeL469XG+/Q37ADgUABwKAA4FAAc1wyBPzZmq1xjTqmIa7v+qJriLUUqN/L5O5l4Zl5/1t3tKjc1Boe+UNgBwKEA4FAAcCgAOK4ZAr+u7DTWbH6Wr3Jj7tTowtGje7x+Qt3AHl8TC7ADgEMBwKEA4LhmBpg1qclYE182IqJ7fVk9LSRz03hNSrV5BolF2AHAoQDgUABwKAA4rhkCz6WWhckONl7nGzZM5QqKrxqv+2b9ErH/51/jNbEIOwA4FAAcCgCOa2aAY98WqtzhlFoRN8/Vb8H5N4xSud1J943r5TzeJuLxVbX/qYxt2AHAoQDgUABwKAA4rhkCL9UvULnQIbBxfamqiYT7eje5Z9LWTyK2enVn+2EHAIcCgEMBwHHNDDDjQLvKVSwKiHhxYmS+h/7Qc2jdTl3UHJ2zheyGHQAcCgAOBQCHAoDjmiEwHFYv/R4+IFHE73KHqprJ1V6ZCDrzvE12AHAoADgUABwKAI57Tgu/PVGlbmSYt3f3llWZuSLu/vCxz9bqS9gBwKEA4FAAcBz7RVDHmiwR30o/GabKL6K5j9aripGlQ1Su/MxxEY/wDVI1CRflq2DBbaFnCng81qtGlYs12AHAoQDgUABwKAA4jh0Ck/e8EXGC169q9jbNF/GEHc2qxvrcoHI5JftE/HT/KVVTPk0eHDVv+S5Vk8IhkMQ6FAAcCgCOY2eASCivka+LzRz0RdV05maq3PgL9SKuKtYvfmUn+kRcuOOaqrl6IrKDKe2EHQAcCgAOBQCHAoDj2B1BA++liPhK2g1V09T9U8StAe17Wdt8lXswR24Lb83TB1A9PCp/fewIdqmadSsKRByoe6lq7IYdABwKAA4FAMexXwR1BXzGmnFxcrfPuDA1VtD8GUi6UKlyDQfkjqAMf7yqaU8fLuLBdcal+h12AHAoADgUABwKAI5jh0ArR76KlXq+UNVkp70W8ZOP+vWxKSXh7t7zA6D8Xj2U/k6Wny/z/y/pf9gBwKEA4FAAcCgAOI4dAkNJy69RudBN4JM931VNJD+FejNnq9xYX4WIOwL618Dk2o4I7m4v7ADgUABwKAA4rpkB+hJfU4vK/Qk5GDLrWpGqmV75qM+eKVqwA4BDAcChAOBQAHAcuy2cRAd2AHAoADgUABwKAA4FAIcCgEMBwKEA4FAAcCgAOBQAHAoADgUAhwKAQwHAoQDgUABw/gEWitL+ma98ZwAAAABJRU5ErkJggg==\" y=\"-175.711066\"/>\n   </g>\n   <g id=\"matplotlib.axis_9\"/>\n   <g id=\"matplotlib.axis_10\"/>\n   <g id=\"patch_23\">\n    <path d=\"M 168.252941 303.711066 \nL 168.252941 175.805184 \n\" style=\"fill:none;stroke:#000000;stroke-linecap:square;stroke-linejoin:miter;stroke-width:0.8;\"/>\n   </g>\n   <g id=\"patch_24\">\n    <path d=\"M 296.158824 303.711066 \nL 296.158824 175.805184 \n\" style=\"fill:none;stroke:#000000;stroke-linecap:square;stroke-linejoin:miter;stroke-width:0.8;\"/>\n   </g>\n   <g id=\"patch_25\">\n    <path d=\"M 168.252941 303.711066 \nL 296.158824 303.711066 \n\" style=\"fill:none;stroke:#000000;stroke-linecap:square;stroke-linejoin:miter;stroke-width:0.8;\"/>\n   </g>\n   <g id=\"patch_26\">\n    <path d=\"M 168.252941 175.805184 \nL 296.158824 175.805184 \n\" style=\"fill:none;stroke:#000000;stroke-linecap:square;stroke-linejoin:miter;stroke-width:0.8;\"/>\n   </g>\n   <g id=\"text_5\">\n    <!-- label = 8 pred = 8 -->\n    <g transform=\"translate(176.827757 169.805184)scale(0.12 -0.12)\">\n     <use xlink:href=\"#DejaVuSans-108\"/>\n     <use x=\"27.783203\" xlink:href=\"#DejaVuSans-97\"/>\n     <use x=\"89.0625\" xlink:href=\"#DejaVuSans-98\"/>\n     <use x=\"152.539062\" xlink:href=\"#DejaVuSans-101\"/>\n     <use x=\"214.0625\" xlink:href=\"#DejaVuSans-108\"/>\n     <use x=\"241.845703\" xlink:href=\"#DejaVuSans-32\"/>\n     <use x=\"273.632812\" xlink:href=\"#DejaVuSans-61\"/>\n     <use x=\"357.421875\" xlink:href=\"#DejaVuSans-32\"/>\n     <use x=\"389.208984\" xlink:href=\"#DejaVuSans-56\"/>\n     <use x=\"452.832031\" xlink:href=\"#DejaVuSans-32\"/>\n     <use x=\"484.619141\" xlink:href=\"#DejaVuSans-112\"/>\n     <use x=\"548.095703\" xlink:href=\"#DejaVuSans-114\"/>\n     <use x=\"586.958984\" xlink:href=\"#DejaVuSans-101\"/>\n     <use x=\"648.482422\" xlink:href=\"#DejaVuSans-100\"/>\n     <use x=\"711.958984\" xlink:href=\"#DejaVuSans-32\"/>\n     <use x=\"743.746094\" xlink:href=\"#DejaVuSans-61\"/>\n     <use x=\"827.535156\" xlink:href=\"#DejaVuSans-32\"/>\n     <use x=\"859.322266\" xlink:href=\"#DejaVuSans-56\"/>\n    </g>\n   </g>\n  </g>\n  <g id=\"axes_6\">\n   <g id=\"patch_27\">\n    <path d=\"M 325.805882 303.711066 \nL 453.711765 303.711066 \nL 453.711765 175.805184 \nL 325.805882 175.805184 \nz\n\" style=\"fill:#ffffff;\"/>\n   </g>\n   <g clip-path=\"url(#pc0303b39e3)\">\n    <image height=\"128\" id=\"image371ca33a0d\" transform=\"scale(1 -1)translate(0 -128)\" width=\"128\" x=\"325.805882\" xlink:href=\"data:image/png;base64,\niVBORw0KGgoAAAANSUhEUgAAAIAAAACACAYAAADDPmHLAAAABHNCSVQICAgIfAhkiAAABANJREFUeJztnU1IVGEUhu+MWo2kZFJKpmnJSNqPRIkmhNEPCWFFUbkziiIZlxGtIggigiCYAkcCa1MbWymClRmVptbGdFFoToGU+BMhmYqOrc+cgVl0Z+6d+77P7hyOd87i4XD45pur66Dr1LJBYHFb3QCxFgoADgUAhwKAQwHAoQDgUABwKAA4yVY3YBae11kqV5/TKeK7tWdVzXL/p5j1lAhwAoBDAcChAOBQAHAcswRG4oBnXsQNNatVTX5/vLqxJ5wA4FAAcCgAOI7ZAX4vrIpe5P0T+0YSDE4AcCgAOBQAHAoAjmOWwNA9/W1gUkD6fXvXM1XTlF2pcos/x81rzOZwAoBDAcChAOC4nPzTsPw+j4j9OW9VTam/QeU23uqOWU92gxMAHAoADgUAhwKA45iDoEh0DBXLRIQlsOyYvhY+Hlgr4qWpaVP7shOcAOBQAHAoADgUABxHL4FF/jkRD1QtqZpAbpfK7fDJ08G8G849GeQEAIcCgEMBwHH0t4HhfGnco3LDRxtVrn5M3hIKlv2NWU9WwwkADgUAhwKAQwHAcfRBUDgbXmjfR47oBS/86tjxzSdVzeLXoGl9WQknADgUABwKAA7UQVAksnrSVe5h3isRe9svqRrvhQ8x6ymecAKAQwHAoQDgUABwoA6CItH7skQnz8klsLJ4WJVMuJNkIqRvGyUCnADgUABwKAA48DtAWlDn3IZLxI82daqa3Zd9Il5/PzFvDnMCgEMBwKEA4FAAcOC/DXSnpancytZUEbcUtquam5PbRNy9c4W5jcUJTgBwKAA4FAAcCgAO/ElgaGZG5YIt22XiapyasQBOAHAoADgUABz4HSASmYPzUWvOZ/SJuK3uiqrJaO4xradYwQkADgUAhwKAQwHASYglcPJihcqtGV4QcXLnR9M+L/xZtaOHVM2TgucinijX18Izmk1rKWZwAoBDAcChAODYcgeYOVMu4vfX/VH/puSxT+UKrplzEDPUVqRyIV+HKc+2Gk4AcCgAOBQAHAoAji2vhbtT5bXsojcLquZOdm/U57ybS4la8+DHfpXrH9wi4nW5v/SzS5+KeN/AaVWTXj0S9fOthhMAHAoADgUAx5YHQaHZWRF/rtI/3zq8V768MXhCu1xXIV/6vNUzpmqa8ltVLrVA/swr/H0BhmEYobA4pTFT1RgGdwBicygAOBQAHAoAji0PguLJfLX+V3LfauTSN3osoGoKu+pE7G34rmqWpqb/r7k4wAkADgUAhwKAQwHAgV8C0eEEAIcCgEMBwKEA4FAAcCgAOBQAHAoADgUAhwKAQwHAoQDgUABwKAA4FAAcCgAOBQCHAoBDAcChAOBQAHAoADgUABwKAA4FAIcCgPMPau6hPkhmkZQAAAAASUVORK5CYII=\" y=\"-175.711066\"/>\n   </g>\n   <g id=\"matplotlib.axis_11\"/>\n   <g id=\"matplotlib.axis_12\"/>\n   <g id=\"patch_28\">\n    <path d=\"M 325.805882 303.711066 \nL 325.805882 175.805184 \n\" style=\"fill:none;stroke:#000000;stroke-linecap:square;stroke-linejoin:miter;stroke-width:0.8;\"/>\n   </g>\n   <g id=\"patch_29\">\n    <path d=\"M 453.711765 303.711066 \nL 453.711765 175.805184 \n\" style=\"fill:none;stroke:#000000;stroke-linecap:square;stroke-linejoin:miter;stroke-width:0.8;\"/>\n   </g>\n   <g id=\"patch_30\">\n    <path d=\"M 325.805882 303.711066 \nL 453.711765 303.711066 \n\" style=\"fill:none;stroke:#000000;stroke-linecap:square;stroke-linejoin:miter;stroke-width:0.8;\"/>\n   </g>\n   <g id=\"patch_31\">\n    <path d=\"M 325.805882 175.805184 \nL 453.711765 175.805184 \n\" style=\"fill:none;stroke:#000000;stroke-linecap:square;stroke-linejoin:miter;stroke-width:0.8;\"/>\n   </g>\n   <g id=\"text_6\">\n    <!-- label = 7 pred = 7 -->\n    <g transform=\"translate(334.380699 169.805184)scale(0.12 -0.12)\">\n     <use xlink:href=\"#DejaVuSans-108\"/>\n     <use x=\"27.783203\" xlink:href=\"#DejaVuSans-97\"/>\n     <use x=\"89.0625\" xlink:href=\"#DejaVuSans-98\"/>\n     <use x=\"152.539062\" xlink:href=\"#DejaVuSans-101\"/>\n     <use x=\"214.0625\" xlink:href=\"#DejaVuSans-108\"/>\n     <use x=\"241.845703\" xlink:href=\"#DejaVuSans-32\"/>\n     <use x=\"273.632812\" xlink:href=\"#DejaVuSans-61\"/>\n     <use x=\"357.421875\" xlink:href=\"#DejaVuSans-32\"/>\n     <use x=\"389.208984\" xlink:href=\"#DejaVuSans-55\"/>\n     <use x=\"452.832031\" xlink:href=\"#DejaVuSans-32\"/>\n     <use x=\"484.619141\" xlink:href=\"#DejaVuSans-112\"/>\n     <use x=\"548.095703\" xlink:href=\"#DejaVuSans-114\"/>\n     <use x=\"586.958984\" xlink:href=\"#DejaVuSans-101\"/>\n     <use x=\"648.482422\" xlink:href=\"#DejaVuSans-100\"/>\n     <use x=\"711.958984\" xlink:href=\"#DejaVuSans-32\"/>\n     <use x=\"743.746094\" xlink:href=\"#DejaVuSans-61\"/>\n     <use x=\"827.535156\" xlink:href=\"#DejaVuSans-32\"/>\n     <use x=\"859.322266\" xlink:href=\"#DejaVuSans-55\"/>\n    </g>\n   </g>\n  </g>\n  <g id=\"axes_7\">\n   <g id=\"patch_32\">\n    <path d=\"M 10.7 457.198125 \nL 138.605882 457.198125 \nL 138.605882 329.292243 \nL 10.7 329.292243 \nz\n\" style=\"fill:#ffffff;\"/>\n   </g>\n   <g clip-path=\"url(#pc90432b576)\">\n    <image height=\"128\" id=\"image8a3183b404\" transform=\"scale(1 -1)translate(0 -128)\" width=\"128\" x=\"10.7\" xlink:href=\"data:image/png;base64,\niVBORw0KGgoAAAANSUhEUgAAAIAAAACACAYAAADDPmHLAAAABHNCSVQICAgIfAhkiAAABHZJREFUeJztnVlIlGEUhh0dMxxSbBMjbaykCyWiKDTIgjZLMYmKAkvaposkI1qsi7CNjCKJSrSCCIqIoEiUEitapAUplRZFxEpBWhAnrbR0nK6PZy4G+Wd93+fuPRzlXDwePr75/ce0xLTGGUJgCfX1AMS3UABwKAA4FAAcs68HcIV5qlXkiud3VM+c4nyRY8+/8ORIQQs3ADgUABwKAI5fngFCHA4Ru4b6VMvD/adFzq21qR5n/Qdj5wpCuAHAoQDgUABwKAA4fnkIHPzSIfLKor2q58mREpFbdkeonqQ8Y+cKRrgBwKEA4FAAcEyB+kSQraVN5GxLt+pZcGCnyNHXX3l0pkCEGwAcCgAOBQCHAoDjlxdB7lB0OVfk5QVnVc/sggaRP9dMVD2Ob9+NHSzA4AYAhwKAQwHACdiLoOEsf9+jagUxrSKnlOernoSj2E8TcwOAQwHAoQDgUABwguYQ2J81T9VKL5wT+YfDonpObNGPDYU+rTduMD+HGwAcCgAOBQCHAoATNIdAV/TcnyZy7czbqmfDp6Wq1rvkt8hD/f3GDuZHcAOAQwHAoQDgBOwTQe4wdqd8z0BZ5RTVczOxRtWSyrfJnPfW2MH8CG4AcCgAOBQAHAoATlBfBA2nL0d/YnjozDVVSxttF3l91lbVM9Tw0bjBfAg3ADgUABwKAA7UGcAVrSWpqtayrlTkbR0LVU9naq/HZvIm3ADgUABwKAA4FACcoP400B2m3/qjak+yw0U+GPdA9WxdvUfkyDuvjR3MS3ADgEMBwKEA4MBfBLmirThN5OaNF1XPh4F/Iu+z6gulQIAbABwKAA4FAIcCgAN/EeQKa6X8mrrjK1JUT+H4RpHbD89XPQnHXsqC0//O29wA4FAAcCgAOBQAHN4EuoF9U5qqvTipbweHs2zjdpHNj98YNpNRcAOAQwHAoQDgePUiKGz8OFUbW+FQtc2xz0Xe1bBe9VgqouTvcfG28NC2TpEd3fqr5dwh5pZ+P8D0dJvIrSsuqR5HYZfIo+rGqJ6hXt8+Xs4NAA4FAIcCgEMBwPHqRdC/jLmqVnVFX6hEmIw5m5baE0Uuu5GpeiY0Dqja6Gr5tnDn4KDqCYuSh9C7TY9UjzkkTOTFth2qJ6KqTtW8CTcAOBQAHAoAjs8/DHJ1LuhOkv+aNbDop+pJjv0q8qn4e6onwRw5opke9MmfK3y3WvWEV0eL/Guh/hezpvSrImc0r1I9oYs7RjKiYXADgEMBwKEA4FAAcHx+CDQK81SrqnXkTBI5LrNd9djin6lajsWuakbwy/lX1dZN1k8beRNuAHAoADgUAJygOQOMFFP4KFX7kzlL5M61+gOjlTPei1wSp98RFGaSf1/nu/U3llQmx7g1p6fgBgCHAoBDAcChAODAHwLR4QYAhwKAQwHAoQDgUABwKAA4FAAcCgAOBQCHAoBDAcChAOBQAHAoADgUABwKAA4FAIcCgEMBwKEA4FAAcCgAOBQAHAoADgUAhwKAQwHAoQDgUABwKAA4FACc/wV31F3bWbjEAAAAAElFTkSuQmCC\" y=\"-329.198125\"/>\n   </g>\n   <g id=\"matplotlib.axis_13\"/>\n   <g id=\"matplotlib.axis_14\"/>\n   <g id=\"patch_33\">\n    <path d=\"M 10.7 457.198125 \nL 10.7 329.292243 \n\" style=\"fill:none;stroke:#000000;stroke-linecap:square;stroke-linejoin:miter;stroke-width:0.8;\"/>\n   </g>\n   <g id=\"patch_34\">\n    <path d=\"M 138.605882 457.198125 \nL 138.605882 329.292243 \n\" style=\"fill:none;stroke:#000000;stroke-linecap:square;stroke-linejoin:miter;stroke-width:0.8;\"/>\n   </g>\n   <g id=\"patch_35\">\n    <path d=\"M 10.7 457.198125 \nL 138.605882 457.198125 \n\" style=\"fill:none;stroke:#000000;stroke-linecap:square;stroke-linejoin:miter;stroke-width:0.8;\"/>\n   </g>\n   <g id=\"patch_36\">\n    <path d=\"M 10.7 329.292243 \nL 138.605882 329.292243 \n\" style=\"fill:none;stroke:#000000;stroke-linecap:square;stroke-linejoin:miter;stroke-width:0.8;\"/>\n   </g>\n   <g id=\"text_7\">\n    <!-- label = 7 pred = 7 -->\n    <g transform=\"translate(19.274816 323.292243)scale(0.12 -0.12)\">\n     <use xlink:href=\"#DejaVuSans-108\"/>\n     <use x=\"27.783203\" xlink:href=\"#DejaVuSans-97\"/>\n     <use x=\"89.0625\" xlink:href=\"#DejaVuSans-98\"/>\n     <use x=\"152.539062\" xlink:href=\"#DejaVuSans-101\"/>\n     <use x=\"214.0625\" xlink:href=\"#DejaVuSans-108\"/>\n     <use x=\"241.845703\" xlink:href=\"#DejaVuSans-32\"/>\n     <use x=\"273.632812\" xlink:href=\"#DejaVuSans-61\"/>\n     <use x=\"357.421875\" xlink:href=\"#DejaVuSans-32\"/>\n     <use x=\"389.208984\" xlink:href=\"#DejaVuSans-55\"/>\n     <use x=\"452.832031\" xlink:href=\"#DejaVuSans-32\"/>\n     <use x=\"484.619141\" xlink:href=\"#DejaVuSans-112\"/>\n     <use x=\"548.095703\" xlink:href=\"#DejaVuSans-114\"/>\n     <use x=\"586.958984\" xlink:href=\"#DejaVuSans-101\"/>\n     <use x=\"648.482422\" xlink:href=\"#DejaVuSans-100\"/>\n     <use x=\"711.958984\" xlink:href=\"#DejaVuSans-32\"/>\n     <use x=\"743.746094\" xlink:href=\"#DejaVuSans-61\"/>\n     <use x=\"827.535156\" xlink:href=\"#DejaVuSans-32\"/>\n     <use x=\"859.322266\" xlink:href=\"#DejaVuSans-55\"/>\n    </g>\n   </g>\n  </g>\n  <g id=\"axes_8\">\n   <g id=\"patch_37\">\n    <path d=\"M 168.252941 457.198125 \nL 296.158824 457.198125 \nL 296.158824 329.292243 \nL 168.252941 329.292243 \nz\n\" style=\"fill:#ffffff;\"/>\n   </g>\n   <g clip-path=\"url(#pd643050d50)\">\n    <image height=\"128\" id=\"imagee38725446c\" transform=\"scale(1 -1)translate(0 -128)\" width=\"128\" x=\"168.252941\" xlink:href=\"data:image/png;base64,\niVBORw0KGgoAAAANSUhEUgAAAIAAAACACAYAAADDPmHLAAAABHNCSVQICAgIfAhkiAAAAo1JREFUeJzt3TFLG1EAwPF70ZTsRQQDhRTs1iFS69A1S5fSliBCP0M3py5dxU36GfoNBD+BOohQKHSotJSGLnUOBgJn5/MdNMSLT97//9vucYZ38PfxyB2XMAjD60JYrdQTUFoGAGcAcAYAZwBwBgBnAHAGAGcAcAYAZwBwBgBnAHDLqSdwl0L7QTR2sb8RjS1dhcpx78PpwuaUmisAnAHAGQAcag8w2n0WjX3bPojG3v18WTkedzrROeVk0tzEEnIFgDMAOAOAMwA41CZwbTCa6bzPj48qx28e7cQnff/RxJSScwWAMwA4A4BD7QG2Hv6Kxlrw/wH21csA6AwAzgDgUJvAjytforGyKBPM5P5wBYAzADgDgDMAONQmcF6/365GY9097wYqAwYAZwBw7gFmMO5NU09hYVwB4AwAzgDgDAAOtQlsFaF29L/q/iwTrgBwBgBnAHBZ7wGuXj+vHJfFeXTOTE8EZfybKq4AcAYAZwBwBgCX9Sbwb7+Zy3vx9CIau2zkk9NzBYAzADgDgMt6D9CU46/r0diT4izBTJrnCgBnAHAGAGcAcHlvAkP1Nt68TwT5RZCyZQBwBgBnAHBhEIYZP/BUdfhnzkfCarzqbt52OveCKwCcAcAZAJwBwBkAnAHAGQCcAcAZAJwBwBkAnAHA5f1E0A1zvyMoY+yrlwHQGQCcAcChNoFlzdue/Nk4oRkAnAHAGQCcAcAZAJwBwBkAnAHAGQCcAcAZAJwBwKHuBrbDUjQ2neHtCP1P76OxbnHSxJSScwWAMwA4A4BDvSNIMVcAOAOAMwA4A4AzADgDgDMAOAOAMwA4A4AzADgDgDMAOAOAMwA4A4AzADgDgDMAOAOAMwA4A4D7B96dPdIbNTNUAAAAAElFTkSuQmCC\" y=\"-329.198125\"/>\n   </g>\n   <g id=\"matplotlib.axis_15\"/>\n   <g id=\"matplotlib.axis_16\"/>\n   <g id=\"patch_38\">\n    <path d=\"M 168.252941 457.198125 \nL 168.252941 329.292243 \n\" style=\"fill:none;stroke:#000000;stroke-linecap:square;stroke-linejoin:miter;stroke-width:0.8;\"/>\n   </g>\n   <g id=\"patch_39\">\n    <path d=\"M 296.158824 457.198125 \nL 296.158824 329.292243 \n\" style=\"fill:none;stroke:#000000;stroke-linecap:square;stroke-linejoin:miter;stroke-width:0.8;\"/>\n   </g>\n   <g id=\"patch_40\">\n    <path d=\"M 168.252941 457.198125 \nL 296.158824 457.198125 \n\" style=\"fill:none;stroke:#000000;stroke-linecap:square;stroke-linejoin:miter;stroke-width:0.8;\"/>\n   </g>\n   <g id=\"patch_41\">\n    <path d=\"M 168.252941 329.292243 \nL 296.158824 329.292243 \n\" style=\"fill:none;stroke:#000000;stroke-linecap:square;stroke-linejoin:miter;stroke-width:0.8;\"/>\n   </g>\n   <g id=\"text_8\">\n    <!-- label = 1 pred = 1 -->\n    <g transform=\"translate(176.827757 323.292243)scale(0.12 -0.12)\">\n     <use xlink:href=\"#DejaVuSans-108\"/>\n     <use x=\"27.783203\" xlink:href=\"#DejaVuSans-97\"/>\n     <use x=\"89.0625\" xlink:href=\"#DejaVuSans-98\"/>\n     <use x=\"152.539062\" xlink:href=\"#DejaVuSans-101\"/>\n     <use x=\"214.0625\" xlink:href=\"#DejaVuSans-108\"/>\n     <use x=\"241.845703\" xlink:href=\"#DejaVuSans-32\"/>\n     <use x=\"273.632812\" xlink:href=\"#DejaVuSans-61\"/>\n     <use x=\"357.421875\" xlink:href=\"#DejaVuSans-32\"/>\n     <use x=\"389.208984\" xlink:href=\"#DejaVuSans-49\"/>\n     <use x=\"452.832031\" xlink:href=\"#DejaVuSans-32\"/>\n     <use x=\"484.619141\" xlink:href=\"#DejaVuSans-112\"/>\n     <use x=\"548.095703\" xlink:href=\"#DejaVuSans-114\"/>\n     <use x=\"586.958984\" xlink:href=\"#DejaVuSans-101\"/>\n     <use x=\"648.482422\" xlink:href=\"#DejaVuSans-100\"/>\n     <use x=\"711.958984\" xlink:href=\"#DejaVuSans-32\"/>\n     <use x=\"743.746094\" xlink:href=\"#DejaVuSans-61\"/>\n     <use x=\"827.535156\" xlink:href=\"#DejaVuSans-32\"/>\n     <use x=\"859.322266\" xlink:href=\"#DejaVuSans-49\"/>\n    </g>\n   </g>\n  </g>\n  <g id=\"axes_9\">\n   <g id=\"patch_42\">\n    <path d=\"M 325.805882 457.198125 \nL 453.711765 457.198125 \nL 453.711765 329.292243 \nL 325.805882 329.292243 \nz\n\" style=\"fill:#ffffff;\"/>\n   </g>\n   <g clip-path=\"url(#p9efedb1c64)\">\n    <image height=\"128\" id=\"imageb00a7d1fdf\" transform=\"scale(1 -1)translate(0 -128)\" width=\"128\" x=\"325.805882\" xlink:href=\"data:image/png;base64,\niVBORw0KGgoAAAANSUhEUgAAAIAAAACACAYAAADDPmHLAAAABHNCSVQICAgIfAhkiAAAAwRJREFUeJzt3LFL1GEcgHHvvASTGjqIbKioxCQobbA44oawhlpdg4aWWoJoCqKhuf6AQDCopamxhJAoTArCIlrsjKhBuCBQ6DI9r/nlPTjBvN/1Ps9ne19e4RWevrwI/XJjufFGl7DyWV9A2TIAOAOAMwA4A4AzADgDgDMAOAOAMwA4A4AzADgDgCtkfYGs5fv6or3vD/cH61plZ3Tm0I3ZLbtTOzkB4AwAzgDg8G+A36eHor250fvBerBytV3XaTsnAJwBwBkAnAHA4R+B1ZGelmeK73NtuEk2nABwBgBnAHCoN0CuEP+6/We/tfy54lQl2qv/kxtlzwkAZwBwBgBnAHCoR+Bq+Xi093xoItqrg76Y4ASAMwA4A4AzADjUI/DrhW3RXr2xHu2tNNbCjfV0X4VOADgDgDMAONQbYKNOvr0UrPdWP2VzkTZwAsAZAJwBwBkAHOoR2HtwaUPnagvx9wBS5QSAMwA4A4BDvQEmhh802e2OdvY9W2tyLk1OADgDgDMAOAOAMwA4A4AzADgDgEv6D0HdRweDdTH/qsmp7e25TIdyAsAZAJwBwBkAXNKPwMXyrmB9oBA/+G5X428G9Ex/CNbp/scwJwCeAcAZAJwBwCX9CPy1p/VXvmv1+JsBjdU/W3GdjuQEgDMAOAOAS/oNcOb8u6yv0PGcAHAGAGcAcAYAZwBwBgBnAHAGAJf0H4I24smL0WjvcNdsBjfJhhMAzgDgDADOAODwj8AdX9j/Bti/vQyAzgDgkn4DvJ48EW7cnInOrJSXo72lH6eC9cj1uejM05nhYD1w7f/845ETAM4A4AwAzgDgkn4E9k8tBut7VwaiMx9LTb4gXgqXj5Z3xz83fWxTd+sUTgA4A4AzADgDgEv6EVifXwjWj++ei86Ubs1HexdfXg7WR+78jM70fn6zydt1BicAnAHAGQBcbiw3nvJ3ENWCEwDOAOAMAM4A4AwAzgDgDADOAOAMAM4A4AwAzgDgDADOAOAMAM4A4AwAzgDgDADOAOAMAM4A4P4C2albNXm3S5MAAAAASUVORK5CYII=\" y=\"-329.198125\"/>\n   </g>\n   <g id=\"matplotlib.axis_17\"/>\n   <g id=\"matplotlib.axis_18\"/>\n   <g id=\"patch_43\">\n    <path d=\"M 325.805882 457.198125 \nL 325.805882 329.292243 \n\" style=\"fill:none;stroke:#000000;stroke-linecap:square;stroke-linejoin:miter;stroke-width:0.8;\"/>\n   </g>\n   <g id=\"patch_44\">\n    <path d=\"M 453.711765 457.198125 \nL 453.711765 329.292243 \n\" style=\"fill:none;stroke:#000000;stroke-linecap:square;stroke-linejoin:miter;stroke-width:0.8;\"/>\n   </g>\n   <g id=\"patch_45\">\n    <path d=\"M 325.805882 457.198125 \nL 453.711765 457.198125 \n\" style=\"fill:none;stroke:#000000;stroke-linecap:square;stroke-linejoin:miter;stroke-width:0.8;\"/>\n   </g>\n   <g id=\"patch_46\">\n    <path d=\"M 325.805882 329.292243 \nL 453.711765 329.292243 \n\" style=\"fill:none;stroke:#000000;stroke-linecap:square;stroke-linejoin:miter;stroke-width:0.8;\"/>\n   </g>\n   <g id=\"text_9\">\n    <!-- label = 1 pred = 1 -->\n    <g transform=\"translate(334.380699 323.292243)scale(0.12 -0.12)\">\n     <use xlink:href=\"#DejaVuSans-108\"/>\n     <use x=\"27.783203\" xlink:href=\"#DejaVuSans-97\"/>\n     <use x=\"89.0625\" xlink:href=\"#DejaVuSans-98\"/>\n     <use x=\"152.539062\" xlink:href=\"#DejaVuSans-101\"/>\n     <use x=\"214.0625\" xlink:href=\"#DejaVuSans-108\"/>\n     <use x=\"241.845703\" xlink:href=\"#DejaVuSans-32\"/>\n     <use x=\"273.632812\" xlink:href=\"#DejaVuSans-61\"/>\n     <use x=\"357.421875\" xlink:href=\"#DejaVuSans-32\"/>\n     <use x=\"389.208984\" xlink:href=\"#DejaVuSans-49\"/>\n     <use x=\"452.832031\" xlink:href=\"#DejaVuSans-32\"/>\n     <use x=\"484.619141\" xlink:href=\"#DejaVuSans-112\"/>\n     <use x=\"548.095703\" xlink:href=\"#DejaVuSans-114\"/>\n     <use x=\"586.958984\" xlink:href=\"#DejaVuSans-101\"/>\n     <use x=\"648.482422\" xlink:href=\"#DejaVuSans-100\"/>\n     <use x=\"711.958984\" xlink:href=\"#DejaVuSans-32\"/>\n     <use x=\"743.746094\" xlink:href=\"#DejaVuSans-61\"/>\n     <use x=\"827.535156\" xlink:href=\"#DejaVuSans-32\"/>\n     <use x=\"859.322266\" xlink:href=\"#DejaVuSans-49\"/>\n    </g>\n   </g>\n  </g>\n </g>\n <defs>\n  <clipPath id=\"p5488f2f253\">\n   <rect height=\"127.905882\" width=\"127.905882\" x=\"10.7\" y=\"22.318125\"/>\n  </clipPath>\n  <clipPath id=\"p75fedeb7ca\">\n   <rect height=\"127.905882\" width=\"127.905882\" x=\"168.252941\" y=\"22.318125\"/>\n  </clipPath>\n  <clipPath id=\"pf902a213ab\">\n   <rect height=\"127.905882\" width=\"127.905882\" x=\"325.805882\" y=\"22.318125\"/>\n  </clipPath>\n  <clipPath id=\"p1939890caf\">\n   <rect height=\"127.905882\" width=\"127.905882\" x=\"10.7\" y=\"175.805184\"/>\n  </clipPath>\n  <clipPath id=\"pc58aee210d\">\n   <rect height=\"127.905882\" width=\"127.905882\" x=\"168.252941\" y=\"175.805184\"/>\n  </clipPath>\n  <clipPath id=\"pc0303b39e3\">\n   <rect height=\"127.905882\" width=\"127.905882\" x=\"325.805882\" y=\"175.805184\"/>\n  </clipPath>\n  <clipPath id=\"pc90432b576\">\n   <rect height=\"127.905882\" width=\"127.905882\" x=\"10.7\" y=\"329.292243\"/>\n  </clipPath>\n  <clipPath id=\"pd643050d50\">\n   <rect height=\"127.905882\" width=\"127.905882\" x=\"168.252941\" y=\"329.292243\"/>\n  </clipPath>\n  <clipPath id=\"p9efedb1c64\">\n   <rect height=\"127.905882\" width=\"127.905882\" x=\"325.805882\" y=\"329.292243\"/>\n  </clipPath>\n </defs>\n</svg>\n"
     },
     "metadata": {}
    }
   ],
   "source": [
    "model.eval()\n",
    "\n",
    "with torch.no_grad():\n",
    "    images, target = next(iter(val_loader))\n",
    "    images, target = images[0:9], target[0:9]\n",
    "    output = model(images.to(device)).cpu()\n",
    "    \n",
    "    preds = output.argmax(dim=1)\n",
    "    labels = target\n",
    "    imgs = images\n",
    "    \n",
    "plt.figure(figsize=(8,8)) \n",
    "for i in range(9):\n",
    "    img,label = images[i], target[i]\n",
    "    img = img.permute(1,2,0)\n",
    "    ax=plt.subplot(3,3,i+1)\n",
    "    ax.imshow(img.squeeze(axis=2))\n",
    "    ax.set_title(f'label = {label} pred = {preds[i]}')\n",
    "    ax.set_xticks([])\n",
    "    ax.set_yticks([]) \n",
    "plt.show()\n"
   ]
  },
  {
   "cell_type": "markdown",
   "source": [
    "### Torch-ONNX-Tensorflow-TensorflowLite"
   ],
   "metadata": {
    "id": "kytBGDbvRMCB",
    "pycharm": {
     "name": "#%% md\n"
    }
   },
   "id": "kytBGDbvRMCB"
  },
  {
   "cell_type": "code",
   "execution_count": null,
   "id": "a69edf4f",
   "metadata": {
    "id": "a69edf4f",
    "pycharm": {
     "name": "#%%\n"
    }
   },
   "outputs": [],
   "source": [
    "import onnx\n",
    "from onnx_tf.backend import prepare\n",
    "import tensorflow as tf"
   ]
  },
  {
   "cell_type": "code",
   "execution_count": null,
   "id": "193dd262",
   "metadata": {
    "id": "193dd262",
    "pycharm": {
     "name": "#%%\n"
    }
   },
   "outputs": [],
   "source": [
    "def representative_dataset():\n",
    "    for d in ds_valid:\n",
    "      yield [d[0].numpy()]"
   ]
  },
  {
   "cell_type": "code",
   "execution_count": null,
   "id": "4a78e607",
   "metadata": {
    "id": "4a78e607",
    "pycharm": {
     "name": "#%%\n"
    }
   },
   "outputs": [],
   "source": [
    "def torch2tflite(sample_input, loaded_model, onnx_model_path, tf_model_path, tflite_model_path):\n",
    "#     loaded_model = torch.load(torch_model_path, map_location='cpu')\n",
    "    torch_model = loaded_model.eval()\n",
    "    torch.onnx.export(\n",
    "        model=torch_model,\n",
    "        args=sample_input,\n",
    "        f=onnx_model_path, # todo\n",
    "        verbose=False,\n",
    "        export_params=True,\n",
    "        do_constant_folding=False,\n",
    "        input_names=['input'],\n",
    "        opset_version=10,\n",
    "        output_names=['output'])\n",
    "    print('ONNX model successfully converted')\n",
    "    onnx_model = onnx.load(onnx_model_path)\n",
    "    onnx.checker.check_model(onnx_model)\n",
    "    tf_rep = prepare(onnx_model)\n",
    "    tf_rep.export_graph(tf_model_path)\n",
    "    print('TensorFlow model successfully converted')\n",
    "    converter = tf.lite.TFLiteConverter.from_saved_model(tf_model_path)\n",
    "    converter.optimizations = [tf.lite.Optimize.DEFAULT]\n",
    "    converter.representative_dataset = representative_dataset # It allows the converter to estimate a dynamic range for all the variable data.\n",
    "    converter.target_spec.supported_ops = [tf.lite.OpsSet.TFLITE_BUILTINS_INT8]\n",
    "    converter.inference_input_type = tf.int8 \n",
    "    converter.inference_output_type = tf.int8\n",
    "    tflite_model = converter.convert()\n",
    "    try:\n",
    "        with open(tflite_model_path, 'wb') as f:\n",
    "            f.write(tflite_model)\n",
    "        print('TensorFlow-lite model successfully converted')\n",
    "    except Exception as e:\n",
    "        print('TensorFlow-lite model unsuccessfully converted')\n",
    "\n",
    "    \n",
    "    return tflite_model"
   ]
  },
  {
   "cell_type": "code",
   "execution_count": null,
   "id": "5f6243b3",
   "metadata": {
    "id": "5f6243b3",
    "pycharm": {
     "name": "#%%\n"
    }
   },
   "outputs": [],
   "source": [
    "samples = next(iter(val_loader))[0]"
   ]
  },
  {
   "cell_type": "code",
   "execution_count": null,
   "id": "8745c41b",
   "metadata": {
    "id": "8745c41b",
    "pycharm": {
     "name": "#%%\n"
    }
   },
   "outputs": [],
   "source": [
    "sample  = torch.unsqueeze(next(iter(val_loader))[0][1], 0)"
   ]
  },
  {
   "cell_type": "code",
   "execution_count": null,
   "id": "8430c8e2",
   "metadata": {
    "colab": {
     "base_uri": "https://localhost:8080/"
    },
    "id": "8430c8e2",
    "outputId": "6bc2e04d-7b50-4a54-cd98-cadd44314a26",
    "pycharm": {
     "name": "#%%\n"
    }
   },
   "outputs": [
    {
     "output_type": "stream",
     "name": "stdout",
     "text": [
      "PyTorch model successfully loaded and mapped to CPU\n"
     ]
    }
   ],
   "source": [
    "torch_model_path = './model_best.pth.tar'\n",
    "checkpoint = torch.load(torch_model_path, map_location='cpu')\n",
    "model.load_state_dict(checkpoint['state_dict'])\n",
    "print('PyTorch model successfully loaded and mapped to CPU')"
   ]
  },
  {
   "cell_type": "code",
   "execution_count": null,
   "id": "70b3a4c4",
   "metadata": {
    "colab": {
     "base_uri": "https://localhost:8080/"
    },
    "id": "70b3a4c4",
    "outputId": "1fdfeac6-27d0-48fe-d55f-0e90747189a7",
    "pycharm": {
     "name": "#%%\n"
    }
   },
   "outputs": [
    {
     "output_type": "stream",
     "name": "stderr",
     "text": [
      "WARNING:absl:Found untraced functions such as gen_tensor_dict while saving (showing 1 of 1). These functions will not be directly callable after loading.\n"
     ]
    },
    {
     "output_type": "stream",
     "name": "stdout",
     "text": [
      "ONNX model successfully converted\n",
      "INFO:tensorflow:Assets written to: ./model_best/assets\n"
     ]
    },
    {
     "output_type": "stream",
     "name": "stderr",
     "text": [
      "INFO:tensorflow:Assets written to: ./model_best/assets\n"
     ]
    },
    {
     "output_type": "stream",
     "name": "stdout",
     "text": [
      "TensorFlow model successfully converted\n"
     ]
    },
    {
     "output_type": "stream",
     "name": "stderr",
     "text": [
      "WARNING:absl:Buffer deduplication procedure will be skipped when flatbuffer library is not properly loaded\n"
     ]
    },
    {
     "output_type": "stream",
     "name": "stdout",
     "text": [
      "TensorFlow-lite model successfully converted\n"
     ]
    }
   ],
   "source": [
    "tflite_model = torch2tflite(sample, model.cpu(), onnx_model_path='./model_best.onnx', tf_model_path='./model_best', tflite_model_path='./model_best.tflite')"
   ]
  },
  {
   "cell_type": "markdown",
   "id": "bc5ff3a6",
   "metadata": {
    "id": "bc5ff3a6",
    "pycharm": {
     "name": "#%% md\n"
    }
   },
   "source": [
    "### TFlite Model Inference"
   ]
  },
  {
   "cell_type": "code",
   "execution_count": null,
   "id": "b5404a86",
   "metadata": {
    "id": "b5404a86",
    "pycharm": {
     "name": "#%%\n"
    }
   },
   "outputs": [],
   "source": [
    "def tflite_inference(tflite_path, image):\n",
    "  '''perform batch inference on a tensorflow lite model\n",
    "  '''\n",
    "  # Load the TFLite model and allocate tensors.\n",
    "  interpreter = tf.lite.Interpreter(model_path=tflite_path)\n",
    "  # Get input and output tensors.\n",
    "  input_details = interpreter.get_input_details()[0]\n",
    "  output_details = interpreter.get_output_details()[0]\n",
    "  interpreter.allocate_tensors()\n",
    "  if input_details['dtype'] == np.int8:\n",
    "    input_scale, input_zero_point = input_details[\"quantization\"]\n",
    "    image = image / input_scale + input_zero_point\n",
    "  image =  torch.unsqueeze(image, 0).to(torch.int8)\n",
    "\n",
    "  interpreter.set_tensor(input_details['index'], image)\n",
    "  interpreter.invoke()\n",
    "  # The function `get_tensor()` returns a copy of the tensor data.\n",
    "  # Use `tensor()` in order to get a pointer to the tensor.\n",
    "  output_data = interpreter.get_tensor(output_details['index'])\n",
    "\n",
    "  return output_data"
   ]
  },
  {
   "cell_type": "code",
   "execution_count": null,
   "id": "5f9de238",
   "metadata": {
    "colab": {
     "base_uri": "https://localhost:8080/"
    },
    "id": "5f9de238",
    "outputId": "cdb8c1f2-bd29-46ac-c57d-4880556ea5e6",
    "pycharm": {
     "name": "#%%\n"
    }
   },
   "outputs": [
    {
     "output_type": "execute_result",
     "data": {
      "text/plain": [
       "1"
      ]
     },
     "metadata": {},
     "execution_count": 157
    }
   ],
   "source": [
    "tflite_inference('./model_best.tflite', samples[3]).argmax()"
   ]
  },
  {
   "cell_type": "code",
   "execution_count": null,
   "id": "4620625d",
   "metadata": {
    "colab": {
     "base_uri": "https://localhost:8080/",
     "height": 370
    },
    "id": "4620625d",
    "outputId": "18b57a7d-85bf-47ea-8fa5-308e26a8589a",
    "pycharm": {
     "name": "#%%\n"
    }
   },
   "outputs": [
    {
     "output_type": "execute_result",
     "data": {
      "text/plain": [
       "<matplotlib.image.AxesImage at 0x7fe2de0cb210>"
      ]
     },
     "metadata": {},
     "execution_count": 158
    },
    {
     "output_type": "display_data",
     "data": {
      "text/plain": [
       "<Figure size 432x288 with 1 Axes>"
      ],
      "image/svg+xml": "<?xml version=\"1.0\" encoding=\"utf-8\" standalone=\"no\"?>\n<!DOCTYPE svg PUBLIC \"-//W3C//DTD SVG 1.1//EN\"\n  \"http://www.w3.org/Graphics/SVG/1.1/DTD/svg11.dtd\">\n<!-- Created with matplotlib (https://matplotlib.org/) -->\n<svg height=\"248.518125pt\" version=\"1.1\" viewBox=\"0 0 251.565 248.518125\" width=\"251.565pt\" xmlns=\"http://www.w3.org/2000/svg\" xmlns:xlink=\"http://www.w3.org/1999/xlink\">\n <defs>\n  <style type=\"text/css\">\n*{stroke-linecap:butt;stroke-linejoin:round;}\n  </style>\n </defs>\n <g id=\"figure_1\">\n  <g id=\"patch_1\">\n   <path d=\"M 0 248.518125 \nL 251.565 248.518125 \nL 251.565 0 \nL 0 0 \nz\n\" style=\"fill:none;\"/>\n  </g>\n  <g id=\"axes_1\">\n   <g id=\"patch_2\">\n    <path d=\"M 26.925 224.64 \nL 244.365 224.64 \nL 244.365 7.2 \nL 26.925 7.2 \nz\n\" style=\"fill:#ffffff;\"/>\n   </g>\n   <g clip-path=\"url(#p25e1e3f8d2)\">\n    <image height=\"218\" id=\"image4ead621820\" transform=\"scale(1 -1)translate(0 -218)\" width=\"218\" x=\"26.925\" xlink:href=\"data:image/png;base64,\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\" y=\"-6.64\"/>\n   </g>\n   <g id=\"matplotlib.axis_1\">\n    <g id=\"xtick_1\">\n     <g id=\"line2d_1\">\n      <defs>\n       <path d=\"M 0 0 \nL 0 3.5 \n\" id=\"m92ae377509\" style=\"stroke:#000000;stroke-width:0.8;\"/>\n      </defs>\n      <g>\n       <use style=\"stroke:#000000;stroke-width:0.8;\" x=\"30.807857\" xlink:href=\"#m92ae377509\" y=\"224.64\"/>\n      </g>\n     </g>\n     <g id=\"text_1\">\n      <!-- 0 -->\n      <defs>\n       <path d=\"M 31.78125 66.40625 \nQ 24.171875 66.40625 20.328125 58.90625 \nQ 16.5 51.421875 16.5 36.375 \nQ 16.5 21.390625 20.328125 13.890625 \nQ 24.171875 6.390625 31.78125 6.390625 \nQ 39.453125 6.390625 43.28125 13.890625 \nQ 47.125 21.390625 47.125 36.375 \nQ 47.125 51.421875 43.28125 58.90625 \nQ 39.453125 66.40625 31.78125 66.40625 \nz\nM 31.78125 74.21875 \nQ 44.046875 74.21875 50.515625 64.515625 \nQ 56.984375 54.828125 56.984375 36.375 \nQ 56.984375 17.96875 50.515625 8.265625 \nQ 44.046875 -1.421875 31.78125 -1.421875 \nQ 19.53125 -1.421875 13.0625 8.265625 \nQ 6.59375 17.96875 6.59375 36.375 \nQ 6.59375 54.828125 13.0625 64.515625 \nQ 19.53125 74.21875 31.78125 74.21875 \nz\n\" id=\"DejaVuSans-48\"/>\n      </defs>\n      <g transform=\"translate(27.626607 239.238437)scale(0.1 -0.1)\">\n       <use xlink:href=\"#DejaVuSans-48\"/>\n      </g>\n     </g>\n    </g>\n    <g id=\"xtick_2\">\n     <g id=\"line2d_2\">\n      <g>\n       <use style=\"stroke:#000000;stroke-width:0.8;\" x=\"69.636429\" xlink:href=\"#m92ae377509\" y=\"224.64\"/>\n      </g>\n     </g>\n     <g id=\"text_2\">\n      <!-- 5 -->\n      <defs>\n       <path d=\"M 10.796875 72.90625 \nL 49.515625 72.90625 \nL 49.515625 64.59375 \nL 19.828125 64.59375 \nL 19.828125 46.734375 \nQ 21.96875 47.46875 24.109375 47.828125 \nQ 26.265625 48.1875 28.421875 48.1875 \nQ 40.625 48.1875 47.75 41.5 \nQ 54.890625 34.8125 54.890625 23.390625 \nQ 54.890625 11.625 47.5625 5.09375 \nQ 40.234375 -1.421875 26.90625 -1.421875 \nQ 22.3125 -1.421875 17.546875 -0.640625 \nQ 12.796875 0.140625 7.71875 1.703125 \nL 7.71875 11.625 \nQ 12.109375 9.234375 16.796875 8.0625 \nQ 21.484375 6.890625 26.703125 6.890625 \nQ 35.15625 6.890625 40.078125 11.328125 \nQ 45.015625 15.765625 45.015625 23.390625 \nQ 45.015625 31 40.078125 35.4375 \nQ 35.15625 39.890625 26.703125 39.890625 \nQ 22.75 39.890625 18.8125 39.015625 \nQ 14.890625 38.140625 10.796875 36.28125 \nz\n\" id=\"DejaVuSans-53\"/>\n      </defs>\n      <g transform=\"translate(66.455179 239.238437)scale(0.1 -0.1)\">\n       <use xlink:href=\"#DejaVuSans-53\"/>\n      </g>\n     </g>\n    </g>\n    <g id=\"xtick_3\">\n     <g id=\"line2d_3\">\n      <g>\n       <use style=\"stroke:#000000;stroke-width:0.8;\" x=\"108.465\" xlink:href=\"#m92ae377509\" y=\"224.64\"/>\n      </g>\n     </g>\n     <g id=\"text_3\">\n      <!-- 10 -->\n      <defs>\n       <path d=\"M 12.40625 8.296875 \nL 28.515625 8.296875 \nL 28.515625 63.921875 \nL 10.984375 60.40625 \nL 10.984375 69.390625 \nL 28.421875 72.90625 \nL 38.28125 72.90625 \nL 38.28125 8.296875 \nL 54.390625 8.296875 \nL 54.390625 0 \nL 12.40625 0 \nz\n\" id=\"DejaVuSans-49\"/>\n      </defs>\n      <g transform=\"translate(102.1025 239.238437)scale(0.1 -0.1)\">\n       <use xlink:href=\"#DejaVuSans-49\"/>\n       <use x=\"63.623047\" xlink:href=\"#DejaVuSans-48\"/>\n      </g>\n     </g>\n    </g>\n    <g id=\"xtick_4\">\n     <g id=\"line2d_4\">\n      <g>\n       <use style=\"stroke:#000000;stroke-width:0.8;\" x=\"147.293571\" xlink:href=\"#m92ae377509\" y=\"224.64\"/>\n      </g>\n     </g>\n     <g id=\"text_4\">\n      <!-- 15 -->\n      <g transform=\"translate(140.931071 239.238437)scale(0.1 -0.1)\">\n       <use xlink:href=\"#DejaVuSans-49\"/>\n       <use x=\"63.623047\" xlink:href=\"#DejaVuSans-53\"/>\n      </g>\n     </g>\n    </g>\n    <g id=\"xtick_5\">\n     <g id=\"line2d_5\">\n      <g>\n       <use style=\"stroke:#000000;stroke-width:0.8;\" x=\"186.122143\" xlink:href=\"#m92ae377509\" y=\"224.64\"/>\n      </g>\n     </g>\n     <g id=\"text_5\">\n      <!-- 20 -->\n      <defs>\n       <path d=\"M 19.1875 8.296875 \nL 53.609375 8.296875 \nL 53.609375 0 \nL 7.328125 0 \nL 7.328125 8.296875 \nQ 12.9375 14.109375 22.625 23.890625 \nQ 32.328125 33.6875 34.8125 36.53125 \nQ 39.546875 41.84375 41.421875 45.53125 \nQ 43.3125 49.21875 43.3125 52.78125 \nQ 43.3125 58.59375 39.234375 62.25 \nQ 35.15625 65.921875 28.609375 65.921875 \nQ 23.96875 65.921875 18.8125 64.3125 \nQ 13.671875 62.703125 7.8125 59.421875 \nL 7.8125 69.390625 \nQ 13.765625 71.78125 18.9375 73 \nQ 24.125 74.21875 28.421875 74.21875 \nQ 39.75 74.21875 46.484375 68.546875 \nQ 53.21875 62.890625 53.21875 53.421875 \nQ 53.21875 48.921875 51.53125 44.890625 \nQ 49.859375 40.875 45.40625 35.40625 \nQ 44.1875 33.984375 37.640625 27.21875 \nQ 31.109375 20.453125 19.1875 8.296875 \nz\n\" id=\"DejaVuSans-50\"/>\n      </defs>\n      <g transform=\"translate(179.759643 239.238437)scale(0.1 -0.1)\">\n       <use xlink:href=\"#DejaVuSans-50\"/>\n       <use x=\"63.623047\" xlink:href=\"#DejaVuSans-48\"/>\n      </g>\n     </g>\n    </g>\n    <g id=\"xtick_6\">\n     <g id=\"line2d_6\">\n      <g>\n       <use style=\"stroke:#000000;stroke-width:0.8;\" x=\"224.950714\" xlink:href=\"#m92ae377509\" y=\"224.64\"/>\n      </g>\n     </g>\n     <g id=\"text_6\">\n      <!-- 25 -->\n      <g transform=\"translate(218.588214 239.238437)scale(0.1 -0.1)\">\n       <use xlink:href=\"#DejaVuSans-50\"/>\n       <use x=\"63.623047\" xlink:href=\"#DejaVuSans-53\"/>\n      </g>\n     </g>\n    </g>\n   </g>\n   <g id=\"matplotlib.axis_2\">\n    <g id=\"ytick_1\">\n     <g id=\"line2d_7\">\n      <defs>\n       <path d=\"M 0 0 \nL -3.5 0 \n\" id=\"mcce38defb1\" style=\"stroke:#000000;stroke-width:0.8;\"/>\n      </defs>\n      <g>\n       <use style=\"stroke:#000000;stroke-width:0.8;\" x=\"26.925\" xlink:href=\"#mcce38defb1\" y=\"11.082857\"/>\n      </g>\n     </g>\n     <g id=\"text_7\">\n      <!-- 0 -->\n      <g transform=\"translate(13.5625 14.882076)scale(0.1 -0.1)\">\n       <use xlink:href=\"#DejaVuSans-48\"/>\n      </g>\n     </g>\n    </g>\n    <g id=\"ytick_2\">\n     <g id=\"line2d_8\">\n      <g>\n       <use style=\"stroke:#000000;stroke-width:0.8;\" x=\"26.925\" xlink:href=\"#mcce38defb1\" y=\"49.911429\"/>\n      </g>\n     </g>\n     <g id=\"text_8\">\n      <!-- 5 -->\n      <g transform=\"translate(13.5625 53.710647)scale(0.1 -0.1)\">\n       <use xlink:href=\"#DejaVuSans-53\"/>\n      </g>\n     </g>\n    </g>\n    <g id=\"ytick_3\">\n     <g id=\"line2d_9\">\n      <g>\n       <use style=\"stroke:#000000;stroke-width:0.8;\" x=\"26.925\" xlink:href=\"#mcce38defb1\" y=\"88.74\"/>\n      </g>\n     </g>\n     <g id=\"text_9\">\n      <!-- 10 -->\n      <g transform=\"translate(7.2 92.539219)scale(0.1 -0.1)\">\n       <use xlink:href=\"#DejaVuSans-49\"/>\n       <use x=\"63.623047\" xlink:href=\"#DejaVuSans-48\"/>\n      </g>\n     </g>\n    </g>\n    <g id=\"ytick_4\">\n     <g id=\"line2d_10\">\n      <g>\n       <use style=\"stroke:#000000;stroke-width:0.8;\" x=\"26.925\" xlink:href=\"#mcce38defb1\" y=\"127.568571\"/>\n      </g>\n     </g>\n     <g id=\"text_10\">\n      <!-- 15 -->\n      <g transform=\"translate(7.2 131.36779)scale(0.1 -0.1)\">\n       <use xlink:href=\"#DejaVuSans-49\"/>\n       <use x=\"63.623047\" xlink:href=\"#DejaVuSans-53\"/>\n      </g>\n     </g>\n    </g>\n    <g id=\"ytick_5\">\n     <g id=\"line2d_11\">\n      <g>\n       <use style=\"stroke:#000000;stroke-width:0.8;\" x=\"26.925\" xlink:href=\"#mcce38defb1\" y=\"166.397143\"/>\n      </g>\n     </g>\n     <g id=\"text_11\">\n      <!-- 20 -->\n      <g transform=\"translate(7.2 170.196362)scale(0.1 -0.1)\">\n       <use xlink:href=\"#DejaVuSans-50\"/>\n       <use x=\"63.623047\" xlink:href=\"#DejaVuSans-48\"/>\n      </g>\n     </g>\n    </g>\n    <g id=\"ytick_6\">\n     <g id=\"line2d_12\">\n      <g>\n       <use style=\"stroke:#000000;stroke-width:0.8;\" x=\"26.925\" xlink:href=\"#mcce38defb1\" y=\"205.225714\"/>\n      </g>\n     </g>\n     <g id=\"text_12\">\n      <!-- 25 -->\n      <g transform=\"translate(7.2 209.024933)scale(0.1 -0.1)\">\n       <use xlink:href=\"#DejaVuSans-50\"/>\n       <use x=\"63.623047\" xlink:href=\"#DejaVuSans-53\"/>\n      </g>\n     </g>\n    </g>\n   </g>\n   <g id=\"patch_3\">\n    <path d=\"M 26.925 224.64 \nL 26.925 7.2 \n\" style=\"fill:none;stroke:#000000;stroke-linecap:square;stroke-linejoin:miter;stroke-width:0.8;\"/>\n   </g>\n   <g id=\"patch_4\">\n    <path d=\"M 244.365 224.64 \nL 244.365 7.2 \n\" style=\"fill:none;stroke:#000000;stroke-linecap:square;stroke-linejoin:miter;stroke-width:0.8;\"/>\n   </g>\n   <g id=\"patch_5\">\n    <path d=\"M 26.925 224.64 \nL 244.365 224.64 \n\" style=\"fill:none;stroke:#000000;stroke-linecap:square;stroke-linejoin:miter;stroke-width:0.8;\"/>\n   </g>\n   <g id=\"patch_6\">\n    <path d=\"M 26.925 7.2 \nL 244.365 7.2 \n\" style=\"fill:none;stroke:#000000;stroke-linecap:square;stroke-linejoin:miter;stroke-width:0.8;\"/>\n   </g>\n  </g>\n </g>\n <defs>\n  <clipPath id=\"p25e1e3f8d2\">\n   <rect height=\"217.44\" width=\"217.44\" x=\"26.925\" y=\"7.2\"/>\n  </clipPath>\n </defs>\n</svg>\n"
     },
     "metadata": {
      "needs_background": "light"
     }
    }
   ],
   "source": [
    "plt.imshow(samples[3].permute(1,2,0).squeeze(axis=2))"
   ]
  },
  {
   "cell_type": "markdown",
   "id": "9b6545d2",
   "metadata": {
    "id": "9b6545d2",
    "pycharm": {
     "name": "#%% md\n"
    }
   },
   "source": [
    "### TFlite evaluation"
   ]
  },
  {
   "cell_type": "code",
   "execution_count": null,
   "id": "7d5bc5da",
   "metadata": {
    "id": "7d5bc5da",
    "pycharm": {
     "name": "#%%\n"
    }
   },
   "outputs": [],
   "source": [
    "# tflite_model = tf.lite.Interpreter('./model_best.tflite')\n",
    "# tflite_model.allocate_tensors()\n",
    "# input_details = tflite_model.get_input_details()\n",
    "# output_details = tflite_model.get_output_details()\n",
    "# tflite_model.set_tensor(input_details[0]['index'], sample)\n",
    "# tflite_model.invoke()\n",
    "# y_pred = tflite_model.get_tensor(output_details[0]['index'])\n",
    "# print(f'prediction: {y_pred.argmax()}')\n",
    "# test_img_tflite = sample.squeeze(dim=0).permute(1,2,0)\n",
    "# plt.imshow(test_img_tflite)"
   ]
  },
  {
   "cell_type": "code",
   "execution_count": null,
   "id": "8c624eb1",
   "metadata": {
    "id": "8c624eb1",
    "pycharm": {
     "name": "#%%\n"
    }
   },
   "outputs": [],
   "source": [
    "# ds_valid[0][0]"
   ]
  },
  {
   "cell_type": "code",
   "execution_count": null,
   "id": "215356ea",
   "metadata": {
    "id": "215356ea",
    "pycharm": {
     "name": "#%%\n"
    }
   },
   "outputs": [],
   "source": [
    "# images, targets = next(iter(val_loader))"
   ]
  },
  {
   "cell_type": "code",
   "execution_count": null,
   "id": "d9a076d0",
   "metadata": {
    "colab": {
     "base_uri": "https://localhost:8080/"
    },
    "id": "d9a076d0",
    "outputId": "37161675-9d40-41d0-b3c1-db0c35687406",
    "pycharm": {
     "name": "#%%\n"
    }
   },
   "outputs": [
    {
     "output_type": "stream",
     "name": "stdout",
     "text": [
      "accuracy = 97.40%\n"
     ]
    }
   ],
   "source": [
    "tflite_model = tf.lite.Interpreter('./model_best.tflite')\n",
    "tflite_model.allocate_tensors()\n",
    "input_details = tflite_model.get_input_details()[0]\n",
    "output_details = tflite_model.get_output_details()[0]\n",
    "num_correct = 0\n",
    "for i, (image, target) in enumerate(ds_valid):\n",
    "    if input_details['dtype'] == np.int8:\n",
    "      input_scale, input_zero_point = input_details[\"quantization\"]\n",
    "      image = image / input_scale + input_zero_point\n",
    "    image =  torch.unsqueeze(image, 0).to(torch.int8)\n",
    "    \n",
    "    tflite_model.set_tensor(input_details['index'], image)\n",
    "    tflite_model.invoke()\n",
    "    y_pred = tflite_model.get_tensor(output_details['index'])[0]\n",
    "    num_correct += 1 if y_pred.argmax()==target else 0\n",
    "    if i>=(1000-1):\n",
    "        break\n",
    "print(f'accuracy = {100*num_correct/1000:.2f}%')"
   ]
  },
  {
   "cell_type": "code",
   "execution_count": null,
   "id": "8227b89b",
   "metadata": {
    "colab": {
     "base_uri": "https://localhost:8080/",
     "height": 370
    },
    "id": "8227b89b",
    "outputId": "a3081013-81cb-40f6-ec8c-082cafff2eab",
    "pycharm": {
     "name": "#%%\n"
    }
   },
   "outputs": [
    {
     "output_type": "execute_result",
     "data": {
      "text/plain": [
       "<matplotlib.image.AxesImage at 0x7fe2de139b90>"
      ]
     },
     "metadata": {},
     "execution_count": 160
    },
    {
     "output_type": "display_data",
     "data": {
      "text/plain": [
       "<Figure size 432x288 with 1 Axes>"
      ],
      "image/svg+xml": "<?xml version=\"1.0\" encoding=\"utf-8\" standalone=\"no\"?>\n<!DOCTYPE svg PUBLIC \"-//W3C//DTD SVG 1.1//EN\"\n  \"http://www.w3.org/Graphics/SVG/1.1/DTD/svg11.dtd\">\n<!-- Created with matplotlib (https://matplotlib.org/) -->\n<svg height=\"248.518125pt\" version=\"1.1\" viewBox=\"0 0 251.565 248.518125\" width=\"251.565pt\" xmlns=\"http://www.w3.org/2000/svg\" xmlns:xlink=\"http://www.w3.org/1999/xlink\">\n <defs>\n  <style type=\"text/css\">\n*{stroke-linecap:butt;stroke-linejoin:round;}\n  </style>\n </defs>\n <g id=\"figure_1\">\n  <g id=\"patch_1\">\n   <path d=\"M 0 248.518125 \nL 251.565 248.518125 \nL 251.565 0 \nL 0 0 \nz\n\" style=\"fill:none;\"/>\n  </g>\n  <g id=\"axes_1\">\n   <g id=\"patch_2\">\n    <path d=\"M 26.925 224.64 \nL 244.365 224.64 \nL 244.365 7.2 \nL 26.925 7.2 \nz\n\" style=\"fill:#ffffff;\"/>\n   </g>\n   <g clip-path=\"url(#pc84e093e33)\">\n    <image height=\"218\" id=\"image801d4bfdfc\" transform=\"scale(1 -1)translate(0 -218)\" width=\"218\" x=\"26.925\" xlink:href=\"data:image/png;base64,\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\" y=\"-6.64\"/>\n   </g>\n   <g id=\"matplotlib.axis_1\">\n    <g id=\"xtick_1\">\n     <g id=\"line2d_1\">\n      <defs>\n       <path d=\"M 0 0 \nL 0 3.5 \n\" id=\"m8329391c54\" style=\"stroke:#000000;stroke-width:0.8;\"/>\n      </defs>\n      <g>\n       <use style=\"stroke:#000000;stroke-width:0.8;\" x=\"30.807857\" xlink:href=\"#m8329391c54\" y=\"224.64\"/>\n      </g>\n     </g>\n     <g id=\"text_1\">\n      <!-- 0 -->\n      <defs>\n       <path d=\"M 31.78125 66.40625 \nQ 24.171875 66.40625 20.328125 58.90625 \nQ 16.5 51.421875 16.5 36.375 \nQ 16.5 21.390625 20.328125 13.890625 \nQ 24.171875 6.390625 31.78125 6.390625 \nQ 39.453125 6.390625 43.28125 13.890625 \nQ 47.125 21.390625 47.125 36.375 \nQ 47.125 51.421875 43.28125 58.90625 \nQ 39.453125 66.40625 31.78125 66.40625 \nz\nM 31.78125 74.21875 \nQ 44.046875 74.21875 50.515625 64.515625 \nQ 56.984375 54.828125 56.984375 36.375 \nQ 56.984375 17.96875 50.515625 8.265625 \nQ 44.046875 -1.421875 31.78125 -1.421875 \nQ 19.53125 -1.421875 13.0625 8.265625 \nQ 6.59375 17.96875 6.59375 36.375 \nQ 6.59375 54.828125 13.0625 64.515625 \nQ 19.53125 74.21875 31.78125 74.21875 \nz\n\" id=\"DejaVuSans-48\"/>\n      </defs>\n      <g transform=\"translate(27.626607 239.238437)scale(0.1 -0.1)\">\n       <use xlink:href=\"#DejaVuSans-48\"/>\n      </g>\n     </g>\n    </g>\n    <g id=\"xtick_2\">\n     <g id=\"line2d_2\">\n      <g>\n       <use style=\"stroke:#000000;stroke-width:0.8;\" x=\"69.636429\" xlink:href=\"#m8329391c54\" y=\"224.64\"/>\n      </g>\n     </g>\n     <g id=\"text_2\">\n      <!-- 5 -->\n      <defs>\n       <path d=\"M 10.796875 72.90625 \nL 49.515625 72.90625 \nL 49.515625 64.59375 \nL 19.828125 64.59375 \nL 19.828125 46.734375 \nQ 21.96875 47.46875 24.109375 47.828125 \nQ 26.265625 48.1875 28.421875 48.1875 \nQ 40.625 48.1875 47.75 41.5 \nQ 54.890625 34.8125 54.890625 23.390625 \nQ 54.890625 11.625 47.5625 5.09375 \nQ 40.234375 -1.421875 26.90625 -1.421875 \nQ 22.3125 -1.421875 17.546875 -0.640625 \nQ 12.796875 0.140625 7.71875 1.703125 \nL 7.71875 11.625 \nQ 12.109375 9.234375 16.796875 8.0625 \nQ 21.484375 6.890625 26.703125 6.890625 \nQ 35.15625 6.890625 40.078125 11.328125 \nQ 45.015625 15.765625 45.015625 23.390625 \nQ 45.015625 31 40.078125 35.4375 \nQ 35.15625 39.890625 26.703125 39.890625 \nQ 22.75 39.890625 18.8125 39.015625 \nQ 14.890625 38.140625 10.796875 36.28125 \nz\n\" id=\"DejaVuSans-53\"/>\n      </defs>\n      <g transform=\"translate(66.455179 239.238437)scale(0.1 -0.1)\">\n       <use xlink:href=\"#DejaVuSans-53\"/>\n      </g>\n     </g>\n    </g>\n    <g id=\"xtick_3\">\n     <g id=\"line2d_3\">\n      <g>\n       <use style=\"stroke:#000000;stroke-width:0.8;\" x=\"108.465\" xlink:href=\"#m8329391c54\" y=\"224.64\"/>\n      </g>\n     </g>\n     <g id=\"text_3\">\n      <!-- 10 -->\n      <defs>\n       <path d=\"M 12.40625 8.296875 \nL 28.515625 8.296875 \nL 28.515625 63.921875 \nL 10.984375 60.40625 \nL 10.984375 69.390625 \nL 28.421875 72.90625 \nL 38.28125 72.90625 \nL 38.28125 8.296875 \nL 54.390625 8.296875 \nL 54.390625 0 \nL 12.40625 0 \nz\n\" id=\"DejaVuSans-49\"/>\n      </defs>\n      <g transform=\"translate(102.1025 239.238437)scale(0.1 -0.1)\">\n       <use xlink:href=\"#DejaVuSans-49\"/>\n       <use x=\"63.623047\" xlink:href=\"#DejaVuSans-48\"/>\n      </g>\n     </g>\n    </g>\n    <g id=\"xtick_4\">\n     <g id=\"line2d_4\">\n      <g>\n       <use style=\"stroke:#000000;stroke-width:0.8;\" x=\"147.293571\" xlink:href=\"#m8329391c54\" y=\"224.64\"/>\n      </g>\n     </g>\n     <g id=\"text_4\">\n      <!-- 15 -->\n      <g transform=\"translate(140.931071 239.238437)scale(0.1 -0.1)\">\n       <use xlink:href=\"#DejaVuSans-49\"/>\n       <use x=\"63.623047\" xlink:href=\"#DejaVuSans-53\"/>\n      </g>\n     </g>\n    </g>\n    <g id=\"xtick_5\">\n     <g id=\"line2d_5\">\n      <g>\n       <use style=\"stroke:#000000;stroke-width:0.8;\" x=\"186.122143\" xlink:href=\"#m8329391c54\" y=\"224.64\"/>\n      </g>\n     </g>\n     <g id=\"text_5\">\n      <!-- 20 -->\n      <defs>\n       <path d=\"M 19.1875 8.296875 \nL 53.609375 8.296875 \nL 53.609375 0 \nL 7.328125 0 \nL 7.328125 8.296875 \nQ 12.9375 14.109375 22.625 23.890625 \nQ 32.328125 33.6875 34.8125 36.53125 \nQ 39.546875 41.84375 41.421875 45.53125 \nQ 43.3125 49.21875 43.3125 52.78125 \nQ 43.3125 58.59375 39.234375 62.25 \nQ 35.15625 65.921875 28.609375 65.921875 \nQ 23.96875 65.921875 18.8125 64.3125 \nQ 13.671875 62.703125 7.8125 59.421875 \nL 7.8125 69.390625 \nQ 13.765625 71.78125 18.9375 73 \nQ 24.125 74.21875 28.421875 74.21875 \nQ 39.75 74.21875 46.484375 68.546875 \nQ 53.21875 62.890625 53.21875 53.421875 \nQ 53.21875 48.921875 51.53125 44.890625 \nQ 49.859375 40.875 45.40625 35.40625 \nQ 44.1875 33.984375 37.640625 27.21875 \nQ 31.109375 20.453125 19.1875 8.296875 \nz\n\" id=\"DejaVuSans-50\"/>\n      </defs>\n      <g transform=\"translate(179.759643 239.238437)scale(0.1 -0.1)\">\n       <use xlink:href=\"#DejaVuSans-50\"/>\n       <use x=\"63.623047\" xlink:href=\"#DejaVuSans-48\"/>\n      </g>\n     </g>\n    </g>\n    <g id=\"xtick_6\">\n     <g id=\"line2d_6\">\n      <g>\n       <use style=\"stroke:#000000;stroke-width:0.8;\" x=\"224.950714\" xlink:href=\"#m8329391c54\" y=\"224.64\"/>\n      </g>\n     </g>\n     <g id=\"text_6\">\n      <!-- 25 -->\n      <g transform=\"translate(218.588214 239.238437)scale(0.1 -0.1)\">\n       <use xlink:href=\"#DejaVuSans-50\"/>\n       <use x=\"63.623047\" xlink:href=\"#DejaVuSans-53\"/>\n      </g>\n     </g>\n    </g>\n   </g>\n   <g id=\"matplotlib.axis_2\">\n    <g id=\"ytick_1\">\n     <g id=\"line2d_7\">\n      <defs>\n       <path d=\"M 0 0 \nL -3.5 0 \n\" id=\"m342a83c0c0\" style=\"stroke:#000000;stroke-width:0.8;\"/>\n      </defs>\n      <g>\n       <use style=\"stroke:#000000;stroke-width:0.8;\" x=\"26.925\" xlink:href=\"#m342a83c0c0\" y=\"11.082857\"/>\n      </g>\n     </g>\n     <g id=\"text_7\">\n      <!-- 0 -->\n      <g transform=\"translate(13.5625 14.882076)scale(0.1 -0.1)\">\n       <use xlink:href=\"#DejaVuSans-48\"/>\n      </g>\n     </g>\n    </g>\n    <g id=\"ytick_2\">\n     <g id=\"line2d_8\">\n      <g>\n       <use style=\"stroke:#000000;stroke-width:0.8;\" x=\"26.925\" xlink:href=\"#m342a83c0c0\" y=\"49.911429\"/>\n      </g>\n     </g>\n     <g id=\"text_8\">\n      <!-- 5 -->\n      <g transform=\"translate(13.5625 53.710647)scale(0.1 -0.1)\">\n       <use xlink:href=\"#DejaVuSans-53\"/>\n      </g>\n     </g>\n    </g>\n    <g id=\"ytick_3\">\n     <g id=\"line2d_9\">\n      <g>\n       <use style=\"stroke:#000000;stroke-width:0.8;\" x=\"26.925\" xlink:href=\"#m342a83c0c0\" y=\"88.74\"/>\n      </g>\n     </g>\n     <g id=\"text_9\">\n      <!-- 10 -->\n      <g transform=\"translate(7.2 92.539219)scale(0.1 -0.1)\">\n       <use xlink:href=\"#DejaVuSans-49\"/>\n       <use x=\"63.623047\" xlink:href=\"#DejaVuSans-48\"/>\n      </g>\n     </g>\n    </g>\n    <g id=\"ytick_4\">\n     <g id=\"line2d_10\">\n      <g>\n       <use style=\"stroke:#000000;stroke-width:0.8;\" x=\"26.925\" xlink:href=\"#m342a83c0c0\" y=\"127.568571\"/>\n      </g>\n     </g>\n     <g id=\"text_10\">\n      <!-- 15 -->\n      <g transform=\"translate(7.2 131.36779)scale(0.1 -0.1)\">\n       <use xlink:href=\"#DejaVuSans-49\"/>\n       <use x=\"63.623047\" xlink:href=\"#DejaVuSans-53\"/>\n      </g>\n     </g>\n    </g>\n    <g id=\"ytick_5\">\n     <g id=\"line2d_11\">\n      <g>\n       <use style=\"stroke:#000000;stroke-width:0.8;\" x=\"26.925\" xlink:href=\"#m342a83c0c0\" y=\"166.397143\"/>\n      </g>\n     </g>\n     <g id=\"text_11\">\n      <!-- 20 -->\n      <g transform=\"translate(7.2 170.196362)scale(0.1 -0.1)\">\n       <use xlink:href=\"#DejaVuSans-50\"/>\n       <use x=\"63.623047\" xlink:href=\"#DejaVuSans-48\"/>\n      </g>\n     </g>\n    </g>\n    <g id=\"ytick_6\">\n     <g id=\"line2d_12\">\n      <g>\n       <use style=\"stroke:#000000;stroke-width:0.8;\" x=\"26.925\" xlink:href=\"#m342a83c0c0\" y=\"205.225714\"/>\n      </g>\n     </g>\n     <g id=\"text_12\">\n      <!-- 25 -->\n      <g transform=\"translate(7.2 209.024933)scale(0.1 -0.1)\">\n       <use xlink:href=\"#DejaVuSans-50\"/>\n       <use x=\"63.623047\" xlink:href=\"#DejaVuSans-53\"/>\n      </g>\n     </g>\n    </g>\n   </g>\n   <g id=\"patch_3\">\n    <path d=\"M 26.925 224.64 \nL 26.925 7.2 \n\" style=\"fill:none;stroke:#000000;stroke-linecap:square;stroke-linejoin:miter;stroke-width:0.8;\"/>\n   </g>\n   <g id=\"patch_4\">\n    <path d=\"M 244.365 224.64 \nL 244.365 7.2 \n\" style=\"fill:none;stroke:#000000;stroke-linecap:square;stroke-linejoin:miter;stroke-width:0.8;\"/>\n   </g>\n   <g id=\"patch_5\">\n    <path d=\"M 26.925 224.64 \nL 244.365 224.64 \n\" style=\"fill:none;stroke:#000000;stroke-linecap:square;stroke-linejoin:miter;stroke-width:0.8;\"/>\n   </g>\n   <g id=\"patch_6\">\n    <path d=\"M 26.925 7.2 \nL 244.365 7.2 \n\" style=\"fill:none;stroke:#000000;stroke-linecap:square;stroke-linejoin:miter;stroke-width:0.8;\"/>\n   </g>\n  </g>\n </g>\n <defs>\n  <clipPath id=\"pc84e093e33\">\n   <rect height=\"217.44\" width=\"217.44\" x=\"26.925\" y=\"7.2\"/>\n  </clipPath>\n </defs>\n</svg>\n"
     },
     "metadata": {
      "needs_background": "light"
     }
    }
   ],
   "source": [
    "plt.imshow(image.squeeze(dim=0).permute(1,2,0).squeeze(axis=2))"
   ]
  },
  {
   "cell_type": "code",
   "execution_count": null,
   "id": "69c000ce",
   "metadata": {
    "colab": {
     "base_uri": "https://localhost:8080/"
    },
    "id": "69c000ce",
    "outputId": "e92e665b-4421-4c59-f08b-1195a4c4eb49",
    "pycharm": {
     "name": "#%%\n"
    }
   },
   "outputs": [
    {
     "output_type": "execute_result",
     "data": {
      "text/plain": [
       "9"
      ]
     },
     "metadata": {},
     "execution_count": 161
    }
   ],
   "source": [
    "y_pred.argmax()"
   ]
  },
  {
   "cell_type": "markdown",
   "source": [
    "### Batch inference"
   ],
   "metadata": {
    "id": "JSDM3xI8_2nL",
    "pycharm": {
     "name": "#%% md\n"
    }
   },
   "id": "JSDM3xI8_2nL"
  },
  {
   "cell_type": "code",
   "execution_count": null,
   "id": "941a07d8",
   "metadata": {
    "id": "941a07d8",
    "pycharm": {
     "name": "#%%\n"
    }
   },
   "outputs": [],
   "source": [
    "def tflite_batch_inference(tflite_path, data):\n",
    "  '''perform batch inference on a tensorflow lite model\n",
    "  args:\n",
    "    - tflite_path = pathlib.Path\n",
    "    - data = np.array\n",
    "    - data_type = np.dtype\n",
    "  returns:\n",
    "    - output_data: np.array\n",
    "  '''\n",
    "  # Load the TFLite model and allocate tensors.\n",
    "  interpreter = tf.lite.Interpreter(model_path=tflite_path)\n",
    "  # Get input and output tensors.\n",
    "  input_details = interpreter.get_input_details()\n",
    "  output_details = interpreter.get_output_details()\n",
    "\n",
    "  # Adjust graph input to handle batch tensor\n",
    "  interpreter.resize_tensor_input(input_details[0]['index'], data.shape)\n",
    "  print(data.shape)\n",
    "  # Adjust output #1 in graph to handle batch tensor\n",
    "  interpreter.resize_tensor_input(output_details[0]['index'], [data.shape[0], 1])\n",
    "  print( [data.shape[0], 1])\n",
    "  interpreter.allocate_tensors()\n",
    "\n",
    "  interpreter.set_tensor(input_details[0]['index'], data)\n",
    "  interpreter.invoke()\n",
    "  # The function `get_tensor()` returns a copy of the tensor data.\n",
    "  # Use `tensor()` in order to get a pointer to the tensor.\n",
    "  output_data = interpreter.get_tensor(output_details[0]['index'])\n",
    "\n",
    "  return output_data"
   ]
  },
  {
   "cell_type": "markdown",
   "source": [
    "Note: This **does not work** because of the conversation between NCHW and NHWC is not implemented by ONNX-Tensorflow"
   ],
   "metadata": {
    "id": "0lFdUm1MReKJ",
    "pycharm": {
     "name": "#%% md\n"
    }
   },
   "id": "0lFdUm1MReKJ"
  },
  {
   "cell_type": "markdown",
   "source": [
    "### Export to TFlite micro model .cc\n"
   ],
   "metadata": {
    "id": "msRN27MNAFVc",
    "pycharm": {
     "name": "#%% md\n"
    }
   },
   "id": "msRN27MNAFVc"
  },
  {
   "cell_type": "markdown",
   "id": "3885aac0",
   "metadata": {
    "id": "3885aac0",
    "pycharm": {
     "name": "#%% md\n"
    }
   },
   "source": [
    "Let's convert TFLite to TFLite micro in `.CC`\n",
    "If there is no `xxd` in your env, please install it.\n",
    "```\n",
    "!apt-get install xxd\n",
    "```"
   ]
  },
  {
   "cell_type": "code",
   "source": [
    "!apt-get install xxd"
   ],
   "metadata": {
    "colab": {
     "base_uri": "https://localhost:8080/"
    },
    "id": "hib3sk2jSdGS",
    "outputId": "df0fbaf2-a114-4db4-e0df-66529f6ecd62",
    "pycharm": {
     "name": "#%%\n"
    }
   },
   "id": "hib3sk2jSdGS",
   "execution_count": null,
   "outputs": [
    {
     "output_type": "stream",
     "name": "stdout",
     "text": [
      "Reading package lists... Done\n",
      "Building dependency tree       \n",
      "Reading state information... Done\n",
      "xxd is already the newest version (2:8.0.1453-1ubuntu1.8).\n",
      "The following package was automatically installed and is no longer required:\n",
      "  libnvidia-common-460\n",
      "Use 'apt autoremove' to remove it.\n",
      "0 upgraded, 0 newly installed, 0 to remove and 49 not upgraded.\n"
     ]
    }
   ]
  },
  {
   "cell_type": "code",
   "execution_count": null,
   "id": "c518a6bf",
   "metadata": {
    "id": "c518a6bf",
    "pycharm": {
     "name": "#%%\n"
    }
   },
   "outputs": [],
   "source": [
    "!xxd -i model_best.tflite > model_data.cc"
   ]
  },
  {
   "cell_type": "markdown",
   "source": [
    "Let's check the size of model"
   ],
   "metadata": {
    "id": "3RAX-ZNtShDh",
    "pycharm": {
     "name": "#%% md\n"
    }
   },
   "id": "3RAX-ZNtShDh"
  },
  {
   "cell_type": "code",
   "source": [
    "!tail -n1 model_data.cc"
   ],
   "metadata": {
    "colab": {
     "base_uri": "https://localhost:8080/"
    },
    "id": "Qvm0UQsAR1Co",
    "outputId": "6c1ed41a-b08b-443d-e8c4-fd3d551ea119",
    "pycharm": {
     "name": "#%%\n"
    }
   },
   "id": "Qvm0UQsAR1Co",
   "execution_count": null,
   "outputs": [
    {
     "output_type": "stream",
     "name": "stdout",
     "text": [
      "unsigned int model_best_tflite_len = 696288;\n"
     ]
    }
   ]
  },
  {
   "cell_type": "code",
   "source": [],
   "metadata": {
    "id": "qRe5FY5kSpYL",
    "pycharm": {
     "name": "#%%\n"
    }
   },
   "id": "qRe5FY5kSpYL",
   "execution_count": null,
   "outputs": []
  }
 ],
 "metadata": {
  "kernelspec": {
   "display_name": "Python 3 (ipykernel)",
   "language": "python",
   "name": "python3"
  },
  "language_info": {
   "codemirror_mode": {
    "name": "ipython",
    "version": 3
   },
   "file_extension": ".py",
   "mimetype": "text/x-python",
   "name": "python",
   "nbconvert_exporter": "python",
   "pygments_lexer": "ipython3",
   "version": "3.8.5"
  },
  "colab": {
   "name": "CNN_MNIST_Torch2TFlite.ipynb",
   "provenance": [],
   "collapsed_sections": [],
   "toc_visible": true
  },
  "accelerator": "GPU",
  "gpuClass": "standard"
 },
 "nbformat": 4,
 "nbformat_minor": 5
}