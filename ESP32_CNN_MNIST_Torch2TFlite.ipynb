{
 "cells": [
  {
   "cell_type": "markdown",
   "source": [
    "### Install packages"
   ],
   "metadata": {
    "id": "k6Y6ltKIpkLW",
    "pycharm": {
     "name": "#%% md\n"
    }
   },
   "id": "k6Y6ltKIpkLW"
  },
  {
   "cell_type": "code",
   "source": [
    "!pip install onnx onnxruntime"
   ],
   "metadata": {
    "colab": {
     "base_uri": "https://localhost:8080/"
    },
    "id": "B73-vEaJocU0",
    "outputId": "29b01677-8807-4099-8237-f0c05fab8749",
    "pycharm": {
     "name": "#%%\n"
    }
   },
   "id": "B73-vEaJocU0",
   "execution_count": 1,
   "outputs": [
    {
     "output_type": "stream",
     "name": "stdout",
     "text": [
      "Looking in indexes: https://pypi.org/simple, https://us-python.pkg.dev/colab-wheels/public/simple/\n",
      "Collecting onnx\n",
      "  Downloading onnx-1.12.0-cp37-cp37m-manylinux_2_17_x86_64.manylinux2014_x86_64.whl (13.1 MB)\n",
      "\u001B[K     |████████████████████████████████| 13.1 MB 4.5 MB/s \n",
      "\u001B[?25hCollecting onnxruntime\n",
      "  Downloading onnxruntime-1.11.1-cp37-cp37m-manylinux_2_17_x86_64.manylinux2014_x86_64.whl (5.2 MB)\n",
      "\u001B[K     |████████████████████████████████| 5.2 MB 43.1 MB/s \n",
      "\u001B[?25hRequirement already satisfied: numpy>=1.16.6 in /usr/local/lib/python3.7/dist-packages (from onnx) (1.21.6)\n",
      "Requirement already satisfied: protobuf<=3.20.1,>=3.12.2 in /usr/local/lib/python3.7/dist-packages (from onnx) (3.17.3)\n",
      "Requirement already satisfied: typing-extensions>=3.6.2.1 in /usr/local/lib/python3.7/dist-packages (from onnx) (4.1.1)\n",
      "Requirement already satisfied: six>=1.9 in /usr/local/lib/python3.7/dist-packages (from protobuf<=3.20.1,>=3.12.2->onnx) (1.15.0)\n",
      "Requirement already satisfied: flatbuffers in /usr/local/lib/python3.7/dist-packages (from onnxruntime) (2.0)\n",
      "Installing collected packages: onnxruntime, onnx\n",
      "Successfully installed onnx-1.12.0 onnxruntime-1.11.1\n"
     ]
    }
   ]
  },
  {
   "cell_type": "code",
   "source": [
    "!git clone https://github.com/onnx/onnx-tensorflow.git && cd onnx-tensorflow && pip install -e ."
   ],
   "metadata": {
    "colab": {
     "base_uri": "https://localhost:8080/"
    },
    "id": "oCHUfwmTpG0Q",
    "outputId": "65d82531-1fa4-43f7-b484-0cbbe580e2a8",
    "pycharm": {
     "name": "#%%\n"
    }
   },
   "id": "oCHUfwmTpG0Q",
   "execution_count": 2,
   "outputs": [
    {
     "output_type": "stream",
     "name": "stdout",
     "text": [
      "Cloning into 'onnx-tensorflow'...\n",
      "remote: Enumerating objects: 6513, done.\u001B[K\n",
      "remote: Counting objects: 100% (462/462), done.\u001B[K\n",
      "remote: Compressing objects: 100% (186/186), done.\u001B[K\n",
      "remote: Total 6513 (delta 321), reused 392 (delta 272), pack-reused 6051\u001B[K\n",
      "Receiving objects: 100% (6513/6513), 1.98 MiB | 14.09 MiB/s, done.\n",
      "Resolving deltas: 100% (5046/5046), done.\n",
      "Looking in indexes: https://pypi.org/simple, https://us-python.pkg.dev/colab-wheels/public/simple/\n",
      "Obtaining file:///content/onnx-tensorflow\n",
      "Requirement already satisfied: onnx>=1.10.2 in /usr/local/lib/python3.7/dist-packages (from onnx-tf==1.10.0) (1.12.0)\n",
      "Requirement already satisfied: PyYAML in /usr/local/lib/python3.7/dist-packages (from onnx-tf==1.10.0) (3.13)\n",
      "Collecting tensorflow_addons\n",
      "  Downloading tensorflow_addons-0.17.1-cp37-cp37m-manylinux_2_17_x86_64.manylinux2014_x86_64.whl (1.1 MB)\n",
      "\u001B[K     |████████████████████████████████| 1.1 MB 5.1 MB/s \n",
      "\u001B[?25hRequirement already satisfied: tensorflow_probability in /usr/local/lib/python3.7/dist-packages (from onnx-tf==1.10.0) (0.16.0)\n",
      "Requirement already satisfied: numpy>=1.16.6 in /usr/local/lib/python3.7/dist-packages (from onnx>=1.10.2->onnx-tf==1.10.0) (1.21.6)\n",
      "Requirement already satisfied: protobuf<=3.20.1,>=3.12.2 in /usr/local/lib/python3.7/dist-packages (from onnx>=1.10.2->onnx-tf==1.10.0) (3.17.3)\n",
      "Requirement already satisfied: typing-extensions>=3.6.2.1 in /usr/local/lib/python3.7/dist-packages (from onnx>=1.10.2->onnx-tf==1.10.0) (4.1.1)\n",
      "Requirement already satisfied: six>=1.9 in /usr/local/lib/python3.7/dist-packages (from protobuf<=3.20.1,>=3.12.2->onnx>=1.10.2->onnx-tf==1.10.0) (1.15.0)\n",
      "Requirement already satisfied: typeguard>=2.7 in /usr/local/lib/python3.7/dist-packages (from tensorflow_addons->onnx-tf==1.10.0) (2.7.1)\n",
      "Requirement already satisfied: packaging in /usr/local/lib/python3.7/dist-packages (from tensorflow_addons->onnx-tf==1.10.0) (21.3)\n",
      "Requirement already satisfied: pyparsing!=3.0.5,>=2.0.2 in /usr/local/lib/python3.7/dist-packages (from packaging->tensorflow_addons->onnx-tf==1.10.0) (3.0.9)\n",
      "Requirement already satisfied: gast>=0.3.2 in /usr/local/lib/python3.7/dist-packages (from tensorflow_probability->onnx-tf==1.10.0) (0.5.3)\n",
      "Requirement already satisfied: absl-py in /usr/local/lib/python3.7/dist-packages (from tensorflow_probability->onnx-tf==1.10.0) (1.1.0)\n",
      "Requirement already satisfied: dm-tree in /usr/local/lib/python3.7/dist-packages (from tensorflow_probability->onnx-tf==1.10.0) (0.1.7)\n",
      "Requirement already satisfied: cloudpickle>=1.3 in /usr/local/lib/python3.7/dist-packages (from tensorflow_probability->onnx-tf==1.10.0) (1.3.0)\n",
      "Requirement already satisfied: decorator in /usr/local/lib/python3.7/dist-packages (from tensorflow_probability->onnx-tf==1.10.0) (4.4.2)\n",
      "Installing collected packages: tensorflow-addons, onnx-tf\n",
      "  Running setup.py develop for onnx-tf\n",
      "Successfully installed onnx-tf-1.10.0 tensorflow-addons-0.17.1\n"
     ]
    }
   ]
  },
  {
   "cell_type": "code",
   "source": [
    "import sys\n",
    "sys.path.append(\"./onnx-tensorflow\")"
   ],
   "metadata": {
    "id": "n4nja4ffZ92-",
    "pycharm": {
     "name": "#%%\n"
    }
   },
   "id": "n4nja4ffZ92-",
   "execution_count": 3,
   "outputs": []
  },
  {
   "cell_type": "markdown",
   "source": [
    "### Train model on MNIST with Pytorch\n"
   ],
   "metadata": {
    "id": "L8ww6ohfQhOA",
    "pycharm": {
     "name": "#%% md\n"
    }
   },
   "id": "L8ww6ohfQhOA"
  },
  {
   "cell_type": "code",
   "execution_count": 4,
   "id": "58bc1a69",
   "metadata": {
    "id": "58bc1a69",
    "pycharm": {
     "name": "#%%\n"
    }
   },
   "outputs": [],
   "source": [
    "import torch\n",
    "import torch.nn as nn\n",
    "import torch.nn.functional as F\n",
    "from enum import Enum\n",
    "import shutil\n",
    "import time\n",
    "import numpy as np"
   ]
  },
  {
   "cell_type": "code",
   "execution_count": 5,
   "id": "f19692aa",
   "metadata": {
    "id": "f19692aa",
    "pycharm": {
     "name": "#%%\n"
    }
   },
   "outputs": [],
   "source": [
    "from torchvision import datasets, transforms\n",
    "from torch.utils.data import DataLoader\n",
    "import torch.optim as optim"
   ]
  },
  {
   "cell_type": "code",
   "execution_count": 6,
   "id": "7fc638bd",
   "metadata": {
    "id": "7fc638bd",
    "pycharm": {
     "name": "#%%\n"
    }
   },
   "outputs": [],
   "source": [
    "class Summary(Enum):\n",
    "    NONE = 0\n",
    "    AVERAGE = 1\n",
    "    SUM = 2\n",
    "    COUNT = 3\n",
    "\n",
    "\n",
    "class AverageMeter(object):\n",
    "    \"\"\"Computes and stores the average and current value\"\"\"\n",
    "\n",
    "    def __init__(self, name, fmt=':f', summary_type=Summary.AVERAGE):\n",
    "        self.name = name\n",
    "        self.fmt = fmt\n",
    "        self.summary_type = summary_type\n",
    "        self.reset()\n",
    "\n",
    "    def reset(self):\n",
    "        self.val = 0\n",
    "        self.avg = 0\n",
    "        self.sum = 0\n",
    "        self.count = 0\n",
    "\n",
    "    def update(self, val, n=1):\n",
    "        self.val = val\n",
    "        self.sum += val * n\n",
    "        self.count += n\n",
    "        self.avg = self.sum / self.count\n",
    "\n",
    "    def __str__(self):\n",
    "        fmtstr = '{name} {val' + self.fmt + '} ({avg' + self.fmt + '})'\n",
    "        return fmtstr.format(**self.__dict__)\n",
    "\n",
    "    def summary(self):\n",
    "        fmtstr = ''\n",
    "        if self.summary_type is Summary.NONE:\n",
    "            fmtstr = ''\n",
    "        elif self.summary_type is Summary.AVERAGE:\n",
    "            fmtstr = '{name} {avg:.3f}'\n",
    "        elif self.summary_type is Summary.SUM:\n",
    "            fmtstr = '{name} {sum:.3f}'\n",
    "        elif self.summary_type is Summary.COUNT:\n",
    "            fmtstr = '{name} {count:.3f}'\n",
    "        else:\n",
    "            raise ValueError('invalid summary type %r' % self.summary_type)\n",
    "\n",
    "        return fmtstr.format(**self.__dict__)\n",
    "\n",
    "\n",
    "class ProgressMeter(object):\n",
    "    def __init__(self, num_batches, meters, prefix=\"\"):\n",
    "        self.batch_fmtstr = self._get_batch_fmtstr(num_batches)\n",
    "        self.meters = meters\n",
    "        self.prefix = prefix\n",
    "\n",
    "    def display(self, batch):\n",
    "        entries = [self.prefix + self.batch_fmtstr.format(batch)]\n",
    "        entries += [str(meter) for meter in self.meters]\n",
    "        print('\\t'.join(entries))\n",
    "\n",
    "    def display_summary(self):\n",
    "        entries = [\" *\"]\n",
    "        entries += [meter.summary() for meter in self.meters]\n",
    "        print(' '.join(entries))\n",
    "\n",
    "    def _get_batch_fmtstr(self, num_batches):\n",
    "        num_digits = len(str(num_batches // 1))\n",
    "        fmt = '{:' + str(num_digits) + 'd}'\n",
    "        return '[' + fmt + '/' + fmt.format(num_batches) + ']'\n"
   ]
  },
  {
   "cell_type": "code",
   "execution_count": 7,
   "id": "258d8368",
   "metadata": {
    "id": "258d8368",
    "pycharm": {
     "name": "#%%\n"
    }
   },
   "outputs": [],
   "source": [
    "def accuracy(output, target, topk=(1,)):\n",
    "    \"\"\"Computes the accuracy over the k top predictions for the specified values of k\"\"\"\n",
    "    with torch.no_grad():\n",
    "        maxk = max(topk)\n",
    "        batch_size = target.size(0)\n",
    "\n",
    "        _, pred = output.topk(maxk, 1, True, True)\n",
    "        pred = pred.t()\n",
    "        correct = pred.eq(target.view(1, -1).expand_as(pred))\n",
    "\n",
    "        res = []\n",
    "        for k in topk:\n",
    "            correct_k = correct[:k].reshape(-1).float().sum(0, keepdim=True)\n",
    "            res.append(correct_k.mul_(100.0 / batch_size))\n",
    "        return res\n"
   ]
  },
  {
   "cell_type": "code",
   "execution_count": 8,
   "id": "607afbf1",
   "metadata": {
    "id": "607afbf1",
    "pycharm": {
     "name": "#%%\n"
    }
   },
   "outputs": [],
   "source": [
    "transform=transforms.Compose([\n",
    "        transforms.ToTensor(),\n",
    "        transforms.Normalize((0.1307,), (0.3081,))\n",
    "        ])"
   ]
  },
  {
   "cell_type": "code",
   "execution_count": 9,
   "id": "381a3fb8",
   "metadata": {
    "id": "381a3fb8",
    "colab": {
     "base_uri": "https://localhost:8080/",
     "height": 431,
     "referenced_widgets": [
      "ef9ff200b80f46d9a16e9fc78f7d5d83",
      "a1d147fd4eb849f799bbd1339da12dc3",
      "3b13a806ea7541ceb3ac239e25b69933",
      "9d3813f487fe4a96937f879c82639c26",
      "98b92198067143c49da35400b13de125",
      "dbadda1da5b1405ab65c2b3366e8e59e",
      "24cecdf5131346e5841fbb89f43c09e9",
      "1e7754c443aa484d91c3e80bc4a89e23",
      "542efd3e332e424f975934376c7cdf0b",
      "1af01b56d60d43a89fc7a821b5ecf90b",
      "bb89bfcfa0b94efa85bfc7b3608d9889",
      "55dafceb5c954e78ac1a78cce4f9cf43",
      "d7348b5617ab4b348a7ceceeb8dfa116",
      "4d7df86185c143ee9d0ce06c51d7aeed",
      "f8f53625e79842db9fb2fa4266b060ae",
      "531bc62e601443908f06367f197d26b9",
      "87e3a53ecc86408a86aa7a4303e31266",
      "238ab9b9550e4bd986475079017b8750",
      "e4e54b0c8e5440fda688721d4b46b23c",
      "0c24b4665b244d1181fd8245e1aa8449",
      "a7e58460ff6041e69d8f72a8086ac9c7",
      "45da4ff6c2a444f5b099461c08e56acb",
      "13cce13e1a9b4094ab13587e03b333fd",
      "4eee9780e57d4117b2c320d6bd1e0304",
      "17dbe9bbb96f4cafabab49f1964572df",
      "a6f51505816c457d96323d9e58465d27",
      "3b5ee564c93d4e5eb3b4db952e265f7c",
      "015a121d8d0d4d24bd0ba5e8127040a2",
      "228762d5dff947d9b00ca83c15a87ba3",
      "576e3d7e7fe1493eb6a0af2b4997b87b",
      "4a835d78356141be91e9948140fada9d",
      "9eae6e144f4d4da1938bd24157e07e4e",
      "6543cef043c348ba96a031846e47d309",
      "d1fc33a078ee4555a376ee32960997c3",
      "4c7ae3d961d148e9b814d682258bc2da",
      "7b8732d6529d4118b8125081e90f251d",
      "971138ccb9cc4006b85d4f120849b40c",
      "a103c914d17248e08ac69ad3396cc3f4",
      "b5bbb20580bf4269956482c3c24e8192",
      "97b6b73fc776408c82e1bb1434beb3e7",
      "bcf3b0c49f17462b9889c951efdb70a9",
      "d04d78e6842f4b1e941a9ac30600687b",
      "f84c4c753a8e4335aa3dda811fde8415",
      "6cb29e1283014efd9219e9a8bdbb6dec"
     ]
    },
    "outputId": "fda49a83-940d-4ec9-89ae-0effda308468",
    "pycharm": {
     "name": "#%%\n"
    }
   },
   "outputs": [
    {
     "output_type": "stream",
     "name": "stdout",
     "text": [
      "Downloading http://yann.lecun.com/exdb/mnist/train-images-idx3-ubyte.gz\n",
      "Downloading http://yann.lecun.com/exdb/mnist/train-images-idx3-ubyte.gz to ./data/MNIST/raw/train-images-idx3-ubyte.gz\n"
     ]
    },
    {
     "output_type": "display_data",
     "data": {
      "text/plain": [
       "  0%|          | 0/9912422 [00:00<?, ?it/s]"
      ],
      "application/vnd.jupyter.widget-view+json": {
       "version_major": 2,
       "version_minor": 0,
       "model_id": "ef9ff200b80f46d9a16e9fc78f7d5d83"
      }
     },
     "metadata": {}
    },
    {
     "output_type": "stream",
     "name": "stdout",
     "text": [
      "Extracting ./data/MNIST/raw/train-images-idx3-ubyte.gz to ./data/MNIST/raw\n",
      "\n",
      "Downloading http://yann.lecun.com/exdb/mnist/train-labels-idx1-ubyte.gz\n",
      "Downloading http://yann.lecun.com/exdb/mnist/train-labels-idx1-ubyte.gz to ./data/MNIST/raw/train-labels-idx1-ubyte.gz\n"
     ]
    },
    {
     "output_type": "display_data",
     "data": {
      "text/plain": [
       "  0%|          | 0/28881 [00:00<?, ?it/s]"
      ],
      "application/vnd.jupyter.widget-view+json": {
       "version_major": 2,
       "version_minor": 0,
       "model_id": "55dafceb5c954e78ac1a78cce4f9cf43"
      }
     },
     "metadata": {}
    },
    {
     "output_type": "stream",
     "name": "stdout",
     "text": [
      "Extracting ./data/MNIST/raw/train-labels-idx1-ubyte.gz to ./data/MNIST/raw\n",
      "\n",
      "Downloading http://yann.lecun.com/exdb/mnist/t10k-images-idx3-ubyte.gz\n",
      "Downloading http://yann.lecun.com/exdb/mnist/t10k-images-idx3-ubyte.gz to ./data/MNIST/raw/t10k-images-idx3-ubyte.gz\n"
     ]
    },
    {
     "output_type": "display_data",
     "data": {
      "text/plain": [
       "  0%|          | 0/1648877 [00:00<?, ?it/s]"
      ],
      "application/vnd.jupyter.widget-view+json": {
       "version_major": 2,
       "version_minor": 0,
       "model_id": "13cce13e1a9b4094ab13587e03b333fd"
      }
     },
     "metadata": {}
    },
    {
     "output_type": "stream",
     "name": "stdout",
     "text": [
      "Extracting ./data/MNIST/raw/t10k-images-idx3-ubyte.gz to ./data/MNIST/raw\n",
      "\n",
      "Downloading http://yann.lecun.com/exdb/mnist/t10k-labels-idx1-ubyte.gz\n",
      "Downloading http://yann.lecun.com/exdb/mnist/t10k-labels-idx1-ubyte.gz to ./data/MNIST/raw/t10k-labels-idx1-ubyte.gz\n"
     ]
    },
    {
     "output_type": "display_data",
     "data": {
      "text/plain": [
       "  0%|          | 0/4542 [00:00<?, ?it/s]"
      ],
      "application/vnd.jupyter.widget-view+json": {
       "version_major": 2,
       "version_minor": 0,
       "model_id": "d1fc33a078ee4555a376ee32960997c3"
      }
     },
     "metadata": {}
    },
    {
     "output_type": "stream",
     "name": "stdout",
     "text": [
      "Extracting ./data/MNIST/raw/t10k-labels-idx1-ubyte.gz to ./data/MNIST/raw\n",
      "\n"
     ]
    }
   ],
   "source": [
    "ds_train = datasets.MNIST('./data', train=True, download=True,\n",
    "                       transform=transform)"
   ]
  },
  {
   "cell_type": "code",
   "execution_count": 10,
   "id": "c0fc593f",
   "metadata": {
    "id": "c0fc593f",
    "pycharm": {
     "name": "#%%\n"
    }
   },
   "outputs": [],
   "source": [
    "ds_valid = datasets.MNIST('./data', train=False,\n",
    "                       transform=transform)"
   ]
  },
  {
   "cell_type": "code",
   "execution_count": 11,
   "id": "bc6f5b3e",
   "metadata": {
    "colab": {
     "base_uri": "https://localhost:8080/"
    },
    "id": "bc6f5b3e",
    "outputId": "f6c2d149-cfa3-47e0-c3e8-c312133de019",
    "pycharm": {
     "name": "#%%\n"
    }
   },
   "outputs": [
    {
     "output_type": "stream",
     "name": "stdout",
     "text": [
      "{'0 - zero': 0, '1 - one': 1, '2 - two': 2, '3 - three': 3, '4 - four': 4, '5 - five': 5, '6 - six': 6, '7 - seven': 7, '8 - eight': 8, '9 - nine': 9}\n"
     ]
    }
   ],
   "source": [
    "print(ds_train.class_to_idx)"
   ]
  },
  {
   "cell_type": "code",
   "execution_count": 12,
   "id": "842319eb",
   "metadata": {
    "id": "842319eb",
    "pycharm": {
     "name": "#%%\n"
    }
   },
   "outputs": [],
   "source": [
    "train_loader = DataLoader(ds_train,batch_size = 50,shuffle = True,num_workers=2)\n",
    "val_loader = DataLoader(ds_valid,batch_size = 50,shuffle = True,num_workers=2)"
   ]
  },
  {
   "cell_type": "markdown",
   "source": [
    "#### Check loaded MNIST image examples"
   ],
   "metadata": {
    "id": "SF9mott6Qua0",
    "pycharm": {
     "name": "#%% md\n"
    }
   },
   "id": "SF9mott6Qua0"
  },
  {
   "cell_type": "code",
   "execution_count": 13,
   "id": "67ae4b4b",
   "metadata": {
    "colab": {
     "base_uri": "https://localhost:8080/",
     "height": 645
    },
    "id": "67ae4b4b",
    "outputId": "ce29a068-0c4a-491f-fb93-1653a9654557",
    "pycharm": {
     "name": "#%%\n"
    }
   },
   "outputs": [
    {
     "output_type": "display_data",
     "data": {
      "text/plain": [
       "<Figure size 576x576 with 9 Axes>"
      ],
      "image/svg+xml": "<?xml version=\"1.0\" encoding=\"utf-8\" standalone=\"no\"?>\n<!DOCTYPE svg PUBLIC \"-//W3C//DTD SVG 1.1//EN\"\n  \"http://www.w3.org/Graphics/SVG/1.1/DTD/svg11.dtd\">\n<!-- Created with matplotlib (https://matplotlib.org/) -->\n<svg height=\"467.898125pt\" version=\"1.1\" viewBox=\"0 0 460.911765 467.898125\" width=\"460.911765pt\" xmlns=\"http://www.w3.org/2000/svg\" xmlns:xlink=\"http://www.w3.org/1999/xlink\">\n <defs>\n  <style type=\"text/css\">\n*{stroke-linecap:butt;stroke-linejoin:round;}\n  </style>\n </defs>\n <g id=\"figure_1\">\n  <g id=\"patch_1\">\n   <path d=\"M 0 467.898125 \nL 460.911765 467.898125 \nL 460.911765 0 \nL 0 0 \nz\n\" style=\"fill:none;\"/>\n  </g>\n  <g id=\"axes_1\">\n   <g id=\"patch_2\">\n    <path d=\"M 10.7 150.224007 \nL 138.605882 150.224007 \nL 138.605882 22.318125 \nL 10.7 22.318125 \nz\n\" style=\"fill:#ffffff;\"/>\n   </g>\n   <g clip-path=\"url(#p8ea23f3b77)\">\n    <image height=\"128\" id=\"imageaf0883d707\" transform=\"scale(1 -1)translate(0 -128)\" width=\"128\" x=\"10.7\" xlink:href=\"data:image/png;base64,\niVBORw0KGgoAAAANSUhEUgAAAIAAAACACAYAAADDPmHLAAAABHNCSVQICAgIfAhkiAAABPNJREFUeJztnVtoVFcUhuc4xzqOnRrTNDWlGMdEE29NwKCxhrTQVn0QQVRiHhQitqjY0JrSBymoRdHgBaS0KQhFCwFtFEHw8qZB8JagKMZLMDFivIwkIVFjMObM6fPKGpjJsJOZzP9/b2uxcvYmfFlZnLPnjPWttcr1EFjGJHoDJLFQAHAoADgUABwKAA4FAIcCgEMBwKEA4FAAcCgAOBQAHAoAjm3qQs0183VueU1c1/qzO0fEh+oXqxrLsUScv+uRqnFCL+NaHwl2AHAoADgUABzL1Img/iVFOvdzl4i35Z5VNYvH95pY3hNy+lSu9HSViPN/u69qnO4eI+uPVtgBwKEA4FAAcCgAOMaGwFiwsyarXNc/E1RuU7BexOWBkJH1tzwtUbkbNYUql3HijojDr18bWT8ZYQcAhwKAQwHAGdEZIFbsqVNE3DMvS9WU/X5exBvTWo2tX/W8WMRX/tI3udKPXJeJsGNs/ZGEHQAcCgAOBQCHAoCTlENgLNjBbBG3VHymanaUHRPxyg87jK2/LSQHw/pDxapm0tErxtYbLtgBwKEA4FAAcCgAOKN2CIwFq2iOiJsrP1A1hxcdVblSX/+Q13rnvle5NQ9XiPj918+HfN3hhh0AHAoADgUAJ6VngFgIl+gTQS2rfSKeU9imak7mnol67erO2SK+VKhPPyX6KSI7ADgUABwKAA4FAAd+CIyX/9rlkz6/pW8yvXXlDaVlP/6kavynrpnd2BBhBwCHAoBDAcAx9o6gVML7aaaIn5Xlqhqf1RD1Ot+3LRNxov/fR4IdABwKAA4FAIcCgAM/BLqL9NNA/952ETdM+yPCT8q/nfwLG1RF3s7BL6DqHOr2hh12AHAoADgUAByoGaBr/UKVq92+X+WCtk/lBjP73y0izj+sT/wOtLbFvrkEwQ4ADgUAhwKAQwHASekhcEzBTBEf275P1TT1Z6rcikb5kS735kRVE9wtTwQNuKPzYBU7ADgUABwKAA4FACdlhkBvmh7U0mvk3bkp9nhVs/bXdSr3+fGr5jaW5LADgEMBwKEA4KTMDHCveobKNWf/LeKKx9+omkBd9OPdqQw7ADgUABwKAA4FAGdUDIHejI9VzumU30s89qPoL3dsqp2lcpnhy/FvLAVgBwCHAoBDAcBJyhmgq0Ie3361tFfVeG/nibipNNLHtyTLf6hXuYbaDJVzuuVHutyFBaqmrVLGwfJbUddPRtgBwKEA4FAAcCgAOAl/UaSdNVnlyi40irg8EBq29Qd/T7DH4/G0vpGD4ZGcE6qmJyx/bZuzS8xubIRgBwCHAoBDAcBJ+I2gd3n6K1/n+Z4MyugXMZviQFYsJ4D1+wL8lvymj1Dll6rG7o0+XgWeDqjcuI4+EbuNd6JeJ17YAcChAOBQAHAoADgJvxEUCe/M6SJ2x41VNc++ShNxX7F+Ypg+UeYuFRw3sLvInHsbULnqlqUivji3TtW0D/Sp3N7QdyK+u+cLVWPqzePsAOBQAHAoADgUAJykHAJNYdnyRqf3E338KxYe/DJV5Rx/WMTZOS9VjX+zJeIXB/UdzRtFejDtcOTwuqCuStXkbjXzDgN2AHAoADgUAJyUngFIdNgBwKEA4FAAcCgAOBQAHAoADgUAhwKAQwHAoQDgUABwKAA4FAAcCgAOBQCHAoBDAcChAOBQAHAoADgUABwKAM7/dPTtzR9hWoAAAAAASUVORK5CYII=\" y=\"-22.224007\"/>\n   </g>\n   <g id=\"matplotlib.axis_1\"/>\n   <g id=\"matplotlib.axis_2\"/>\n   <g id=\"patch_3\">\n    <path d=\"M 10.7 150.224007 \nL 10.7 22.318125 \n\" style=\"fill:none;stroke:#000000;stroke-linecap:square;stroke-linejoin:miter;stroke-width:0.8;\"/>\n   </g>\n   <g id=\"patch_4\">\n    <path d=\"M 138.605882 150.224007 \nL 138.605882 22.318125 \n\" style=\"fill:none;stroke:#000000;stroke-linecap:square;stroke-linejoin:miter;stroke-width:0.8;\"/>\n   </g>\n   <g id=\"patch_5\">\n    <path d=\"M 10.7 150.224007 \nL 138.605882 150.224007 \n\" style=\"fill:none;stroke:#000000;stroke-linecap:square;stroke-linejoin:miter;stroke-width:0.8;\"/>\n   </g>\n   <g id=\"patch_6\">\n    <path d=\"M 10.7 22.318125 \nL 138.605882 22.318125 \n\" style=\"fill:none;stroke:#000000;stroke-linecap:square;stroke-linejoin:miter;stroke-width:0.8;\"/>\n   </g>\n   <g id=\"text_1\">\n    <!-- label = 5 -->\n    <defs>\n     <path d=\"M 9.421875 75.984375 \nL 18.40625 75.984375 \nL 18.40625 0 \nL 9.421875 0 \nz\n\" id=\"DejaVuSans-108\"/>\n     <path d=\"M 34.28125 27.484375 \nQ 23.390625 27.484375 19.1875 25 \nQ 14.984375 22.515625 14.984375 16.5 \nQ 14.984375 11.71875 18.140625 8.90625 \nQ 21.296875 6.109375 26.703125 6.109375 \nQ 34.1875 6.109375 38.703125 11.40625 \nQ 43.21875 16.703125 43.21875 25.484375 \nL 43.21875 27.484375 \nz\nM 52.203125 31.203125 \nL 52.203125 0 \nL 43.21875 0 \nL 43.21875 8.296875 \nQ 40.140625 3.328125 35.546875 0.953125 \nQ 30.953125 -1.421875 24.3125 -1.421875 \nQ 15.921875 -1.421875 10.953125 3.296875 \nQ 6 8.015625 6 15.921875 \nQ 6 25.140625 12.171875 29.828125 \nQ 18.359375 34.515625 30.609375 34.515625 \nL 43.21875 34.515625 \nL 43.21875 35.40625 \nQ 43.21875 41.609375 39.140625 45 \nQ 35.0625 48.390625 27.6875 48.390625 \nQ 23 48.390625 18.546875 47.265625 \nQ 14.109375 46.140625 10.015625 43.890625 \nL 10.015625 52.203125 \nQ 14.9375 54.109375 19.578125 55.046875 \nQ 24.21875 56 28.609375 56 \nQ 40.484375 56 46.34375 49.84375 \nQ 52.203125 43.703125 52.203125 31.203125 \nz\n\" id=\"DejaVuSans-97\"/>\n     <path d=\"M 48.6875 27.296875 \nQ 48.6875 37.203125 44.609375 42.84375 \nQ 40.53125 48.484375 33.40625 48.484375 \nQ 26.265625 48.484375 22.1875 42.84375 \nQ 18.109375 37.203125 18.109375 27.296875 \nQ 18.109375 17.390625 22.1875 11.75 \nQ 26.265625 6.109375 33.40625 6.109375 \nQ 40.53125 6.109375 44.609375 11.75 \nQ 48.6875 17.390625 48.6875 27.296875 \nz\nM 18.109375 46.390625 \nQ 20.953125 51.265625 25.265625 53.625 \nQ 29.59375 56 35.59375 56 \nQ 45.5625 56 51.78125 48.09375 \nQ 58.015625 40.1875 58.015625 27.296875 \nQ 58.015625 14.40625 51.78125 6.484375 \nQ 45.5625 -1.421875 35.59375 -1.421875 \nQ 29.59375 -1.421875 25.265625 0.953125 \nQ 20.953125 3.328125 18.109375 8.203125 \nL 18.109375 0 \nL 9.078125 0 \nL 9.078125 75.984375 \nL 18.109375 75.984375 \nz\n\" id=\"DejaVuSans-98\"/>\n     <path d=\"M 56.203125 29.59375 \nL 56.203125 25.203125 \nL 14.890625 25.203125 \nQ 15.484375 15.921875 20.484375 11.0625 \nQ 25.484375 6.203125 34.421875 6.203125 \nQ 39.59375 6.203125 44.453125 7.46875 \nQ 49.3125 8.734375 54.109375 11.28125 \nL 54.109375 2.78125 \nQ 49.265625 0.734375 44.1875 -0.34375 \nQ 39.109375 -1.421875 33.890625 -1.421875 \nQ 20.796875 -1.421875 13.15625 6.1875 \nQ 5.515625 13.8125 5.515625 26.8125 \nQ 5.515625 40.234375 12.765625 48.109375 \nQ 20.015625 56 32.328125 56 \nQ 43.359375 56 49.78125 48.890625 \nQ 56.203125 41.796875 56.203125 29.59375 \nz\nM 47.21875 32.234375 \nQ 47.125 39.59375 43.09375 43.984375 \nQ 39.0625 48.390625 32.421875 48.390625 \nQ 24.90625 48.390625 20.390625 44.140625 \nQ 15.875 39.890625 15.1875 32.171875 \nz\n\" id=\"DejaVuSans-101\"/>\n     <path id=\"DejaVuSans-32\"/>\n     <path d=\"M 10.59375 45.40625 \nL 73.1875 45.40625 \nL 73.1875 37.203125 \nL 10.59375 37.203125 \nz\nM 10.59375 25.484375 \nL 73.1875 25.484375 \nL 73.1875 17.1875 \nL 10.59375 17.1875 \nz\n\" id=\"DejaVuSans-61\"/>\n     <path d=\"M 10.796875 72.90625 \nL 49.515625 72.90625 \nL 49.515625 64.59375 \nL 19.828125 64.59375 \nL 19.828125 46.734375 \nQ 21.96875 47.46875 24.109375 47.828125 \nQ 26.265625 48.1875 28.421875 48.1875 \nQ 40.625 48.1875 47.75 41.5 \nQ 54.890625 34.8125 54.890625 23.390625 \nQ 54.890625 11.625 47.5625 5.09375 \nQ 40.234375 -1.421875 26.90625 -1.421875 \nQ 22.3125 -1.421875 17.546875 -0.640625 \nQ 12.796875 0.140625 7.71875 1.703125 \nL 7.71875 11.625 \nQ 12.109375 9.234375 16.796875 8.0625 \nQ 21.484375 6.890625 26.703125 6.890625 \nQ 35.15625 6.890625 40.078125 11.328125 \nQ 45.015625 15.765625 45.015625 23.390625 \nQ 45.015625 31 40.078125 35.4375 \nQ 35.15625 39.890625 26.703125 39.890625 \nQ 22.75 39.890625 18.8125 39.015625 \nQ 14.890625 38.140625 10.796875 36.28125 \nz\n\" id=\"DejaVuSans-53\"/>\n    </defs>\n    <g transform=\"translate(47.482316 16.318125)scale(0.12 -0.12)\">\n     <use xlink:href=\"#DejaVuSans-108\"/>\n     <use x=\"27.783203\" xlink:href=\"#DejaVuSans-97\"/>\n     <use x=\"89.0625\" xlink:href=\"#DejaVuSans-98\"/>\n     <use x=\"152.539062\" xlink:href=\"#DejaVuSans-101\"/>\n     <use x=\"214.0625\" xlink:href=\"#DejaVuSans-108\"/>\n     <use x=\"241.845703\" xlink:href=\"#DejaVuSans-32\"/>\n     <use x=\"273.632812\" xlink:href=\"#DejaVuSans-61\"/>\n     <use x=\"357.421875\" xlink:href=\"#DejaVuSans-32\"/>\n     <use x=\"389.208984\" xlink:href=\"#DejaVuSans-53\"/>\n    </g>\n   </g>\n  </g>\n  <g id=\"axes_2\">\n   <g id=\"patch_7\">\n    <path d=\"M 168.252941 150.224007 \nL 296.158824 150.224007 \nL 296.158824 22.318125 \nL 168.252941 22.318125 \nz\n\" style=\"fill:#ffffff;\"/>\n   </g>\n   <g clip-path=\"url(#p6a08f094bf)\">\n    <image height=\"128\" id=\"image47e7998143\" transform=\"scale(1 -1)translate(0 -128)\" width=\"128\" x=\"168.252941\" xlink:href=\"data:image/png;base64,\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\" y=\"-22.224007\"/>\n   </g>\n   <g id=\"matplotlib.axis_3\"/>\n   <g id=\"matplotlib.axis_4\"/>\n   <g id=\"patch_8\">\n    <path d=\"M 168.252941 150.224007 \nL 168.252941 22.318125 \n\" style=\"fill:none;stroke:#000000;stroke-linecap:square;stroke-linejoin:miter;stroke-width:0.8;\"/>\n   </g>\n   <g id=\"patch_9\">\n    <path d=\"M 296.158824 150.224007 \nL 296.158824 22.318125 \n\" style=\"fill:none;stroke:#000000;stroke-linecap:square;stroke-linejoin:miter;stroke-width:0.8;\"/>\n   </g>\n   <g id=\"patch_10\">\n    <path d=\"M 168.252941 150.224007 \nL 296.158824 150.224007 \n\" style=\"fill:none;stroke:#000000;stroke-linecap:square;stroke-linejoin:miter;stroke-width:0.8;\"/>\n   </g>\n   <g id=\"patch_11\">\n    <path d=\"M 168.252941 22.318125 \nL 296.158824 22.318125 \n\" style=\"fill:none;stroke:#000000;stroke-linecap:square;stroke-linejoin:miter;stroke-width:0.8;\"/>\n   </g>\n   <g id=\"text_2\">\n    <!-- label = 0 -->\n    <defs>\n     <path d=\"M 31.78125 66.40625 \nQ 24.171875 66.40625 20.328125 58.90625 \nQ 16.5 51.421875 16.5 36.375 \nQ 16.5 21.390625 20.328125 13.890625 \nQ 24.171875 6.390625 31.78125 6.390625 \nQ 39.453125 6.390625 43.28125 13.890625 \nQ 47.125 21.390625 47.125 36.375 \nQ 47.125 51.421875 43.28125 58.90625 \nQ 39.453125 66.40625 31.78125 66.40625 \nz\nM 31.78125 74.21875 \nQ 44.046875 74.21875 50.515625 64.515625 \nQ 56.984375 54.828125 56.984375 36.375 \nQ 56.984375 17.96875 50.515625 8.265625 \nQ 44.046875 -1.421875 31.78125 -1.421875 \nQ 19.53125 -1.421875 13.0625 8.265625 \nQ 6.59375 17.96875 6.59375 36.375 \nQ 6.59375 54.828125 13.0625 64.515625 \nQ 19.53125 74.21875 31.78125 74.21875 \nz\n\" id=\"DejaVuSans-48\"/>\n    </defs>\n    <g transform=\"translate(205.035257 16.318125)scale(0.12 -0.12)\">\n     <use xlink:href=\"#DejaVuSans-108\"/>\n     <use x=\"27.783203\" xlink:href=\"#DejaVuSans-97\"/>\n     <use x=\"89.0625\" xlink:href=\"#DejaVuSans-98\"/>\n     <use x=\"152.539062\" xlink:href=\"#DejaVuSans-101\"/>\n     <use x=\"214.0625\" xlink:href=\"#DejaVuSans-108\"/>\n     <use x=\"241.845703\" xlink:href=\"#DejaVuSans-32\"/>\n     <use x=\"273.632812\" xlink:href=\"#DejaVuSans-61\"/>\n     <use x=\"357.421875\" xlink:href=\"#DejaVuSans-32\"/>\n     <use x=\"389.208984\" xlink:href=\"#DejaVuSans-48\"/>\n    </g>\n   </g>\n  </g>\n  <g id=\"axes_3\">\n   <g id=\"patch_12\">\n    <path d=\"M 325.805882 150.224007 \nL 453.711765 150.224007 \nL 453.711765 22.318125 \nL 325.805882 22.318125 \nz\n\" style=\"fill:#ffffff;\"/>\n   </g>\n   <g clip-path=\"url(#pcf01aaf939)\">\n    <image height=\"128\" id=\"image71dd71e442\" transform=\"scale(1 -1)translate(0 -128)\" width=\"128\" x=\"325.805882\" xlink:href=\"data:image/png;base64,\niVBORw0KGgoAAAANSUhEUgAAAIAAAACACAYAAADDPmHLAAAABHNCSVQICAgIfAhkiAAABDVJREFUeJztnUtIVGEUx++dMV9RaD5IU8oEMegJDZEVJUxricyFiyCVotokBa2kRVFbF25sGbXKwFJQIsNHEWWlEdIDK1+Fj5IS1FDHaX08U9r1uzOO//9vdw7H757Fb46HO9er7beLgxaBxRPpBkhkoQDgUABwKAA4FAAcCgAOBQCHAoBDAcChAOBQAHAoADgUAJyYSDcQrQxXFoj49aUaVZPfVibiraXdrvbkBE4AcCgAOBQAHO4ADonzj4nYa0fnZyk6uybGoADgUABwKAA4XAINEQjOR7oFR3ACgEMBwKEA4HAHcJHEzsRIt7AonADgUABwKAA4FAAcLoGGCPltYBTcG+IEAIcCgEMBwKEA4HAJNESobwOTP85GoJP/gxMAHAoADgUAhwKAQwHAoQDgUABwKAA4vBHkIv1FtojzmiLUyD/gBACHAoBDAcAxtgN8ubFf5bJ9X00drxhryhJxSo/+4iW2udO160+1p8nEbl1zrfCeiG9Z2a714xROAHAoADgUABwKAI7jJbD39h4Rvy/UL0p8NysXswcTITalJXA5pUflPNvkTZbp4Iyq+RYIiLhm7IiqaXizS+WSumJFnPFwRNVkVb8ScecZ/d/3itbKJZhLIFlxUABwKAA4jneAuHj5+91j2arm1PVKEafefOboWm2HKlQu6JXXG/THqZqZzAU9xgZUzSN/tcqtOSrj4Yv67KrPx0Sc5p3W59jy52zfDlUT7HyrcuGEEwAcCgAOBQCHAoDj6hNBCeNm/kDe09G1aM2WVmdnn7MOqpw3NUXEI8fzVM2GkiEZe/RnKcbyynP2rVM16e59YbkkOAHAoQDgUABwKAA4ri6Bo3ulXzl1bl7NHIHvP0ScWhviDmatDA/Xl6uSLt8dEZ89X69q6u9u19cfGV1Cl2bgBACHAoBDAcBxvAPM9S64qaGfCrfi8386PT7qyL4wqXJPH8vPV/n6IVVTn1SgchZ3ABIuKAA4FAAcCgCO4yVwc6N8BGq0dGrZzUQzc30DKlc37hPxgYznqmY6J1nlYj+Y62sxOAHAoQDgUABwHO8AnifdIu74vWnZzaw2+iZTFq0Z9HtVLrfZjW5CwwkADgUAhwKAQwHAMfZE0GyQ75xcyFzFgv8d3KprEnInwtLL3+AEAIcCgEMBwDH2i/tK4wmVS8z9Zer4qCTwqV/E+W1lqub0zg6Va/HJp4TcfIcAJwA4FAAcCgAOBQDH2BKY2a7fBTDdk2Tq+OhkXr6Uyh5IUCUtG/P1zwX1SyfdghMAHAoADgUAhwKAY2wJTLj/QudMHb5KSH+pF+WqkgaVu2qdDEc7lmVxAsBDAcChAODYfrs4fHcdyIqDEwAcCgAOBQCHAoBDAcChAOBQAHAoADgUABwKAA4FAIcCgEMBwKEA4FAAcCgAOBQAHAoADgUAhwKAQwHAoQDg/AEiDKnQ3udBlgAAAABJRU5ErkJggg==\" y=\"-22.224007\"/>\n   </g>\n   <g id=\"matplotlib.axis_5\"/>\n   <g id=\"matplotlib.axis_6\"/>\n   <g id=\"patch_13\">\n    <path d=\"M 325.805882 150.224007 \nL 325.805882 22.318125 \n\" style=\"fill:none;stroke:#000000;stroke-linecap:square;stroke-linejoin:miter;stroke-width:0.8;\"/>\n   </g>\n   <g id=\"patch_14\">\n    <path d=\"M 453.711765 150.224007 \nL 453.711765 22.318125 \n\" style=\"fill:none;stroke:#000000;stroke-linecap:square;stroke-linejoin:miter;stroke-width:0.8;\"/>\n   </g>\n   <g id=\"patch_15\">\n    <path d=\"M 325.805882 150.224007 \nL 453.711765 150.224007 \n\" style=\"fill:none;stroke:#000000;stroke-linecap:square;stroke-linejoin:miter;stroke-width:0.8;\"/>\n   </g>\n   <g id=\"patch_16\">\n    <path d=\"M 325.805882 22.318125 \nL 453.711765 22.318125 \n\" style=\"fill:none;stroke:#000000;stroke-linecap:square;stroke-linejoin:miter;stroke-width:0.8;\"/>\n   </g>\n   <g id=\"text_3\">\n    <!-- label = 4 -->\n    <defs>\n     <path d=\"M 37.796875 64.3125 \nL 12.890625 25.390625 \nL 37.796875 25.390625 \nz\nM 35.203125 72.90625 \nL 47.609375 72.90625 \nL 47.609375 25.390625 \nL 58.015625 25.390625 \nL 58.015625 17.1875 \nL 47.609375 17.1875 \nL 47.609375 0 \nL 37.796875 0 \nL 37.796875 17.1875 \nL 4.890625 17.1875 \nL 4.890625 26.703125 \nz\n\" id=\"DejaVuSans-52\"/>\n    </defs>\n    <g transform=\"translate(362.588199 16.318125)scale(0.12 -0.12)\">\n     <use xlink:href=\"#DejaVuSans-108\"/>\n     <use x=\"27.783203\" xlink:href=\"#DejaVuSans-97\"/>\n     <use x=\"89.0625\" xlink:href=\"#DejaVuSans-98\"/>\n     <use x=\"152.539062\" xlink:href=\"#DejaVuSans-101\"/>\n     <use x=\"214.0625\" xlink:href=\"#DejaVuSans-108\"/>\n     <use x=\"241.845703\" xlink:href=\"#DejaVuSans-32\"/>\n     <use x=\"273.632812\" xlink:href=\"#DejaVuSans-61\"/>\n     <use x=\"357.421875\" xlink:href=\"#DejaVuSans-32\"/>\n     <use x=\"389.208984\" xlink:href=\"#DejaVuSans-52\"/>\n    </g>\n   </g>\n  </g>\n  <g id=\"axes_4\">\n   <g id=\"patch_17\">\n    <path d=\"M 10.7 303.711066 \nL 138.605882 303.711066 \nL 138.605882 175.805184 \nL 10.7 175.805184 \nz\n\" style=\"fill:#ffffff;\"/>\n   </g>\n   <g clip-path=\"url(#pe8018704d1)\">\n    <image height=\"128\" id=\"image8091d66a39\" transform=\"scale(1 -1)translate(0 -128)\" width=\"128\" x=\"10.7\" xlink:href=\"data:image/png;base64,\niVBORw0KGgoAAAANSUhEUgAAAIAAAACACAYAAADDPmHLAAAABHNCSVQICAgIfAhkiAAAA+xJREFUeJzt3V1Ik1Ecx/FNncz0phBZtWkRqKBIglFKoVFSdFEhU6o766pXe4UCL7rqIqIXKTAJgtCkTLDugiCiiKwoMF8oLJYvVIgaoSHTbV3Gf/8ntGey7Xl+v8/dORzHufh6OOyZ07nV6Y84CFZKojdAicUAwDEAcAwAHAMAxwDAMQBwDAAcAwDHAMAxAHAMABwDAJeW6A0YSVudJ8ae9nG1ptn3TIzvT+WoNXcKfIu7MRviCQCOAYBjAOCS8g7wa61HjDu8HQarUuOzGZvjCQCOAYBjAOAYADgGAI4BgGMA4BgAuKR8I8g9ERTjFzOZas3mjBkx3rZkSK1pbKkR48IT/WpNeHrazBZtgycAOAYAjgGAYwDgnFb4foDhB8Vqrr+iVYxnI6F5X2dX9V41F+r/ZH5jNsATABwDAMcAwDEAcEn5TmA0n79Xzc2OykvfQi6B36qy1VwOL4GEjAGAYwDgLHEHMPI+GBbjYtf8P1Ne/07NBdqXqrnQ5KTpfVkNTwBwDAAcAwDHAMBZ4mmgkXBlqRgfaOlSa3Zm/pj3dap796i5rO1fzG/MYngCgGMA4BgAOMveAaJ9bitVcz2VN029Vs3u/WIceasfRtkFTwBwDAAcAwDHAMBZ9mlgtPwLv9Wcq8rcF0kNnZVjn9/Uy1gCTwBwDAAcAwBnmztAqO+jmqtoPCLGbecvqTXeVP1RonJvQIy/r8pVa+YC+vsIrIgnADgGAI4BgGMA4GzzNHAhRs5VqLk3h6+qOZdTvoFUO7hDrQn65cfSQ2NjMe4uMXgCgGMA4BgAOAYADuoSmFpUoObW3dUf92rM7hFjo+8eKLl3TIzXnHoV4+4SgycAOAYAjgGAg7oDGEnzrlRzXd2PxNjoDjAwK8cNp4+qNZmd3bFtLg54AoBjAOAYADgGAM42Hwkza25kVM0VPa8X475Nt9WaknQ5zj2pv3ByvDO2vcUDTwBwDAAcAwAHfwcwsrzVLcZPy9xqzUa3/Hdzt/IeqzXlDcfF2HPt5SLsbnHxBADHAMAxAHAMABz808CFmKpdr+ZuXGwS43yXU61p/lkoxk/qytSayFf9RlQ8/58xTwBwDAAcAwDHO4BJg5c3iPGHuqZ/rPwr+k/OHA6HY8uhg2ou4+Fr8xv7TzwBwDEAcAwAHAMAx6eBJmUNy9+diXBQrVmWkq7mkg1PAHAMABwDAMcAwPESaJLnivx4V9WKM2rNwL7rYmz0TqBDP0SMK54A4BgAOAYAjk8DwfEEAMcAwDEAcAwAHAMAxwDAMQBwDAAcAwDHAMAxAHAMABwDAMcAwDEAcAwAHAMAxwDAMQBwDAAcAwDHAMD9AUp0peEjxMdGAAAAAElFTkSuQmCC\" y=\"-175.711066\"/>\n   </g>\n   <g id=\"matplotlib.axis_7\"/>\n   <g id=\"matplotlib.axis_8\"/>\n   <g id=\"patch_18\">\n    <path d=\"M 10.7 303.711066 \nL 10.7 175.805184 \n\" style=\"fill:none;stroke:#000000;stroke-linecap:square;stroke-linejoin:miter;stroke-width:0.8;\"/>\n   </g>\n   <g id=\"patch_19\">\n    <path d=\"M 138.605882 303.711066 \nL 138.605882 175.805184 \n\" style=\"fill:none;stroke:#000000;stroke-linecap:square;stroke-linejoin:miter;stroke-width:0.8;\"/>\n   </g>\n   <g id=\"patch_20\">\n    <path d=\"M 10.7 303.711066 \nL 138.605882 303.711066 \n\" style=\"fill:none;stroke:#000000;stroke-linecap:square;stroke-linejoin:miter;stroke-width:0.8;\"/>\n   </g>\n   <g id=\"patch_21\">\n    <path d=\"M 10.7 175.805184 \nL 138.605882 175.805184 \n\" style=\"fill:none;stroke:#000000;stroke-linecap:square;stroke-linejoin:miter;stroke-width:0.8;\"/>\n   </g>\n   <g id=\"text_4\">\n    <!-- label = 1 -->\n    <defs>\n     <path d=\"M 12.40625 8.296875 \nL 28.515625 8.296875 \nL 28.515625 63.921875 \nL 10.984375 60.40625 \nL 10.984375 69.390625 \nL 28.421875 72.90625 \nL 38.28125 72.90625 \nL 38.28125 8.296875 \nL 54.390625 8.296875 \nL 54.390625 0 \nL 12.40625 0 \nz\n\" id=\"DejaVuSans-49\"/>\n    </defs>\n    <g transform=\"translate(47.482316 169.805184)scale(0.12 -0.12)\">\n     <use xlink:href=\"#DejaVuSans-108\"/>\n     <use x=\"27.783203\" xlink:href=\"#DejaVuSans-97\"/>\n     <use x=\"89.0625\" xlink:href=\"#DejaVuSans-98\"/>\n     <use x=\"152.539062\" xlink:href=\"#DejaVuSans-101\"/>\n     <use x=\"214.0625\" xlink:href=\"#DejaVuSans-108\"/>\n     <use x=\"241.845703\" xlink:href=\"#DejaVuSans-32\"/>\n     <use x=\"273.632812\" xlink:href=\"#DejaVuSans-61\"/>\n     <use x=\"357.421875\" xlink:href=\"#DejaVuSans-32\"/>\n     <use x=\"389.208984\" xlink:href=\"#DejaVuSans-49\"/>\n    </g>\n   </g>\n  </g>\n  <g id=\"axes_5\">\n   <g id=\"patch_22\">\n    <path d=\"M 168.252941 303.711066 \nL 296.158824 303.711066 \nL 296.158824 175.805184 \nL 168.252941 175.805184 \nz\n\" style=\"fill:#ffffff;\"/>\n   </g>\n   <g clip-path=\"url(#pd4603d5c58)\">\n    <image height=\"128\" id=\"imagec8ad3eaf52\" transform=\"scale(1 -1)translate(0 -128)\" width=\"128\" x=\"168.252941\" xlink:href=\"data:image/png;base64,\niVBORw0KGgoAAAANSUhEUgAAAIAAAACACAYAAADDPmHLAAAABHNCSVQICAgIfAhkiAAABMRJREFUeJztnVtoFHcUxmd3k03cELexoqD1SqoW1FoJqBERZdWXVjEqxkrVINgULxgQUfTJ6JMGsaIkUKoIhYIVqeCDt4JPxlRbK7SJjdbEKKl4ITbFJOayPp/5FiZoMrOb7/u9ncPJzD/Lb88cZmZnQonQ6qQjaAkHvQARLBKAHAlAjgQgJyvoBaQjkZEfmrihagLU1CdqTLx81WbcUO3dAV3XYKAOQI4EIEcCkEM/A7iP947jONFz9mOpL6yBmoV/rDPxiIZmqOl9z7X5gToAORKAHAlAjgQgh34IfPLVVMjVFR4zcVnTUqiJH4iZuLft1cAuzCfUAciRAORIAHLoZ4CKr3/yrGmtLIRctPbXwViO76gDkCMByJEA5EgAcqiGwOT8WZDbNPwO5LqT9nsR+7MVanoGblmBog5AjgQgRwKQQzUDPFkYg1x3Eu/b6XP6/FhOWqAOQI4EIEcCkCMByKEaAuP/8Ax3/UUdgBwJQI4EIEcCkEM1BOb/WIvJKv/XkU6oA5AjAciRAORQzQDtpXNTZG/7vo50Qh2AHAlAjgQgRwKQQzUEZnXg1cDsUARy3a7npz/cNB5qxlU+HrB1BYk6ADkSgBwJQE7gM8CbZUWQO1J90sQzo3icPvPfWBMfvL4caqac7jRx/t2nUFP2aAHkqsf9YuKOiW+gZqigDkCOBCBHApAjAcgJ+fnauMjoUZDbc+My5ObkdJs4nMLTd/n93tWOfFyTg//+omH/m/hmVzbUHJqMzxrIRNQByJEA5EgAcnw9ERTKzYGc+3ifihWJUtzWa3uSp7H8I6hZmvjNxBWjrkHN+KxhkHNPF0VRPBHUtmGeiT84cwNqMgF1AHIkADkSgBwJQI6vQ2Cyswtyt7rwSl9Rjn1wU8e3OIRFl7SYeNLeFqhp3GvjbbO2QM307+shd3B0nYkjoRDUJNc+tzUX4lCTCW8RUQcgRwKQIwHIkQDk+Ho1MBUPqvD3evWlJ0z8qq8TatY0fGni3JKXUNPX3u65/3BeHuRerJ5p4p8rD0PNyIg9gzjt7FaoKdyZ4nkEaYY6ADkSgBwJQE7gM0AqGo/PMfG9kpNQ474j6JMr5VAzbVeTiXufv3in9az86xnkyuJNWOhiwb4dJi44nX5XDNUByJEA5EgAciQAOWk5BLr5t6IYcnW7jnn+3Zr7X5i4ZxXeftafwfDpdtz/zT3e+7/02l4hrFm8GGp6WoJ9zoA6ADkSgBwJQE5GzACh7CjkOhOfmvhU9VGoGZNlb0Pf3LwEapqPTIVc3kX7OtlwDF83Fz6fa+JzH1/AGtf3a/qpbVAzcX+wJ4fUAciRAORIAHIkADkZMQT2h2fl8yB3fLe9s8h9u7njpH72wMamhIk/iz+Cmh0FDZ5rcm+7+Pd1UDPi8789tzOYqAOQIwHIkQDkDJkZIBXuh1A2r8fnCn0z+zrkdhZ4H5dnfLfdxLFW/Bjbiu1P4Sb8gN+36KVbnvsaTNQByJEA5EgAciQAOUN6CBTeqAOQIwHIkQDkSAByJAA5EoAcCUCOBCBHApAjAciRAORIAHIkADkSgBwJQI4EIEcCkCMByJEA5EgAciQAORKAHAlAjgQgRwKQIwHIkQDkSAByJAA5EoAcCUDOW2qJ3lwFYHarAAAAAElFTkSuQmCC\" y=\"-175.711066\"/>\n   </g>\n   <g id=\"matplotlib.axis_9\"/>\n   <g id=\"matplotlib.axis_10\"/>\n   <g id=\"patch_23\">\n    <path d=\"M 168.252941 303.711066 \nL 168.252941 175.805184 \n\" style=\"fill:none;stroke:#000000;stroke-linecap:square;stroke-linejoin:miter;stroke-width:0.8;\"/>\n   </g>\n   <g id=\"patch_24\">\n    <path d=\"M 296.158824 303.711066 \nL 296.158824 175.805184 \n\" style=\"fill:none;stroke:#000000;stroke-linecap:square;stroke-linejoin:miter;stroke-width:0.8;\"/>\n   </g>\n   <g id=\"patch_25\">\n    <path d=\"M 168.252941 303.711066 \nL 296.158824 303.711066 \n\" style=\"fill:none;stroke:#000000;stroke-linecap:square;stroke-linejoin:miter;stroke-width:0.8;\"/>\n   </g>\n   <g id=\"patch_26\">\n    <path d=\"M 168.252941 175.805184 \nL 296.158824 175.805184 \n\" style=\"fill:none;stroke:#000000;stroke-linecap:square;stroke-linejoin:miter;stroke-width:0.8;\"/>\n   </g>\n   <g id=\"text_5\">\n    <!-- label = 9 -->\n    <defs>\n     <path d=\"M 10.984375 1.515625 \nL 10.984375 10.5 \nQ 14.703125 8.734375 18.5 7.8125 \nQ 22.3125 6.890625 25.984375 6.890625 \nQ 35.75 6.890625 40.890625 13.453125 \nQ 46.046875 20.015625 46.78125 33.40625 \nQ 43.953125 29.203125 39.59375 26.953125 \nQ 35.25 24.703125 29.984375 24.703125 \nQ 19.046875 24.703125 12.671875 31.3125 \nQ 6.296875 37.9375 6.296875 49.421875 \nQ 6.296875 60.640625 12.9375 67.421875 \nQ 19.578125 74.21875 30.609375 74.21875 \nQ 43.265625 74.21875 49.921875 64.515625 \nQ 56.59375 54.828125 56.59375 36.375 \nQ 56.59375 19.140625 48.40625 8.859375 \nQ 40.234375 -1.421875 26.421875 -1.421875 \nQ 22.703125 -1.421875 18.890625 -0.6875 \nQ 15.09375 0.046875 10.984375 1.515625 \nz\nM 30.609375 32.421875 \nQ 37.25 32.421875 41.125 36.953125 \nQ 45.015625 41.5 45.015625 49.421875 \nQ 45.015625 57.28125 41.125 61.84375 \nQ 37.25 66.40625 30.609375 66.40625 \nQ 23.96875 66.40625 20.09375 61.84375 \nQ 16.21875 57.28125 16.21875 49.421875 \nQ 16.21875 41.5 20.09375 36.953125 \nQ 23.96875 32.421875 30.609375 32.421875 \nz\n\" id=\"DejaVuSans-57\"/>\n    </defs>\n    <g transform=\"translate(205.035257 169.805184)scale(0.12 -0.12)\">\n     <use xlink:href=\"#DejaVuSans-108\"/>\n     <use x=\"27.783203\" xlink:href=\"#DejaVuSans-97\"/>\n     <use x=\"89.0625\" xlink:href=\"#DejaVuSans-98\"/>\n     <use x=\"152.539062\" xlink:href=\"#DejaVuSans-101\"/>\n     <use x=\"214.0625\" xlink:href=\"#DejaVuSans-108\"/>\n     <use x=\"241.845703\" xlink:href=\"#DejaVuSans-32\"/>\n     <use x=\"273.632812\" xlink:href=\"#DejaVuSans-61\"/>\n     <use x=\"357.421875\" xlink:href=\"#DejaVuSans-32\"/>\n     <use x=\"389.208984\" xlink:href=\"#DejaVuSans-57\"/>\n    </g>\n   </g>\n  </g>\n  <g id=\"axes_6\">\n   <g id=\"patch_27\">\n    <path d=\"M 325.805882 303.711066 \nL 453.711765 303.711066 \nL 453.711765 175.805184 \nL 325.805882 175.805184 \nz\n\" style=\"fill:#ffffff;\"/>\n   </g>\n   <g clip-path=\"url(#pfb2cd4be6c)\">\n    <image height=\"128\" id=\"image1efe73a0d8\" transform=\"scale(1 -1)translate(0 -128)\" width=\"128\" x=\"325.805882\" xlink:href=\"data:image/png;base64,\niVBORw0KGgoAAAANSUhEUgAAAIAAAACACAYAAADDPmHLAAAABHNCSVQICAgIfAhkiAAABWRJREFUeJztnW1olXUYxnd2zmkv2Upnm9ON1trGYo6hYdI2Ksnqizlxo1EZZCBWWiDLwQgEE6S+JGmJKYiltZK5pq1AJCYEiVnKqOWmq9icYy/qmPiyl3N2+lj3uU48h8M5Ox2v6/ftvrmfl40fNzf///M8x7XcVRtIErQkx/sGRHyRAORIAHIkADkSgBwJQI4EIEcCkCMByJEA5EgAciQAORKAHAlAjgQgRwKQIwHIkQDkSAByJAA5EoAcCUCOJ5Ynd2fOMfHASyVQM1Y+CTnPiNfExXsuQ8304LCNx8cjuUV61AHIkQDkSAByYjoDVLQPmHhz5vHITvQyplZ0rTZx36lcqCloHjNxoLMHagJTOIMwoQ5AjgQgRwKQIwHIiekQ+PisLseaa/4JyO0ZXWriBXeNQk1bSYtN4BpTUtJaG5Z+8RaUFDaegVzA5wtxsjsTdQByJAA5EoAcCUCOK5YfiepvrDDx2Y0fQs2AD4fAmvc2mzin9S+oubYs38SBNVegpnnhARPf706BmtIv34Rc8V57Ln83riBGi+E3KiCXXdvrfGD9fSYMnOuM6PrqAORIAHIkADkxnQFcHrvO1L1rMdR0rfwYcv1Bc8HKTxqgJn//Hyb2DQ5BzdTyR0y86P1zULN93mnIfXr9ARMffOc5qElvsce552ZCzejTRSa+WTcGNV8v2ge5XA/OKsG03bTX21tc4HhMKNQByJEA5EgAciQAOTEdAuFiKTjcdO8oh1xXNQ6GwVR3rzJx8gtTUOMfso+Oe/LwsbHyY32Q25plh8WxaXzkfOmRehPnlAxDzfdlX0EumLqeFZC7sjPfxKlX8W8Lxn3yrGNNKNQByJEA5EgAcmZ0BghFcmoq5K7WLTLxD9t3Op6ntAk3dXLb/SZO+Raf/vHkzINc5XG7+VSf+Zvj9cPhsW34RFL2Zx2Qm751KyrXCwd1AHIkADkSgBwJQE7ch8BQBC8YTT5RBjUNuw+aeFnaDagZCnrkvGtyNtRsuVANuabSAyaeH8bu3OkJL+TWNb1u4oJtuBsZ7+8aqAOQIwHIkQDk/C9ngHBwZ2SYePzRIqjxNtqnhNpKjoZ1bq/LbeKpgP8/Kv+h/TYuaO2oqTXxdMf5sK4/k6gDkCMByJEA5EgAchJ2CIyEvi34GpYvPcSf7wqKQ5SsfvaUid/Nwp3Gjf1PmvhSJb4GF+9vEagDkCMByJEA5EgAcqiGwGjSe9juUHZU7nc85pn1GyCX2vZT1O4pEtQByJEA5EgAcmL6ocho4S58EHLdG7JNnHcCd+zu7hw0sa/3UtTuyXvmHpuojNqpZxR1AHIkADkSgBwJQE5CDIFJ+3AX7ffiXTbxPB7WfMO+9/fBhaegJrsB18H85y863lL60J2xfqYOQI4EIEcCkJMQM8DlY/mYfNv5uNpZdiGodvHnUHOoJQ9yR1ZVmTjUx6Jn/3rd+QYSAHUAciQAORKAHAlATkIMgQsO4cJM6ZJ1Jv6mYjfUFHjxnf1g1mTgDqG/9UcTt9ZUQc2045kTA3UAciQAORKAnISYAfwjI5B76EWb27RkPdT0bLLv+Z+s+ghqQv2S2NqguSDr6HdQ8+dEVuib/Rc/T9jrpw3dhpp4bympA5AjAciRAORIAHKoXg1LXlgCuYuNaZB7tcwuBEX6tfCHT7xm4qJXfonoPLFEHYAcCUCOBCBHApBDNQSGiztzjold92ZATV/NfBOPz8V/Y+FW+3MwM/lTMOGiDkCOBCBHApCjGYAcdQByJAA5EoAcCUCOBCBHApAjAciRAORIAHIkADkSgBwJQI4EIEcCkCMByJEA5EgAciQAORKAHAlAjgQgRwKQ8zfiqiCBNXnkMQAAAABJRU5ErkJggg==\" y=\"-175.711066\"/>\n   </g>\n   <g id=\"matplotlib.axis_11\"/>\n   <g id=\"matplotlib.axis_12\"/>\n   <g id=\"patch_28\">\n    <path d=\"M 325.805882 303.711066 \nL 325.805882 175.805184 \n\" style=\"fill:none;stroke:#000000;stroke-linecap:square;stroke-linejoin:miter;stroke-width:0.8;\"/>\n   </g>\n   <g id=\"patch_29\">\n    <path d=\"M 453.711765 303.711066 \nL 453.711765 175.805184 \n\" style=\"fill:none;stroke:#000000;stroke-linecap:square;stroke-linejoin:miter;stroke-width:0.8;\"/>\n   </g>\n   <g id=\"patch_30\">\n    <path d=\"M 325.805882 303.711066 \nL 453.711765 303.711066 \n\" style=\"fill:none;stroke:#000000;stroke-linecap:square;stroke-linejoin:miter;stroke-width:0.8;\"/>\n   </g>\n   <g id=\"patch_31\">\n    <path d=\"M 325.805882 175.805184 \nL 453.711765 175.805184 \n\" style=\"fill:none;stroke:#000000;stroke-linecap:square;stroke-linejoin:miter;stroke-width:0.8;\"/>\n   </g>\n   <g id=\"text_6\">\n    <!-- label = 2 -->\n    <defs>\n     <path d=\"M 19.1875 8.296875 \nL 53.609375 8.296875 \nL 53.609375 0 \nL 7.328125 0 \nL 7.328125 8.296875 \nQ 12.9375 14.109375 22.625 23.890625 \nQ 32.328125 33.6875 34.8125 36.53125 \nQ 39.546875 41.84375 41.421875 45.53125 \nQ 43.3125 49.21875 43.3125 52.78125 \nQ 43.3125 58.59375 39.234375 62.25 \nQ 35.15625 65.921875 28.609375 65.921875 \nQ 23.96875 65.921875 18.8125 64.3125 \nQ 13.671875 62.703125 7.8125 59.421875 \nL 7.8125 69.390625 \nQ 13.765625 71.78125 18.9375 73 \nQ 24.125 74.21875 28.421875 74.21875 \nQ 39.75 74.21875 46.484375 68.546875 \nQ 53.21875 62.890625 53.21875 53.421875 \nQ 53.21875 48.921875 51.53125 44.890625 \nQ 49.859375 40.875 45.40625 35.40625 \nQ 44.1875 33.984375 37.640625 27.21875 \nQ 31.109375 20.453125 19.1875 8.296875 \nz\n\" id=\"DejaVuSans-50\"/>\n    </defs>\n    <g transform=\"translate(362.588199 169.805184)scale(0.12 -0.12)\">\n     <use xlink:href=\"#DejaVuSans-108\"/>\n     <use x=\"27.783203\" xlink:href=\"#DejaVuSans-97\"/>\n     <use x=\"89.0625\" xlink:href=\"#DejaVuSans-98\"/>\n     <use x=\"152.539062\" xlink:href=\"#DejaVuSans-101\"/>\n     <use x=\"214.0625\" xlink:href=\"#DejaVuSans-108\"/>\n     <use x=\"241.845703\" xlink:href=\"#DejaVuSans-32\"/>\n     <use x=\"273.632812\" xlink:href=\"#DejaVuSans-61\"/>\n     <use x=\"357.421875\" xlink:href=\"#DejaVuSans-32\"/>\n     <use x=\"389.208984\" xlink:href=\"#DejaVuSans-50\"/>\n    </g>\n   </g>\n  </g>\n  <g id=\"axes_7\">\n   <g id=\"patch_32\">\n    <path d=\"M 10.7 457.198125 \nL 138.605882 457.198125 \nL 138.605882 329.292243 \nL 10.7 329.292243 \nz\n\" style=\"fill:#ffffff;\"/>\n   </g>\n   <g clip-path=\"url(#pbf36ea38a0)\">\n    <image height=\"128\" id=\"imaged0d0f4bd01\" transform=\"scale(1 -1)translate(0 -128)\" width=\"128\" x=\"10.7\" xlink:href=\"data:image/png;base64,\niVBORw0KGgoAAAANSUhEUgAAAIAAAACACAYAAADDPmHLAAAABHNCSVQICAgIfAhkiAAAAudJREFUeJzt3bFrU1EUgPGksbgoqQ5FUCoFfYMiODiI4CIBQVAHCyI4dHMo+B+4OYqgo+jgIujgKG4dCsWhHVLQWlEcXFQkgiKiJanzy4nwSNq+1/t9vy2HR7jD18MlCVpv1Wc2asIaK/sAKpcBwBkAnAHAGQCcAcAZAJwBwBkAnAHAGQCcAcAZAJwBwBkAnAHAGQDcrrIPULbGsSzMWs+Wcq/n9q2FZ8b6/nYuXbgenum1V0c83dZzA8AZAJwBwBkAHP4S+P3k/jAbdOlLlRsAzgDgDAAOfwfYPfu57COUyg0AZwBwBgBnAHD4S+Ds1GKY9X/TN8h4vbEVx9l2bgA4A4AzADgDgENdAj/dOhNm1/beC7Negfeafnkj9zprL/3nyWpzA8AZAJwBwKHuAH+y32UfoXLcAHAGAGcAcAYAh7oEvj33MMyKfOgzSPbg72iHqQg3AJwBwBkAHOoOMOhXPOsF/r+Us+2rYdZ8tbIZRyqdGwDOAOAMAM4A4FCXwPWNbpj1CnwU9GNxMsyatfebcqayuQHgDADOAOAMAM4A4AwAzgDgDADOAOAMAM4A4AwAzgDgUN8GDvuTsJS5AeAMAM4A4FB3gGF/EZQyNwCcAcAZAJwBwCV9Cfxw53TfZLmUc1SZGwDOAOAMAC6ZO0DjyHSY3b74dKj3Ov7kZu519vxbeCZ+pLQzuQHgDADOAOAMAC6ZS2Dt568wetE5kXt9Zc98obeaXM7/TKj75t3w56o4NwCcAcAZAFwyd4Dul69htrB6Kj+YKnYHIHEDwBkAnAHAGQBcMpfAxkQzzA4fit/iKc8NAGcAcAYAZwBwyVwCawcPhNH97HHfZHx7zrKDuAHgDADOAOCSuQN0X6+F2eX5udzrj+cfhWfudo6G2cRKJ//eI56tytwAcAYAZwBwBgBXb9Vn4P9UIpsbAM4A4AwAzgDgDADOAOAMAM4A4AwAzgDgDADOAOAMAM4A4AwAzgDgDADuH86vVX5x6N4TAAAAAElFTkSuQmCC\" y=\"-329.198125\"/>\n   </g>\n   <g id=\"matplotlib.axis_13\"/>\n   <g id=\"matplotlib.axis_14\"/>\n   <g id=\"patch_33\">\n    <path d=\"M 10.7 457.198125 \nL 10.7 329.292243 \n\" style=\"fill:none;stroke:#000000;stroke-linecap:square;stroke-linejoin:miter;stroke-width:0.8;\"/>\n   </g>\n   <g id=\"patch_34\">\n    <path d=\"M 138.605882 457.198125 \nL 138.605882 329.292243 \n\" style=\"fill:none;stroke:#000000;stroke-linecap:square;stroke-linejoin:miter;stroke-width:0.8;\"/>\n   </g>\n   <g id=\"patch_35\">\n    <path d=\"M 10.7 457.198125 \nL 138.605882 457.198125 \n\" style=\"fill:none;stroke:#000000;stroke-linecap:square;stroke-linejoin:miter;stroke-width:0.8;\"/>\n   </g>\n   <g id=\"patch_36\">\n    <path d=\"M 10.7 329.292243 \nL 138.605882 329.292243 \n\" style=\"fill:none;stroke:#000000;stroke-linecap:square;stroke-linejoin:miter;stroke-width:0.8;\"/>\n   </g>\n   <g id=\"text_7\">\n    <!-- label = 1 -->\n    <g transform=\"translate(47.482316 323.292243)scale(0.12 -0.12)\">\n     <use xlink:href=\"#DejaVuSans-108\"/>\n     <use x=\"27.783203\" xlink:href=\"#DejaVuSans-97\"/>\n     <use x=\"89.0625\" xlink:href=\"#DejaVuSans-98\"/>\n     <use x=\"152.539062\" xlink:href=\"#DejaVuSans-101\"/>\n     <use x=\"214.0625\" xlink:href=\"#DejaVuSans-108\"/>\n     <use x=\"241.845703\" xlink:href=\"#DejaVuSans-32\"/>\n     <use x=\"273.632812\" xlink:href=\"#DejaVuSans-61\"/>\n     <use x=\"357.421875\" xlink:href=\"#DejaVuSans-32\"/>\n     <use x=\"389.208984\" xlink:href=\"#DejaVuSans-49\"/>\n    </g>\n   </g>\n  </g>\n  <g id=\"axes_8\">\n   <g id=\"patch_37\">\n    <path d=\"M 168.252941 457.198125 \nL 296.158824 457.198125 \nL 296.158824 329.292243 \nL 168.252941 329.292243 \nz\n\" style=\"fill:#ffffff;\"/>\n   </g>\n   <g clip-path=\"url(#p9578508267)\">\n    <image height=\"128\" id=\"image9da936437a\" transform=\"scale(1 -1)translate(0 -128)\" width=\"128\" x=\"168.252941\" xlink:href=\"data:image/png;base64,\niVBORw0KGgoAAAANSUhEUgAAAIAAAACACAYAAADDPmHLAAAABHNCSVQICAgIfAhkiAAABPZJREFUeJztnV1oFFcUxzObbIwbampjjaYYawhWjW0llWJMS9JUsAhatJG0GPyIBKtUEaLFBxHEN1G0H9SCxSBYRISUIgoGEX0wmopfNZKaREXTNEZbpfVrk81sfD45Q3d2mJnM5v//vZ3D2bl34beHy8zdO8Y8o2owjcASGu4JkOGFAoBDAcChAOBQAHAoADgUABwKAA4FAIcCgEMBwKEA4FAAcDL8HCwUiahc14ZZKndwzV4Rz8w0VE3l9WoR/3tmgqqZfKRbxAN37tqaJxLsAOBQAHAoADiGlzuCzIoSEf+5LqZqrpUd8Gr4tEP/TRJxT+xVVXPgcpnKFe03RWycu+ruxAIEOwA4FAAcCgAOBQDH00Vg+e8vRFyf2+rVUI4JWfwGzkXDIq5rWa5qiuo6RBx/9szdifkEOwA4FAAcCgCOrw+D7DL91BqZeBq2LkySz+eeV7nt46+oXGlWn4hby/ermhVN80Xc2fCOqsn9SY8XNNgBwKEA4FAAcCgAOJ7eCIoufF/EOZvuqZqjRcdUbnHlFyI2b3a6Mp+MiXrXUHdVocodrt8l4sJw4kVor9mncss21os40tiS8Dp+ww4ADgUAhwKAQwHA8fROYNax30Tc3zRK1ZQvXa9yY/+64cl8Bnruq1zedzpXnblJxL9u2Klq8jPkd8lL198tNlpvZw8a7ADgUABwKAA4vj4NHOzTN0tyDl1Qubgfk/kfJu5uFnHV082qpnnbt35Nx1PYAcChAOBQAHAoADiB3BIWNPIaLZ5GbvN/Hl7ADgAOBQCHAoCTEmuA9BlTVa5jZa6IC07268+9GHBl/LbV7mxLDyLsAOBQAHAoADgUAJxALgIHy+ThkasbGlXNouzHMrHM2VhhI13lYoOmReVQRsZvZ2R8C+IYCgAOBQAnkGuAoZhpendt3KV9QzGLP8Y5ufaCts9ULudnvdspaLADgEMBwKEA4FAAcDw9H8At0ovfUrn2VWNFXP6Bs0Mof5x0VuWcLAI7Y/rJY/U+eT5AwS+9qsZsv5X0WG7CDgAOBQCHAoBDAcBJiUWglzz4aq7KrVh7QsQ1Y/R5Ba+EMpMea8fDEpW79KF+jU38yZOkr+0UdgBwKAA4FAAc+DWAHR6uLVW5aTV/iLjhzSZH11787icqZ/79j6NrOYEdABwKAA4FAIcCgJMSW8KGm9f36Ve/3DTlwrB3qz713OrwyKG07ZyiclNruQgkPkEBwKEA4KTEGsAI6wcvocKCxJ/rj4l44M5d1+aU19gu4utfj9M1oxM/1MnPf6RyoUhExPHnz5OcnX3YAcChAOBQAHAoADgpsQi8t2W2yl358puEnzsflTdiak/U6SKrl3rYeD46p0QuAufZWPBZcfrtIyo3/6N1Ih51/KKja9uBHQAcCgAOBQAnJdYAb1R0OfpcaZZ8Q0nbku9VTcjiN+DW2QOpADsAOBQAHAoADgUAJyUWgcbW11Ru2kp5s2RP5WFVEzbkf/ad3qzxklnNtSo3peW2iO0cW+kUdgBwKAA4FAAcCgDOiPlvoPFescrFM+Uat7siW9XcWP+Dytk7LTx5Pm6tUrnsT3tULh6NejK+FewA4FAAcCgAOCNmDUCcwQ4ADgUAhwKAQwHAoQDgUABwKAA4FAAcCgAOBQCHAoBDAcChAOBQAHAoADgUABwKAA4FAIcCgEMBwKEA4FAAcF4CSvPlbC4MUJAAAAAASUVORK5CYII=\" y=\"-329.198125\"/>\n   </g>\n   <g id=\"matplotlib.axis_15\"/>\n   <g id=\"matplotlib.axis_16\"/>\n   <g id=\"patch_38\">\n    <path d=\"M 168.252941 457.198125 \nL 168.252941 329.292243 \n\" style=\"fill:none;stroke:#000000;stroke-linecap:square;stroke-linejoin:miter;stroke-width:0.8;\"/>\n   </g>\n   <g id=\"patch_39\">\n    <path d=\"M 296.158824 457.198125 \nL 296.158824 329.292243 \n\" style=\"fill:none;stroke:#000000;stroke-linecap:square;stroke-linejoin:miter;stroke-width:0.8;\"/>\n   </g>\n   <g id=\"patch_40\">\n    <path d=\"M 168.252941 457.198125 \nL 296.158824 457.198125 \n\" style=\"fill:none;stroke:#000000;stroke-linecap:square;stroke-linejoin:miter;stroke-width:0.8;\"/>\n   </g>\n   <g id=\"patch_41\">\n    <path d=\"M 168.252941 329.292243 \nL 296.158824 329.292243 \n\" style=\"fill:none;stroke:#000000;stroke-linecap:square;stroke-linejoin:miter;stroke-width:0.8;\"/>\n   </g>\n   <g id=\"text_8\">\n    <!-- label = 3 -->\n    <defs>\n     <path d=\"M 40.578125 39.3125 \nQ 47.65625 37.796875 51.625 33 \nQ 55.609375 28.21875 55.609375 21.1875 \nQ 55.609375 10.40625 48.1875 4.484375 \nQ 40.765625 -1.421875 27.09375 -1.421875 \nQ 22.515625 -1.421875 17.65625 -0.515625 \nQ 12.796875 0.390625 7.625 2.203125 \nL 7.625 11.71875 \nQ 11.71875 9.328125 16.59375 8.109375 \nQ 21.484375 6.890625 26.8125 6.890625 \nQ 36.078125 6.890625 40.9375 10.546875 \nQ 45.796875 14.203125 45.796875 21.1875 \nQ 45.796875 27.640625 41.28125 31.265625 \nQ 36.765625 34.90625 28.71875 34.90625 \nL 20.21875 34.90625 \nL 20.21875 43.015625 \nL 29.109375 43.015625 \nQ 36.375 43.015625 40.234375 45.921875 \nQ 44.09375 48.828125 44.09375 54.296875 \nQ 44.09375 59.90625 40.109375 62.90625 \nQ 36.140625 65.921875 28.71875 65.921875 \nQ 24.65625 65.921875 20.015625 65.03125 \nQ 15.375 64.15625 9.8125 62.3125 \nL 9.8125 71.09375 \nQ 15.4375 72.65625 20.34375 73.4375 \nQ 25.25 74.21875 29.59375 74.21875 \nQ 40.828125 74.21875 47.359375 69.109375 \nQ 53.90625 64.015625 53.90625 55.328125 \nQ 53.90625 49.265625 50.4375 45.09375 \nQ 46.96875 40.921875 40.578125 39.3125 \nz\n\" id=\"DejaVuSans-51\"/>\n    </defs>\n    <g transform=\"translate(205.035257 323.292243)scale(0.12 -0.12)\">\n     <use xlink:href=\"#DejaVuSans-108\"/>\n     <use x=\"27.783203\" xlink:href=\"#DejaVuSans-97\"/>\n     <use x=\"89.0625\" xlink:href=\"#DejaVuSans-98\"/>\n     <use x=\"152.539062\" xlink:href=\"#DejaVuSans-101\"/>\n     <use x=\"214.0625\" xlink:href=\"#DejaVuSans-108\"/>\n     <use x=\"241.845703\" xlink:href=\"#DejaVuSans-32\"/>\n     <use x=\"273.632812\" xlink:href=\"#DejaVuSans-61\"/>\n     <use x=\"357.421875\" xlink:href=\"#DejaVuSans-32\"/>\n     <use x=\"389.208984\" xlink:href=\"#DejaVuSans-51\"/>\n    </g>\n   </g>\n  </g>\n  <g id=\"axes_9\">\n   <g id=\"patch_42\">\n    <path d=\"M 325.805882 457.198125 \nL 453.711765 457.198125 \nL 453.711765 329.292243 \nL 325.805882 329.292243 \nz\n\" style=\"fill:#ffffff;\"/>\n   </g>\n   <g clip-path=\"url(#p046100a382)\">\n    <image height=\"128\" id=\"image7348307320\" transform=\"scale(1 -1)translate(0 -128)\" width=\"128\" x=\"325.805882\" xlink:href=\"data:image/png;base64,\niVBORw0KGgoAAAANSUhEUgAAAIAAAACACAYAAADDPmHLAAAABHNCSVQICAgIfAhkiAAAAtlJREFUeJzt3D9rFEEYgPHbXO5IomARiCAEBTUgSMAugo0Q8AN4YGOhghCwtfMjWGhjoY21YGljJcFOMcEmRVBCtDSeRRIjen+sx1nIIe7OOc/z62aZYhKevAx3YYvlojNsCGsi9QGUlgHAGQCcAcAZAJwBwBkAnAHAGQCcAcAZAJwBwBkA3GTqA6TWfbEQPeucXA/Wq9cuRHv6G5uVnalOTgA4A4AzADj8HeD+uefRs/Pt3WD96shSXcepnRMAzgDgDADOAODwl8Cbq7eiZx+uPAnWO4tHoz2zbys7Uq2cAHAGAGcAcPg7QJmPvYNgPfv0TaKTVM8JAGcAcAYAZwBwXgJLNBvhKxMmpqeiPYP9/bqOUyknAJwBwBkAnAHA4S+Bd5deRs9OTc4E683H8b+On7m+Hj37HzkB4AwAzgDgUHeAbzcuRs9Wjj2Knn0dhN8Gnn3wM9qTy9s1nQBwBgBnAHAGAIe6BA5G/Gn7wz++DTz4Fe/5FwcaA04AOAOAMwA41B1gb74Yad/uMNyXy/uAyjgB4AwAzgDgDAAOdQmcv/Q59RHGjhMAzgDgDAAOdQcY1dW128H6RGMj0Umq5wSAMwA4A4AzADgvgSX2ujOHb8qEEwDOAOAMAM4A4AwAzgDgDADOAOCy/iCoeXwuWD88/axkV/wSSBInAJwBwBkAnAHAZX0JLFqtYL3QGu3CN73VruI4Y8kJAGcAcAYAl/Ud4G/NvYvfCZQrJwCcAcAZAJwBwOEvgc0i/htofe8lOEkaTgA4A4AzADj8HaA/HKQ+QlJOADgDgDMAOAOAw18CX/+IfwXtT91gnfPHQk4AOAOAMwA4A4DL+hLY/7ITrC/fWYn2LN57Hz3rbW1XdqZx4wSAMwA4A4ArlovO8PBtypUTAM4A4AwAzgDgDADOAOAMAM4A4AwAzgDgDADOAOAMAM4A4AwAzgDgDADOAOAMAM4A4AwAzgDgfgPB5lGKH/uUKQAAAABJRU5ErkJggg==\" y=\"-329.198125\"/>\n   </g>\n   <g id=\"matplotlib.axis_17\"/>\n   <g id=\"matplotlib.axis_18\"/>\n   <g id=\"patch_43\">\n    <path d=\"M 325.805882 457.198125 \nL 325.805882 329.292243 \n\" style=\"fill:none;stroke:#000000;stroke-linecap:square;stroke-linejoin:miter;stroke-width:0.8;\"/>\n   </g>\n   <g id=\"patch_44\">\n    <path d=\"M 453.711765 457.198125 \nL 453.711765 329.292243 \n\" style=\"fill:none;stroke:#000000;stroke-linecap:square;stroke-linejoin:miter;stroke-width:0.8;\"/>\n   </g>\n   <g id=\"patch_45\">\n    <path d=\"M 325.805882 457.198125 \nL 453.711765 457.198125 \n\" style=\"fill:none;stroke:#000000;stroke-linecap:square;stroke-linejoin:miter;stroke-width:0.8;\"/>\n   </g>\n   <g id=\"patch_46\">\n    <path d=\"M 325.805882 329.292243 \nL 453.711765 329.292243 \n\" style=\"fill:none;stroke:#000000;stroke-linecap:square;stroke-linejoin:miter;stroke-width:0.8;\"/>\n   </g>\n   <g id=\"text_9\">\n    <!-- label = 1 -->\n    <g transform=\"translate(362.588199 323.292243)scale(0.12 -0.12)\">\n     <use xlink:href=\"#DejaVuSans-108\"/>\n     <use x=\"27.783203\" xlink:href=\"#DejaVuSans-97\"/>\n     <use x=\"89.0625\" xlink:href=\"#DejaVuSans-98\"/>\n     <use x=\"152.539062\" xlink:href=\"#DejaVuSans-101\"/>\n     <use x=\"214.0625\" xlink:href=\"#DejaVuSans-108\"/>\n     <use x=\"241.845703\" xlink:href=\"#DejaVuSans-32\"/>\n     <use x=\"273.632812\" xlink:href=\"#DejaVuSans-61\"/>\n     <use x=\"357.421875\" xlink:href=\"#DejaVuSans-32\"/>\n     <use x=\"389.208984\" xlink:href=\"#DejaVuSans-49\"/>\n    </g>\n   </g>\n  </g>\n </g>\n <defs>\n  <clipPath id=\"p8ea23f3b77\">\n   <rect height=\"127.905882\" width=\"127.905882\" x=\"10.7\" y=\"22.318125\"/>\n  </clipPath>\n  <clipPath id=\"p6a08f094bf\">\n   <rect height=\"127.905882\" width=\"127.905882\" x=\"168.252941\" y=\"22.318125\"/>\n  </clipPath>\n  <clipPath id=\"pcf01aaf939\">\n   <rect height=\"127.905882\" width=\"127.905882\" x=\"325.805882\" y=\"22.318125\"/>\n  </clipPath>\n  <clipPath id=\"pe8018704d1\">\n   <rect height=\"127.905882\" width=\"127.905882\" x=\"10.7\" y=\"175.805184\"/>\n  </clipPath>\n  <clipPath id=\"pd4603d5c58\">\n   <rect height=\"127.905882\" width=\"127.905882\" x=\"168.252941\" y=\"175.805184\"/>\n  </clipPath>\n  <clipPath id=\"pfb2cd4be6c\">\n   <rect height=\"127.905882\" width=\"127.905882\" x=\"325.805882\" y=\"175.805184\"/>\n  </clipPath>\n  <clipPath id=\"pbf36ea38a0\">\n   <rect height=\"127.905882\" width=\"127.905882\" x=\"10.7\" y=\"329.292243\"/>\n  </clipPath>\n  <clipPath id=\"p9578508267\">\n   <rect height=\"127.905882\" width=\"127.905882\" x=\"168.252941\" y=\"329.292243\"/>\n  </clipPath>\n  <clipPath id=\"p046100a382\">\n   <rect height=\"127.905882\" width=\"127.905882\" x=\"325.805882\" y=\"329.292243\"/>\n  </clipPath>\n </defs>\n</svg>\n"
     },
     "metadata": {}
    }
   ],
   "source": [
    "%matplotlib inline\n",
    "%config InlineBackend.figure_format = 'svg'\n",
    "\n",
    "from matplotlib import pyplot as plt \n",
    "\n",
    "plt.figure(figsize=(8,8)) \n",
    "for i in range(9):\n",
    "    img,label = ds_train[i]\n",
    "    img = img.permute(1,2,0)\n",
    "    ax=plt.subplot(3,3,i+1)\n",
    "    ax.imshow(img.numpy().squeeze(axis=2))\n",
    "    ax.set_title(\"label = %d\"%label)\n",
    "    ax.set_xticks([])\n",
    "    ax.set_yticks([]) \n",
    "plt.show()"
   ]
  },
  {
   "cell_type": "code",
   "execution_count": 14,
   "id": "4d3554c1",
   "metadata": {
    "id": "4d3554c1",
    "pycharm": {
     "name": "#%%\n"
    }
   },
   "outputs": [],
   "source": [
    "class Net(nn.Module):\n",
    "    def __init__(self):\n",
    "        super(Net, self).__init__()\n",
    "        self.conv1 = nn.Conv2d(1, 32, 3, 1)\n",
    "        # self.conv2 = nn.Conv2d(32, 64, 3, 1)\n",
    "        self.dropout1 = nn.Dropout(0.25)\n",
    "        # self.dropout2 = nn.Dropout(0.5)\n",
    "        self.fc1 = nn.Linear(5408, 10)\n",
    "        # self.fc2 = nn.Linear(128, 10)\n",
    "\n",
    "\n",
    "    def forward(self, x):\n",
    "        x = self.conv1(x)\n",
    "        x = F.relu(x)\n",
    "        # x = self.conv2(x)\n",
    "        # x = F.relu(x)\n",
    "        x = F.max_pool2d(x, 2)\n",
    "        x = self.dropout1(x)\n",
    "        x = torch.flatten(x, 1)\n",
    "        x = self.fc1(x)\n",
    "        # x = F.relu(x)\n",
    "        # x = self.dropout2(x)\n",
    "        # x = self.fc2(x)\n",
    "        output = F.softmax(x, dim=1)\n",
    "        return x"
   ]
  },
  {
   "cell_type": "code",
   "execution_count": 15,
   "id": "39706eee",
   "metadata": {
    "id": "39706eee",
    "pycharm": {
     "name": "#%%\n"
    }
   },
   "outputs": [],
   "source": [
    "device = torch.device(\"cuda\" if torch.cuda.is_available() else \"cpu\")"
   ]
  },
  {
   "cell_type": "code",
   "execution_count": 16,
   "id": "374a9442",
   "metadata": {
    "id": "374a9442",
    "pycharm": {
     "name": "#%%\n"
    }
   },
   "outputs": [],
   "source": [
    "model = Net().to(device)"
   ]
  },
  {
   "cell_type": "code",
   "execution_count": 17,
   "id": "f6eb8519",
   "metadata": {
    "colab": {
     "base_uri": "https://localhost:8080/"
    },
    "id": "f6eb8519",
    "outputId": "abd4e20d-569d-4f14-b9a7-0669e25ea96d",
    "pycharm": {
     "name": "#%%\n"
    }
   },
   "outputs": [
    {
     "output_type": "stream",
     "name": "stdout",
     "text": [
      "Net(\n",
      "  (conv1): Conv2d(1, 32, kernel_size=(3, 3), stride=(1, 1))\n",
      "  (dropout1): Dropout(p=0.25, inplace=False)\n",
      "  (fc1): Linear(in_features=5408, out_features=10, bias=True)\n",
      ")\n"
     ]
    }
   ],
   "source": [
    "print(model)"
   ]
  },
  {
   "cell_type": "code",
   "execution_count": 18,
   "id": "0ad06bf9",
   "metadata": {
    "id": "0ad06bf9",
    "pycharm": {
     "name": "#%%\n"
    }
   },
   "outputs": [],
   "source": [
    "epochs = 5\n",
    "print_freq = 500"
   ]
  },
  {
   "cell_type": "code",
   "execution_count": 19,
   "id": "f646b8a2",
   "metadata": {
    "id": "f646b8a2",
    "pycharm": {
     "name": "#%%\n"
    }
   },
   "outputs": [],
   "source": [
    "optimizer = optim.Adadelta(model.parameters(), lr=0.1)\n",
    "#torch.optim.SGD(model.parameters(), lr=0.01,momentum=0.9,weight_decay=1e-4)\n",
    "criterion = nn.CrossEntropyLoss().to(device)"
   ]
  },
  {
   "cell_type": "code",
   "execution_count": 20,
   "id": "33b42803",
   "metadata": {
    "id": "33b42803",
    "pycharm": {
     "name": "#%%\n"
    }
   },
   "outputs": [],
   "source": [
    "def train(train_loader, model, criterion, optimizer, epoch):\n",
    "    batch_time = AverageMeter('Time', ':6.3f')\n",
    "    data_time = AverageMeter('Data', ':6.3f')\n",
    "    losses = AverageMeter('Loss', ':.4e')\n",
    "    top1 = AverageMeter('Acc@1', ':6.2f')\n",
    "    progress = ProgressMeter(\n",
    "        len(train_loader),\n",
    "        [batch_time, data_time, losses, top1],\n",
    "        prefix=\"Epoch: [{}]\".format(epoch))\n",
    "\n",
    "    # switch to train mode\n",
    "    model.train()\n",
    "\n",
    "    end = time.time()\n",
    "    for i, (images, target) in enumerate(train_loader):\n",
    "        # measure data loading time\n",
    "        data_time.update(time.time() - end)\n",
    "        images = images.to(device)\n",
    "        target = target.to(device)\n",
    "        # compute output\n",
    "        output = model(images)\n",
    "\n",
    "        loss = criterion(output, target)\n",
    "\n",
    "        # measure accuracy and record loss\n",
    "        acc1 = accuracy(output, target, topk=(1,))\n",
    "        losses.update(loss.item(), images.size(0))\n",
    "        top1.update(acc1[0].item(), images.size(0))\n",
    "\n",
    "        # compute gradient and do SGD step\n",
    "        optimizer.zero_grad()\n",
    "        loss.backward()\n",
    "        optimizer.step()\n",
    "\n",
    "        # measure elapsed time\n",
    "        batch_time.update(time.time() - end)\n",
    "        end = time.time()\n",
    "\n",
    "        if i % print_freq == 0:\n",
    "            progress.display(i)"
   ]
  },
  {
   "cell_type": "code",
   "execution_count": 21,
   "id": "38c3a758",
   "metadata": {
    "id": "38c3a758",
    "pycharm": {
     "name": "#%%\n"
    }
   },
   "outputs": [],
   "source": [
    "def validate(val_loader, model, criterion):\n",
    "    batch_time = AverageMeter('Time', ':6.3f', Summary.NONE)\n",
    "    losses = AverageMeter('Loss', ':.4e', Summary.AVERAGE)\n",
    "    top1 = AverageMeter('Acc@1', ':6.2f', Summary.AVERAGE)\n",
    "    progress = ProgressMeter(\n",
    "        len(val_loader),\n",
    "        [batch_time, losses, top1],\n",
    "        prefix='Test: ')\n",
    "\n",
    "    # switch to evaluate mode\n",
    "    model.eval()\n",
    "\n",
    "    with torch.no_grad():\n",
    "        end = time.time()\n",
    "        for i, (images, target) in enumerate(val_loader):\n",
    "            images = images.to(device)\n",
    "            target = target.to(device)\n",
    "            # compute output\n",
    "            output = model(images)\n",
    "            loss = criterion(output, target)\n",
    "\n",
    "            # measure accuracy and record loss\n",
    "            acc1 = accuracy(output, target, topk=(1,))\n",
    "            losses.update(loss.item(), images.size(0))\n",
    "            top1.update(acc1[0].item(), images.size(0))\n",
    "\n",
    "            # measure elapsed time\n",
    "            batch_time.update(time.time() - end)\n",
    "            end = time.time()\n",
    "\n",
    "            if i % print_freq == 0:\n",
    "                progress.display(i)\n",
    "\n",
    "        progress.display_summary()\n",
    "\n",
    "    return top1.avg, losses.avg"
   ]
  },
  {
   "cell_type": "code",
   "execution_count": 22,
   "id": "7092588e",
   "metadata": {
    "id": "7092588e",
    "pycharm": {
     "name": "#%%\n"
    }
   },
   "outputs": [],
   "source": [
    "def save_checkpoint(state, is_best, filename='checkpoint.pth.tar'):\n",
    "    torch.save(state, filename)\n",
    "    if is_best:\n",
    "        shutil.copyfile(filename, 'model_best.pth.tar')"
   ]
  },
  {
   "cell_type": "code",
   "execution_count": 22,
   "id": "4b130254",
   "metadata": {
    "id": "4b130254",
    "pycharm": {
     "name": "#%%\n"
    }
   },
   "outputs": [],
   "source": []
  },
  {
   "cell_type": "code",
   "execution_count": 23,
   "id": "002be0be",
   "metadata": {
    "colab": {
     "base_uri": "https://localhost:8080/"
    },
    "id": "002be0be",
    "outputId": "f800bc8e-0926-4e78-ff9c-ae42dcc28f9d",
    "pycharm": {
     "name": "#%%\n"
    }
   },
   "outputs": [
    {
     "output_type": "stream",
     "name": "stdout",
     "text": [
      "Epoch: [0][   0/1200]\tTime  1.063 ( 1.063)\tData  0.364 ( 0.364)\tLoss 2.3378e+00 (2.3378e+00)\tAcc@1  12.00 ( 12.00)\n",
      "Epoch: [0][ 500/1200]\tTime  0.003 ( 0.014)\tData  0.000 ( 0.009)\tLoss 5.4540e-02 (4.3156e-01)\tAcc@1  98.00 ( 88.21)\n",
      "Epoch: [0][1000/1200]\tTime  0.019 ( 0.012)\tData  0.016 ( 0.008)\tLoss 1.3498e-01 (3.1829e-01)\tAcc@1  92.00 ( 91.07)\n",
      "Test: [  0/200]\tTime  0.100 ( 0.100)\tLoss 2.3231e-01 (2.3231e-01)\tAcc@1  96.00 ( 96.00)\n",
      " *  Loss 0.151 Acc@1 95.540\n",
      "Epoch: [1][   0/1200]\tTime  0.113 ( 0.113)\tData  0.107 ( 0.107)\tLoss 1.4148e-01 (1.4148e-01)\tAcc@1  96.00 ( 96.00)\n",
      "Epoch: [1][ 500/1200]\tTime  0.007 ( 0.013)\tData  0.004 ( 0.009)\tLoss 9.0899e-02 (1.5166e-01)\tAcc@1  96.00 ( 95.65)\n",
      "Epoch: [1][1000/1200]\tTime  0.009 ( 0.011)\tData  0.007 ( 0.008)\tLoss 5.5410e-02 (1.4360e-01)\tAcc@1  98.00 ( 95.89)\n",
      "Test: [  0/200]\tTime  0.096 ( 0.096)\tLoss 1.5788e-01 (1.5788e-01)\tAcc@1  94.00 ( 94.00)\n",
      " *  Loss 0.104 Acc@1 96.920\n",
      "Epoch: [2][   0/1200]\tTime  0.121 ( 0.121)\tData  0.115 ( 0.115)\tLoss 5.3426e-02 (5.3426e-02)\tAcc@1 100.00 (100.00)\n",
      "Epoch: [2][ 500/1200]\tTime  0.003 ( 0.010)\tData  0.000 ( 0.007)\tLoss 6.7065e-02 (1.1337e-01)\tAcc@1  98.00 ( 96.71)\n",
      "Epoch: [2][1000/1200]\tTime  0.018 ( 0.010)\tData  0.014 ( 0.007)\tLoss 2.3306e-01 (1.1048e-01)\tAcc@1  92.00 ( 96.82)\n",
      "Test: [  0/200]\tTime  0.106 ( 0.106)\tLoss 1.5517e-01 (1.5517e-01)\tAcc@1  96.00 ( 96.00)\n",
      " *  Loss 0.086 Acc@1 97.410\n",
      "Epoch: [3][   0/1200]\tTime  0.117 ( 0.117)\tData  0.110 ( 0.110)\tLoss 2.0907e-01 (2.0907e-01)\tAcc@1  96.00 ( 96.00)\n",
      "Epoch: [3][ 500/1200]\tTime  0.009 ( 0.010)\tData  0.006 ( 0.007)\tLoss 6.2306e-02 (1.0020e-01)\tAcc@1  98.00 ( 97.08)\n",
      "Epoch: [3][1000/1200]\tTime  0.007 ( 0.010)\tData  0.004 ( 0.007)\tLoss 4.4240e-02 (9.6423e-02)\tAcc@1  98.00 ( 97.21)\n",
      "Test: [  0/200]\tTime  0.111 ( 0.111)\tLoss 2.6189e-02 (2.6189e-02)\tAcc@1  98.00 ( 98.00)\n",
      " *  Loss 0.076 Acc@1 97.650\n",
      "Epoch: [4][   0/1200]\tTime  0.110 ( 0.110)\tData  0.104 ( 0.104)\tLoss 1.8093e-02 (1.8093e-02)\tAcc@1 100.00 (100.00)\n",
      "Epoch: [4][ 500/1200]\tTime  0.018 ( 0.010)\tData  0.014 ( 0.007)\tLoss 5.4072e-02 (8.4716e-02)\tAcc@1  98.00 ( 97.55)\n",
      "Epoch: [4][1000/1200]\tTime  0.003 ( 0.010)\tData  0.000 ( 0.007)\tLoss 3.0911e-02 (8.5149e-02)\tAcc@1 100.00 ( 97.52)\n",
      "Test: [  0/200]\tTime  0.097 ( 0.097)\tLoss 5.2487e-02 (5.2487e-02)\tAcc@1  98.00 ( 98.00)\n",
      " *  Loss 0.069 Acc@1 97.940\n"
     ]
    }
   ],
   "source": [
    "best_acc1 = 0\n",
    "best_loss1 = float('inf')\n",
    "for epoch in range(epochs):\n",
    "\n",
    "#     adjust_learning_rate(optimizer, epoch)\n",
    "\n",
    "    # train for one epoch\n",
    "    train(train_loader, model, criterion, optimizer, epoch)\n",
    "\n",
    "    # evaluate on validation set\n",
    "    acc1, loss1 = validate(val_loader, model, criterion)\n",
    "\n",
    "    # remember best bestloss1 and save checkpoint\n",
    "    is_best = loss1 < best_loss1\n",
    "    best_loss1 = min(loss1, best_loss1)\n",
    "    save_checkpoint({\n",
    "                'epoch': epoch + 1,\n",
    "                'state_dict': model.state_dict(),\n",
    "                'best_loss1': best_loss1,\n",
    "                'optimizer': optimizer.state_dict(),\n",
    "            }, is_best)"
   ]
  },
  {
   "cell_type": "markdown",
   "source": [
    "#### Show evaluation examples"
   ],
   "metadata": {
    "id": "Xvgbp62jQ2ib",
    "pycharm": {
     "name": "#%% md\n"
    }
   },
   "id": "Xvgbp62jQ2ib"
  },
  {
   "cell_type": "code",
   "execution_count": 24,
   "id": "8b5404b1",
   "metadata": {
    "colab": {
     "base_uri": "https://localhost:8080/",
     "height": 645
    },
    "id": "8b5404b1",
    "outputId": "00bf6a3a-4211-40a8-b7ac-8ed83852248a",
    "pycharm": {
     "name": "#%%\n"
    }
   },
   "outputs": [
    {
     "output_type": "display_data",
     "data": {
      "text/plain": [
       "<Figure size 576x576 with 9 Axes>"
      ],
      "image/svg+xml": "<?xml version=\"1.0\" encoding=\"utf-8\" standalone=\"no\"?>\n<!DOCTYPE svg PUBLIC \"-//W3C//DTD SVG 1.1//EN\"\n  \"http://www.w3.org/Graphics/SVG/1.1/DTD/svg11.dtd\">\n<!-- Created with matplotlib (https://matplotlib.org/) -->\n<svg height=\"467.898125pt\" version=\"1.1\" viewBox=\"0 0 460.911765 467.898125\" width=\"460.911765pt\" xmlns=\"http://www.w3.org/2000/svg\" xmlns:xlink=\"http://www.w3.org/1999/xlink\">\n <defs>\n  <style type=\"text/css\">\n*{stroke-linecap:butt;stroke-linejoin:round;}\n  </style>\n </defs>\n <g id=\"figure_1\">\n  <g id=\"patch_1\">\n   <path d=\"M 0 467.898125 \nL 460.911765 467.898125 \nL 460.911765 0 \nL 0 0 \nz\n\" style=\"fill:none;\"/>\n  </g>\n  <g id=\"axes_1\">\n   <g id=\"patch_2\">\n    <path d=\"M 10.7 150.224007 \nL 138.605882 150.224007 \nL 138.605882 22.318125 \nL 10.7 22.318125 \nz\n\" style=\"fill:#ffffff;\"/>\n   </g>\n   <g clip-path=\"url(#peb4413019e)\">\n    <image height=\"128\" id=\"imagefb25a09c3d\" transform=\"scale(1 -1)translate(0 -128)\" width=\"128\" x=\"10.7\" xlink:href=\"data:image/png;base64,\niVBORw0KGgoAAAANSUhEUgAAAIAAAACACAYAAADDPmHLAAAABHNCSVQICAgIfAhkiAAABHVJREFUeJztnU9IFHEUx111NTeiVixETTKsg2QGohhaWRgVHazIQ/9MMIjSIsM8JER1iRQRVIIsLQ8Ranm3LhmRmVKUpJVlViCUqSWmq/mn82/exozbuOvu9/u5vceb3w7Lx7ePmfE3lgzL/lk/Aou/p0+AeBYKAA4FAIcCgEMBwKEA4FAAcCgAOBQAHAoADgUAhwKAQwHACXTnh326slHkOrMrdI/zd+LpjN+M7nHdk2rNgboCURN98anuOr4MOwA4FAAcCgCOxZ1PBK1pDxa5sognuse5OgMYoXlsqcgVX89R4mW906LG1tRmyud7GnYAcCgAOBQAHAoAjluHwJ9H5IWgpNMvdI/zt8iBb2ZW393sMHXATAhysraBAbNscJ2oeXhukxLben6ImqnePt1z9DTsAOBQAHAoADhunQHczcSuJCUeOj4qau5uqBW5WOvc75HF1Z+S65x9Nud13A07ADgUABwKAA4FAMenh0AjTG1LFLmK2iolXmt1cgXJAKnF+Upsv93q0jrzCTsAOBQAHAoADgUAB34IdMbHshQlrsq8JWq2hsirilpyP29X4qHdFlEzPTw8x7MzF3YAcCgAOBQAHM4ABhg5mCJyj0ordY/TPm2UmZ4laqZ7el0/MRNgBwCHAoBDAcChAOC4dX8Ab8Xe/F7k1mfmKvHrtBrddT5cXiJysSftIufOi0PsAOBQAHAoADicAQww+3tM5KKqrWoiTX+dzs03RW5n8gmRC2ruMHxu/ws7ADgUABwKAA4FAAdqCBzOkfsTDKROyULN/VF7+IgoaUus1mTk35LVEqDElwbiRY3TfQXkGc0b7ADgUABwKAA4XjsD5PWoN2h22H4ZOKpdZFzdhNLINpV/NLNEQ326qInq9exm1ewA4FAAcCgAOBQAHK8dAj1NQb+6UWTH95WiZrR1uRJHlzwXNZ5+Jp8dABwKAA4FAIcCgOO1Q2B5n/q/993hXaLmTKjMucK90XCRe1WSoMT2RvkKGbtfjxJ7euBzBjsAOBQAHAoAjs/sDxAYGSFyXw6tUuL7eaWiJiZwkcgZuRvYPzWhxPuuFomaFdcW/mtp2QHAoQDgUABwKAA4PjMEGmF8T7LIBeR9E7kHcU2mfB53CycLHgoADgUAx2tnAO1j4YWNR0VNzHnXfnNde+Rcwo0iyYKHAoBDAcChAOB47RNBWloOyzt9abZCJba/kW/suFBUJ3JbQgY1GZ/5mgTsAOBQAHAoADg+8+MWGhAscl1Zmrd6yOsw/9gfwJyv5bFDfeWsxTFpyrpmwg4ADgUAhwKAQwHA8Zkh0Exaxm1K7Ji1ippuR6QSN1RmiJrQdw4l9v/60oSzMxd2AHAoADgUABwKAI7XDoHFN3KU2HHsjqjZu3hId534mnyRW13+VomNvMYtzG/hPfJtBHYAcCgAOBQAHK99LJyYAzsAOBQAHAoADgUAhwKAQwHAoQDgUABwKAA4FAAcCgAOBQCHAoBDAcChAOBQAHAoADgUABwKAA4FAIcCgEMBwPkLHOfWC/9n8BAAAAAASUVORK5CYII=\" y=\"-22.224007\"/>\n   </g>\n   <g id=\"matplotlib.axis_1\"/>\n   <g id=\"matplotlib.axis_2\"/>\n   <g id=\"patch_3\">\n    <path d=\"M 10.7 150.224007 \nL 10.7 22.318125 \n\" style=\"fill:none;stroke:#000000;stroke-linecap:square;stroke-linejoin:miter;stroke-width:0.8;\"/>\n   </g>\n   <g id=\"patch_4\">\n    <path d=\"M 138.605882 150.224007 \nL 138.605882 22.318125 \n\" style=\"fill:none;stroke:#000000;stroke-linecap:square;stroke-linejoin:miter;stroke-width:0.8;\"/>\n   </g>\n   <g id=\"patch_5\">\n    <path d=\"M 10.7 150.224007 \nL 138.605882 150.224007 \n\" style=\"fill:none;stroke:#000000;stroke-linecap:square;stroke-linejoin:miter;stroke-width:0.8;\"/>\n   </g>\n   <g id=\"patch_6\">\n    <path d=\"M 10.7 22.318125 \nL 138.605882 22.318125 \n\" style=\"fill:none;stroke:#000000;stroke-linecap:square;stroke-linejoin:miter;stroke-width:0.8;\"/>\n   </g>\n   <g id=\"text_1\">\n    <!-- label = 3 pred = 3 -->\n    <defs>\n     <path d=\"M 9.421875 75.984375 \nL 18.40625 75.984375 \nL 18.40625 0 \nL 9.421875 0 \nz\n\" id=\"DejaVuSans-108\"/>\n     <path d=\"M 34.28125 27.484375 \nQ 23.390625 27.484375 19.1875 25 \nQ 14.984375 22.515625 14.984375 16.5 \nQ 14.984375 11.71875 18.140625 8.90625 \nQ 21.296875 6.109375 26.703125 6.109375 \nQ 34.1875 6.109375 38.703125 11.40625 \nQ 43.21875 16.703125 43.21875 25.484375 \nL 43.21875 27.484375 \nz\nM 52.203125 31.203125 \nL 52.203125 0 \nL 43.21875 0 \nL 43.21875 8.296875 \nQ 40.140625 3.328125 35.546875 0.953125 \nQ 30.953125 -1.421875 24.3125 -1.421875 \nQ 15.921875 -1.421875 10.953125 3.296875 \nQ 6 8.015625 6 15.921875 \nQ 6 25.140625 12.171875 29.828125 \nQ 18.359375 34.515625 30.609375 34.515625 \nL 43.21875 34.515625 \nL 43.21875 35.40625 \nQ 43.21875 41.609375 39.140625 45 \nQ 35.0625 48.390625 27.6875 48.390625 \nQ 23 48.390625 18.546875 47.265625 \nQ 14.109375 46.140625 10.015625 43.890625 \nL 10.015625 52.203125 \nQ 14.9375 54.109375 19.578125 55.046875 \nQ 24.21875 56 28.609375 56 \nQ 40.484375 56 46.34375 49.84375 \nQ 52.203125 43.703125 52.203125 31.203125 \nz\n\" id=\"DejaVuSans-97\"/>\n     <path d=\"M 48.6875 27.296875 \nQ 48.6875 37.203125 44.609375 42.84375 \nQ 40.53125 48.484375 33.40625 48.484375 \nQ 26.265625 48.484375 22.1875 42.84375 \nQ 18.109375 37.203125 18.109375 27.296875 \nQ 18.109375 17.390625 22.1875 11.75 \nQ 26.265625 6.109375 33.40625 6.109375 \nQ 40.53125 6.109375 44.609375 11.75 \nQ 48.6875 17.390625 48.6875 27.296875 \nz\nM 18.109375 46.390625 \nQ 20.953125 51.265625 25.265625 53.625 \nQ 29.59375 56 35.59375 56 \nQ 45.5625 56 51.78125 48.09375 \nQ 58.015625 40.1875 58.015625 27.296875 \nQ 58.015625 14.40625 51.78125 6.484375 \nQ 45.5625 -1.421875 35.59375 -1.421875 \nQ 29.59375 -1.421875 25.265625 0.953125 \nQ 20.953125 3.328125 18.109375 8.203125 \nL 18.109375 0 \nL 9.078125 0 \nL 9.078125 75.984375 \nL 18.109375 75.984375 \nz\n\" id=\"DejaVuSans-98\"/>\n     <path d=\"M 56.203125 29.59375 \nL 56.203125 25.203125 \nL 14.890625 25.203125 \nQ 15.484375 15.921875 20.484375 11.0625 \nQ 25.484375 6.203125 34.421875 6.203125 \nQ 39.59375 6.203125 44.453125 7.46875 \nQ 49.3125 8.734375 54.109375 11.28125 \nL 54.109375 2.78125 \nQ 49.265625 0.734375 44.1875 -0.34375 \nQ 39.109375 -1.421875 33.890625 -1.421875 \nQ 20.796875 -1.421875 13.15625 6.1875 \nQ 5.515625 13.8125 5.515625 26.8125 \nQ 5.515625 40.234375 12.765625 48.109375 \nQ 20.015625 56 32.328125 56 \nQ 43.359375 56 49.78125 48.890625 \nQ 56.203125 41.796875 56.203125 29.59375 \nz\nM 47.21875 32.234375 \nQ 47.125 39.59375 43.09375 43.984375 \nQ 39.0625 48.390625 32.421875 48.390625 \nQ 24.90625 48.390625 20.390625 44.140625 \nQ 15.875 39.890625 15.1875 32.171875 \nz\n\" id=\"DejaVuSans-101\"/>\n     <path id=\"DejaVuSans-32\"/>\n     <path d=\"M 10.59375 45.40625 \nL 73.1875 45.40625 \nL 73.1875 37.203125 \nL 10.59375 37.203125 \nz\nM 10.59375 25.484375 \nL 73.1875 25.484375 \nL 73.1875 17.1875 \nL 10.59375 17.1875 \nz\n\" id=\"DejaVuSans-61\"/>\n     <path d=\"M 40.578125 39.3125 \nQ 47.65625 37.796875 51.625 33 \nQ 55.609375 28.21875 55.609375 21.1875 \nQ 55.609375 10.40625 48.1875 4.484375 \nQ 40.765625 -1.421875 27.09375 -1.421875 \nQ 22.515625 -1.421875 17.65625 -0.515625 \nQ 12.796875 0.390625 7.625 2.203125 \nL 7.625 11.71875 \nQ 11.71875 9.328125 16.59375 8.109375 \nQ 21.484375 6.890625 26.8125 6.890625 \nQ 36.078125 6.890625 40.9375 10.546875 \nQ 45.796875 14.203125 45.796875 21.1875 \nQ 45.796875 27.640625 41.28125 31.265625 \nQ 36.765625 34.90625 28.71875 34.90625 \nL 20.21875 34.90625 \nL 20.21875 43.015625 \nL 29.109375 43.015625 \nQ 36.375 43.015625 40.234375 45.921875 \nQ 44.09375 48.828125 44.09375 54.296875 \nQ 44.09375 59.90625 40.109375 62.90625 \nQ 36.140625 65.921875 28.71875 65.921875 \nQ 24.65625 65.921875 20.015625 65.03125 \nQ 15.375 64.15625 9.8125 62.3125 \nL 9.8125 71.09375 \nQ 15.4375 72.65625 20.34375 73.4375 \nQ 25.25 74.21875 29.59375 74.21875 \nQ 40.828125 74.21875 47.359375 69.109375 \nQ 53.90625 64.015625 53.90625 55.328125 \nQ 53.90625 49.265625 50.4375 45.09375 \nQ 46.96875 40.921875 40.578125 39.3125 \nz\n\" id=\"DejaVuSans-51\"/>\n     <path d=\"M 18.109375 8.203125 \nL 18.109375 -20.796875 \nL 9.078125 -20.796875 \nL 9.078125 54.6875 \nL 18.109375 54.6875 \nL 18.109375 46.390625 \nQ 20.953125 51.265625 25.265625 53.625 \nQ 29.59375 56 35.59375 56 \nQ 45.5625 56 51.78125 48.09375 \nQ 58.015625 40.1875 58.015625 27.296875 \nQ 58.015625 14.40625 51.78125 6.484375 \nQ 45.5625 -1.421875 35.59375 -1.421875 \nQ 29.59375 -1.421875 25.265625 0.953125 \nQ 20.953125 3.328125 18.109375 8.203125 \nz\nM 48.6875 27.296875 \nQ 48.6875 37.203125 44.609375 42.84375 \nQ 40.53125 48.484375 33.40625 48.484375 \nQ 26.265625 48.484375 22.1875 42.84375 \nQ 18.109375 37.203125 18.109375 27.296875 \nQ 18.109375 17.390625 22.1875 11.75 \nQ 26.265625 6.109375 33.40625 6.109375 \nQ 40.53125 6.109375 44.609375 11.75 \nQ 48.6875 17.390625 48.6875 27.296875 \nz\n\" id=\"DejaVuSans-112\"/>\n     <path d=\"M 41.109375 46.296875 \nQ 39.59375 47.171875 37.8125 47.578125 \nQ 36.03125 48 33.890625 48 \nQ 26.265625 48 22.1875 43.046875 \nQ 18.109375 38.09375 18.109375 28.8125 \nL 18.109375 0 \nL 9.078125 0 \nL 9.078125 54.6875 \nL 18.109375 54.6875 \nL 18.109375 46.1875 \nQ 20.953125 51.171875 25.484375 53.578125 \nQ 30.03125 56 36.53125 56 \nQ 37.453125 56 38.578125 55.875 \nQ 39.703125 55.765625 41.0625 55.515625 \nz\n\" id=\"DejaVuSans-114\"/>\n     <path d=\"M 45.40625 46.390625 \nL 45.40625 75.984375 \nL 54.390625 75.984375 \nL 54.390625 0 \nL 45.40625 0 \nL 45.40625 8.203125 \nQ 42.578125 3.328125 38.25 0.953125 \nQ 33.9375 -1.421875 27.875 -1.421875 \nQ 17.96875 -1.421875 11.734375 6.484375 \nQ 5.515625 14.40625 5.515625 27.296875 \nQ 5.515625 40.1875 11.734375 48.09375 \nQ 17.96875 56 27.875 56 \nQ 33.9375 56 38.25 53.625 \nQ 42.578125 51.265625 45.40625 46.390625 \nz\nM 14.796875 27.296875 \nQ 14.796875 17.390625 18.875 11.75 \nQ 22.953125 6.109375 30.078125 6.109375 \nQ 37.203125 6.109375 41.296875 11.75 \nQ 45.40625 17.390625 45.40625 27.296875 \nQ 45.40625 37.203125 41.296875 42.84375 \nQ 37.203125 48.484375 30.078125 48.484375 \nQ 22.953125 48.484375 18.875 42.84375 \nQ 14.796875 37.203125 14.796875 27.296875 \nz\n\" id=\"DejaVuSans-100\"/>\n    </defs>\n    <g transform=\"translate(19.274816 16.318125)scale(0.12 -0.12)\">\n     <use xlink:href=\"#DejaVuSans-108\"/>\n     <use x=\"27.783203\" xlink:href=\"#DejaVuSans-97\"/>\n     <use x=\"89.0625\" xlink:href=\"#DejaVuSans-98\"/>\n     <use x=\"152.539062\" xlink:href=\"#DejaVuSans-101\"/>\n     <use x=\"214.0625\" xlink:href=\"#DejaVuSans-108\"/>\n     <use x=\"241.845703\" xlink:href=\"#DejaVuSans-32\"/>\n     <use x=\"273.632812\" xlink:href=\"#DejaVuSans-61\"/>\n     <use x=\"357.421875\" xlink:href=\"#DejaVuSans-32\"/>\n     <use x=\"389.208984\" xlink:href=\"#DejaVuSans-51\"/>\n     <use x=\"452.832031\" xlink:href=\"#DejaVuSans-32\"/>\n     <use x=\"484.619141\" xlink:href=\"#DejaVuSans-112\"/>\n     <use x=\"548.095703\" xlink:href=\"#DejaVuSans-114\"/>\n     <use x=\"586.958984\" xlink:href=\"#DejaVuSans-101\"/>\n     <use x=\"648.482422\" xlink:href=\"#DejaVuSans-100\"/>\n     <use x=\"711.958984\" xlink:href=\"#DejaVuSans-32\"/>\n     <use x=\"743.746094\" xlink:href=\"#DejaVuSans-61\"/>\n     <use x=\"827.535156\" xlink:href=\"#DejaVuSans-32\"/>\n     <use x=\"859.322266\" xlink:href=\"#DejaVuSans-51\"/>\n    </g>\n   </g>\n  </g>\n  <g id=\"axes_2\">\n   <g id=\"patch_7\">\n    <path d=\"M 168.252941 150.224007 \nL 296.158824 150.224007 \nL 296.158824 22.318125 \nL 168.252941 22.318125 \nz\n\" style=\"fill:#ffffff;\"/>\n   </g>\n   <g clip-path=\"url(#pe73cd2cde8)\">\n    <image height=\"128\" id=\"imagee6c4427de6\" transform=\"scale(1 -1)translate(0 -128)\" width=\"128\" x=\"168.252941\" xlink:href=\"data:image/png;base64,\niVBORw0KGgoAAAANSUhEUgAAAIAAAACACAYAAADDPmHLAAAABHNCSVQICAgIfAhkiAAABFJJREFUeJztnUlIVWEUx+8bNM2Fs6KbMlTUUoxM1HDRZLVJolZam6JNJQRZNFAhNEAWiA1UC1tkZosIxTaFbQoNQ1MqhcBMF1YqpaU+NYfWx/PA5xt6w///253Dudej/Dh+fO++75q2mfYtGAQWs7cbIN6FAoBDAcChAOBYvd2Auzj3pVPlYs2TIj52sEzVWF+1e6wnf4ATABwKAA4FAMdv1wDWpFUiDjO1qZrkoBUiPnm/VtXc3L5T5Wb7+l3szn/gBACHAoBDAcChAOD47SJwIi1OxBHmGTtVoSLaGjqpKqpDgt3Zlt/BCQAOBQCHAoBjCpQngmZ25Khc+W258VMUOqFqKoazVa6jJF3Ec92fXezOd+EEAIcCgEMBwKEA4ATMItAeffVZIv5U+MCh605/3yjijxvm3daTr8EJAA4FAIcCgBPQawBLRLiIrQ2hquZp8nOV+zU/JeLdZ06omvDaty525xtwAoBDAcChAOBQAHD89okgR5gbHRPx0MMMVfPtgk3lEixysdh49Yaq2RVWLuKYe63OtOh1OAHAoQDgUABwKAA4Ab0T6AgFXfpx8rMxH5a87tDAZhH/yP/ttp7+J5wA4FAAcCgAOAG9EeQIbw9kqVxV3bSIj0fqx8KLo+WZRHcL96oa8+v3LnbneTgBwKEA4FAAcCgAOPAbQfborcwXcU/JrSWvaZ22qNzlNfp7h74GJwA4FAAcCgAO/EaQPVKv98pEydLX5ATrD5UGTxWIOPFaiytteQROAHAoADgUABwKAA4XgXZYmJSPipf2FamaR0kvRBxk0htB4+nTKudrcAKAQwHAoQDg8MMgB7DExqrcXL18G0lTWoOq6ZuV5wyUVpSrmqga736ljBMAHAoADgUAhwKAw40gB5gbHlY5W3WuTNzR1yVZQ0S86eg7VdNT41JrLsMJAA4FAIcCgEMBwKEA4FAAcCgAOBQAHG4E2SM3U4RT8fqU8ZHM5f/pmgdSVS7R6F72fdwJJwA4FAAcCgAOBQDHJxeBJqtsa2FeP7VmssjHsE1B+lcxR0eJ+GtVuKqxx8XMRhHvCfvp0HWLmV74K+KEyiCn7uNJOAHAoQDgUABw3LYGsBXnqtzIOuduP5s5LuMp/b8zY/WgiJ+lNDn1s5yl2bZSxEfe7Fc1kS3BIo5p8b23inACgEMBwKEA4FAAcJxfBObJU7Zth0dVSdf6x07f3hMsXrgZhmG8HFurc3V5Io5v06+Ws/6R3/1P6Wx3sTvvwAkADgUAhwKA4/T5ANmLXoZxJa7DHf0YhmEY54fkIcsJwWOqpiyyX8SXRtJUzZPaLSKOa9dn9lib/fN/t7vgBACHAoBDAcChAODwkChwOAHAoQDgUABwKAA4FAAcCgAOBQCHAoBDAcChAOBQAHAoADgUABwKAA4FAIcCgEMBwKEA4FAAcCgAOBQAHAoADgUAhwKAQwHAoQDgUABwKAA4FAAcCgAOBQDnHxOztT0EIrs2AAAAAElFTkSuQmCC\" y=\"-22.224007\"/>\n   </g>\n   <g id=\"matplotlib.axis_3\"/>\n   <g id=\"matplotlib.axis_4\"/>\n   <g id=\"patch_8\">\n    <path d=\"M 168.252941 150.224007 \nL 168.252941 22.318125 \n\" style=\"fill:none;stroke:#000000;stroke-linecap:square;stroke-linejoin:miter;stroke-width:0.8;\"/>\n   </g>\n   <g id=\"patch_9\">\n    <path d=\"M 296.158824 150.224007 \nL 296.158824 22.318125 \n\" style=\"fill:none;stroke:#000000;stroke-linecap:square;stroke-linejoin:miter;stroke-width:0.8;\"/>\n   </g>\n   <g id=\"patch_10\">\n    <path d=\"M 168.252941 150.224007 \nL 296.158824 150.224007 \n\" style=\"fill:none;stroke:#000000;stroke-linecap:square;stroke-linejoin:miter;stroke-width:0.8;\"/>\n   </g>\n   <g id=\"patch_11\">\n    <path d=\"M 168.252941 22.318125 \nL 296.158824 22.318125 \n\" style=\"fill:none;stroke:#000000;stroke-linecap:square;stroke-linejoin:miter;stroke-width:0.8;\"/>\n   </g>\n   <g id=\"text_2\">\n    <!-- label = 7 pred = 7 -->\n    <defs>\n     <path d=\"M 8.203125 72.90625 \nL 55.078125 72.90625 \nL 55.078125 68.703125 \nL 28.609375 0 \nL 18.3125 0 \nL 43.21875 64.59375 \nL 8.203125 64.59375 \nz\n\" id=\"DejaVuSans-55\"/>\n    </defs>\n    <g transform=\"translate(176.827757 16.318125)scale(0.12 -0.12)\">\n     <use xlink:href=\"#DejaVuSans-108\"/>\n     <use x=\"27.783203\" xlink:href=\"#DejaVuSans-97\"/>\n     <use x=\"89.0625\" xlink:href=\"#DejaVuSans-98\"/>\n     <use x=\"152.539062\" xlink:href=\"#DejaVuSans-101\"/>\n     <use x=\"214.0625\" xlink:href=\"#DejaVuSans-108\"/>\n     <use x=\"241.845703\" xlink:href=\"#DejaVuSans-32\"/>\n     <use x=\"273.632812\" xlink:href=\"#DejaVuSans-61\"/>\n     <use x=\"357.421875\" xlink:href=\"#DejaVuSans-32\"/>\n     <use x=\"389.208984\" xlink:href=\"#DejaVuSans-55\"/>\n     <use x=\"452.832031\" xlink:href=\"#DejaVuSans-32\"/>\n     <use x=\"484.619141\" xlink:href=\"#DejaVuSans-112\"/>\n     <use x=\"548.095703\" xlink:href=\"#DejaVuSans-114\"/>\n     <use x=\"586.958984\" xlink:href=\"#DejaVuSans-101\"/>\n     <use x=\"648.482422\" xlink:href=\"#DejaVuSans-100\"/>\n     <use x=\"711.958984\" xlink:href=\"#DejaVuSans-32\"/>\n     <use x=\"743.746094\" xlink:href=\"#DejaVuSans-61\"/>\n     <use x=\"827.535156\" xlink:href=\"#DejaVuSans-32\"/>\n     <use x=\"859.322266\" xlink:href=\"#DejaVuSans-55\"/>\n    </g>\n   </g>\n  </g>\n  <g id=\"axes_3\">\n   <g id=\"patch_12\">\n    <path d=\"M 325.805882 150.224007 \nL 453.711765 150.224007 \nL 453.711765 22.318125 \nL 325.805882 22.318125 \nz\n\" style=\"fill:#ffffff;\"/>\n   </g>\n   <g clip-path=\"url(#p12cd30abbf)\">\n    <image height=\"128\" id=\"image253ebf2cfb\" transform=\"scale(1 -1)translate(0 -128)\" width=\"128\" x=\"325.805882\" xlink:href=\"data:image/png;base64,\niVBORw0KGgoAAAANSUhEUgAAAIAAAACACAYAAADDPmHLAAAABHNCSVQICAgIfAhkiAAABJNJREFUeJztnEtIVHEUxuc646PXWCnpaI8pLYoie6c9KaVoEQW5iWoTUQRS0GNjFKktwrIXZWlERhEkRdCmB0WLXgpBEZVlVqZZVFoqWaZjtj5zjKvDjDPX7/vtvsPx3j/y43gY71wjw8jstBFYwoJ9ABJcKAA4FAAcCgAOBQCHAoBDAcChAOBQAHAoADgUABwKAA4FAMcR0KunThaxKsuuWkrnFqnalIieH+tKyxBVK6xeJLJREKt6Im4+7vG9+hKcAOBQAHAoADhGIJ8Iinkg/y6XvR2tevq/jDK9zq8RHfrnauU+0ZbSonoyxz8ReVvsI9VzoH6uqj3MnS3vdbXc9IxWhRMAHAoADgUAhwKAE9Al0O50itzR3ByoW3WJERkpcsOaaapnb/ZZVUuJqBc5/+si1fN2VbzIng+1vhwx6HACgEMBwKEA4AR0B7ACDle8qr1fP0bkwvWnVM/dnxNEvpM3T/UMuBz6HyBxAoBDAcChAOBQAHDgl8Du8HfeFFXbf75Y5KFhbapn9a4dIkdfKPPvwfwAJwA4FAAcCgAOBQCHS6CveD3yfrq0ULW8aY8W+dCCparHU/fJv+fqIZwA4FAAcCgAONwB/ETDhjRVK885IfKkoizVMzL3YcDO1B04AcChAOBQAHAoADiBfT8AEM6adtOe1gRPL5ykZ3ACgEMBwKEA4HAH8BF73DCRh+e+Uj33WuWvd0JBverRbz7oXTgBwKEA4FAAcCgAOJZdApvWporsfPdb9YTXNojsqf3o070601JUzX3stcjZcbdVT0bJTpFHvdEvqQo2nADgUABwKAA4ln0i6Ei1fJJmXLh+4aT3BzHlv5J8uldy5BdVc4fLD3U27duqemLOhN7ffG84AcChAOBQAHAoADiWXQKNqRNFTi6uUj1HE8yXME8X/4/L+yZfKFl6Q78AauypOnmd6hrTe4UinADgUABwKAA4FAAcyy6B3jji41StYrdb5pXHVU9rp35Ue3HuNpFji0P/Ez1f4QQAhwKAQwHA6TM7QHfwpE9XtfTD91Vte8xzkefkbFE9fWUv4AQAhwKAQwHAoQDgQC2BXeL1wkebzWaLPij/01fivq565ufJR8Bii6y5FHICgEMBwKEA4Fj2q2F+o+yZKjXulF8Fq7yo16SkdZUiNxX591i9BScAOBQAHAoADgUAh0tgFxhei+GemhWqJ8pu/mJIK8AJAA4FAIcCgBP0HcBw6CN82ThLZNetz+YXqv+uSh2NTaY/5nDFq9qrfJfIlclnVM+SipXyOrYG1WMFOAHAoQDgUABwKAA4QV8C7YkuVbuXfUjkfrsiTK9T0pygagUvMkSekai/w79w8FNVyxx0VeTCxvGqJ3Kz/NUF+63fvsIJAA4FAIcCgEMBwAnJx8L/LJsp8ocVhuqpXH5S5GstQ1TPqoHNIh/54VY956pSVS3q0mCRnRfL/ntWq8MJAA4FAIcCgBOSOwDpPTgBwKEA4FAAcCgAOBQAHAoADgUAhwKAQwHAoQDgUABwKAA4FAAcCgAOBQCHAoBDAcChAOBQAHAoADgUABwKAM4/1rjVkD0uVYsAAAAASUVORK5CYII=\" y=\"-22.224007\"/>\n   </g>\n   <g id=\"matplotlib.axis_5\"/>\n   <g id=\"matplotlib.axis_6\"/>\n   <g id=\"patch_13\">\n    <path d=\"M 325.805882 150.224007 \nL 325.805882 22.318125 \n\" style=\"fill:none;stroke:#000000;stroke-linecap:square;stroke-linejoin:miter;stroke-width:0.8;\"/>\n   </g>\n   <g id=\"patch_14\">\n    <path d=\"M 453.711765 150.224007 \nL 453.711765 22.318125 \n\" style=\"fill:none;stroke:#000000;stroke-linecap:square;stroke-linejoin:miter;stroke-width:0.8;\"/>\n   </g>\n   <g id=\"patch_15\">\n    <path d=\"M 325.805882 150.224007 \nL 453.711765 150.224007 \n\" style=\"fill:none;stroke:#000000;stroke-linecap:square;stroke-linejoin:miter;stroke-width:0.8;\"/>\n   </g>\n   <g id=\"patch_16\">\n    <path d=\"M 325.805882 22.318125 \nL 453.711765 22.318125 \n\" style=\"fill:none;stroke:#000000;stroke-linecap:square;stroke-linejoin:miter;stroke-width:0.8;\"/>\n   </g>\n   <g id=\"text_3\">\n    <!-- label = 3 pred = 3 -->\n    <g transform=\"translate(334.380699 16.318125)scale(0.12 -0.12)\">\n     <use xlink:href=\"#DejaVuSans-108\"/>\n     <use x=\"27.783203\" xlink:href=\"#DejaVuSans-97\"/>\n     <use x=\"89.0625\" xlink:href=\"#DejaVuSans-98\"/>\n     <use x=\"152.539062\" xlink:href=\"#DejaVuSans-101\"/>\n     <use x=\"214.0625\" xlink:href=\"#DejaVuSans-108\"/>\n     <use x=\"241.845703\" xlink:href=\"#DejaVuSans-32\"/>\n     <use x=\"273.632812\" xlink:href=\"#DejaVuSans-61\"/>\n     <use x=\"357.421875\" xlink:href=\"#DejaVuSans-32\"/>\n     <use x=\"389.208984\" xlink:href=\"#DejaVuSans-51\"/>\n     <use x=\"452.832031\" xlink:href=\"#DejaVuSans-32\"/>\n     <use x=\"484.619141\" xlink:href=\"#DejaVuSans-112\"/>\n     <use x=\"548.095703\" xlink:href=\"#DejaVuSans-114\"/>\n     <use x=\"586.958984\" xlink:href=\"#DejaVuSans-101\"/>\n     <use x=\"648.482422\" xlink:href=\"#DejaVuSans-100\"/>\n     <use x=\"711.958984\" xlink:href=\"#DejaVuSans-32\"/>\n     <use x=\"743.746094\" xlink:href=\"#DejaVuSans-61\"/>\n     <use x=\"827.535156\" xlink:href=\"#DejaVuSans-32\"/>\n     <use x=\"859.322266\" xlink:href=\"#DejaVuSans-51\"/>\n    </g>\n   </g>\n  </g>\n  <g id=\"axes_4\">\n   <g id=\"patch_17\">\n    <path d=\"M 10.7 303.711066 \nL 138.605882 303.711066 \nL 138.605882 175.805184 \nL 10.7 175.805184 \nz\n\" style=\"fill:#ffffff;\"/>\n   </g>\n   <g clip-path=\"url(#p019d253a49)\">\n    <image height=\"128\" id=\"imagef230102629\" transform=\"scale(1 -1)translate(0 -128)\" width=\"128\" x=\"10.7\" xlink:href=\"data:image/png;base64,\niVBORw0KGgoAAAANSUhEUgAAAIAAAACACAYAAADDPmHLAAAABHNCSVQICAgIfAhkiAAABDpJREFUeJztnW1ojWEYx/ec8zCnc8aGE5t5mZyV5iUWJSstQ0l5aYWUlCShEeEjn/GFT8qHEcJ8WlIU25D3CGs15F3Ha7a19mLnxefL9Wh5dp/dZ/7/37fr7n/u5/7w27WrPc+e41Q51ekcAkvA9gGIXSgAOBQAHAoADgUAhwKAQwHAoQDgUABwKAA4FAAcCgAOBQDHtX2AbMQpLxP1wbrTKlPkdot63b69KjOq/pmoU11dBk5nFnYAcCgAOBQAHM4AHnSWREQ9JzflkcoVVcPR4yoxfcFOUcdq7g34bKZhBwCHAoBDAcChAOBwCMwgeZPbbR+hX9gBwKEA4FAAcDgDeJDc/N32EQYNdgBwKAA4FAAcCgAOh0APOm6Okwuz/O3j3CgY+GEyDDsAOBQAHAoADgUAh0OgBwUvk2b2af1lZJ9Mwg4ADgUAhwKAQwHAoQDgUABwKAA4FACc/+YPQYFwWK0lZ08T9ddynenL03sVL35v7FzZDjsAOBQAHAoATlbOAO54+UTO96VTVSay8ZOoy/LjKnO48GS/1wp4/AykcrzeB/DvvF0p9y69amRbo7ADgEMBwKEA4FAAcKwPgW7xBLVW03hN1JWhKz5379/vYU5QrfUZ+iK9/AkdZjbKIOwA4FAAcCgAONZngM/LJ6m1RSH5UmW/f5a53TNCXiuRrzJBj92jrvzdXTGix9f1U2nH1+cGE3YAcCgAOBQAHAoAjvUh8OdMfyNexZMNonbqxqhM9Lp8sifx8ZPKeJGsnCvqE7XHVKbYzVVrQxF2AHAoADgUABwKAI71ITB2tlsvrun/cz9eyxcwxU7dVZmEzzMFGx6L+lLHHJXZNbrF5+7ZBTsAOBQAHAoAjvUZwP3c5utz88tfivqnicP8hdPnlqi1XTs4A5D/AAoADgUAhwKAY30I9MuRifWi3jp5vcok3n0wcq1wXD8n3peWL5P0erx8KMAOAA4FAIcCgGN9BkjGv6i1ta9WiPrCtMsqEw3KJ3JaDhSqTOk2MzNAQa2+0fTtkLzVVORyBiBDEAoADgUAhwKAY30ITPf2qrWePVFRN5yPqExlqFPUWxY2qUxTTmiApxsYa0qeivr+yLEqk+yw+w4BdgBwKAA4FAAc6zOAF+lHzaK+0qa/u7UydEfUy/Keq8zNeZvlvg91JpOsHiWfLn4QXqVDnAGITSgAOBQAHAoATlYOgX9yq3aeWmvf3yjqGcOHq8yL7XIttsncmS7+8e9iyyLNKrP2zG5RT4nru4q2YQcAhwKAQwHAoQDgOFVOtaF3Yw8uoSb5tTJuIKkyrfWloi46fEdl/OIWjhd1OqzvPCZfvTF2vUzBDgAOBQCHAoAzZGcAYgZ2AHAoADgUABwKAA4FAIcCgEMBwKEA4FAAcCgAOBQAHAoADgUAhwKAQwHAoQDgUABwKAA4FAAcCgAOBQCHAoDzG5ilp7VXcTrTAAAAAElFTkSuQmCC\" y=\"-175.711066\"/>\n   </g>\n   <g id=\"matplotlib.axis_7\"/>\n   <g id=\"matplotlib.axis_8\"/>\n   <g id=\"patch_18\">\n    <path d=\"M 10.7 303.711066 \nL 10.7 175.805184 \n\" style=\"fill:none;stroke:#000000;stroke-linecap:square;stroke-linejoin:miter;stroke-width:0.8;\"/>\n   </g>\n   <g id=\"patch_19\">\n    <path d=\"M 138.605882 303.711066 \nL 138.605882 175.805184 \n\" style=\"fill:none;stroke:#000000;stroke-linecap:square;stroke-linejoin:miter;stroke-width:0.8;\"/>\n   </g>\n   <g id=\"patch_20\">\n    <path d=\"M 10.7 303.711066 \nL 138.605882 303.711066 \n\" style=\"fill:none;stroke:#000000;stroke-linecap:square;stroke-linejoin:miter;stroke-width:0.8;\"/>\n   </g>\n   <g id=\"patch_21\">\n    <path d=\"M 10.7 175.805184 \nL 138.605882 175.805184 \n\" style=\"fill:none;stroke:#000000;stroke-linecap:square;stroke-linejoin:miter;stroke-width:0.8;\"/>\n   </g>\n   <g id=\"text_4\">\n    <!-- label = 4 pred = 4 -->\n    <defs>\n     <path d=\"M 37.796875 64.3125 \nL 12.890625 25.390625 \nL 37.796875 25.390625 \nz\nM 35.203125 72.90625 \nL 47.609375 72.90625 \nL 47.609375 25.390625 \nL 58.015625 25.390625 \nL 58.015625 17.1875 \nL 47.609375 17.1875 \nL 47.609375 0 \nL 37.796875 0 \nL 37.796875 17.1875 \nL 4.890625 17.1875 \nL 4.890625 26.703125 \nz\n\" id=\"DejaVuSans-52\"/>\n    </defs>\n    <g transform=\"translate(19.274816 169.805184)scale(0.12 -0.12)\">\n     <use xlink:href=\"#DejaVuSans-108\"/>\n     <use x=\"27.783203\" xlink:href=\"#DejaVuSans-97\"/>\n     <use x=\"89.0625\" xlink:href=\"#DejaVuSans-98\"/>\n     <use x=\"152.539062\" xlink:href=\"#DejaVuSans-101\"/>\n     <use x=\"214.0625\" xlink:href=\"#DejaVuSans-108\"/>\n     <use x=\"241.845703\" xlink:href=\"#DejaVuSans-32\"/>\n     <use x=\"273.632812\" xlink:href=\"#DejaVuSans-61\"/>\n     <use x=\"357.421875\" xlink:href=\"#DejaVuSans-32\"/>\n     <use x=\"389.208984\" xlink:href=\"#DejaVuSans-52\"/>\n     <use x=\"452.832031\" xlink:href=\"#DejaVuSans-32\"/>\n     <use x=\"484.619141\" xlink:href=\"#DejaVuSans-112\"/>\n     <use x=\"548.095703\" xlink:href=\"#DejaVuSans-114\"/>\n     <use x=\"586.958984\" xlink:href=\"#DejaVuSans-101\"/>\n     <use x=\"648.482422\" xlink:href=\"#DejaVuSans-100\"/>\n     <use x=\"711.958984\" xlink:href=\"#DejaVuSans-32\"/>\n     <use x=\"743.746094\" xlink:href=\"#DejaVuSans-61\"/>\n     <use x=\"827.535156\" xlink:href=\"#DejaVuSans-32\"/>\n     <use x=\"859.322266\" xlink:href=\"#DejaVuSans-52\"/>\n    </g>\n   </g>\n  </g>\n  <g id=\"axes_5\">\n   <g id=\"patch_22\">\n    <path d=\"M 168.252941 303.711066 \nL 296.158824 303.711066 \nL 296.158824 175.805184 \nL 168.252941 175.805184 \nz\n\" style=\"fill:#ffffff;\"/>\n   </g>\n   <g clip-path=\"url(#p9abcaa2edb)\">\n    <image height=\"128\" id=\"image3c030a4565\" transform=\"scale(1 -1)translate(0 -128)\" width=\"128\" x=\"168.252941\" xlink:href=\"data:image/png;base64,\niVBORw0KGgoAAAANSUhEUgAAAIAAAACACAYAAADDPmHLAAAABHNCSVQICAgIfAhkiAAAA19JREFUeJzt3UtIVFEAgGHHNEWiqEglQzJMMumBFGots3UtRLBw0YMIIhDCVW1c1yKofUspdxEJYasoA6GgCM3oab4iSwtapba+HuHa5Tqj/v+3O4d7z9zFz/EwM4yZ5kzLfJ6w8nP9AMotA4AzADgDgCvI9QPk2tT5pmCuv+t27H2NL9oi47L2yeCa2emZ5A+WJe4AcAYAZwBw+DPA1raRRPc9r++OjE9UnAov8gyglc4A4AwAzgDg8IfAifuV4eSe+PuujDdGxpnp3yk9UXa5A8AZAJwBwOHPAHWtg4nu6318KDLeNdqfxuNknTsAnAHAGQCcAcDhD4EvH9WGkxf6Yu+ra/wQGX/sOBJcU37zWeLnyhZ3ADgDgDMAOPwZoODgdKL7eqofRsbHhy+m8ThZ5w4AZwBwBgBnAHD4Q+C+0vFU1in5/CuYm01l5eXlDgBnAHAGAGcAcPhD4PCdRb4D3hX/aeBCg5c3BXM1q+DNQXcAOAOAMwA4/Bmg5sxQKuvU3gp/C8A3grTiGQCcAcAZABz+ENj/anc4uTP+jaDghyJHJ9J6pKxyB4AzADgDgMOfAfLg/y/FHQDOAOAMAM4A4PCHwKYD7xLd56+Fa00wADgDgMOfAfxWsNAMAM4A4AwADn8I9GvhQjMAOAOAMwA4/CEwLX8qNwZzRW9y8CD/yR0AzgDgDABu1Z4Bfpxtio73J/t+97lt3fEXLcFkQ2EwV9mbytLLyh0AzgDgDADOAOCyeggcuRb+a7Wr7XcTrXW4+GlkXFVQnGidtFT1TAVzfhqoFc8A4AwAblnPAAU7KiLj5pMDwTWtG74lXD23f/PXCncAOAOAMwA4A4BL7RA41hm+yXPv0o3IuLqwKK2Xy7s+tTcy7tjyOrimMLMudp3OiYZgbmimLDKe7SoNrln/diwynvv+Pva1ViJ3ADgDgDMAuNTOALOL/HmvXV8Sf9/8XDBXP3A6Ms7v2xxcU/7kZ2Tcc/RYuPgS8t7+4GswN//py4JlRoNr/sYvvSq4A8AZAJwBwBkAXKY50wL/vWw2dwA4A4AzADgDgDMAOAOAMwA4A4AzADgDgDMAOAOAMwA4A4AzADgDgDMAOAOAMwA4A4AzADgDgDMAOAOAMwA4A4AzADgDgDMAOAOAMwC4f0n8fJCMxfACAAAAAElFTkSuQmCC\" y=\"-175.711066\"/>\n   </g>\n   <g id=\"matplotlib.axis_9\"/>\n   <g id=\"matplotlib.axis_10\"/>\n   <g id=\"patch_23\">\n    <path d=\"M 168.252941 303.711066 \nL 168.252941 175.805184 \n\" style=\"fill:none;stroke:#000000;stroke-linecap:square;stroke-linejoin:miter;stroke-width:0.8;\"/>\n   </g>\n   <g id=\"patch_24\">\n    <path d=\"M 296.158824 303.711066 \nL 296.158824 175.805184 \n\" style=\"fill:none;stroke:#000000;stroke-linecap:square;stroke-linejoin:miter;stroke-width:0.8;\"/>\n   </g>\n   <g id=\"patch_25\">\n    <path d=\"M 168.252941 303.711066 \nL 296.158824 303.711066 \n\" style=\"fill:none;stroke:#000000;stroke-linecap:square;stroke-linejoin:miter;stroke-width:0.8;\"/>\n   </g>\n   <g id=\"patch_26\">\n    <path d=\"M 168.252941 175.805184 \nL 296.158824 175.805184 \n\" style=\"fill:none;stroke:#000000;stroke-linecap:square;stroke-linejoin:miter;stroke-width:0.8;\"/>\n   </g>\n   <g id=\"text_5\">\n    <!-- label = 7 pred = 7 -->\n    <g transform=\"translate(176.827757 169.805184)scale(0.12 -0.12)\">\n     <use xlink:href=\"#DejaVuSans-108\"/>\n     <use x=\"27.783203\" xlink:href=\"#DejaVuSans-97\"/>\n     <use x=\"89.0625\" xlink:href=\"#DejaVuSans-98\"/>\n     <use x=\"152.539062\" xlink:href=\"#DejaVuSans-101\"/>\n     <use x=\"214.0625\" xlink:href=\"#DejaVuSans-108\"/>\n     <use x=\"241.845703\" xlink:href=\"#DejaVuSans-32\"/>\n     <use x=\"273.632812\" xlink:href=\"#DejaVuSans-61\"/>\n     <use x=\"357.421875\" xlink:href=\"#DejaVuSans-32\"/>\n     <use x=\"389.208984\" xlink:href=\"#DejaVuSans-55\"/>\n     <use x=\"452.832031\" xlink:href=\"#DejaVuSans-32\"/>\n     <use x=\"484.619141\" xlink:href=\"#DejaVuSans-112\"/>\n     <use x=\"548.095703\" xlink:href=\"#DejaVuSans-114\"/>\n     <use x=\"586.958984\" xlink:href=\"#DejaVuSans-101\"/>\n     <use x=\"648.482422\" xlink:href=\"#DejaVuSans-100\"/>\n     <use x=\"711.958984\" xlink:href=\"#DejaVuSans-32\"/>\n     <use x=\"743.746094\" xlink:href=\"#DejaVuSans-61\"/>\n     <use x=\"827.535156\" xlink:href=\"#DejaVuSans-32\"/>\n     <use x=\"859.322266\" xlink:href=\"#DejaVuSans-55\"/>\n    </g>\n   </g>\n  </g>\n  <g id=\"axes_6\">\n   <g id=\"patch_27\">\n    <path d=\"M 325.805882 303.711066 \nL 453.711765 303.711066 \nL 453.711765 175.805184 \nL 325.805882 175.805184 \nz\n\" style=\"fill:#ffffff;\"/>\n   </g>\n   <g clip-path=\"url(#pf07b05c0e4)\">\n    <image height=\"128\" id=\"imagecb8a755f08\" transform=\"scale(1 -1)translate(0 -128)\" width=\"128\" x=\"325.805882\" xlink:href=\"data:image/png;base64,\niVBORw0KGgoAAAANSUhEUgAAAIAAAACACAYAAADDPmHLAAAABHNCSVQICAgIfAhkiAAABAdJREFUeJztnUtIVHEUh2d8jWVYE2Ju7OEjtJQSI6wWLbQky0XhIqkR2kUq7apNtAgSKokwN2JEtbAWrsSKksBNIyUVaA/sOWOZMVSkoU7No/WZc6FJ7zy8v9+3O4czw0E+zxzu/Odee429IWwjsKQkugGSWCgAOBQAHAoATlqiGzALe+VGlWvv7RbxkRdNqian8avKBaemzGssyeEEAIcCgEMBwLHMDjCTn6VyJekOEbs331Y1W1wtKpfb+ci8xpIcTgBwKAA4FAAcCgCO3SrfBtrT9D7r6SkV8ej266pmNvxb5RoKd4o47PcvsLvkhRMAHAoADgUAxzIXgsKBgMqtPftHJu7q1y2xZ+hkebGMh0cX0FlywwkADgUAhwKAQwHAscwSaMjYx3m9zLsnW8T5wyb0kqRwAoBDAcChAOBQAHAoADgUABwKAA4FAMfSF4JCESd5qp4dVDVDFbdULphhiUNSUcEJAA4FAIcCgEMBwLH0EmgLy2UucCdH11ToVF/TRRG39h3VRY9HFtJZ0sAJAA4FAIcCgGPtHSCCvJv6c7ujuUDlWle8F/HbVv1nKnKZ11ci4QQAhwKAQwHAoQDgQC2BoelplRvwlapc5BJYvnpC1cxF3I/A6LeJiwFOAHAoADgUAByoHcCIsCtV5fxu+XneW6RvLFDvrBVx0Oczt7E4wQkADgUAhwKAQwHAgV8CA+OfVK7soTwB9Ka6W9W8PiO/RSxu4RJIFiEUABwKAA78DmCE412mTFTrmgu7e0TcZdMnixYDnADgUABwKAA4FAAcLoEGFFz1iLj3kFPV7M/6LuJT57fp9znhNrexGMAJAA4FAIcCgEMBwLHMY+NiyYc2veC9auoU8ZDBk+XO7agTceDLpKl9mQEnADgUABwKAE5cLwQZPd41NW9VPFuIitDPKRGv6Z9VNWONcyKucmSqmsn6dSLO6eIOQJIMCgAOBQCHAoAT1yXQe3Kryo0cuxLPFqKi7dsGEfd/zlU1gzPy+cLrl4+rmoHT7SI+4D2uajLuPZlPi6bBCQAOBQCHAoAT1x0g/ZfOXf5RpHIdboNz2HFksPaSiJudT1VNdoq+8BOJM3WpiD11+v+t+L6+P4EtFPzne5sFJwA4FAAcCgAOBQCHJ4KiIKWsROUmalaK2LFL3x/gwaYbIl5md6iafXsPq1zo+cv/bXHecAKAQwHAoQDgcAeIIWPXKkVcUehVNX6XvqAU8OgvlmIFJwA4FAAcCgAOBQCHSyA4nADgUABwKAA4FAAcCgAOBQCHAoBDAcChAOBQAHAoADgUABwKAA4FAIcCgEMBwKEA4FAAcCgAOBQAHAoADgUAhwKAQwHAoQDgUABwKAA4FAAcCgAOBQCHAoDzF/uCpv3SgavyAAAAAElFTkSuQmCC\" y=\"-175.711066\"/>\n   </g>\n   <g id=\"matplotlib.axis_11\"/>\n   <g id=\"matplotlib.axis_12\"/>\n   <g id=\"patch_28\">\n    <path d=\"M 325.805882 303.711066 \nL 325.805882 175.805184 \n\" style=\"fill:none;stroke:#000000;stroke-linecap:square;stroke-linejoin:miter;stroke-width:0.8;\"/>\n   </g>\n   <g id=\"patch_29\">\n    <path d=\"M 453.711765 303.711066 \nL 453.711765 175.805184 \n\" style=\"fill:none;stroke:#000000;stroke-linecap:square;stroke-linejoin:miter;stroke-width:0.8;\"/>\n   </g>\n   <g id=\"patch_30\">\n    <path d=\"M 325.805882 303.711066 \nL 453.711765 303.711066 \n\" style=\"fill:none;stroke:#000000;stroke-linecap:square;stroke-linejoin:miter;stroke-width:0.8;\"/>\n   </g>\n   <g id=\"patch_31\">\n    <path d=\"M 325.805882 175.805184 \nL 453.711765 175.805184 \n\" style=\"fill:none;stroke:#000000;stroke-linecap:square;stroke-linejoin:miter;stroke-width:0.8;\"/>\n   </g>\n   <g id=\"text_6\">\n    <!-- label = 7 pred = 7 -->\n    <g transform=\"translate(334.380699 169.805184)scale(0.12 -0.12)\">\n     <use xlink:href=\"#DejaVuSans-108\"/>\n     <use x=\"27.783203\" xlink:href=\"#DejaVuSans-97\"/>\n     <use x=\"89.0625\" xlink:href=\"#DejaVuSans-98\"/>\n     <use x=\"152.539062\" xlink:href=\"#DejaVuSans-101\"/>\n     <use x=\"214.0625\" xlink:href=\"#DejaVuSans-108\"/>\n     <use x=\"241.845703\" xlink:href=\"#DejaVuSans-32\"/>\n     <use x=\"273.632812\" xlink:href=\"#DejaVuSans-61\"/>\n     <use x=\"357.421875\" xlink:href=\"#DejaVuSans-32\"/>\n     <use x=\"389.208984\" xlink:href=\"#DejaVuSans-55\"/>\n     <use x=\"452.832031\" xlink:href=\"#DejaVuSans-32\"/>\n     <use x=\"484.619141\" xlink:href=\"#DejaVuSans-112\"/>\n     <use x=\"548.095703\" xlink:href=\"#DejaVuSans-114\"/>\n     <use x=\"586.958984\" xlink:href=\"#DejaVuSans-101\"/>\n     <use x=\"648.482422\" xlink:href=\"#DejaVuSans-100\"/>\n     <use x=\"711.958984\" xlink:href=\"#DejaVuSans-32\"/>\n     <use x=\"743.746094\" xlink:href=\"#DejaVuSans-61\"/>\n     <use x=\"827.535156\" xlink:href=\"#DejaVuSans-32\"/>\n     <use x=\"859.322266\" xlink:href=\"#DejaVuSans-55\"/>\n    </g>\n   </g>\n  </g>\n  <g id=\"axes_7\">\n   <g id=\"patch_32\">\n    <path d=\"M 10.7 457.198125 \nL 138.605882 457.198125 \nL 138.605882 329.292243 \nL 10.7 329.292243 \nz\n\" style=\"fill:#ffffff;\"/>\n   </g>\n   <g clip-path=\"url(#pae1be9be32)\">\n    <image height=\"128\" id=\"image75551b5b23\" transform=\"scale(1 -1)translate(0 -128)\" width=\"128\" x=\"10.7\" xlink:href=\"data:image/png;base64,\niVBORw0KGgoAAAANSUhEUgAAAIAAAACACAYAAADDPmHLAAAABHNCSVQICAgIfAhkiAAABIZJREFUeJztnVlIVHEUh2dMRSeQHKOolIqSRnqoEIJsXzCsCMPAHlpogcDCijCCHtooiqBIW6SkiDZblDK0ejGQKHwQog0LlyQqLJcwrEjvTM/nnoG5DWNz7/x+39s5nLn3Dnxz5nCX/3Uvca8OuAgscdE+ABJdKAA4FAAcCgAOBQCHAoBDAcChAOBQAHAoADgUABwKAA4FAIcCgEMBwKEA4FAAcOKjfQBWCORMUznjUK+I67KqVI2vtkjEiZ36604u71C5wU+f//UQHQs7ADgUABwKAA4FAMdtx9vCzUNf0RU94OV5elXOTJzJb7/Lr2oe/kxVuT131ok4s+KLqhls+xBy/06AHQAcCgAOBQDHljPA7pY3Ip6f/DOs7ViZAaxwv3+kypXtXSNiT3VjWNuONuwA4FAAcCgAOBQAHFteDcz1DIh4IBCep3Eut8qEQ8FwfdKp/WC9iBteTFU1TjhZxA4ADgUAhwKAQwHAseUQOBAwRNzr/61qFpeWiHjsiWeqZliaV8RtxT5Vs7ngscoVpzabMvp3stP7VsR3S2eoGu8KlbId7ADgUABwKAA4tpwBGn4niriqZ7aqCfafb8bo7hHx+P36M09u6P/u88VLRPwu/1zIfTkVdgBwKAA4FAAcCgCOLYfA4+vlbdk9vmRVk+Z6HpF9Ge9aVC5zm8xdXpShajak6GcKnQg7ADgUABwKAI4tbwu3G+UdT1UuPV7OJZ3GL1WzdcFaEdvxDiF2AHAoADgUABwKAI4tTwRZwT9XXsU7e+2Mqln6eKeIgy0SNenqV5XrmjVKxOnxTXr/pucMw3vqMPqwA4BDAcChAOA4dgboyUoS8fj4RFXzfnm5iIOuD7DJyt5C/04KXuoNedveW9l4VGEHAIcCgEMBwKEA4Dh2CLQb3a1eldMZ+8EOAA4FAIcCgEMBwHHsEDi6Uq4murJwlaqp89WYMpFabEpvK7nTmb8lZx41iRgUABwKAI5jZwCjr0/Eg0cyVc2jCx75GYsLTk5IkOsKZCUkqBrzlcWitQ9UTe1FuSaR8e2bpf3/T9gBwKEA4FAAcCgAOHw2MAjubLnyd8ntSlUzJ0kvXmkmu2yHiMcdC72w1f+GHQAcCgAOBQDHsSeChpJAk7zQtKVe3/LdvCz04pH9EwdC1kQbdgBwKAA4FAAcCgBOzAyBrdf1qt+e4fJkzdjD2nfzwBeM+txTKhfn0otXmhnxSl9FtBvsAOBQAHAoADgxMwOcnHlL5fI8P0TsrwlvJZ9g//fmO4KOdk1XNWNuyrePGaoi+rADgEMBwKEA4FAAcGJmCNzVWKhyeQsrhmx/HYN/RFx3ep6q8XZH5q0mQwk7ADgUABwKAA4FACdmhsApB76r3OVs+bq3SL7qLb+iRMQZl+x3y7cV2AHAoQDgUABwYmYGMFraVe5efo4poT+3MeVjyG3P3rdd5SZUv5b7D7kVe8IOAA4FAIcCgEMBwOH6AOCwA4BDAcChAOBQAHAoADgUABwKAA4FAIcCgEMBwKEA4FAAcCgAOBQAHAoADgUAhwKA8xchdNLajXbvlQAAAABJRU5ErkJggg==\" y=\"-329.198125\"/>\n   </g>\n   <g id=\"matplotlib.axis_13\"/>\n   <g id=\"matplotlib.axis_14\"/>\n   <g id=\"patch_33\">\n    <path d=\"M 10.7 457.198125 \nL 10.7 329.292243 \n\" style=\"fill:none;stroke:#000000;stroke-linecap:square;stroke-linejoin:miter;stroke-width:0.8;\"/>\n   </g>\n   <g id=\"patch_34\">\n    <path d=\"M 138.605882 457.198125 \nL 138.605882 329.292243 \n\" style=\"fill:none;stroke:#000000;stroke-linecap:square;stroke-linejoin:miter;stroke-width:0.8;\"/>\n   </g>\n   <g id=\"patch_35\">\n    <path d=\"M 10.7 457.198125 \nL 138.605882 457.198125 \n\" style=\"fill:none;stroke:#000000;stroke-linecap:square;stroke-linejoin:miter;stroke-width:0.8;\"/>\n   </g>\n   <g id=\"patch_36\">\n    <path d=\"M 10.7 329.292243 \nL 138.605882 329.292243 \n\" style=\"fill:none;stroke:#000000;stroke-linecap:square;stroke-linejoin:miter;stroke-width:0.8;\"/>\n   </g>\n   <g id=\"text_7\">\n    <!-- label = 3 pred = 3 -->\n    <g transform=\"translate(19.274816 323.292243)scale(0.12 -0.12)\">\n     <use xlink:href=\"#DejaVuSans-108\"/>\n     <use x=\"27.783203\" xlink:href=\"#DejaVuSans-97\"/>\n     <use x=\"89.0625\" xlink:href=\"#DejaVuSans-98\"/>\n     <use x=\"152.539062\" xlink:href=\"#DejaVuSans-101\"/>\n     <use x=\"214.0625\" xlink:href=\"#DejaVuSans-108\"/>\n     <use x=\"241.845703\" xlink:href=\"#DejaVuSans-32\"/>\n     <use x=\"273.632812\" xlink:href=\"#DejaVuSans-61\"/>\n     <use x=\"357.421875\" xlink:href=\"#DejaVuSans-32\"/>\n     <use x=\"389.208984\" xlink:href=\"#DejaVuSans-51\"/>\n     <use x=\"452.832031\" xlink:href=\"#DejaVuSans-32\"/>\n     <use x=\"484.619141\" xlink:href=\"#DejaVuSans-112\"/>\n     <use x=\"548.095703\" xlink:href=\"#DejaVuSans-114\"/>\n     <use x=\"586.958984\" xlink:href=\"#DejaVuSans-101\"/>\n     <use x=\"648.482422\" xlink:href=\"#DejaVuSans-100\"/>\n     <use x=\"711.958984\" xlink:href=\"#DejaVuSans-32\"/>\n     <use x=\"743.746094\" xlink:href=\"#DejaVuSans-61\"/>\n     <use x=\"827.535156\" xlink:href=\"#DejaVuSans-32\"/>\n     <use x=\"859.322266\" xlink:href=\"#DejaVuSans-51\"/>\n    </g>\n   </g>\n  </g>\n  <g id=\"axes_8\">\n   <g id=\"patch_37\">\n    <path d=\"M 168.252941 457.198125 \nL 296.158824 457.198125 \nL 296.158824 329.292243 \nL 168.252941 329.292243 \nz\n\" style=\"fill:#ffffff;\"/>\n   </g>\n   <g clip-path=\"url(#pa2ba4f975f)\">\n    <image height=\"128\" id=\"image85bf5ce35e\" transform=\"scale(1 -1)translate(0 -128)\" width=\"128\" x=\"168.252941\" xlink:href=\"data:image/png;base64,\niVBORw0KGgoAAAANSUhEUgAAAIAAAACACAYAAADDPmHLAAAABHNCSVQICAgIfAhkiAAABNFJREFUeJztnX9o1HUYx+/H3G7HtRs5a/gLZk7TISikUbZBcATzBzWSYf9YYMq0A5tIhFBQEFJ/ZKaGTAQzRYmGDovACYPLNp1/iPmLqRQWwXSoyaabbnfXXxHPvYubd99x3++936//nofnvvfZeN3Dw/fzvc/5Y/5VaZ+gJVDoBYjCIgHIkQDkSABySgq9AKcIdk2FXMec4yae/00cama93zNha/IC6gDkSAByJAA5fq/eCHrYuNjE37V9ATXRQMjEQ6mHULN6xovOLsxjqAOQIwHIkQDkSAByPHsjKNR5zsTdI1OgpjE8aOJIoAxq+jfhEFi9ozvP1XkHdQByJAA5EoAcz84A6bExE7/bvRpqGmN7s1/Hs/8BZ1AHIEcCkCMByJEA5BTNCDTvozuYjGV/3ZZ130LuSEe9iZPXf8t1Wa5HHYAcCUCOBCCnaGaA9N17kEuMlJq4IfQIat544ibkdjZUm/hJzQCiWJEA5EgAciQAOZ59LHw8pOoXmfiTA21Qs6gUPwNbbz5n4ov1Ybz2/ft5rs4dqAOQIwHIkQDkSAByinoIzGTFpbuQa6n8Nevr5h7dCLna+BlH1lRo1AHIkQDkSAByqGaA22tfgFzPx7uyvm73X89A7se6SkfWVGjUAciRAORIAHIkADlF80jYeKj6+izkNq5vgNxX0xMmnlIyCDXBybNMnLz9H4+lewB1AHIkADkSgByqGSDzTAGfz+dLnFyMhW/ZGaA5cgtKtr39rImnferNc4XUAciRAORIAHIkADmu3A0Mzqs18a2XqqDmqcSAiZN913N7s0AQUtGE3ek7VHMCalK+lImbFi6DmuTAAOTchjoAORKAHAlAjitvBEX22o2VjpojUPPq1ZU28XKOb5ZKQurKsbk20YozQCDjs9O3FZ8amt2qGUC4HAlAjgQgRwKQ48ohcDwcrm03cfOS9VjUeyGna1efGTbxaBoHxUl+ewPpy5X7oWbXh3anMTWITxYVGnUAciQAORKAHAlAjmeHwLDfngJ67U08yKm2N7drB36yP0m37HIz1HTW2SH0lXI8NOq9+AITT9/mvsfG1AHIkQDkSAByPDsDZJIuw5s1ThFuxZ+c/eFY1MTLw3ha+ckNn5m46fctUBM9dDrP1eWHOgA5EoAcCUCOBCDHlUNgX7t9JGto83GoiQTsYPZ9bCfUbPbhoVC5kLzUB7kP2taYOLbpc6ipCpabeOh13A2cfGoG5MZu/PG4S8wZdQByJAA5EoAcV84A1dvtpsn5eARqloZGTVxTgl/xerqnwsS9nXUOrO4f7DfqBlN49kBZcJKJzz1/AGoa9uBGU0Vjnkt7DNQByJEA5EgAciQAOa4cAjOJt7VA7mDLdhPXleKfsm9ml02s7YIa5yjPWvEgjb9d3N+Pp45XQGbiUAcgRwKQIwHIceUZQeNh+LUlJv5z1ej/VP5L+9I9kPt5eDbk3qm0mzG/PBqBmqZTG7K+X9WJkImj1x5Ajb/nfNbrTCTqAORIAHIkADkSgBzPDoHCGdQByJEA5EgAciQAORKAHAlAjgQgRwKQIwHIkQDkSAByJAA5EoAcCUCOBCBHApAjAciRAORIAHIkADkSgBwJQI4EIEcCkCMByJEA5EgAciQAORKAHAlAjgQg529iQtlzwg5fLQAAAABJRU5ErkJggg==\" y=\"-329.198125\"/>\n   </g>\n   <g id=\"matplotlib.axis_15\"/>\n   <g id=\"matplotlib.axis_16\"/>\n   <g id=\"patch_38\">\n    <path d=\"M 168.252941 457.198125 \nL 168.252941 329.292243 \n\" style=\"fill:none;stroke:#000000;stroke-linecap:square;stroke-linejoin:miter;stroke-width:0.8;\"/>\n   </g>\n   <g id=\"patch_39\">\n    <path d=\"M 296.158824 457.198125 \nL 296.158824 329.292243 \n\" style=\"fill:none;stroke:#000000;stroke-linecap:square;stroke-linejoin:miter;stroke-width:0.8;\"/>\n   </g>\n   <g id=\"patch_40\">\n    <path d=\"M 168.252941 457.198125 \nL 296.158824 457.198125 \n\" style=\"fill:none;stroke:#000000;stroke-linecap:square;stroke-linejoin:miter;stroke-width:0.8;\"/>\n   </g>\n   <g id=\"patch_41\">\n    <path d=\"M 168.252941 329.292243 \nL 296.158824 329.292243 \n\" style=\"fill:none;stroke:#000000;stroke-linecap:square;stroke-linejoin:miter;stroke-width:0.8;\"/>\n   </g>\n   <g id=\"text_8\">\n    <!-- label = 7 pred = 7 -->\n    <g transform=\"translate(176.827757 323.292243)scale(0.12 -0.12)\">\n     <use xlink:href=\"#DejaVuSans-108\"/>\n     <use x=\"27.783203\" xlink:href=\"#DejaVuSans-97\"/>\n     <use x=\"89.0625\" xlink:href=\"#DejaVuSans-98\"/>\n     <use x=\"152.539062\" xlink:href=\"#DejaVuSans-101\"/>\n     <use x=\"214.0625\" xlink:href=\"#DejaVuSans-108\"/>\n     <use x=\"241.845703\" xlink:href=\"#DejaVuSans-32\"/>\n     <use x=\"273.632812\" xlink:href=\"#DejaVuSans-61\"/>\n     <use x=\"357.421875\" xlink:href=\"#DejaVuSans-32\"/>\n     <use x=\"389.208984\" xlink:href=\"#DejaVuSans-55\"/>\n     <use x=\"452.832031\" xlink:href=\"#DejaVuSans-32\"/>\n     <use x=\"484.619141\" xlink:href=\"#DejaVuSans-112\"/>\n     <use x=\"548.095703\" xlink:href=\"#DejaVuSans-114\"/>\n     <use x=\"586.958984\" xlink:href=\"#DejaVuSans-101\"/>\n     <use x=\"648.482422\" xlink:href=\"#DejaVuSans-100\"/>\n     <use x=\"711.958984\" xlink:href=\"#DejaVuSans-32\"/>\n     <use x=\"743.746094\" xlink:href=\"#DejaVuSans-61\"/>\n     <use x=\"827.535156\" xlink:href=\"#DejaVuSans-32\"/>\n     <use x=\"859.322266\" xlink:href=\"#DejaVuSans-55\"/>\n    </g>\n   </g>\n  </g>\n  <g id=\"axes_9\">\n   <g id=\"patch_42\">\n    <path d=\"M 325.805882 457.198125 \nL 453.711765 457.198125 \nL 453.711765 329.292243 \nL 325.805882 329.292243 \nz\n\" style=\"fill:#ffffff;\"/>\n   </g>\n   <g clip-path=\"url(#pd8680e218d)\">\n    <image height=\"128\" id=\"image34ee2a26d3\" transform=\"scale(1 -1)translate(0 -128)\" width=\"128\" x=\"325.805882\" xlink:href=\"data:image/png;base64,\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\" y=\"-329.198125\"/>\n   </g>\n   <g id=\"matplotlib.axis_17\"/>\n   <g id=\"matplotlib.axis_18\"/>\n   <g id=\"patch_43\">\n    <path d=\"M 325.805882 457.198125 \nL 325.805882 329.292243 \n\" style=\"fill:none;stroke:#000000;stroke-linecap:square;stroke-linejoin:miter;stroke-width:0.8;\"/>\n   </g>\n   <g id=\"patch_44\">\n    <path d=\"M 453.711765 457.198125 \nL 453.711765 329.292243 \n\" style=\"fill:none;stroke:#000000;stroke-linecap:square;stroke-linejoin:miter;stroke-width:0.8;\"/>\n   </g>\n   <g id=\"patch_45\">\n    <path d=\"M 325.805882 457.198125 \nL 453.711765 457.198125 \n\" style=\"fill:none;stroke:#000000;stroke-linecap:square;stroke-linejoin:miter;stroke-width:0.8;\"/>\n   </g>\n   <g id=\"patch_46\">\n    <path d=\"M 325.805882 329.292243 \nL 453.711765 329.292243 \n\" style=\"fill:none;stroke:#000000;stroke-linecap:square;stroke-linejoin:miter;stroke-width:0.8;\"/>\n   </g>\n   <g id=\"text_9\">\n    <!-- label = 4 pred = 4 -->\n    <g transform=\"translate(334.380699 323.292243)scale(0.12 -0.12)\">\n     <use xlink:href=\"#DejaVuSans-108\"/>\n     <use x=\"27.783203\" xlink:href=\"#DejaVuSans-97\"/>\n     <use x=\"89.0625\" xlink:href=\"#DejaVuSans-98\"/>\n     <use x=\"152.539062\" xlink:href=\"#DejaVuSans-101\"/>\n     <use x=\"214.0625\" xlink:href=\"#DejaVuSans-108\"/>\n     <use x=\"241.845703\" xlink:href=\"#DejaVuSans-32\"/>\n     <use x=\"273.632812\" xlink:href=\"#DejaVuSans-61\"/>\n     <use x=\"357.421875\" xlink:href=\"#DejaVuSans-32\"/>\n     <use x=\"389.208984\" xlink:href=\"#DejaVuSans-52\"/>\n     <use x=\"452.832031\" xlink:href=\"#DejaVuSans-32\"/>\n     <use x=\"484.619141\" xlink:href=\"#DejaVuSans-112\"/>\n     <use x=\"548.095703\" xlink:href=\"#DejaVuSans-114\"/>\n     <use x=\"586.958984\" xlink:href=\"#DejaVuSans-101\"/>\n     <use x=\"648.482422\" xlink:href=\"#DejaVuSans-100\"/>\n     <use x=\"711.958984\" xlink:href=\"#DejaVuSans-32\"/>\n     <use x=\"743.746094\" xlink:href=\"#DejaVuSans-61\"/>\n     <use x=\"827.535156\" xlink:href=\"#DejaVuSans-32\"/>\n     <use x=\"859.322266\" xlink:href=\"#DejaVuSans-52\"/>\n    </g>\n   </g>\n  </g>\n </g>\n <defs>\n  <clipPath id=\"peb4413019e\">\n   <rect height=\"127.905882\" width=\"127.905882\" x=\"10.7\" y=\"22.318125\"/>\n  </clipPath>\n  <clipPath id=\"pe73cd2cde8\">\n   <rect height=\"127.905882\" width=\"127.905882\" x=\"168.252941\" y=\"22.318125\"/>\n  </clipPath>\n  <clipPath id=\"p12cd30abbf\">\n   <rect height=\"127.905882\" width=\"127.905882\" x=\"325.805882\" y=\"22.318125\"/>\n  </clipPath>\n  <clipPath id=\"p019d253a49\">\n   <rect height=\"127.905882\" width=\"127.905882\" x=\"10.7\" y=\"175.805184\"/>\n  </clipPath>\n  <clipPath id=\"p9abcaa2edb\">\n   <rect height=\"127.905882\" width=\"127.905882\" x=\"168.252941\" y=\"175.805184\"/>\n  </clipPath>\n  <clipPath id=\"pf07b05c0e4\">\n   <rect height=\"127.905882\" width=\"127.905882\" x=\"325.805882\" y=\"175.805184\"/>\n  </clipPath>\n  <clipPath id=\"pae1be9be32\">\n   <rect height=\"127.905882\" width=\"127.905882\" x=\"10.7\" y=\"329.292243\"/>\n  </clipPath>\n  <clipPath id=\"pa2ba4f975f\">\n   <rect height=\"127.905882\" width=\"127.905882\" x=\"168.252941\" y=\"329.292243\"/>\n  </clipPath>\n  <clipPath id=\"pd8680e218d\">\n   <rect height=\"127.905882\" width=\"127.905882\" x=\"325.805882\" y=\"329.292243\"/>\n  </clipPath>\n </defs>\n</svg>\n"
     },
     "metadata": {}
    }
   ],
   "source": [
    "model.eval()\n",
    "\n",
    "with torch.no_grad():\n",
    "    images, target = next(iter(val_loader))\n",
    "    images, target = images[0:9], target[0:9]\n",
    "    output = model(images.to(device)).cpu()\n",
    "    \n",
    "    preds = output.argmax(dim=1)\n",
    "    labels = target\n",
    "    imgs = images\n",
    "    \n",
    "plt.figure(figsize=(8,8)) \n",
    "for i in range(9):\n",
    "    img,label = images[i], target[i]\n",
    "    img = img.permute(1,2,0)\n",
    "    ax=plt.subplot(3,3,i+1)\n",
    "    ax.imshow(img.squeeze(axis=2))\n",
    "    ax.set_title(f'label = {label} pred = {preds[i]}')\n",
    "    ax.set_xticks([])\n",
    "    ax.set_yticks([]) \n",
    "plt.show()\n"
   ]
  },
  {
   "cell_type": "markdown",
   "source": [
    "### Torch-ONNX-Tensorflow-TensorflowLite"
   ],
   "metadata": {
    "id": "kytBGDbvRMCB",
    "pycharm": {
     "name": "#%% md\n"
    }
   },
   "id": "kytBGDbvRMCB"
  },
  {
   "cell_type": "code",
   "execution_count": 25,
   "id": "a69edf4f",
   "metadata": {
    "id": "a69edf4f",
    "pycharm": {
     "name": "#%%\n"
    }
   },
   "outputs": [],
   "source": [
    "import onnx\n",
    "from onnx_tf.backend import prepare\n",
    "import tensorflow as tf"
   ]
  },
  {
   "cell_type": "code",
   "execution_count": 26,
   "id": "193dd262",
   "metadata": {
    "id": "193dd262",
    "pycharm": {
     "name": "#%%\n"
    }
   },
   "outputs": [],
   "source": [
    "def representative_dataset():\n",
    "    for d in ds_valid:\n",
    "      yield [d[0].numpy()]"
   ]
  },
  {
   "cell_type": "code",
   "execution_count": 27,
   "id": "4a78e607",
   "metadata": {
    "id": "4a78e607",
    "pycharm": {
     "name": "#%%\n"
    }
   },
   "outputs": [],
   "source": [
    "def torch2tflite(sample_input, loaded_model, onnx_model_path, tf_model_path, tflite_model_path):\n",
    "#     loaded_model = torch.load(torch_model_path, map_location='cpu')\n",
    "    torch_model = loaded_model.eval()\n",
    "    torch.onnx.export(\n",
    "        model=torch_model,\n",
    "        args=sample_input,\n",
    "        f=onnx_model_path, # todo\n",
    "        verbose=False,\n",
    "        export_params=True,\n",
    "        do_constant_folding=False,\n",
    "        input_names=['input'],\n",
    "        opset_version=10,\n",
    "        output_names=['output'])\n",
    "    print('ONNX model successfully converted')\n",
    "    onnx_model = onnx.load(onnx_model_path)\n",
    "    onnx.checker.check_model(onnx_model)\n",
    "    tf_rep = prepare(onnx_model)\n",
    "    tf_rep.export_graph(tf_model_path)\n",
    "    print('TensorFlow model successfully converted')\n",
    "    converter = tf.lite.TFLiteConverter.from_saved_model(tf_model_path)\n",
    "    converter.optimizations = [tf.lite.Optimize.DEFAULT]\n",
    "    converter.representative_dataset = representative_dataset # It allows the converter to estimate a dynamic range for all the variable data.\n",
    "    converter.target_spec.supported_ops = [tf.lite.OpsSet.TFLITE_BUILTINS_INT8]\n",
    "    converter.inference_input_type = tf.int8 \n",
    "    converter.inference_output_type = tf.int8\n",
    "    tflite_model = converter.convert()\n",
    "    try:\n",
    "        with open(tflite_model_path, 'wb') as f:\n",
    "            f.write(tflite_model)\n",
    "        print('TensorFlow-lite model successfully converted')\n",
    "    except Exception as e:\n",
    "        print('TensorFlow-lite model unsuccessfully converted')\n",
    "\n",
    "    \n",
    "    return tflite_model"
   ]
  },
  {
   "cell_type": "code",
   "execution_count": 28,
   "id": "5f6243b3",
   "metadata": {
    "id": "5f6243b3",
    "pycharm": {
     "name": "#%%\n"
    }
   },
   "outputs": [],
   "source": [
    "samples = next(iter(val_loader))[0]"
   ]
  },
  {
   "cell_type": "code",
   "execution_count": 29,
   "id": "8745c41b",
   "metadata": {
    "id": "8745c41b",
    "pycharm": {
     "name": "#%%\n"
    }
   },
   "outputs": [],
   "source": [
    "sample  = torch.unsqueeze(next(iter(val_loader))[0][1], 0)"
   ]
  },
  {
   "cell_type": "code",
   "execution_count": 30,
   "id": "8430c8e2",
   "metadata": {
    "colab": {
     "base_uri": "https://localhost:8080/"
    },
    "id": "8430c8e2",
    "outputId": "178d85ac-2edb-4e33-acdb-17b58cd2be2a",
    "pycharm": {
     "name": "#%%\n"
    }
   },
   "outputs": [
    {
     "output_type": "stream",
     "name": "stdout",
     "text": [
      "PyTorch model successfully loaded and mapped to CPU\n"
     ]
    }
   ],
   "source": [
    "torch_model_path = './model_best.pth.tar'\n",
    "checkpoint = torch.load(torch_model_path, map_location='cpu')\n",
    "model.load_state_dict(checkpoint['state_dict'])\n",
    "print('PyTorch model successfully loaded and mapped to CPU')"
   ]
  },
  {
   "cell_type": "code",
   "execution_count": 31,
   "id": "70b3a4c4",
   "metadata": {
    "colab": {
     "base_uri": "https://localhost:8080/"
    },
    "id": "70b3a4c4",
    "outputId": "b124022c-159e-4893-a921-0275f55e2ac7",
    "pycharm": {
     "name": "#%%\n"
    }
   },
   "outputs": [
    {
     "output_type": "stream",
     "name": "stdout",
     "text": [
      "ONNX model successfully converted\n"
     ]
    },
    {
     "output_type": "stream",
     "name": "stderr",
     "text": [
      "WARNING:absl:Found untraced functions such as gen_tensor_dict while saving (showing 1 of 1). These functions will not be directly callable after loading.\n"
     ]
    },
    {
     "output_type": "stream",
     "name": "stdout",
     "text": [
      "INFO:tensorflow:Assets written to: ./model_best/assets\n"
     ]
    },
    {
     "output_type": "stream",
     "name": "stderr",
     "text": [
      "INFO:tensorflow:Assets written to: ./model_best/assets\n"
     ]
    },
    {
     "output_type": "stream",
     "name": "stdout",
     "text": [
      "TensorFlow model successfully converted\n"
     ]
    },
    {
     "output_type": "stream",
     "name": "stderr",
     "text": [
      "WARNING:absl:Buffer deduplication procedure will be skipped when flatbuffer library is not properly loaded\n"
     ]
    },
    {
     "output_type": "stream",
     "name": "stdout",
     "text": [
      "TensorFlow-lite model successfully converted\n"
     ]
    }
   ],
   "source": [
    "tflite_model = torch2tflite(sample, model.cpu(), onnx_model_path='./model_best.onnx', tf_model_path='./model_best', tflite_model_path='./model_best.tflite')"
   ]
  },
  {
   "cell_type": "markdown",
   "id": "bc5ff3a6",
   "metadata": {
    "id": "bc5ff3a6",
    "pycharm": {
     "name": "#%% md\n"
    }
   },
   "source": [
    "### TFlite Model Inference"
   ]
  },
  {
   "cell_type": "code",
   "execution_count": 32,
   "id": "b5404a86",
   "metadata": {
    "id": "b5404a86",
    "pycharm": {
     "name": "#%%\n"
    }
   },
   "outputs": [],
   "source": [
    "def tflite_inference(tflite_path, image):\n",
    "  '''perform batch inference on a tensorflow lite model\n",
    "  '''\n",
    "  # Load the TFLite model and allocate tensors.\n",
    "  interpreter = tf.lite.Interpreter(model_path=tflite_path)\n",
    "  # Get input and output tensors.\n",
    "  input_details = interpreter.get_input_details()[0]\n",
    "  output_details = interpreter.get_output_details()[0]\n",
    "  interpreter.allocate_tensors()\n",
    "  if input_details['dtype'] == np.int8:\n",
    "    input_scale, input_zero_point = input_details[\"quantization\"]\n",
    "    image = image / input_scale + input_zero_point\n",
    "  image =  torch.unsqueeze(image, 0).to(torch.int8)\n",
    "\n",
    "  interpreter.set_tensor(input_details['index'], image)\n",
    "  interpreter.invoke()\n",
    "  # The function `get_tensor()` returns a copy of the tensor data.\n",
    "  # Use `tensor()` in order to get a pointer to the tensor.\n",
    "  output_data = interpreter.get_tensor(output_details['index'])\n",
    "\n",
    "  return output_data"
   ]
  },
  {
   "cell_type": "code",
   "execution_count": 33,
   "id": "5f9de238",
   "metadata": {
    "colab": {
     "base_uri": "https://localhost:8080/"
    },
    "id": "5f9de238",
    "outputId": "0c57fa4a-5099-41f2-ab14-3dcde339f0e8",
    "pycharm": {
     "name": "#%%\n"
    }
   },
   "outputs": [
    {
     "output_type": "execute_result",
     "data": {
      "text/plain": [
       "0"
      ]
     },
     "metadata": {},
     "execution_count": 33
    }
   ],
   "source": [
    "tflite_inference('./model_best.tflite', samples[3]).argmax()"
   ]
  },
  {
   "cell_type": "code",
   "execution_count": 34,
   "id": "4620625d",
   "metadata": {
    "colab": {
     "base_uri": "https://localhost:8080/",
     "height": 370
    },
    "id": "4620625d",
    "outputId": "db9efe5d-e83a-4416-862d-e1b6b708c762",
    "pycharm": {
     "name": "#%%\n"
    }
   },
   "outputs": [
    {
     "output_type": "execute_result",
     "data": {
      "text/plain": [
       "<matplotlib.image.AxesImage at 0x7fd93fb1af10>"
      ]
     },
     "metadata": {},
     "execution_count": 34
    },
    {
     "output_type": "display_data",
     "data": {
      "text/plain": [
       "<Figure size 432x288 with 1 Axes>"
      ],
      "image/svg+xml": "<?xml version=\"1.0\" encoding=\"utf-8\" standalone=\"no\"?>\n<!DOCTYPE svg PUBLIC \"-//W3C//DTD SVG 1.1//EN\"\n  \"http://www.w3.org/Graphics/SVG/1.1/DTD/svg11.dtd\">\n<!-- Created with matplotlib (https://matplotlib.org/) -->\n<svg height=\"248.518125pt\" version=\"1.1\" viewBox=\"0 0 251.565 248.518125\" width=\"251.565pt\" xmlns=\"http://www.w3.org/2000/svg\" xmlns:xlink=\"http://www.w3.org/1999/xlink\">\n <defs>\n  <style type=\"text/css\">\n*{stroke-linecap:butt;stroke-linejoin:round;}\n  </style>\n </defs>\n <g id=\"figure_1\">\n  <g id=\"patch_1\">\n   <path d=\"M 0 248.518125 \nL 251.565 248.518125 \nL 251.565 0 \nL 0 0 \nz\n\" style=\"fill:none;\"/>\n  </g>\n  <g id=\"axes_1\">\n   <g id=\"patch_2\">\n    <path d=\"M 26.925 224.64 \nL 244.365 224.64 \nL 244.365 7.2 \nL 26.925 7.2 \nz\n\" style=\"fill:#ffffff;\"/>\n   </g>\n   <g clip-path=\"url(#p3ec5d09366)\">\n    <image height=\"218\" id=\"image0ff42bfdb6\" transform=\"scale(1 -1)translate(0 -218)\" width=\"218\" x=\"26.925\" xlink:href=\"data:image/png;base64,\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\" y=\"-6.64\"/>\n   </g>\n   <g id=\"matplotlib.axis_1\">\n    <g id=\"xtick_1\">\n     <g id=\"line2d_1\">\n      <defs>\n       <path d=\"M 0 0 \nL 0 3.5 \n\" id=\"m8d686fb483\" style=\"stroke:#000000;stroke-width:0.8;\"/>\n      </defs>\n      <g>\n       <use style=\"stroke:#000000;stroke-width:0.8;\" x=\"30.807857\" xlink:href=\"#m8d686fb483\" y=\"224.64\"/>\n      </g>\n     </g>\n     <g id=\"text_1\">\n      <!-- 0 -->\n      <defs>\n       <path d=\"M 31.78125 66.40625 \nQ 24.171875 66.40625 20.328125 58.90625 \nQ 16.5 51.421875 16.5 36.375 \nQ 16.5 21.390625 20.328125 13.890625 \nQ 24.171875 6.390625 31.78125 6.390625 \nQ 39.453125 6.390625 43.28125 13.890625 \nQ 47.125 21.390625 47.125 36.375 \nQ 47.125 51.421875 43.28125 58.90625 \nQ 39.453125 66.40625 31.78125 66.40625 \nz\nM 31.78125 74.21875 \nQ 44.046875 74.21875 50.515625 64.515625 \nQ 56.984375 54.828125 56.984375 36.375 \nQ 56.984375 17.96875 50.515625 8.265625 \nQ 44.046875 -1.421875 31.78125 -1.421875 \nQ 19.53125 -1.421875 13.0625 8.265625 \nQ 6.59375 17.96875 6.59375 36.375 \nQ 6.59375 54.828125 13.0625 64.515625 \nQ 19.53125 74.21875 31.78125 74.21875 \nz\n\" id=\"DejaVuSans-48\"/>\n      </defs>\n      <g transform=\"translate(27.626607 239.238437)scale(0.1 -0.1)\">\n       <use xlink:href=\"#DejaVuSans-48\"/>\n      </g>\n     </g>\n    </g>\n    <g id=\"xtick_2\">\n     <g id=\"line2d_2\">\n      <g>\n       <use style=\"stroke:#000000;stroke-width:0.8;\" x=\"69.636429\" xlink:href=\"#m8d686fb483\" y=\"224.64\"/>\n      </g>\n     </g>\n     <g id=\"text_2\">\n      <!-- 5 -->\n      <defs>\n       <path d=\"M 10.796875 72.90625 \nL 49.515625 72.90625 \nL 49.515625 64.59375 \nL 19.828125 64.59375 \nL 19.828125 46.734375 \nQ 21.96875 47.46875 24.109375 47.828125 \nQ 26.265625 48.1875 28.421875 48.1875 \nQ 40.625 48.1875 47.75 41.5 \nQ 54.890625 34.8125 54.890625 23.390625 \nQ 54.890625 11.625 47.5625 5.09375 \nQ 40.234375 -1.421875 26.90625 -1.421875 \nQ 22.3125 -1.421875 17.546875 -0.640625 \nQ 12.796875 0.140625 7.71875 1.703125 \nL 7.71875 11.625 \nQ 12.109375 9.234375 16.796875 8.0625 \nQ 21.484375 6.890625 26.703125 6.890625 \nQ 35.15625 6.890625 40.078125 11.328125 \nQ 45.015625 15.765625 45.015625 23.390625 \nQ 45.015625 31 40.078125 35.4375 \nQ 35.15625 39.890625 26.703125 39.890625 \nQ 22.75 39.890625 18.8125 39.015625 \nQ 14.890625 38.140625 10.796875 36.28125 \nz\n\" id=\"DejaVuSans-53\"/>\n      </defs>\n      <g transform=\"translate(66.455179 239.238437)scale(0.1 -0.1)\">\n       <use xlink:href=\"#DejaVuSans-53\"/>\n      </g>\n     </g>\n    </g>\n    <g id=\"xtick_3\">\n     <g id=\"line2d_3\">\n      <g>\n       <use style=\"stroke:#000000;stroke-width:0.8;\" x=\"108.465\" xlink:href=\"#m8d686fb483\" y=\"224.64\"/>\n      </g>\n     </g>\n     <g id=\"text_3\">\n      <!-- 10 -->\n      <defs>\n       <path d=\"M 12.40625 8.296875 \nL 28.515625 8.296875 \nL 28.515625 63.921875 \nL 10.984375 60.40625 \nL 10.984375 69.390625 \nL 28.421875 72.90625 \nL 38.28125 72.90625 \nL 38.28125 8.296875 \nL 54.390625 8.296875 \nL 54.390625 0 \nL 12.40625 0 \nz\n\" id=\"DejaVuSans-49\"/>\n      </defs>\n      <g transform=\"translate(102.1025 239.238437)scale(0.1 -0.1)\">\n       <use xlink:href=\"#DejaVuSans-49\"/>\n       <use x=\"63.623047\" xlink:href=\"#DejaVuSans-48\"/>\n      </g>\n     </g>\n    </g>\n    <g id=\"xtick_4\">\n     <g id=\"line2d_4\">\n      <g>\n       <use style=\"stroke:#000000;stroke-width:0.8;\" x=\"147.293571\" xlink:href=\"#m8d686fb483\" y=\"224.64\"/>\n      </g>\n     </g>\n     <g id=\"text_4\">\n      <!-- 15 -->\n      <g transform=\"translate(140.931071 239.238437)scale(0.1 -0.1)\">\n       <use xlink:href=\"#DejaVuSans-49\"/>\n       <use x=\"63.623047\" xlink:href=\"#DejaVuSans-53\"/>\n      </g>\n     </g>\n    </g>\n    <g id=\"xtick_5\">\n     <g id=\"line2d_5\">\n      <g>\n       <use style=\"stroke:#000000;stroke-width:0.8;\" x=\"186.122143\" xlink:href=\"#m8d686fb483\" y=\"224.64\"/>\n      </g>\n     </g>\n     <g id=\"text_5\">\n      <!-- 20 -->\n      <defs>\n       <path d=\"M 19.1875 8.296875 \nL 53.609375 8.296875 \nL 53.609375 0 \nL 7.328125 0 \nL 7.328125 8.296875 \nQ 12.9375 14.109375 22.625 23.890625 \nQ 32.328125 33.6875 34.8125 36.53125 \nQ 39.546875 41.84375 41.421875 45.53125 \nQ 43.3125 49.21875 43.3125 52.78125 \nQ 43.3125 58.59375 39.234375 62.25 \nQ 35.15625 65.921875 28.609375 65.921875 \nQ 23.96875 65.921875 18.8125 64.3125 \nQ 13.671875 62.703125 7.8125 59.421875 \nL 7.8125 69.390625 \nQ 13.765625 71.78125 18.9375 73 \nQ 24.125 74.21875 28.421875 74.21875 \nQ 39.75 74.21875 46.484375 68.546875 \nQ 53.21875 62.890625 53.21875 53.421875 \nQ 53.21875 48.921875 51.53125 44.890625 \nQ 49.859375 40.875 45.40625 35.40625 \nQ 44.1875 33.984375 37.640625 27.21875 \nQ 31.109375 20.453125 19.1875 8.296875 \nz\n\" id=\"DejaVuSans-50\"/>\n      </defs>\n      <g transform=\"translate(179.759643 239.238437)scale(0.1 -0.1)\">\n       <use xlink:href=\"#DejaVuSans-50\"/>\n       <use x=\"63.623047\" xlink:href=\"#DejaVuSans-48\"/>\n      </g>\n     </g>\n    </g>\n    <g id=\"xtick_6\">\n     <g id=\"line2d_6\">\n      <g>\n       <use style=\"stroke:#000000;stroke-width:0.8;\" x=\"224.950714\" xlink:href=\"#m8d686fb483\" y=\"224.64\"/>\n      </g>\n     </g>\n     <g id=\"text_6\">\n      <!-- 25 -->\n      <g transform=\"translate(218.588214 239.238437)scale(0.1 -0.1)\">\n       <use xlink:href=\"#DejaVuSans-50\"/>\n       <use x=\"63.623047\" xlink:href=\"#DejaVuSans-53\"/>\n      </g>\n     </g>\n    </g>\n   </g>\n   <g id=\"matplotlib.axis_2\">\n    <g id=\"ytick_1\">\n     <g id=\"line2d_7\">\n      <defs>\n       <path d=\"M 0 0 \nL -3.5 0 \n\" id=\"mec3f8fdffc\" style=\"stroke:#000000;stroke-width:0.8;\"/>\n      </defs>\n      <g>\n       <use style=\"stroke:#000000;stroke-width:0.8;\" x=\"26.925\" xlink:href=\"#mec3f8fdffc\" y=\"11.082857\"/>\n      </g>\n     </g>\n     <g id=\"text_7\">\n      <!-- 0 -->\n      <g transform=\"translate(13.5625 14.882076)scale(0.1 -0.1)\">\n       <use xlink:href=\"#DejaVuSans-48\"/>\n      </g>\n     </g>\n    </g>\n    <g id=\"ytick_2\">\n     <g id=\"line2d_8\">\n      <g>\n       <use style=\"stroke:#000000;stroke-width:0.8;\" x=\"26.925\" xlink:href=\"#mec3f8fdffc\" y=\"49.911429\"/>\n      </g>\n     </g>\n     <g id=\"text_8\">\n      <!-- 5 -->\n      <g transform=\"translate(13.5625 53.710647)scale(0.1 -0.1)\">\n       <use xlink:href=\"#DejaVuSans-53\"/>\n      </g>\n     </g>\n    </g>\n    <g id=\"ytick_3\">\n     <g id=\"line2d_9\">\n      <g>\n       <use style=\"stroke:#000000;stroke-width:0.8;\" x=\"26.925\" xlink:href=\"#mec3f8fdffc\" y=\"88.74\"/>\n      </g>\n     </g>\n     <g id=\"text_9\">\n      <!-- 10 -->\n      <g transform=\"translate(7.2 92.539219)scale(0.1 -0.1)\">\n       <use xlink:href=\"#DejaVuSans-49\"/>\n       <use x=\"63.623047\" xlink:href=\"#DejaVuSans-48\"/>\n      </g>\n     </g>\n    </g>\n    <g id=\"ytick_4\">\n     <g id=\"line2d_10\">\n      <g>\n       <use style=\"stroke:#000000;stroke-width:0.8;\" x=\"26.925\" xlink:href=\"#mec3f8fdffc\" y=\"127.568571\"/>\n      </g>\n     </g>\n     <g id=\"text_10\">\n      <!-- 15 -->\n      <g transform=\"translate(7.2 131.36779)scale(0.1 -0.1)\">\n       <use xlink:href=\"#DejaVuSans-49\"/>\n       <use x=\"63.623047\" xlink:href=\"#DejaVuSans-53\"/>\n      </g>\n     </g>\n    </g>\n    <g id=\"ytick_5\">\n     <g id=\"line2d_11\">\n      <g>\n       <use style=\"stroke:#000000;stroke-width:0.8;\" x=\"26.925\" xlink:href=\"#mec3f8fdffc\" y=\"166.397143\"/>\n      </g>\n     </g>\n     <g id=\"text_11\">\n      <!-- 20 -->\n      <g transform=\"translate(7.2 170.196362)scale(0.1 -0.1)\">\n       <use xlink:href=\"#DejaVuSans-50\"/>\n       <use x=\"63.623047\" xlink:href=\"#DejaVuSans-48\"/>\n      </g>\n     </g>\n    </g>\n    <g id=\"ytick_6\">\n     <g id=\"line2d_12\">\n      <g>\n       <use style=\"stroke:#000000;stroke-width:0.8;\" x=\"26.925\" xlink:href=\"#mec3f8fdffc\" y=\"205.225714\"/>\n      </g>\n     </g>\n     <g id=\"text_12\">\n      <!-- 25 -->\n      <g transform=\"translate(7.2 209.024933)scale(0.1 -0.1)\">\n       <use xlink:href=\"#DejaVuSans-50\"/>\n       <use x=\"63.623047\" xlink:href=\"#DejaVuSans-53\"/>\n      </g>\n     </g>\n    </g>\n   </g>\n   <g id=\"patch_3\">\n    <path d=\"M 26.925 224.64 \nL 26.925 7.2 \n\" style=\"fill:none;stroke:#000000;stroke-linecap:square;stroke-linejoin:miter;stroke-width:0.8;\"/>\n   </g>\n   <g id=\"patch_4\">\n    <path d=\"M 244.365 224.64 \nL 244.365 7.2 \n\" style=\"fill:none;stroke:#000000;stroke-linecap:square;stroke-linejoin:miter;stroke-width:0.8;\"/>\n   </g>\n   <g id=\"patch_5\">\n    <path d=\"M 26.925 224.64 \nL 244.365 224.64 \n\" style=\"fill:none;stroke:#000000;stroke-linecap:square;stroke-linejoin:miter;stroke-width:0.8;\"/>\n   </g>\n   <g id=\"patch_6\">\n    <path d=\"M 26.925 7.2 \nL 244.365 7.2 \n\" style=\"fill:none;stroke:#000000;stroke-linecap:square;stroke-linejoin:miter;stroke-width:0.8;\"/>\n   </g>\n  </g>\n </g>\n <defs>\n  <clipPath id=\"p3ec5d09366\">\n   <rect height=\"217.44\" width=\"217.44\" x=\"26.925\" y=\"7.2\"/>\n  </clipPath>\n </defs>\n</svg>\n"
     },
     "metadata": {
      "needs_background": "light"
     }
    }
   ],
   "source": [
    "plt.imshow(samples[3].permute(1,2,0).squeeze(axis=2))"
   ]
  },
  {
   "cell_type": "markdown",
   "id": "9b6545d2",
   "metadata": {
    "id": "9b6545d2",
    "pycharm": {
     "name": "#%% md\n"
    }
   },
   "source": [
    "### TFlite evaluation"
   ]
  },
  {
   "cell_type": "code",
   "execution_count": 35,
   "id": "7d5bc5da",
   "metadata": {
    "id": "7d5bc5da",
    "pycharm": {
     "name": "#%%\n"
    }
   },
   "outputs": [],
   "source": [
    "# tflite_model = tf.lite.Interpreter('./model_best.tflite')\n",
    "# tflite_model.allocate_tensors()\n",
    "# input_details = tflite_model.get_input_details()\n",
    "# output_details = tflite_model.get_output_details()\n",
    "# tflite_model.set_tensor(input_details[0]['index'], sample)\n",
    "# tflite_model.invoke()\n",
    "# y_pred = tflite_model.get_tensor(output_details[0]['index'])\n",
    "# print(f'prediction: {y_pred.argmax()}')\n",
    "# test_img_tflite = sample.squeeze(dim=0).permute(1,2,0)\n",
    "# plt.imshow(test_img_tflite)"
   ]
  },
  {
   "cell_type": "code",
   "execution_count": 36,
   "id": "8c624eb1",
   "metadata": {
    "id": "8c624eb1",
    "pycharm": {
     "name": "#%%\n"
    }
   },
   "outputs": [],
   "source": [
    "# ds_valid[0][0]"
   ]
  },
  {
   "cell_type": "code",
   "execution_count": 37,
   "id": "215356ea",
   "metadata": {
    "id": "215356ea",
    "pycharm": {
     "name": "#%%\n"
    }
   },
   "outputs": [],
   "source": [
    "# images, targets = next(iter(val_loader))"
   ]
  },
  {
   "cell_type": "code",
   "execution_count": 38,
   "id": "d9a076d0",
   "metadata": {
    "colab": {
     "base_uri": "https://localhost:8080/"
    },
    "id": "d9a076d0",
    "outputId": "cc08dd3f-a6ff-489e-f8da-2e7d578e464e",
    "pycharm": {
     "name": "#%%\n"
    }
   },
   "outputs": [
    {
     "output_type": "stream",
     "name": "stdout",
     "text": [
      "accuracy = 97.50%\n"
     ]
    }
   ],
   "source": [
    "tflite_model = tf.lite.Interpreter('./model_best.tflite')\n",
    "tflite_model.allocate_tensors()\n",
    "input_details = tflite_model.get_input_details()[0]\n",
    "output_details = tflite_model.get_output_details()[0]\n",
    "num_correct = 0\n",
    "for i, (image, target) in enumerate(ds_valid):\n",
    "    if input_details['dtype'] == np.int8:\n",
    "      input_scale, input_zero_point = input_details[\"quantization\"]\n",
    "      image = image / input_scale + input_zero_point\n",
    "    image =  torch.unsqueeze(image, 0).to(torch.int8)\n",
    "    \n",
    "    tflite_model.set_tensor(input_details['index'], image)\n",
    "    tflite_model.invoke()\n",
    "    y_pred = tflite_model.get_tensor(output_details['index'])[0]\n",
    "    num_correct += 1 if y_pred.argmax()==target else 0\n",
    "    if i>=(1000-1):\n",
    "        break\n",
    "print(f'accuracy = {100*num_correct/1000:.2f}%')"
   ]
  },
  {
   "cell_type": "code",
   "execution_count": 39,
   "id": "8227b89b",
   "metadata": {
    "colab": {
     "base_uri": "https://localhost:8080/",
     "height": 370
    },
    "id": "8227b89b",
    "outputId": "46f1abcb-dfa8-4f52-a329-56b5c098e329",
    "pycharm": {
     "name": "#%%\n"
    }
   },
   "outputs": [
    {
     "output_type": "execute_result",
     "data": {
      "text/plain": [
       "<matplotlib.image.AxesImage at 0x7fd944055ad0>"
      ]
     },
     "metadata": {},
     "execution_count": 39
    },
    {
     "output_type": "display_data",
     "data": {
      "text/plain": [
       "<Figure size 432x288 with 1 Axes>"
      ],
      "image/svg+xml": "<?xml version=\"1.0\" encoding=\"utf-8\" standalone=\"no\"?>\n<!DOCTYPE svg PUBLIC \"-//W3C//DTD SVG 1.1//EN\"\n  \"http://www.w3.org/Graphics/SVG/1.1/DTD/svg11.dtd\">\n<!-- Created with matplotlib (https://matplotlib.org/) -->\n<svg height=\"248.518125pt\" version=\"1.1\" viewBox=\"0 0 251.565 248.518125\" width=\"251.565pt\" xmlns=\"http://www.w3.org/2000/svg\" xmlns:xlink=\"http://www.w3.org/1999/xlink\">\n <defs>\n  <style type=\"text/css\">\n*{stroke-linecap:butt;stroke-linejoin:round;}\n  </style>\n </defs>\n <g id=\"figure_1\">\n  <g id=\"patch_1\">\n   <path d=\"M 0 248.518125 \nL 251.565 248.518125 \nL 251.565 0 \nL 0 0 \nz\n\" style=\"fill:none;\"/>\n  </g>\n  <g id=\"axes_1\">\n   <g id=\"patch_2\">\n    <path d=\"M 26.925 224.64 \nL 244.365 224.64 \nL 244.365 7.2 \nL 26.925 7.2 \nz\n\" style=\"fill:#ffffff;\"/>\n   </g>\n   <g clip-path=\"url(#pd4018d5d00)\">\n    <image height=\"218\" id=\"image50f149f23c\" transform=\"scale(1 -1)translate(0 -218)\" width=\"218\" x=\"26.925\" xlink:href=\"data:image/png;base64,\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\" y=\"-6.64\"/>\n   </g>\n   <g id=\"matplotlib.axis_1\">\n    <g id=\"xtick_1\">\n     <g id=\"line2d_1\">\n      <defs>\n       <path d=\"M 0 0 \nL 0 3.5 \n\" id=\"m9897f19bcb\" style=\"stroke:#000000;stroke-width:0.8;\"/>\n      </defs>\n      <g>\n       <use style=\"stroke:#000000;stroke-width:0.8;\" x=\"30.807857\" xlink:href=\"#m9897f19bcb\" y=\"224.64\"/>\n      </g>\n     </g>\n     <g id=\"text_1\">\n      <!-- 0 -->\n      <defs>\n       <path d=\"M 31.78125 66.40625 \nQ 24.171875 66.40625 20.328125 58.90625 \nQ 16.5 51.421875 16.5 36.375 \nQ 16.5 21.390625 20.328125 13.890625 \nQ 24.171875 6.390625 31.78125 6.390625 \nQ 39.453125 6.390625 43.28125 13.890625 \nQ 47.125 21.390625 47.125 36.375 \nQ 47.125 51.421875 43.28125 58.90625 \nQ 39.453125 66.40625 31.78125 66.40625 \nz\nM 31.78125 74.21875 \nQ 44.046875 74.21875 50.515625 64.515625 \nQ 56.984375 54.828125 56.984375 36.375 \nQ 56.984375 17.96875 50.515625 8.265625 \nQ 44.046875 -1.421875 31.78125 -1.421875 \nQ 19.53125 -1.421875 13.0625 8.265625 \nQ 6.59375 17.96875 6.59375 36.375 \nQ 6.59375 54.828125 13.0625 64.515625 \nQ 19.53125 74.21875 31.78125 74.21875 \nz\n\" id=\"DejaVuSans-48\"/>\n      </defs>\n      <g transform=\"translate(27.626607 239.238437)scale(0.1 -0.1)\">\n       <use xlink:href=\"#DejaVuSans-48\"/>\n      </g>\n     </g>\n    </g>\n    <g id=\"xtick_2\">\n     <g id=\"line2d_2\">\n      <g>\n       <use style=\"stroke:#000000;stroke-width:0.8;\" x=\"69.636429\" xlink:href=\"#m9897f19bcb\" y=\"224.64\"/>\n      </g>\n     </g>\n     <g id=\"text_2\">\n      <!-- 5 -->\n      <defs>\n       <path d=\"M 10.796875 72.90625 \nL 49.515625 72.90625 \nL 49.515625 64.59375 \nL 19.828125 64.59375 \nL 19.828125 46.734375 \nQ 21.96875 47.46875 24.109375 47.828125 \nQ 26.265625 48.1875 28.421875 48.1875 \nQ 40.625 48.1875 47.75 41.5 \nQ 54.890625 34.8125 54.890625 23.390625 \nQ 54.890625 11.625 47.5625 5.09375 \nQ 40.234375 -1.421875 26.90625 -1.421875 \nQ 22.3125 -1.421875 17.546875 -0.640625 \nQ 12.796875 0.140625 7.71875 1.703125 \nL 7.71875 11.625 \nQ 12.109375 9.234375 16.796875 8.0625 \nQ 21.484375 6.890625 26.703125 6.890625 \nQ 35.15625 6.890625 40.078125 11.328125 \nQ 45.015625 15.765625 45.015625 23.390625 \nQ 45.015625 31 40.078125 35.4375 \nQ 35.15625 39.890625 26.703125 39.890625 \nQ 22.75 39.890625 18.8125 39.015625 \nQ 14.890625 38.140625 10.796875 36.28125 \nz\n\" id=\"DejaVuSans-53\"/>\n      </defs>\n      <g transform=\"translate(66.455179 239.238437)scale(0.1 -0.1)\">\n       <use xlink:href=\"#DejaVuSans-53\"/>\n      </g>\n     </g>\n    </g>\n    <g id=\"xtick_3\">\n     <g id=\"line2d_3\">\n      <g>\n       <use style=\"stroke:#000000;stroke-width:0.8;\" x=\"108.465\" xlink:href=\"#m9897f19bcb\" y=\"224.64\"/>\n      </g>\n     </g>\n     <g id=\"text_3\">\n      <!-- 10 -->\n      <defs>\n       <path d=\"M 12.40625 8.296875 \nL 28.515625 8.296875 \nL 28.515625 63.921875 \nL 10.984375 60.40625 \nL 10.984375 69.390625 \nL 28.421875 72.90625 \nL 38.28125 72.90625 \nL 38.28125 8.296875 \nL 54.390625 8.296875 \nL 54.390625 0 \nL 12.40625 0 \nz\n\" id=\"DejaVuSans-49\"/>\n      </defs>\n      <g transform=\"translate(102.1025 239.238437)scale(0.1 -0.1)\">\n       <use xlink:href=\"#DejaVuSans-49\"/>\n       <use x=\"63.623047\" xlink:href=\"#DejaVuSans-48\"/>\n      </g>\n     </g>\n    </g>\n    <g id=\"xtick_4\">\n     <g id=\"line2d_4\">\n      <g>\n       <use style=\"stroke:#000000;stroke-width:0.8;\" x=\"147.293571\" xlink:href=\"#m9897f19bcb\" y=\"224.64\"/>\n      </g>\n     </g>\n     <g id=\"text_4\">\n      <!-- 15 -->\n      <g transform=\"translate(140.931071 239.238437)scale(0.1 -0.1)\">\n       <use xlink:href=\"#DejaVuSans-49\"/>\n       <use x=\"63.623047\" xlink:href=\"#DejaVuSans-53\"/>\n      </g>\n     </g>\n    </g>\n    <g id=\"xtick_5\">\n     <g id=\"line2d_5\">\n      <g>\n       <use style=\"stroke:#000000;stroke-width:0.8;\" x=\"186.122143\" xlink:href=\"#m9897f19bcb\" y=\"224.64\"/>\n      </g>\n     </g>\n     <g id=\"text_5\">\n      <!-- 20 -->\n      <defs>\n       <path d=\"M 19.1875 8.296875 \nL 53.609375 8.296875 \nL 53.609375 0 \nL 7.328125 0 \nL 7.328125 8.296875 \nQ 12.9375 14.109375 22.625 23.890625 \nQ 32.328125 33.6875 34.8125 36.53125 \nQ 39.546875 41.84375 41.421875 45.53125 \nQ 43.3125 49.21875 43.3125 52.78125 \nQ 43.3125 58.59375 39.234375 62.25 \nQ 35.15625 65.921875 28.609375 65.921875 \nQ 23.96875 65.921875 18.8125 64.3125 \nQ 13.671875 62.703125 7.8125 59.421875 \nL 7.8125 69.390625 \nQ 13.765625 71.78125 18.9375 73 \nQ 24.125 74.21875 28.421875 74.21875 \nQ 39.75 74.21875 46.484375 68.546875 \nQ 53.21875 62.890625 53.21875 53.421875 \nQ 53.21875 48.921875 51.53125 44.890625 \nQ 49.859375 40.875 45.40625 35.40625 \nQ 44.1875 33.984375 37.640625 27.21875 \nQ 31.109375 20.453125 19.1875 8.296875 \nz\n\" id=\"DejaVuSans-50\"/>\n      </defs>\n      <g transform=\"translate(179.759643 239.238437)scale(0.1 -0.1)\">\n       <use xlink:href=\"#DejaVuSans-50\"/>\n       <use x=\"63.623047\" xlink:href=\"#DejaVuSans-48\"/>\n      </g>\n     </g>\n    </g>\n    <g id=\"xtick_6\">\n     <g id=\"line2d_6\">\n      <g>\n       <use style=\"stroke:#000000;stroke-width:0.8;\" x=\"224.950714\" xlink:href=\"#m9897f19bcb\" y=\"224.64\"/>\n      </g>\n     </g>\n     <g id=\"text_6\">\n      <!-- 25 -->\n      <g transform=\"translate(218.588214 239.238437)scale(0.1 -0.1)\">\n       <use xlink:href=\"#DejaVuSans-50\"/>\n       <use x=\"63.623047\" xlink:href=\"#DejaVuSans-53\"/>\n      </g>\n     </g>\n    </g>\n   </g>\n   <g id=\"matplotlib.axis_2\">\n    <g id=\"ytick_1\">\n     <g id=\"line2d_7\">\n      <defs>\n       <path d=\"M 0 0 \nL -3.5 0 \n\" id=\"m15e89a24c4\" style=\"stroke:#000000;stroke-width:0.8;\"/>\n      </defs>\n      <g>\n       <use style=\"stroke:#000000;stroke-width:0.8;\" x=\"26.925\" xlink:href=\"#m15e89a24c4\" y=\"11.082857\"/>\n      </g>\n     </g>\n     <g id=\"text_7\">\n      <!-- 0 -->\n      <g transform=\"translate(13.5625 14.882076)scale(0.1 -0.1)\">\n       <use xlink:href=\"#DejaVuSans-48\"/>\n      </g>\n     </g>\n    </g>\n    <g id=\"ytick_2\">\n     <g id=\"line2d_8\">\n      <g>\n       <use style=\"stroke:#000000;stroke-width:0.8;\" x=\"26.925\" xlink:href=\"#m15e89a24c4\" y=\"49.911429\"/>\n      </g>\n     </g>\n     <g id=\"text_8\">\n      <!-- 5 -->\n      <g transform=\"translate(13.5625 53.710647)scale(0.1 -0.1)\">\n       <use xlink:href=\"#DejaVuSans-53\"/>\n      </g>\n     </g>\n    </g>\n    <g id=\"ytick_3\">\n     <g id=\"line2d_9\">\n      <g>\n       <use style=\"stroke:#000000;stroke-width:0.8;\" x=\"26.925\" xlink:href=\"#m15e89a24c4\" y=\"88.74\"/>\n      </g>\n     </g>\n     <g id=\"text_9\">\n      <!-- 10 -->\n      <g transform=\"translate(7.2 92.539219)scale(0.1 -0.1)\">\n       <use xlink:href=\"#DejaVuSans-49\"/>\n       <use x=\"63.623047\" xlink:href=\"#DejaVuSans-48\"/>\n      </g>\n     </g>\n    </g>\n    <g id=\"ytick_4\">\n     <g id=\"line2d_10\">\n      <g>\n       <use style=\"stroke:#000000;stroke-width:0.8;\" x=\"26.925\" xlink:href=\"#m15e89a24c4\" y=\"127.568571\"/>\n      </g>\n     </g>\n     <g id=\"text_10\">\n      <!-- 15 -->\n      <g transform=\"translate(7.2 131.36779)scale(0.1 -0.1)\">\n       <use xlink:href=\"#DejaVuSans-49\"/>\n       <use x=\"63.623047\" xlink:href=\"#DejaVuSans-53\"/>\n      </g>\n     </g>\n    </g>\n    <g id=\"ytick_5\">\n     <g id=\"line2d_11\">\n      <g>\n       <use style=\"stroke:#000000;stroke-width:0.8;\" x=\"26.925\" xlink:href=\"#m15e89a24c4\" y=\"166.397143\"/>\n      </g>\n     </g>\n     <g id=\"text_11\">\n      <!-- 20 -->\n      <g transform=\"translate(7.2 170.196362)scale(0.1 -0.1)\">\n       <use xlink:href=\"#DejaVuSans-50\"/>\n       <use x=\"63.623047\" xlink:href=\"#DejaVuSans-48\"/>\n      </g>\n     </g>\n    </g>\n    <g id=\"ytick_6\">\n     <g id=\"line2d_12\">\n      <g>\n       <use style=\"stroke:#000000;stroke-width:0.8;\" x=\"26.925\" xlink:href=\"#m15e89a24c4\" y=\"205.225714\"/>\n      </g>\n     </g>\n     <g id=\"text_12\">\n      <!-- 25 -->\n      <g transform=\"translate(7.2 209.024933)scale(0.1 -0.1)\">\n       <use xlink:href=\"#DejaVuSans-50\"/>\n       <use x=\"63.623047\" xlink:href=\"#DejaVuSans-53\"/>\n      </g>\n     </g>\n    </g>\n   </g>\n   <g id=\"patch_3\">\n    <path d=\"M 26.925 224.64 \nL 26.925 7.2 \n\" style=\"fill:none;stroke:#000000;stroke-linecap:square;stroke-linejoin:miter;stroke-width:0.8;\"/>\n   </g>\n   <g id=\"patch_4\">\n    <path d=\"M 244.365 224.64 \nL 244.365 7.2 \n\" style=\"fill:none;stroke:#000000;stroke-linecap:square;stroke-linejoin:miter;stroke-width:0.8;\"/>\n   </g>\n   <g id=\"patch_5\">\n    <path d=\"M 26.925 224.64 \nL 244.365 224.64 \n\" style=\"fill:none;stroke:#000000;stroke-linecap:square;stroke-linejoin:miter;stroke-width:0.8;\"/>\n   </g>\n   <g id=\"patch_6\">\n    <path d=\"M 26.925 7.2 \nL 244.365 7.2 \n\" style=\"fill:none;stroke:#000000;stroke-linecap:square;stroke-linejoin:miter;stroke-width:0.8;\"/>\n   </g>\n  </g>\n </g>\n <defs>\n  <clipPath id=\"pd4018d5d00\">\n   <rect height=\"217.44\" width=\"217.44\" x=\"26.925\" y=\"7.2\"/>\n  </clipPath>\n </defs>\n</svg>\n"
     },
     "metadata": {
      "needs_background": "light"
     }
    }
   ],
   "source": [
    "plt.imshow(image.squeeze(dim=0).permute(1,2,0).squeeze(axis=2))"
   ]
  },
  {
   "cell_type": "code",
   "execution_count": 40,
   "id": "69c000ce",
   "metadata": {
    "colab": {
     "base_uri": "https://localhost:8080/"
    },
    "id": "69c000ce",
    "outputId": "99e1822b-6395-4519-d4af-8a321e9a9b32",
    "pycharm": {
     "name": "#%%\n"
    }
   },
   "outputs": [
    {
     "output_type": "execute_result",
     "data": {
      "text/plain": [
       "9"
      ]
     },
     "metadata": {},
     "execution_count": 40
    }
   ],
   "source": [
    "y_pred.argmax()"
   ]
  },
  {
   "cell_type": "markdown",
   "source": [
    "### Batch inference"
   ],
   "metadata": {
    "id": "JSDM3xI8_2nL",
    "pycharm": {
     "name": "#%% md\n"
    }
   },
   "id": "JSDM3xI8_2nL"
  },
  {
   "cell_type": "code",
   "execution_count": 41,
   "id": "941a07d8",
   "metadata": {
    "id": "941a07d8",
    "pycharm": {
     "name": "#%%\n"
    }
   },
   "outputs": [],
   "source": [
    "def tflite_batch_inference(tflite_path, data):\n",
    "  '''perform batch inference on a tensorflow lite model\n",
    "  args:\n",
    "    - tflite_path = pathlib.Path\n",
    "    - data = np.array\n",
    "    - data_type = np.dtype\n",
    "  returns:\n",
    "    - output_data: np.array\n",
    "  '''\n",
    "  # Load the TFLite model and allocate tensors.\n",
    "  interpreter = tf.lite.Interpreter(model_path=tflite_path)\n",
    "  # Get input and output tensors.\n",
    "  input_details = interpreter.get_input_details()\n",
    "  output_details = interpreter.get_output_details()\n",
    "\n",
    "  # Adjust graph input to handle batch tensor\n",
    "  interpreter.resize_tensor_input(input_details[0]['index'], data.shape)\n",
    "  print(data.shape)\n",
    "  # Adjust output #1 in graph to handle batch tensor\n",
    "  interpreter.resize_tensor_input(output_details[0]['index'], [data.shape[0], 1])\n",
    "  print( [data.shape[0], 1])\n",
    "  interpreter.allocate_tensors()\n",
    "\n",
    "  interpreter.set_tensor(input_details[0]['index'], data)\n",
    "  interpreter.invoke()\n",
    "  # The function `get_tensor()` returns a copy of the tensor data.\n",
    "  # Use `tensor()` in order to get a pointer to the tensor.\n",
    "  output_data = interpreter.get_tensor(output_details[0]['index'])\n",
    "\n",
    "  return output_data"
   ]
  },
  {
   "cell_type": "markdown",
   "source": [
    "Note: This **does not work** because of the conversation between NCHW and NHWC is not implemented by ONNX-Tensorflow"
   ],
   "metadata": {
    "id": "0lFdUm1MReKJ",
    "pycharm": {
     "name": "#%% md\n"
    }
   },
   "id": "0lFdUm1MReKJ"
  },
  {
   "cell_type": "markdown",
   "source": [
    "### Export to TFlite micro model .cc\n"
   ],
   "metadata": {
    "id": "msRN27MNAFVc",
    "pycharm": {
     "name": "#%% md\n"
    }
   },
   "id": "msRN27MNAFVc"
  },
  {
   "cell_type": "markdown",
   "id": "3885aac0",
   "metadata": {
    "id": "3885aac0",
    "pycharm": {
     "name": "#%% md\n"
    }
   },
   "source": [
    "Let's convert TFLite to TFLite micro in `.CC`\n",
    "If there is no `xxd` in your env, please install it.\n",
    "```\n",
    "!apt-get install xxd\n",
    "```"
   ]
  },
  {
   "cell_type": "code",
   "source": [
    "!apt-get install xxd"
   ],
   "metadata": {
    "colab": {
     "base_uri": "https://localhost:8080/"
    },
    "id": "hib3sk2jSdGS",
    "outputId": "693359d4-a62e-4e35-8170-308b40b683e2",
    "pycharm": {
     "name": "#%%\n"
    }
   },
   "id": "hib3sk2jSdGS",
   "execution_count": 42,
   "outputs": [
    {
     "output_type": "stream",
     "name": "stdout",
     "text": [
      "Reading package lists... Done\n",
      "Building dependency tree       \n",
      "Reading state information... Done\n",
      "The following package was automatically installed and is no longer required:\n",
      "  libnvidia-common-460\n",
      "Use 'apt autoremove' to remove it.\n",
      "The following NEW packages will be installed:\n",
      "  xxd\n",
      "0 upgraded, 1 newly installed, 0 to remove and 49 not upgraded.\n",
      "Need to get 49.9 kB of archives.\n",
      "After this operation, 201 kB of additional disk space will be used.\n",
      "Get:1 http://archive.ubuntu.com/ubuntu bionic-updates/main amd64 xxd amd64 2:8.0.1453-1ubuntu1.8 [49.9 kB]\n",
      "Fetched 49.9 kB in 0s (397 kB/s)\n",
      "Selecting previously unselected package xxd.\n",
      "(Reading database ... 155639 files and directories currently installed.)\n",
      "Preparing to unpack .../xxd_2%3a8.0.1453-1ubuntu1.8_amd64.deb ...\n",
      "Unpacking xxd (2:8.0.1453-1ubuntu1.8) ...\n",
      "Setting up xxd (2:8.0.1453-1ubuntu1.8) ...\n",
      "Processing triggers for man-db (2.8.3-2ubuntu0.1) ...\n"
     ]
    }
   ]
  },
  {
   "cell_type": "code",
   "execution_count": 43,
   "id": "c518a6bf",
   "metadata": {
    "id": "c518a6bf",
    "pycharm": {
     "name": "#%%\n"
    }
   },
   "outputs": [],
   "source": [
    "!xxd -i model_best.tflite > model_data.cc"
   ]
  },
  {
   "cell_type": "markdown",
   "source": [
    "Let's check the size of model"
   ],
   "metadata": {
    "id": "3RAX-ZNtShDh",
    "pycharm": {
     "name": "#%% md\n"
    }
   },
   "id": "3RAX-ZNtShDh"
  },
  {
   "cell_type": "code",
   "source": [
    "!tail -n1 model_data.cc"
   ],
   "metadata": {
    "colab": {
     "base_uri": "https://localhost:8080/"
    },
    "id": "Qvm0UQsAR1Co",
    "outputId": "601152fc-7aa2-42b7-a909-bae49d35e6f3",
    "pycharm": {
     "name": "#%%\n"
    }
   },
   "id": "Qvm0UQsAR1Co",
   "execution_count": 44,
   "outputs": [
    {
     "output_type": "stream",
     "name": "stdout",
     "text": [
      "unsigned int model_best_tflite_len = 57672;\n"
     ]
    }
   ]
  },
  {
   "cell_type": "code",
   "source": [],
   "metadata": {
    "id": "qRe5FY5kSpYL",
    "pycharm": {
     "name": "#%%\n"
    }
   },
   "id": "qRe5FY5kSpYL",
   "execution_count": 44,
   "outputs": []
  }
 ],
 "metadata": {
  "kernelspec": {
   "display_name": "Python 3 (ipykernel)",
   "language": "python",
   "name": "python3"
  },
  "language_info": {
   "codemirror_mode": {
    "name": "ipython",
    "version": 3
   },
   "file_extension": ".py",
   "mimetype": "text/x-python",
   "name": "python",
   "nbconvert_exporter": "python",
   "pygments_lexer": "ipython3",
   "version": "3.8.5"
  },
  "colab": {
   "name": "CNN_MNIST_Torch2TFlite.ipynb",
   "provenance": [],
   "collapsed_sections": [],
   "toc_visible": true
  },
  "accelerator": "GPU",
  "gpuClass": "standard",
  "widgets": {
   "application/vnd.jupyter.widget-state+json": {
    "ef9ff200b80f46d9a16e9fc78f7d5d83": {
     "model_module": "@jupyter-widgets/controls",
     "model_name": "HBoxModel",
     "model_module_version": "1.5.0",
     "state": {
      "_dom_classes": [],
      "_model_module": "@jupyter-widgets/controls",
      "_model_module_version": "1.5.0",
      "_model_name": "HBoxModel",
      "_view_count": null,
      "_view_module": "@jupyter-widgets/controls",
      "_view_module_version": "1.5.0",
      "_view_name": "HBoxView",
      "box_style": "",
      "children": [
       "IPY_MODEL_a1d147fd4eb849f799bbd1339da12dc3",
       "IPY_MODEL_3b13a806ea7541ceb3ac239e25b69933",
       "IPY_MODEL_9d3813f487fe4a96937f879c82639c26"
      ],
      "layout": "IPY_MODEL_98b92198067143c49da35400b13de125"
     }
    },
    "a1d147fd4eb849f799bbd1339da12dc3": {
     "model_module": "@jupyter-widgets/controls",
     "model_name": "HTMLModel",
     "model_module_version": "1.5.0",
     "state": {
      "_dom_classes": [],
      "_model_module": "@jupyter-widgets/controls",
      "_model_module_version": "1.5.0",
      "_model_name": "HTMLModel",
      "_view_count": null,
      "_view_module": "@jupyter-widgets/controls",
      "_view_module_version": "1.5.0",
      "_view_name": "HTMLView",
      "description": "",
      "description_tooltip": null,
      "layout": "IPY_MODEL_dbadda1da5b1405ab65c2b3366e8e59e",
      "placeholder": "​",
      "style": "IPY_MODEL_24cecdf5131346e5841fbb89f43c09e9",
      "value": ""
     }
    },
    "3b13a806ea7541ceb3ac239e25b69933": {
     "model_module": "@jupyter-widgets/controls",
     "model_name": "FloatProgressModel",
     "model_module_version": "1.5.0",
     "state": {
      "_dom_classes": [],
      "_model_module": "@jupyter-widgets/controls",
      "_model_module_version": "1.5.0",
      "_model_name": "FloatProgressModel",
      "_view_count": null,
      "_view_module": "@jupyter-widgets/controls",
      "_view_module_version": "1.5.0",
      "_view_name": "ProgressView",
      "bar_style": "success",
      "description": "",
      "description_tooltip": null,
      "layout": "IPY_MODEL_1e7754c443aa484d91c3e80bc4a89e23",
      "max": 9912422,
      "min": 0,
      "orientation": "horizontal",
      "style": "IPY_MODEL_542efd3e332e424f975934376c7cdf0b",
      "value": 9912422
     }
    },
    "9d3813f487fe4a96937f879c82639c26": {
     "model_module": "@jupyter-widgets/controls",
     "model_name": "HTMLModel",
     "model_module_version": "1.5.0",
     "state": {
      "_dom_classes": [],
      "_model_module": "@jupyter-widgets/controls",
      "_model_module_version": "1.5.0",
      "_model_name": "HTMLModel",
      "_view_count": null,
      "_view_module": "@jupyter-widgets/controls",
      "_view_module_version": "1.5.0",
      "_view_name": "HTMLView",
      "description": "",
      "description_tooltip": null,
      "layout": "IPY_MODEL_1af01b56d60d43a89fc7a821b5ecf90b",
      "placeholder": "​",
      "style": "IPY_MODEL_bb89bfcfa0b94efa85bfc7b3608d9889",
      "value": " 9913344/? [00:00&lt;00:00, 18883911.99it/s]"
     }
    },
    "98b92198067143c49da35400b13de125": {
     "model_module": "@jupyter-widgets/base",
     "model_name": "LayoutModel",
     "model_module_version": "1.2.0",
     "state": {
      "_model_module": "@jupyter-widgets/base",
      "_model_module_version": "1.2.0",
      "_model_name": "LayoutModel",
      "_view_count": null,
      "_view_module": "@jupyter-widgets/base",
      "_view_module_version": "1.2.0",
      "_view_name": "LayoutView",
      "align_content": null,
      "align_items": null,
      "align_self": null,
      "border": null,
      "bottom": null,
      "display": null,
      "flex": null,
      "flex_flow": null,
      "grid_area": null,
      "grid_auto_columns": null,
      "grid_auto_flow": null,
      "grid_auto_rows": null,
      "grid_column": null,
      "grid_gap": null,
      "grid_row": null,
      "grid_template_areas": null,
      "grid_template_columns": null,
      "grid_template_rows": null,
      "height": null,
      "justify_content": null,
      "justify_items": null,
      "left": null,
      "margin": null,
      "max_height": null,
      "max_width": null,
      "min_height": null,
      "min_width": null,
      "object_fit": null,
      "object_position": null,
      "order": null,
      "overflow": null,
      "overflow_x": null,
      "overflow_y": null,
      "padding": null,
      "right": null,
      "top": null,
      "visibility": null,
      "width": null
     }
    },
    "dbadda1da5b1405ab65c2b3366e8e59e": {
     "model_module": "@jupyter-widgets/base",
     "model_name": "LayoutModel",
     "model_module_version": "1.2.0",
     "state": {
      "_model_module": "@jupyter-widgets/base",
      "_model_module_version": "1.2.0",
      "_model_name": "LayoutModel",
      "_view_count": null,
      "_view_module": "@jupyter-widgets/base",
      "_view_module_version": "1.2.0",
      "_view_name": "LayoutView",
      "align_content": null,
      "align_items": null,
      "align_self": null,
      "border": null,
      "bottom": null,
      "display": null,
      "flex": null,
      "flex_flow": null,
      "grid_area": null,
      "grid_auto_columns": null,
      "grid_auto_flow": null,
      "grid_auto_rows": null,
      "grid_column": null,
      "grid_gap": null,
      "grid_row": null,
      "grid_template_areas": null,
      "grid_template_columns": null,
      "grid_template_rows": null,
      "height": null,
      "justify_content": null,
      "justify_items": null,
      "left": null,
      "margin": null,
      "max_height": null,
      "max_width": null,
      "min_height": null,
      "min_width": null,
      "object_fit": null,
      "object_position": null,
      "order": null,
      "overflow": null,
      "overflow_x": null,
      "overflow_y": null,
      "padding": null,
      "right": null,
      "top": null,
      "visibility": null,
      "width": null
     }
    },
    "24cecdf5131346e5841fbb89f43c09e9": {
     "model_module": "@jupyter-widgets/controls",
     "model_name": "DescriptionStyleModel",
     "model_module_version": "1.5.0",
     "state": {
      "_model_module": "@jupyter-widgets/controls",
      "_model_module_version": "1.5.0",
      "_model_name": "DescriptionStyleModel",
      "_view_count": null,
      "_view_module": "@jupyter-widgets/base",
      "_view_module_version": "1.2.0",
      "_view_name": "StyleView",
      "description_width": ""
     }
    },
    "1e7754c443aa484d91c3e80bc4a89e23": {
     "model_module": "@jupyter-widgets/base",
     "model_name": "LayoutModel",
     "model_module_version": "1.2.0",
     "state": {
      "_model_module": "@jupyter-widgets/base",
      "_model_module_version": "1.2.0",
      "_model_name": "LayoutModel",
      "_view_count": null,
      "_view_module": "@jupyter-widgets/base",
      "_view_module_version": "1.2.0",
      "_view_name": "LayoutView",
      "align_content": null,
      "align_items": null,
      "align_self": null,
      "border": null,
      "bottom": null,
      "display": null,
      "flex": null,
      "flex_flow": null,
      "grid_area": null,
      "grid_auto_columns": null,
      "grid_auto_flow": null,
      "grid_auto_rows": null,
      "grid_column": null,
      "grid_gap": null,
      "grid_row": null,
      "grid_template_areas": null,
      "grid_template_columns": null,
      "grid_template_rows": null,
      "height": null,
      "justify_content": null,
      "justify_items": null,
      "left": null,
      "margin": null,
      "max_height": null,
      "max_width": null,
      "min_height": null,
      "min_width": null,
      "object_fit": null,
      "object_position": null,
      "order": null,
      "overflow": null,
      "overflow_x": null,
      "overflow_y": null,
      "padding": null,
      "right": null,
      "top": null,
      "visibility": null,
      "width": null
     }
    },
    "542efd3e332e424f975934376c7cdf0b": {
     "model_module": "@jupyter-widgets/controls",
     "model_name": "ProgressStyleModel",
     "model_module_version": "1.5.0",
     "state": {
      "_model_module": "@jupyter-widgets/controls",
      "_model_module_version": "1.5.0",
      "_model_name": "ProgressStyleModel",
      "_view_count": null,
      "_view_module": "@jupyter-widgets/base",
      "_view_module_version": "1.2.0",
      "_view_name": "StyleView",
      "bar_color": null,
      "description_width": ""
     }
    },
    "1af01b56d60d43a89fc7a821b5ecf90b": {
     "model_module": "@jupyter-widgets/base",
     "model_name": "LayoutModel",
     "model_module_version": "1.2.0",
     "state": {
      "_model_module": "@jupyter-widgets/base",
      "_model_module_version": "1.2.0",
      "_model_name": "LayoutModel",
      "_view_count": null,
      "_view_module": "@jupyter-widgets/base",
      "_view_module_version": "1.2.0",
      "_view_name": "LayoutView",
      "align_content": null,
      "align_items": null,
      "align_self": null,
      "border": null,
      "bottom": null,
      "display": null,
      "flex": null,
      "flex_flow": null,
      "grid_area": null,
      "grid_auto_columns": null,
      "grid_auto_flow": null,
      "grid_auto_rows": null,
      "grid_column": null,
      "grid_gap": null,
      "grid_row": null,
      "grid_template_areas": null,
      "grid_template_columns": null,
      "grid_template_rows": null,
      "height": null,
      "justify_content": null,
      "justify_items": null,
      "left": null,
      "margin": null,
      "max_height": null,
      "max_width": null,
      "min_height": null,
      "min_width": null,
      "object_fit": null,
      "object_position": null,
      "order": null,
      "overflow": null,
      "overflow_x": null,
      "overflow_y": null,
      "padding": null,
      "right": null,
      "top": null,
      "visibility": null,
      "width": null
     }
    },
    "bb89bfcfa0b94efa85bfc7b3608d9889": {
     "model_module": "@jupyter-widgets/controls",
     "model_name": "DescriptionStyleModel",
     "model_module_version": "1.5.0",
     "state": {
      "_model_module": "@jupyter-widgets/controls",
      "_model_module_version": "1.5.0",
      "_model_name": "DescriptionStyleModel",
      "_view_count": null,
      "_view_module": "@jupyter-widgets/base",
      "_view_module_version": "1.2.0",
      "_view_name": "StyleView",
      "description_width": ""
     }
    },
    "55dafceb5c954e78ac1a78cce4f9cf43": {
     "model_module": "@jupyter-widgets/controls",
     "model_name": "HBoxModel",
     "model_module_version": "1.5.0",
     "state": {
      "_dom_classes": [],
      "_model_module": "@jupyter-widgets/controls",
      "_model_module_version": "1.5.0",
      "_model_name": "HBoxModel",
      "_view_count": null,
      "_view_module": "@jupyter-widgets/controls",
      "_view_module_version": "1.5.0",
      "_view_name": "HBoxView",
      "box_style": "",
      "children": [
       "IPY_MODEL_d7348b5617ab4b348a7ceceeb8dfa116",
       "IPY_MODEL_4d7df86185c143ee9d0ce06c51d7aeed",
       "IPY_MODEL_f8f53625e79842db9fb2fa4266b060ae"
      ],
      "layout": "IPY_MODEL_531bc62e601443908f06367f197d26b9"
     }
    },
    "d7348b5617ab4b348a7ceceeb8dfa116": {
     "model_module": "@jupyter-widgets/controls",
     "model_name": "HTMLModel",
     "model_module_version": "1.5.0",
     "state": {
      "_dom_classes": [],
      "_model_module": "@jupyter-widgets/controls",
      "_model_module_version": "1.5.0",
      "_model_name": "HTMLModel",
      "_view_count": null,
      "_view_module": "@jupyter-widgets/controls",
      "_view_module_version": "1.5.0",
      "_view_name": "HTMLView",
      "description": "",
      "description_tooltip": null,
      "layout": "IPY_MODEL_87e3a53ecc86408a86aa7a4303e31266",
      "placeholder": "​",
      "style": "IPY_MODEL_238ab9b9550e4bd986475079017b8750",
      "value": ""
     }
    },
    "4d7df86185c143ee9d0ce06c51d7aeed": {
     "model_module": "@jupyter-widgets/controls",
     "model_name": "FloatProgressModel",
     "model_module_version": "1.5.0",
     "state": {
      "_dom_classes": [],
      "_model_module": "@jupyter-widgets/controls",
      "_model_module_version": "1.5.0",
      "_model_name": "FloatProgressModel",
      "_view_count": null,
      "_view_module": "@jupyter-widgets/controls",
      "_view_module_version": "1.5.0",
      "_view_name": "ProgressView",
      "bar_style": "success",
      "description": "",
      "description_tooltip": null,
      "layout": "IPY_MODEL_e4e54b0c8e5440fda688721d4b46b23c",
      "max": 28881,
      "min": 0,
      "orientation": "horizontal",
      "style": "IPY_MODEL_0c24b4665b244d1181fd8245e1aa8449",
      "value": 28881
     }
    },
    "f8f53625e79842db9fb2fa4266b060ae": {
     "model_module": "@jupyter-widgets/controls",
     "model_name": "HTMLModel",
     "model_module_version": "1.5.0",
     "state": {
      "_dom_classes": [],
      "_model_module": "@jupyter-widgets/controls",
      "_model_module_version": "1.5.0",
      "_model_name": "HTMLModel",
      "_view_count": null,
      "_view_module": "@jupyter-widgets/controls",
      "_view_module_version": "1.5.0",
      "_view_name": "HTMLView",
      "description": "",
      "description_tooltip": null,
      "layout": "IPY_MODEL_a7e58460ff6041e69d8f72a8086ac9c7",
      "placeholder": "​",
      "style": "IPY_MODEL_45da4ff6c2a444f5b099461c08e56acb",
      "value": " 29696/? [00:00&lt;00:00, 571361.97it/s]"
     }
    },
    "531bc62e601443908f06367f197d26b9": {
     "model_module": "@jupyter-widgets/base",
     "model_name": "LayoutModel",
     "model_module_version": "1.2.0",
     "state": {
      "_model_module": "@jupyter-widgets/base",
      "_model_module_version": "1.2.0",
      "_model_name": "LayoutModel",
      "_view_count": null,
      "_view_module": "@jupyter-widgets/base",
      "_view_module_version": "1.2.0",
      "_view_name": "LayoutView",
      "align_content": null,
      "align_items": null,
      "align_self": null,
      "border": null,
      "bottom": null,
      "display": null,
      "flex": null,
      "flex_flow": null,
      "grid_area": null,
      "grid_auto_columns": null,
      "grid_auto_flow": null,
      "grid_auto_rows": null,
      "grid_column": null,
      "grid_gap": null,
      "grid_row": null,
      "grid_template_areas": null,
      "grid_template_columns": null,
      "grid_template_rows": null,
      "height": null,
      "justify_content": null,
      "justify_items": null,
      "left": null,
      "margin": null,
      "max_height": null,
      "max_width": null,
      "min_height": null,
      "min_width": null,
      "object_fit": null,
      "object_position": null,
      "order": null,
      "overflow": null,
      "overflow_x": null,
      "overflow_y": null,
      "padding": null,
      "right": null,
      "top": null,
      "visibility": null,
      "width": null
     }
    },
    "87e3a53ecc86408a86aa7a4303e31266": {
     "model_module": "@jupyter-widgets/base",
     "model_name": "LayoutModel",
     "model_module_version": "1.2.0",
     "state": {
      "_model_module": "@jupyter-widgets/base",
      "_model_module_version": "1.2.0",
      "_model_name": "LayoutModel",
      "_view_count": null,
      "_view_module": "@jupyter-widgets/base",
      "_view_module_version": "1.2.0",
      "_view_name": "LayoutView",
      "align_content": null,
      "align_items": null,
      "align_self": null,
      "border": null,
      "bottom": null,
      "display": null,
      "flex": null,
      "flex_flow": null,
      "grid_area": null,
      "grid_auto_columns": null,
      "grid_auto_flow": null,
      "grid_auto_rows": null,
      "grid_column": null,
      "grid_gap": null,
      "grid_row": null,
      "grid_template_areas": null,
      "grid_template_columns": null,
      "grid_template_rows": null,
      "height": null,
      "justify_content": null,
      "justify_items": null,
      "left": null,
      "margin": null,
      "max_height": null,
      "max_width": null,
      "min_height": null,
      "min_width": null,
      "object_fit": null,
      "object_position": null,
      "order": null,
      "overflow": null,
      "overflow_x": null,
      "overflow_y": null,
      "padding": null,
      "right": null,
      "top": null,
      "visibility": null,
      "width": null
     }
    },
    "238ab9b9550e4bd986475079017b8750": {
     "model_module": "@jupyter-widgets/controls",
     "model_name": "DescriptionStyleModel",
     "model_module_version": "1.5.0",
     "state": {
      "_model_module": "@jupyter-widgets/controls",
      "_model_module_version": "1.5.0",
      "_model_name": "DescriptionStyleModel",
      "_view_count": null,
      "_view_module": "@jupyter-widgets/base",
      "_view_module_version": "1.2.0",
      "_view_name": "StyleView",
      "description_width": ""
     }
    },
    "e4e54b0c8e5440fda688721d4b46b23c": {
     "model_module": "@jupyter-widgets/base",
     "model_name": "LayoutModel",
     "model_module_version": "1.2.0",
     "state": {
      "_model_module": "@jupyter-widgets/base",
      "_model_module_version": "1.2.0",
      "_model_name": "LayoutModel",
      "_view_count": null,
      "_view_module": "@jupyter-widgets/base",
      "_view_module_version": "1.2.0",
      "_view_name": "LayoutView",
      "align_content": null,
      "align_items": null,
      "align_self": null,
      "border": null,
      "bottom": null,
      "display": null,
      "flex": null,
      "flex_flow": null,
      "grid_area": null,
      "grid_auto_columns": null,
      "grid_auto_flow": null,
      "grid_auto_rows": null,
      "grid_column": null,
      "grid_gap": null,
      "grid_row": null,
      "grid_template_areas": null,
      "grid_template_columns": null,
      "grid_template_rows": null,
      "height": null,
      "justify_content": null,
      "justify_items": null,
      "left": null,
      "margin": null,
      "max_height": null,
      "max_width": null,
      "min_height": null,
      "min_width": null,
      "object_fit": null,
      "object_position": null,
      "order": null,
      "overflow": null,
      "overflow_x": null,
      "overflow_y": null,
      "padding": null,
      "right": null,
      "top": null,
      "visibility": null,
      "width": null
     }
    },
    "0c24b4665b244d1181fd8245e1aa8449": {
     "model_module": "@jupyter-widgets/controls",
     "model_name": "ProgressStyleModel",
     "model_module_version": "1.5.0",
     "state": {
      "_model_module": "@jupyter-widgets/controls",
      "_model_module_version": "1.5.0",
      "_model_name": "ProgressStyleModel",
      "_view_count": null,
      "_view_module": "@jupyter-widgets/base",
      "_view_module_version": "1.2.0",
      "_view_name": "StyleView",
      "bar_color": null,
      "description_width": ""
     }
    },
    "a7e58460ff6041e69d8f72a8086ac9c7": {
     "model_module": "@jupyter-widgets/base",
     "model_name": "LayoutModel",
     "model_module_version": "1.2.0",
     "state": {
      "_model_module": "@jupyter-widgets/base",
      "_model_module_version": "1.2.0",
      "_model_name": "LayoutModel",
      "_view_count": null,
      "_view_module": "@jupyter-widgets/base",
      "_view_module_version": "1.2.0",
      "_view_name": "LayoutView",
      "align_content": null,
      "align_items": null,
      "align_self": null,
      "border": null,
      "bottom": null,
      "display": null,
      "flex": null,
      "flex_flow": null,
      "grid_area": null,
      "grid_auto_columns": null,
      "grid_auto_flow": null,
      "grid_auto_rows": null,
      "grid_column": null,
      "grid_gap": null,
      "grid_row": null,
      "grid_template_areas": null,
      "grid_template_columns": null,
      "grid_template_rows": null,
      "height": null,
      "justify_content": null,
      "justify_items": null,
      "left": null,
      "margin": null,
      "max_height": null,
      "max_width": null,
      "min_height": null,
      "min_width": null,
      "object_fit": null,
      "object_position": null,
      "order": null,
      "overflow": null,
      "overflow_x": null,
      "overflow_y": null,
      "padding": null,
      "right": null,
      "top": null,
      "visibility": null,
      "width": null
     }
    },
    "45da4ff6c2a444f5b099461c08e56acb": {
     "model_module": "@jupyter-widgets/controls",
     "model_name": "DescriptionStyleModel",
     "model_module_version": "1.5.0",
     "state": {
      "_model_module": "@jupyter-widgets/controls",
      "_model_module_version": "1.5.0",
      "_model_name": "DescriptionStyleModel",
      "_view_count": null,
      "_view_module": "@jupyter-widgets/base",
      "_view_module_version": "1.2.0",
      "_view_name": "StyleView",
      "description_width": ""
     }
    },
    "13cce13e1a9b4094ab13587e03b333fd": {
     "model_module": "@jupyter-widgets/controls",
     "model_name": "HBoxModel",
     "model_module_version": "1.5.0",
     "state": {
      "_dom_classes": [],
      "_model_module": "@jupyter-widgets/controls",
      "_model_module_version": "1.5.0",
      "_model_name": "HBoxModel",
      "_view_count": null,
      "_view_module": "@jupyter-widgets/controls",
      "_view_module_version": "1.5.0",
      "_view_name": "HBoxView",
      "box_style": "",
      "children": [
       "IPY_MODEL_4eee9780e57d4117b2c320d6bd1e0304",
       "IPY_MODEL_17dbe9bbb96f4cafabab49f1964572df",
       "IPY_MODEL_a6f51505816c457d96323d9e58465d27"
      ],
      "layout": "IPY_MODEL_3b5ee564c93d4e5eb3b4db952e265f7c"
     }
    },
    "4eee9780e57d4117b2c320d6bd1e0304": {
     "model_module": "@jupyter-widgets/controls",
     "model_name": "HTMLModel",
     "model_module_version": "1.5.0",
     "state": {
      "_dom_classes": [],
      "_model_module": "@jupyter-widgets/controls",
      "_model_module_version": "1.5.0",
      "_model_name": "HTMLModel",
      "_view_count": null,
      "_view_module": "@jupyter-widgets/controls",
      "_view_module_version": "1.5.0",
      "_view_name": "HTMLView",
      "description": "",
      "description_tooltip": null,
      "layout": "IPY_MODEL_015a121d8d0d4d24bd0ba5e8127040a2",
      "placeholder": "​",
      "style": "IPY_MODEL_228762d5dff947d9b00ca83c15a87ba3",
      "value": ""
     }
    },
    "17dbe9bbb96f4cafabab49f1964572df": {
     "model_module": "@jupyter-widgets/controls",
     "model_name": "FloatProgressModel",
     "model_module_version": "1.5.0",
     "state": {
      "_dom_classes": [],
      "_model_module": "@jupyter-widgets/controls",
      "_model_module_version": "1.5.0",
      "_model_name": "FloatProgressModel",
      "_view_count": null,
      "_view_module": "@jupyter-widgets/controls",
      "_view_module_version": "1.5.0",
      "_view_name": "ProgressView",
      "bar_style": "success",
      "description": "",
      "description_tooltip": null,
      "layout": "IPY_MODEL_576e3d7e7fe1493eb6a0af2b4997b87b",
      "max": 1648877,
      "min": 0,
      "orientation": "horizontal",
      "style": "IPY_MODEL_4a835d78356141be91e9948140fada9d",
      "value": 1648877
     }
    },
    "a6f51505816c457d96323d9e58465d27": {
     "model_module": "@jupyter-widgets/controls",
     "model_name": "HTMLModel",
     "model_module_version": "1.5.0",
     "state": {
      "_dom_classes": [],
      "_model_module": "@jupyter-widgets/controls",
      "_model_module_version": "1.5.0",
      "_model_name": "HTMLModel",
      "_view_count": null,
      "_view_module": "@jupyter-widgets/controls",
      "_view_module_version": "1.5.0",
      "_view_name": "HTMLView",
      "description": "",
      "description_tooltip": null,
      "layout": "IPY_MODEL_9eae6e144f4d4da1938bd24157e07e4e",
      "placeholder": "​",
      "style": "IPY_MODEL_6543cef043c348ba96a031846e47d309",
      "value": " 1649664/? [00:00&lt;00:00, 14678023.33it/s]"
     }
    },
    "3b5ee564c93d4e5eb3b4db952e265f7c": {
     "model_module": "@jupyter-widgets/base",
     "model_name": "LayoutModel",
     "model_module_version": "1.2.0",
     "state": {
      "_model_module": "@jupyter-widgets/base",
      "_model_module_version": "1.2.0",
      "_model_name": "LayoutModel",
      "_view_count": null,
      "_view_module": "@jupyter-widgets/base",
      "_view_module_version": "1.2.0",
      "_view_name": "LayoutView",
      "align_content": null,
      "align_items": null,
      "align_self": null,
      "border": null,
      "bottom": null,
      "display": null,
      "flex": null,
      "flex_flow": null,
      "grid_area": null,
      "grid_auto_columns": null,
      "grid_auto_flow": null,
      "grid_auto_rows": null,
      "grid_column": null,
      "grid_gap": null,
      "grid_row": null,
      "grid_template_areas": null,
      "grid_template_columns": null,
      "grid_template_rows": null,
      "height": null,
      "justify_content": null,
      "justify_items": null,
      "left": null,
      "margin": null,
      "max_height": null,
      "max_width": null,
      "min_height": null,
      "min_width": null,
      "object_fit": null,
      "object_position": null,
      "order": null,
      "overflow": null,
      "overflow_x": null,
      "overflow_y": null,
      "padding": null,
      "right": null,
      "top": null,
      "visibility": null,
      "width": null
     }
    },
    "015a121d8d0d4d24bd0ba5e8127040a2": {
     "model_module": "@jupyter-widgets/base",
     "model_name": "LayoutModel",
     "model_module_version": "1.2.0",
     "state": {
      "_model_module": "@jupyter-widgets/base",
      "_model_module_version": "1.2.0",
      "_model_name": "LayoutModel",
      "_view_count": null,
      "_view_module": "@jupyter-widgets/base",
      "_view_module_version": "1.2.0",
      "_view_name": "LayoutView",
      "align_content": null,
      "align_items": null,
      "align_self": null,
      "border": null,
      "bottom": null,
      "display": null,
      "flex": null,
      "flex_flow": null,
      "grid_area": null,
      "grid_auto_columns": null,
      "grid_auto_flow": null,
      "grid_auto_rows": null,
      "grid_column": null,
      "grid_gap": null,
      "grid_row": null,
      "grid_template_areas": null,
      "grid_template_columns": null,
      "grid_template_rows": null,
      "height": null,
      "justify_content": null,
      "justify_items": null,
      "left": null,
      "margin": null,
      "max_height": null,
      "max_width": null,
      "min_height": null,
      "min_width": null,
      "object_fit": null,
      "object_position": null,
      "order": null,
      "overflow": null,
      "overflow_x": null,
      "overflow_y": null,
      "padding": null,
      "right": null,
      "top": null,
      "visibility": null,
      "width": null
     }
    },
    "228762d5dff947d9b00ca83c15a87ba3": {
     "model_module": "@jupyter-widgets/controls",
     "model_name": "DescriptionStyleModel",
     "model_module_version": "1.5.0",
     "state": {
      "_model_module": "@jupyter-widgets/controls",
      "_model_module_version": "1.5.0",
      "_model_name": "DescriptionStyleModel",
      "_view_count": null,
      "_view_module": "@jupyter-widgets/base",
      "_view_module_version": "1.2.0",
      "_view_name": "StyleView",
      "description_width": ""
     }
    },
    "576e3d7e7fe1493eb6a0af2b4997b87b": {
     "model_module": "@jupyter-widgets/base",
     "model_name": "LayoutModel",
     "model_module_version": "1.2.0",
     "state": {
      "_model_module": "@jupyter-widgets/base",
      "_model_module_version": "1.2.0",
      "_model_name": "LayoutModel",
      "_view_count": null,
      "_view_module": "@jupyter-widgets/base",
      "_view_module_version": "1.2.0",
      "_view_name": "LayoutView",
      "align_content": null,
      "align_items": null,
      "align_self": null,
      "border": null,
      "bottom": null,
      "display": null,
      "flex": null,
      "flex_flow": null,
      "grid_area": null,
      "grid_auto_columns": null,
      "grid_auto_flow": null,
      "grid_auto_rows": null,
      "grid_column": null,
      "grid_gap": null,
      "grid_row": null,
      "grid_template_areas": null,
      "grid_template_columns": null,
      "grid_template_rows": null,
      "height": null,
      "justify_content": null,
      "justify_items": null,
      "left": null,
      "margin": null,
      "max_height": null,
      "max_width": null,
      "min_height": null,
      "min_width": null,
      "object_fit": null,
      "object_position": null,
      "order": null,
      "overflow": null,
      "overflow_x": null,
      "overflow_y": null,
      "padding": null,
      "right": null,
      "top": null,
      "visibility": null,
      "width": null
     }
    },
    "4a835d78356141be91e9948140fada9d": {
     "model_module": "@jupyter-widgets/controls",
     "model_name": "ProgressStyleModel",
     "model_module_version": "1.5.0",
     "state": {
      "_model_module": "@jupyter-widgets/controls",
      "_model_module_version": "1.5.0",
      "_model_name": "ProgressStyleModel",
      "_view_count": null,
      "_view_module": "@jupyter-widgets/base",
      "_view_module_version": "1.2.0",
      "_view_name": "StyleView",
      "bar_color": null,
      "description_width": ""
     }
    },
    "9eae6e144f4d4da1938bd24157e07e4e": {
     "model_module": "@jupyter-widgets/base",
     "model_name": "LayoutModel",
     "model_module_version": "1.2.0",
     "state": {
      "_model_module": "@jupyter-widgets/base",
      "_model_module_version": "1.2.0",
      "_model_name": "LayoutModel",
      "_view_count": null,
      "_view_module": "@jupyter-widgets/base",
      "_view_module_version": "1.2.0",
      "_view_name": "LayoutView",
      "align_content": null,
      "align_items": null,
      "align_self": null,
      "border": null,
      "bottom": null,
      "display": null,
      "flex": null,
      "flex_flow": null,
      "grid_area": null,
      "grid_auto_columns": null,
      "grid_auto_flow": null,
      "grid_auto_rows": null,
      "grid_column": null,
      "grid_gap": null,
      "grid_row": null,
      "grid_template_areas": null,
      "grid_template_columns": null,
      "grid_template_rows": null,
      "height": null,
      "justify_content": null,
      "justify_items": null,
      "left": null,
      "margin": null,
      "max_height": null,
      "max_width": null,
      "min_height": null,
      "min_width": null,
      "object_fit": null,
      "object_position": null,
      "order": null,
      "overflow": null,
      "overflow_x": null,
      "overflow_y": null,
      "padding": null,
      "right": null,
      "top": null,
      "visibility": null,
      "width": null
     }
    },
    "6543cef043c348ba96a031846e47d309": {
     "model_module": "@jupyter-widgets/controls",
     "model_name": "DescriptionStyleModel",
     "model_module_version": "1.5.0",
     "state": {
      "_model_module": "@jupyter-widgets/controls",
      "_model_module_version": "1.5.0",
      "_model_name": "DescriptionStyleModel",
      "_view_count": null,
      "_view_module": "@jupyter-widgets/base",
      "_view_module_version": "1.2.0",
      "_view_name": "StyleView",
      "description_width": ""
     }
    },
    "d1fc33a078ee4555a376ee32960997c3": {
     "model_module": "@jupyter-widgets/controls",
     "model_name": "HBoxModel",
     "model_module_version": "1.5.0",
     "state": {
      "_dom_classes": [],
      "_model_module": "@jupyter-widgets/controls",
      "_model_module_version": "1.5.0",
      "_model_name": "HBoxModel",
      "_view_count": null,
      "_view_module": "@jupyter-widgets/controls",
      "_view_module_version": "1.5.0",
      "_view_name": "HBoxView",
      "box_style": "",
      "children": [
       "IPY_MODEL_4c7ae3d961d148e9b814d682258bc2da",
       "IPY_MODEL_7b8732d6529d4118b8125081e90f251d",
       "IPY_MODEL_971138ccb9cc4006b85d4f120849b40c"
      ],
      "layout": "IPY_MODEL_a103c914d17248e08ac69ad3396cc3f4"
     }
    },
    "4c7ae3d961d148e9b814d682258bc2da": {
     "model_module": "@jupyter-widgets/controls",
     "model_name": "HTMLModel",
     "model_module_version": "1.5.0",
     "state": {
      "_dom_classes": [],
      "_model_module": "@jupyter-widgets/controls",
      "_model_module_version": "1.5.0",
      "_model_name": "HTMLModel",
      "_view_count": null,
      "_view_module": "@jupyter-widgets/controls",
      "_view_module_version": "1.5.0",
      "_view_name": "HTMLView",
      "description": "",
      "description_tooltip": null,
      "layout": "IPY_MODEL_b5bbb20580bf4269956482c3c24e8192",
      "placeholder": "​",
      "style": "IPY_MODEL_97b6b73fc776408c82e1bb1434beb3e7",
      "value": ""
     }
    },
    "7b8732d6529d4118b8125081e90f251d": {
     "model_module": "@jupyter-widgets/controls",
     "model_name": "FloatProgressModel",
     "model_module_version": "1.5.0",
     "state": {
      "_dom_classes": [],
      "_model_module": "@jupyter-widgets/controls",
      "_model_module_version": "1.5.0",
      "_model_name": "FloatProgressModel",
      "_view_count": null,
      "_view_module": "@jupyter-widgets/controls",
      "_view_module_version": "1.5.0",
      "_view_name": "ProgressView",
      "bar_style": "success",
      "description": "",
      "description_tooltip": null,
      "layout": "IPY_MODEL_bcf3b0c49f17462b9889c951efdb70a9",
      "max": 4542,
      "min": 0,
      "orientation": "horizontal",
      "style": "IPY_MODEL_d04d78e6842f4b1e941a9ac30600687b",
      "value": 4542
     }
    },
    "971138ccb9cc4006b85d4f120849b40c": {
     "model_module": "@jupyter-widgets/controls",
     "model_name": "HTMLModel",
     "model_module_version": "1.5.0",
     "state": {
      "_dom_classes": [],
      "_model_module": "@jupyter-widgets/controls",
      "_model_module_version": "1.5.0",
      "_model_name": "HTMLModel",
      "_view_count": null,
      "_view_module": "@jupyter-widgets/controls",
      "_view_module_version": "1.5.0",
      "_view_name": "HTMLView",
      "description": "",
      "description_tooltip": null,
      "layout": "IPY_MODEL_f84c4c753a8e4335aa3dda811fde8415",
      "placeholder": "​",
      "style": "IPY_MODEL_6cb29e1283014efd9219e9a8bdbb6dec",
      "value": " 5120/? [00:00&lt;00:00, 107992.98it/s]"
     }
    },
    "a103c914d17248e08ac69ad3396cc3f4": {
     "model_module": "@jupyter-widgets/base",
     "model_name": "LayoutModel",
     "model_module_version": "1.2.0",
     "state": {
      "_model_module": "@jupyter-widgets/base",
      "_model_module_version": "1.2.0",
      "_model_name": "LayoutModel",
      "_view_count": null,
      "_view_module": "@jupyter-widgets/base",
      "_view_module_version": "1.2.0",
      "_view_name": "LayoutView",
      "align_content": null,
      "align_items": null,
      "align_self": null,
      "border": null,
      "bottom": null,
      "display": null,
      "flex": null,
      "flex_flow": null,
      "grid_area": null,
      "grid_auto_columns": null,
      "grid_auto_flow": null,
      "grid_auto_rows": null,
      "grid_column": null,
      "grid_gap": null,
      "grid_row": null,
      "grid_template_areas": null,
      "grid_template_columns": null,
      "grid_template_rows": null,
      "height": null,
      "justify_content": null,
      "justify_items": null,
      "left": null,
      "margin": null,
      "max_height": null,
      "max_width": null,
      "min_height": null,
      "min_width": null,
      "object_fit": null,
      "object_position": null,
      "order": null,
      "overflow": null,
      "overflow_x": null,
      "overflow_y": null,
      "padding": null,
      "right": null,
      "top": null,
      "visibility": null,
      "width": null
     }
    },
    "b5bbb20580bf4269956482c3c24e8192": {
     "model_module": "@jupyter-widgets/base",
     "model_name": "LayoutModel",
     "model_module_version": "1.2.0",
     "state": {
      "_model_module": "@jupyter-widgets/base",
      "_model_module_version": "1.2.0",
      "_model_name": "LayoutModel",
      "_view_count": null,
      "_view_module": "@jupyter-widgets/base",
      "_view_module_version": "1.2.0",
      "_view_name": "LayoutView",
      "align_content": null,
      "align_items": null,
      "align_self": null,
      "border": null,
      "bottom": null,
      "display": null,
      "flex": null,
      "flex_flow": null,
      "grid_area": null,
      "grid_auto_columns": null,
      "grid_auto_flow": null,
      "grid_auto_rows": null,
      "grid_column": null,
      "grid_gap": null,
      "grid_row": null,
      "grid_template_areas": null,
      "grid_template_columns": null,
      "grid_template_rows": null,
      "height": null,
      "justify_content": null,
      "justify_items": null,
      "left": null,
      "margin": null,
      "max_height": null,
      "max_width": null,
      "min_height": null,
      "min_width": null,
      "object_fit": null,
      "object_position": null,
      "order": null,
      "overflow": null,
      "overflow_x": null,
      "overflow_y": null,
      "padding": null,
      "right": null,
      "top": null,
      "visibility": null,
      "width": null
     }
    },
    "97b6b73fc776408c82e1bb1434beb3e7": {
     "model_module": "@jupyter-widgets/controls",
     "model_name": "DescriptionStyleModel",
     "model_module_version": "1.5.0",
     "state": {
      "_model_module": "@jupyter-widgets/controls",
      "_model_module_version": "1.5.0",
      "_model_name": "DescriptionStyleModel",
      "_view_count": null,
      "_view_module": "@jupyter-widgets/base",
      "_view_module_version": "1.2.0",
      "_view_name": "StyleView",
      "description_width": ""
     }
    },
    "bcf3b0c49f17462b9889c951efdb70a9": {
     "model_module": "@jupyter-widgets/base",
     "model_name": "LayoutModel",
     "model_module_version": "1.2.0",
     "state": {
      "_model_module": "@jupyter-widgets/base",
      "_model_module_version": "1.2.0",
      "_model_name": "LayoutModel",
      "_view_count": null,
      "_view_module": "@jupyter-widgets/base",
      "_view_module_version": "1.2.0",
      "_view_name": "LayoutView",
      "align_content": null,
      "align_items": null,
      "align_self": null,
      "border": null,
      "bottom": null,
      "display": null,
      "flex": null,
      "flex_flow": null,
      "grid_area": null,
      "grid_auto_columns": null,
      "grid_auto_flow": null,
      "grid_auto_rows": null,
      "grid_column": null,
      "grid_gap": null,
      "grid_row": null,
      "grid_template_areas": null,
      "grid_template_columns": null,
      "grid_template_rows": null,
      "height": null,
      "justify_content": null,
      "justify_items": null,
      "left": null,
      "margin": null,
      "max_height": null,
      "max_width": null,
      "min_height": null,
      "min_width": null,
      "object_fit": null,
      "object_position": null,
      "order": null,
      "overflow": null,
      "overflow_x": null,
      "overflow_y": null,
      "padding": null,
      "right": null,
      "top": null,
      "visibility": null,
      "width": null
     }
    },
    "d04d78e6842f4b1e941a9ac30600687b": {
     "model_module": "@jupyter-widgets/controls",
     "model_name": "ProgressStyleModel",
     "model_module_version": "1.5.0",
     "state": {
      "_model_module": "@jupyter-widgets/controls",
      "_model_module_version": "1.5.0",
      "_model_name": "ProgressStyleModel",
      "_view_count": null,
      "_view_module": "@jupyter-widgets/base",
      "_view_module_version": "1.2.0",
      "_view_name": "StyleView",
      "bar_color": null,
      "description_width": ""
     }
    },
    "f84c4c753a8e4335aa3dda811fde8415": {
     "model_module": "@jupyter-widgets/base",
     "model_name": "LayoutModel",
     "model_module_version": "1.2.0",
     "state": {
      "_model_module": "@jupyter-widgets/base",
      "_model_module_version": "1.2.0",
      "_model_name": "LayoutModel",
      "_view_count": null,
      "_view_module": "@jupyter-widgets/base",
      "_view_module_version": "1.2.0",
      "_view_name": "LayoutView",
      "align_content": null,
      "align_items": null,
      "align_self": null,
      "border": null,
      "bottom": null,
      "display": null,
      "flex": null,
      "flex_flow": null,
      "grid_area": null,
      "grid_auto_columns": null,
      "grid_auto_flow": null,
      "grid_auto_rows": null,
      "grid_column": null,
      "grid_gap": null,
      "grid_row": null,
      "grid_template_areas": null,
      "grid_template_columns": null,
      "grid_template_rows": null,
      "height": null,
      "justify_content": null,
      "justify_items": null,
      "left": null,
      "margin": null,
      "max_height": null,
      "max_width": null,
      "min_height": null,
      "min_width": null,
      "object_fit": null,
      "object_position": null,
      "order": null,
      "overflow": null,
      "overflow_x": null,
      "overflow_y": null,
      "padding": null,
      "right": null,
      "top": null,
      "visibility": null,
      "width": null
     }
    },
    "6cb29e1283014efd9219e9a8bdbb6dec": {
     "model_module": "@jupyter-widgets/controls",
     "model_name": "DescriptionStyleModel",
     "model_module_version": "1.5.0",
     "state": {
      "_model_module": "@jupyter-widgets/controls",
      "_model_module_version": "1.5.0",
      "_model_name": "DescriptionStyleModel",
      "_view_count": null,
      "_view_module": "@jupyter-widgets/base",
      "_view_module_version": "1.2.0",
      "_view_name": "StyleView",
      "description_width": ""
     }
    }
   }
  }
 },
 "nbformat": 4,
 "nbformat_minor": 5
}